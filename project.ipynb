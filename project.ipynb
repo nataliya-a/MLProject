{
 "cells": [
  {
   "attachments": {},
   "cell_type": "markdown",
   "metadata": {},
   "source": [
    "### **Group Project**\n",
    "\n",
    "#### **Imports**"
   ]
  },
  {
   "cell_type": "code",
   "execution_count": 282,
   "metadata": {},
   "outputs": [],
   "source": [
    "import pandas as pd\n",
    "import numpy as np\n",
    "import matplotlib.pyplot as plt\n",
    "import string\n",
    "import gensim\n",
    "from sklearn.neighbors import KNeighborsClassifier\n",
    "from gensim.models.doc2vec import Doc2Vec, TaggedDocument\n",
    "import nltk\n",
    "# nltk.download('stopwords')\n",
    "from nltk.stem import PorterStemmer, WordNetLemmatizer\n",
    "# nltk.download('wordnet')\n",
    "import re\n",
    "import plotly.express as px\n",
    "from sklearn.decomposition import PCA\n",
    "from gensim.parsing.porter import PorterStemmer\n",
    "from sklearn.feature_extraction.text import TfidfVectorizer\n",
    "import pyLDAvis\n",
    "import pyLDAvis.gensim_models as gensimvis\n",
    "import pyLDAvis.sklearn\n",
    "from sklearn.decomposition import LatentDirichletAllocation\n",
    "from sklearn.feature_extraction.text import CountVectorizer\n",
    "from sklearn.metrics.pairwise import cosine_similarity\n",
    "\n",
    "import warnings\n",
    "warnings.filterwarnings('ignore')\n"
   ]
  },
  {
   "attachments": {},
   "cell_type": "markdown",
   "metadata": {},
   "source": [
    "#### **Reading the data**"
   ]
  },
  {
   "cell_type": "code",
   "execution_count": 283,
   "metadata": {},
   "outputs": [
    {
     "data": {
      "text/html": [
       "<div>\n",
       "<style scoped>\n",
       "    .dataframe tbody tr th:only-of-type {\n",
       "        vertical-align: middle;\n",
       "    }\n",
       "\n",
       "    .dataframe tbody tr th {\n",
       "        vertical-align: top;\n",
       "    }\n",
       "\n",
       "    .dataframe thead th {\n",
       "        text-align: right;\n",
       "    }\n",
       "</style>\n",
       "<table border=\"1\" class=\"dataframe\">\n",
       "  <thead>\n",
       "    <tr style=\"text-align: right;\">\n",
       "      <th></th>\n",
       "      <th>artist_name</th>\n",
       "      <th>track_name</th>\n",
       "      <th>release_date</th>\n",
       "      <th>genre</th>\n",
       "      <th>lyrics</th>\n",
       "      <th>len</th>\n",
       "      <th>dating</th>\n",
       "      <th>violence</th>\n",
       "      <th>world/life</th>\n",
       "      <th>night/time</th>\n",
       "      <th>...</th>\n",
       "      <th>sadness</th>\n",
       "      <th>feelings</th>\n",
       "      <th>danceability</th>\n",
       "      <th>loudness</th>\n",
       "      <th>acousticness</th>\n",
       "      <th>instrumentalness</th>\n",
       "      <th>valence</th>\n",
       "      <th>energy</th>\n",
       "      <th>topic</th>\n",
       "      <th>age</th>\n",
       "    </tr>\n",
       "  </thead>\n",
       "  <tbody>\n",
       "    <tr>\n",
       "      <th>0</th>\n",
       "      <td>mukesh</td>\n",
       "      <td>mohabbat bhi jhoothi</td>\n",
       "      <td>1950</td>\n",
       "      <td>pop</td>\n",
       "      <td>hold time feel break feel untrue convince spea...</td>\n",
       "      <td>95</td>\n",
       "      <td>0.000598</td>\n",
       "      <td>0.063746</td>\n",
       "      <td>0.000598</td>\n",
       "      <td>0.000598</td>\n",
       "      <td>...</td>\n",
       "      <td>0.380299</td>\n",
       "      <td>0.117175</td>\n",
       "      <td>0.357739</td>\n",
       "      <td>0.454119</td>\n",
       "      <td>0.997992</td>\n",
       "      <td>0.901822</td>\n",
       "      <td>0.339448</td>\n",
       "      <td>0.137110</td>\n",
       "      <td>sadness</td>\n",
       "      <td>1.000000</td>\n",
       "    </tr>\n",
       "    <tr>\n",
       "      <th>1</th>\n",
       "      <td>frankie laine</td>\n",
       "      <td>i believe</td>\n",
       "      <td>1950</td>\n",
       "      <td>pop</td>\n",
       "      <td>believe drop rain fall grow believe darkest ni...</td>\n",
       "      <td>51</td>\n",
       "      <td>0.035537</td>\n",
       "      <td>0.096777</td>\n",
       "      <td>0.443435</td>\n",
       "      <td>0.001284</td>\n",
       "      <td>...</td>\n",
       "      <td>0.001284</td>\n",
       "      <td>0.001284</td>\n",
       "      <td>0.331745</td>\n",
       "      <td>0.647540</td>\n",
       "      <td>0.954819</td>\n",
       "      <td>0.000002</td>\n",
       "      <td>0.325021</td>\n",
       "      <td>0.263240</td>\n",
       "      <td>world/life</td>\n",
       "      <td>1.000000</td>\n",
       "    </tr>\n",
       "    <tr>\n",
       "      <th>2</th>\n",
       "      <td>johnnie ray</td>\n",
       "      <td>cry</td>\n",
       "      <td>1950</td>\n",
       "      <td>pop</td>\n",
       "      <td>sweetheart send letter goodbye secret feel bet...</td>\n",
       "      <td>24</td>\n",
       "      <td>0.002770</td>\n",
       "      <td>0.002770</td>\n",
       "      <td>0.002770</td>\n",
       "      <td>0.002770</td>\n",
       "      <td>...</td>\n",
       "      <td>0.002770</td>\n",
       "      <td>0.225422</td>\n",
       "      <td>0.456298</td>\n",
       "      <td>0.585288</td>\n",
       "      <td>0.840361</td>\n",
       "      <td>0.000000</td>\n",
       "      <td>0.351814</td>\n",
       "      <td>0.139112</td>\n",
       "      <td>music</td>\n",
       "      <td>1.000000</td>\n",
       "    </tr>\n",
       "    <tr>\n",
       "      <th>3</th>\n",
       "      <td>pérez prado</td>\n",
       "      <td>patricia</td>\n",
       "      <td>1950</td>\n",
       "      <td>pop</td>\n",
       "      <td>kiss lips want stroll charm mambo chacha merin...</td>\n",
       "      <td>54</td>\n",
       "      <td>0.048249</td>\n",
       "      <td>0.001548</td>\n",
       "      <td>0.001548</td>\n",
       "      <td>0.001548</td>\n",
       "      <td>...</td>\n",
       "      <td>0.225889</td>\n",
       "      <td>0.001548</td>\n",
       "      <td>0.686992</td>\n",
       "      <td>0.744404</td>\n",
       "      <td>0.083935</td>\n",
       "      <td>0.199393</td>\n",
       "      <td>0.775350</td>\n",
       "      <td>0.743736</td>\n",
       "      <td>romantic</td>\n",
       "      <td>1.000000</td>\n",
       "    </tr>\n",
       "    <tr>\n",
       "      <th>4</th>\n",
       "      <td>giorgos papadopoulos</td>\n",
       "      <td>apopse eida oneiro</td>\n",
       "      <td>1950</td>\n",
       "      <td>pop</td>\n",
       "      <td>till darling till matter know till dream live ...</td>\n",
       "      <td>48</td>\n",
       "      <td>0.001350</td>\n",
       "      <td>0.001350</td>\n",
       "      <td>0.417772</td>\n",
       "      <td>0.001350</td>\n",
       "      <td>...</td>\n",
       "      <td>0.068800</td>\n",
       "      <td>0.001350</td>\n",
       "      <td>0.291671</td>\n",
       "      <td>0.646489</td>\n",
       "      <td>0.975904</td>\n",
       "      <td>0.000246</td>\n",
       "      <td>0.597073</td>\n",
       "      <td>0.394375</td>\n",
       "      <td>romantic</td>\n",
       "      <td>1.000000</td>\n",
       "    </tr>\n",
       "    <tr>\n",
       "      <th>...</th>\n",
       "      <td>...</td>\n",
       "      <td>...</td>\n",
       "      <td>...</td>\n",
       "      <td>...</td>\n",
       "      <td>...</td>\n",
       "      <td>...</td>\n",
       "      <td>...</td>\n",
       "      <td>...</td>\n",
       "      <td>...</td>\n",
       "      <td>...</td>\n",
       "      <td>...</td>\n",
       "      <td>...</td>\n",
       "      <td>...</td>\n",
       "      <td>...</td>\n",
       "      <td>...</td>\n",
       "      <td>...</td>\n",
       "      <td>...</td>\n",
       "      <td>...</td>\n",
       "      <td>...</td>\n",
       "      <td>...</td>\n",
       "      <td>...</td>\n",
       "    </tr>\n",
       "    <tr>\n",
       "      <th>28367</th>\n",
       "      <td>mack 10</td>\n",
       "      <td>10 million ways</td>\n",
       "      <td>2019</td>\n",
       "      <td>hip hop</td>\n",
       "      <td>cause fuck leave scar tick tock clock come kno...</td>\n",
       "      <td>78</td>\n",
       "      <td>0.001350</td>\n",
       "      <td>0.001350</td>\n",
       "      <td>0.001350</td>\n",
       "      <td>0.001350</td>\n",
       "      <td>...</td>\n",
       "      <td>0.065664</td>\n",
       "      <td>0.001350</td>\n",
       "      <td>0.889527</td>\n",
       "      <td>0.759711</td>\n",
       "      <td>0.062549</td>\n",
       "      <td>0.000000</td>\n",
       "      <td>0.751649</td>\n",
       "      <td>0.695686</td>\n",
       "      <td>obscene</td>\n",
       "      <td>0.014286</td>\n",
       "    </tr>\n",
       "    <tr>\n",
       "      <th>28368</th>\n",
       "      <td>m.o.p.</td>\n",
       "      <td>ante up (robbin hoodz theory)</td>\n",
       "      <td>2019</td>\n",
       "      <td>hip hop</td>\n",
       "      <td>minks things chain ring braclets yap fame come...</td>\n",
       "      <td>67</td>\n",
       "      <td>0.001284</td>\n",
       "      <td>0.001284</td>\n",
       "      <td>0.035338</td>\n",
       "      <td>0.001284</td>\n",
       "      <td>...</td>\n",
       "      <td>0.001284</td>\n",
       "      <td>0.001284</td>\n",
       "      <td>0.662082</td>\n",
       "      <td>0.789580</td>\n",
       "      <td>0.004607</td>\n",
       "      <td>0.000002</td>\n",
       "      <td>0.922712</td>\n",
       "      <td>0.797791</td>\n",
       "      <td>obscene</td>\n",
       "      <td>0.014286</td>\n",
       "    </tr>\n",
       "    <tr>\n",
       "      <th>28369</th>\n",
       "      <td>nine</td>\n",
       "      <td>whutcha want?</td>\n",
       "      <td>2019</td>\n",
       "      <td>hip hop</td>\n",
       "      <td>get ban get ban stick crack relax plan attack ...</td>\n",
       "      <td>77</td>\n",
       "      <td>0.001504</td>\n",
       "      <td>0.154302</td>\n",
       "      <td>0.168988</td>\n",
       "      <td>0.001504</td>\n",
       "      <td>...</td>\n",
       "      <td>0.001504</td>\n",
       "      <td>0.001504</td>\n",
       "      <td>0.663165</td>\n",
       "      <td>0.726970</td>\n",
       "      <td>0.104417</td>\n",
       "      <td>0.000001</td>\n",
       "      <td>0.838211</td>\n",
       "      <td>0.767761</td>\n",
       "      <td>obscene</td>\n",
       "      <td>0.014286</td>\n",
       "    </tr>\n",
       "    <tr>\n",
       "      <th>28370</th>\n",
       "      <td>will smith</td>\n",
       "      <td>switch</td>\n",
       "      <td>2019</td>\n",
       "      <td>hip hop</td>\n",
       "      <td>check check yeah yeah hear thing call switch g...</td>\n",
       "      <td>67</td>\n",
       "      <td>0.001196</td>\n",
       "      <td>0.001196</td>\n",
       "      <td>0.001196</td>\n",
       "      <td>0.001196</td>\n",
       "      <td>...</td>\n",
       "      <td>0.001196</td>\n",
       "      <td>0.001196</td>\n",
       "      <td>0.883028</td>\n",
       "      <td>0.786888</td>\n",
       "      <td>0.007027</td>\n",
       "      <td>0.000503</td>\n",
       "      <td>0.508450</td>\n",
       "      <td>0.885882</td>\n",
       "      <td>obscene</td>\n",
       "      <td>0.014286</td>\n",
       "    </tr>\n",
       "    <tr>\n",
       "      <th>28371</th>\n",
       "      <td>jeezy</td>\n",
       "      <td>r.i.p.</td>\n",
       "      <td>2019</td>\n",
       "      <td>hip hop</td>\n",
       "      <td>remix killer alive remix thriller trap bitch s...</td>\n",
       "      <td>83</td>\n",
       "      <td>0.001012</td>\n",
       "      <td>0.075202</td>\n",
       "      <td>0.001012</td>\n",
       "      <td>0.001012</td>\n",
       "      <td>...</td>\n",
       "      <td>0.001012</td>\n",
       "      <td>0.033995</td>\n",
       "      <td>0.828875</td>\n",
       "      <td>0.674794</td>\n",
       "      <td>0.015862</td>\n",
       "      <td>0.000000</td>\n",
       "      <td>0.475474</td>\n",
       "      <td>0.492477</td>\n",
       "      <td>obscene</td>\n",
       "      <td>0.014286</td>\n",
       "    </tr>\n",
       "  </tbody>\n",
       "</table>\n",
       "<p>28372 rows × 30 columns</p>\n",
       "</div>"
      ],
      "text/plain": [
       "                artist_name                     track_name  release_date  \\\n",
       "0                    mukesh           mohabbat bhi jhoothi          1950   \n",
       "1             frankie laine                      i believe          1950   \n",
       "2               johnnie ray                            cry          1950   \n",
       "3               pérez prado                       patricia          1950   \n",
       "4      giorgos papadopoulos             apopse eida oneiro          1950   \n",
       "...                     ...                            ...           ...   \n",
       "28367               mack 10                10 million ways          2019   \n",
       "28368                m.o.p.  ante up (robbin hoodz theory)          2019   \n",
       "28369                  nine                  whutcha want?          2019   \n",
       "28370            will smith                         switch          2019   \n",
       "28371                 jeezy                         r.i.p.          2019   \n",
       "\n",
       "         genre                                             lyrics  len  \\\n",
       "0          pop  hold time feel break feel untrue convince spea...   95   \n",
       "1          pop  believe drop rain fall grow believe darkest ni...   51   \n",
       "2          pop  sweetheart send letter goodbye secret feel bet...   24   \n",
       "3          pop  kiss lips want stroll charm mambo chacha merin...   54   \n",
       "4          pop  till darling till matter know till dream live ...   48   \n",
       "...        ...                                                ...  ...   \n",
       "28367  hip hop  cause fuck leave scar tick tock clock come kno...   78   \n",
       "28368  hip hop  minks things chain ring braclets yap fame come...   67   \n",
       "28369  hip hop  get ban get ban stick crack relax plan attack ...   77   \n",
       "28370  hip hop  check check yeah yeah hear thing call switch g...   67   \n",
       "28371  hip hop  remix killer alive remix thriller trap bitch s...   83   \n",
       "\n",
       "         dating  violence  world/life  night/time  ...   sadness  feelings  \\\n",
       "0      0.000598  0.063746    0.000598    0.000598  ...  0.380299  0.117175   \n",
       "1      0.035537  0.096777    0.443435    0.001284  ...  0.001284  0.001284   \n",
       "2      0.002770  0.002770    0.002770    0.002770  ...  0.002770  0.225422   \n",
       "3      0.048249  0.001548    0.001548    0.001548  ...  0.225889  0.001548   \n",
       "4      0.001350  0.001350    0.417772    0.001350  ...  0.068800  0.001350   \n",
       "...         ...       ...         ...         ...  ...       ...       ...   \n",
       "28367  0.001350  0.001350    0.001350    0.001350  ...  0.065664  0.001350   \n",
       "28368  0.001284  0.001284    0.035338    0.001284  ...  0.001284  0.001284   \n",
       "28369  0.001504  0.154302    0.168988    0.001504  ...  0.001504  0.001504   \n",
       "28370  0.001196  0.001196    0.001196    0.001196  ...  0.001196  0.001196   \n",
       "28371  0.001012  0.075202    0.001012    0.001012  ...  0.001012  0.033995   \n",
       "\n",
       "       danceability  loudness  acousticness  instrumentalness   valence  \\\n",
       "0          0.357739  0.454119      0.997992          0.901822  0.339448   \n",
       "1          0.331745  0.647540      0.954819          0.000002  0.325021   \n",
       "2          0.456298  0.585288      0.840361          0.000000  0.351814   \n",
       "3          0.686992  0.744404      0.083935          0.199393  0.775350   \n",
       "4          0.291671  0.646489      0.975904          0.000246  0.597073   \n",
       "...             ...       ...           ...               ...       ...   \n",
       "28367      0.889527  0.759711      0.062549          0.000000  0.751649   \n",
       "28368      0.662082  0.789580      0.004607          0.000002  0.922712   \n",
       "28369      0.663165  0.726970      0.104417          0.000001  0.838211   \n",
       "28370      0.883028  0.786888      0.007027          0.000503  0.508450   \n",
       "28371      0.828875  0.674794      0.015862          0.000000  0.475474   \n",
       "\n",
       "         energy       topic       age  \n",
       "0      0.137110     sadness  1.000000  \n",
       "1      0.263240  world/life  1.000000  \n",
       "2      0.139112       music  1.000000  \n",
       "3      0.743736    romantic  1.000000  \n",
       "4      0.394375    romantic  1.000000  \n",
       "...         ...         ...       ...  \n",
       "28367  0.695686     obscene  0.014286  \n",
       "28368  0.797791     obscene  0.014286  \n",
       "28369  0.767761     obscene  0.014286  \n",
       "28370  0.885882     obscene  0.014286  \n",
       "28371  0.492477     obscene  0.014286  \n",
       "\n",
       "[28372 rows x 30 columns]"
      ]
     },
     "execution_count": 283,
     "metadata": {},
     "output_type": "execute_result"
    }
   ],
   "source": [
    "songs_df = pd.read_csv('tcc_ceds_music.csv')\n",
    "songs_df.drop(songs_df.columns[0], axis=1, inplace=True)\n",
    "songs_df"
   ]
  },
  {
   "cell_type": "code",
   "execution_count": 284,
   "metadata": {},
   "outputs": [
    {
     "data": {
      "text/html": [
       "<div>\n",
       "<style scoped>\n",
       "    .dataframe tbody tr th:only-of-type {\n",
       "        vertical-align: middle;\n",
       "    }\n",
       "\n",
       "    .dataframe tbody tr th {\n",
       "        vertical-align: top;\n",
       "    }\n",
       "\n",
       "    .dataframe thead th {\n",
       "        text-align: right;\n",
       "    }\n",
       "</style>\n",
       "<table border=\"1\" class=\"dataframe\">\n",
       "  <thead>\n",
       "    <tr style=\"text-align: right;\">\n",
       "      <th></th>\n",
       "      <th>track_name</th>\n",
       "      <th>genre</th>\n",
       "      <th>lyrics</th>\n",
       "    </tr>\n",
       "  </thead>\n",
       "  <tbody>\n",
       "    <tr>\n",
       "      <th>0</th>\n",
       "      <td>mohabbat bhi jhoothi</td>\n",
       "      <td>pop</td>\n",
       "      <td>hold time feel break feel untrue convince spea...</td>\n",
       "    </tr>\n",
       "    <tr>\n",
       "      <th>1</th>\n",
       "      <td>i believe</td>\n",
       "      <td>pop</td>\n",
       "      <td>believe drop rain fall grow believe darkest ni...</td>\n",
       "    </tr>\n",
       "    <tr>\n",
       "      <th>2</th>\n",
       "      <td>cry</td>\n",
       "      <td>pop</td>\n",
       "      <td>sweetheart send letter goodbye secret feel bet...</td>\n",
       "    </tr>\n",
       "    <tr>\n",
       "      <th>3</th>\n",
       "      <td>patricia</td>\n",
       "      <td>pop</td>\n",
       "      <td>kiss lips want stroll charm mambo chacha merin...</td>\n",
       "    </tr>\n",
       "    <tr>\n",
       "      <th>4</th>\n",
       "      <td>apopse eida oneiro</td>\n",
       "      <td>pop</td>\n",
       "      <td>till darling till matter know till dream live ...</td>\n",
       "    </tr>\n",
       "    <tr>\n",
       "      <th>...</th>\n",
       "      <td>...</td>\n",
       "      <td>...</td>\n",
       "      <td>...</td>\n",
       "    </tr>\n",
       "    <tr>\n",
       "      <th>28367</th>\n",
       "      <td>10 million ways</td>\n",
       "      <td>hip hop</td>\n",
       "      <td>cause fuck leave scar tick tock clock come kno...</td>\n",
       "    </tr>\n",
       "    <tr>\n",
       "      <th>28368</th>\n",
       "      <td>ante up (robbin hoodz theory)</td>\n",
       "      <td>hip hop</td>\n",
       "      <td>minks things chain ring braclets yap fame come...</td>\n",
       "    </tr>\n",
       "    <tr>\n",
       "      <th>28369</th>\n",
       "      <td>whutcha want?</td>\n",
       "      <td>hip hop</td>\n",
       "      <td>get ban get ban stick crack relax plan attack ...</td>\n",
       "    </tr>\n",
       "    <tr>\n",
       "      <th>28370</th>\n",
       "      <td>switch</td>\n",
       "      <td>hip hop</td>\n",
       "      <td>check check yeah yeah hear thing call switch g...</td>\n",
       "    </tr>\n",
       "    <tr>\n",
       "      <th>28371</th>\n",
       "      <td>r.i.p.</td>\n",
       "      <td>hip hop</td>\n",
       "      <td>remix killer alive remix thriller trap bitch s...</td>\n",
       "    </tr>\n",
       "  </tbody>\n",
       "</table>\n",
       "<p>28372 rows × 3 columns</p>\n",
       "</div>"
      ],
      "text/plain": [
       "                          track_name    genre  \\\n",
       "0               mohabbat bhi jhoothi      pop   \n",
       "1                          i believe      pop   \n",
       "2                                cry      pop   \n",
       "3                           patricia      pop   \n",
       "4                 apopse eida oneiro      pop   \n",
       "...                              ...      ...   \n",
       "28367                10 million ways  hip hop   \n",
       "28368  ante up (robbin hoodz theory)  hip hop   \n",
       "28369                  whutcha want?  hip hop   \n",
       "28370                         switch  hip hop   \n",
       "28371                         r.i.p.  hip hop   \n",
       "\n",
       "                                                  lyrics  \n",
       "0      hold time feel break feel untrue convince spea...  \n",
       "1      believe drop rain fall grow believe darkest ni...  \n",
       "2      sweetheart send letter goodbye secret feel bet...  \n",
       "3      kiss lips want stroll charm mambo chacha merin...  \n",
       "4      till darling till matter know till dream live ...  \n",
       "...                                                  ...  \n",
       "28367  cause fuck leave scar tick tock clock come kno...  \n",
       "28368  minks things chain ring braclets yap fame come...  \n",
       "28369  get ban get ban stick crack relax plan attack ...  \n",
       "28370  check check yeah yeah hear thing call switch g...  \n",
       "28371  remix killer alive remix thriller trap bitch s...  \n",
       "\n",
       "[28372 rows x 3 columns]"
      ]
     },
     "execution_count": 284,
     "metadata": {},
     "output_type": "execute_result"
    }
   ],
   "source": [
    "songs_df = songs_df.drop(['artist_name', 'release_date', 'len',\n",
    "       'dating', 'violence', 'world/life', 'night/time', 'shake the audience',\n",
    "       'family/gospel', 'romantic', 'communication', 'obscene', 'music',\n",
    "       'movement/places', 'light/visual perceptions', 'family/spiritual',\n",
    "       'like/girls', 'sadness', 'feelings', 'danceability', 'loudness',\n",
    "       'acousticness', 'instrumentalness', 'valence', 'energy', 'topic',\n",
    "       'age'], axis=1)\n",
    "\n",
    "songs_df"
   ]
  },
  {
   "cell_type": "code",
   "execution_count": 285,
   "metadata": {},
   "outputs": [
    {
     "data": {
      "text/html": [
       "<div>\n",
       "<style scoped>\n",
       "    .dataframe tbody tr th:only-of-type {\n",
       "        vertical-align: middle;\n",
       "    }\n",
       "\n",
       "    .dataframe tbody tr th {\n",
       "        vertical-align: top;\n",
       "    }\n",
       "\n",
       "    .dataframe thead th {\n",
       "        text-align: right;\n",
       "    }\n",
       "</style>\n",
       "<table border=\"1\" class=\"dataframe\">\n",
       "  <thead>\n",
       "    <tr style=\"text-align: right;\">\n",
       "      <th></th>\n",
       "      <th>Title</th>\n",
       "      <th>Category</th>\n",
       "      <th>Price</th>\n",
       "      <th>Price_After_Tax</th>\n",
       "      <th>Tax_amount</th>\n",
       "      <th>Avilability</th>\n",
       "      <th>Number_of_reviews</th>\n",
       "      <th>Book_Description</th>\n",
       "      <th>Image_Link</th>\n",
       "      <th>Stars</th>\n",
       "    </tr>\n",
       "  </thead>\n",
       "  <tbody>\n",
       "    <tr>\n",
       "      <th>0</th>\n",
       "      <td>A Light in the Attic</td>\n",
       "      <td>Poetry</td>\n",
       "      <td>51.77</td>\n",
       "      <td>51.77</td>\n",
       "      <td>0.0</td>\n",
       "      <td>22</td>\n",
       "      <td>0</td>\n",
       "      <td>It's hard to imagine a world without A Light i...</td>\n",
       "      <td>http://books.toscrape.com/media/cache/fe/72/fe...</td>\n",
       "      <td>3</td>\n",
       "    </tr>\n",
       "    <tr>\n",
       "      <th>1</th>\n",
       "      <td>Tipping the Velvet</td>\n",
       "      <td>Historical Fiction</td>\n",
       "      <td>53.74</td>\n",
       "      <td>53.74</td>\n",
       "      <td>0.0</td>\n",
       "      <td>20</td>\n",
       "      <td>0</td>\n",
       "      <td>\"Erotic and absorbing...Written with starling ...</td>\n",
       "      <td>http://books.toscrape.com/media/cache/08/e9/08...</td>\n",
       "      <td>1</td>\n",
       "    </tr>\n",
       "    <tr>\n",
       "      <th>2</th>\n",
       "      <td>Soumission</td>\n",
       "      <td>Fiction</td>\n",
       "      <td>50.10</td>\n",
       "      <td>50.10</td>\n",
       "      <td>0.0</td>\n",
       "      <td>20</td>\n",
       "      <td>0</td>\n",
       "      <td>Dans une France assez proche de la nÃ´tre, un ...</td>\n",
       "      <td>http://books.toscrape.com/media/cache/ee/cf/ee...</td>\n",
       "      <td>1</td>\n",
       "    </tr>\n",
       "    <tr>\n",
       "      <th>3</th>\n",
       "      <td>Sharp Objects</td>\n",
       "      <td>Mystery</td>\n",
       "      <td>47.82</td>\n",
       "      <td>47.82</td>\n",
       "      <td>0.0</td>\n",
       "      <td>20</td>\n",
       "      <td>0</td>\n",
       "      <td>WICKED above her hipbone, GIRL across her hear...</td>\n",
       "      <td>http://books.toscrape.com/media/cache/c0/59/c0...</td>\n",
       "      <td>4</td>\n",
       "    </tr>\n",
       "    <tr>\n",
       "      <th>4</th>\n",
       "      <td>Sapiens: A Brief History of Humankind</td>\n",
       "      <td>History</td>\n",
       "      <td>54.23</td>\n",
       "      <td>54.23</td>\n",
       "      <td>0.0</td>\n",
       "      <td>20</td>\n",
       "      <td>0</td>\n",
       "      <td>From a renowned historian comes a groundbreaki...</td>\n",
       "      <td>http://books.toscrape.com/media/cache/ce/5f/ce...</td>\n",
       "      <td>5</td>\n",
       "    </tr>\n",
       "    <tr>\n",
       "      <th>...</th>\n",
       "      <td>...</td>\n",
       "      <td>...</td>\n",
       "      <td>...</td>\n",
       "      <td>...</td>\n",
       "      <td>...</td>\n",
       "      <td>...</td>\n",
       "      <td>...</td>\n",
       "      <td>...</td>\n",
       "      <td>...</td>\n",
       "      <td>...</td>\n",
       "    </tr>\n",
       "    <tr>\n",
       "      <th>995</th>\n",
       "      <td>Alice in Wonderland (Alice's Adventures in Won...</td>\n",
       "      <td>Classics</td>\n",
       "      <td>55.53</td>\n",
       "      <td>55.53</td>\n",
       "      <td>0.0</td>\n",
       "      <td>1</td>\n",
       "      <td>0</td>\n",
       "      <td>\\n\\n\\n\\n\\n\\n</td>\n",
       "      <td>http://books.toscrape.com/media/cache/99/df/99...</td>\n",
       "      <td>1</td>\n",
       "    </tr>\n",
       "    <tr>\n",
       "      <th>996</th>\n",
       "      <td>Ajin: Demi-Human, Volume 1 (Ajin: Demi-Human #1)</td>\n",
       "      <td>Sequential Art</td>\n",
       "      <td>57.06</td>\n",
       "      <td>57.06</td>\n",
       "      <td>0.0</td>\n",
       "      <td>1</td>\n",
       "      <td>0</td>\n",
       "      <td>High school student Kei Nagai is struck dead i...</td>\n",
       "      <td>http://books.toscrape.com/media/cache/30/98/30...</td>\n",
       "      <td>4</td>\n",
       "    </tr>\n",
       "    <tr>\n",
       "      <th>997</th>\n",
       "      <td>A Spy's Devotion (The Regency Spies of London #1)</td>\n",
       "      <td>Historical Fiction</td>\n",
       "      <td>16.97</td>\n",
       "      <td>16.97</td>\n",
       "      <td>0.0</td>\n",
       "      <td>1</td>\n",
       "      <td>0</td>\n",
       "      <td>In Englandâs Regency era, manners and elegan...</td>\n",
       "      <td>http://books.toscrape.com/media/cache/f9/6b/f9...</td>\n",
       "      <td>5</td>\n",
       "    </tr>\n",
       "    <tr>\n",
       "      <th>998</th>\n",
       "      <td>1st to Die (Women's Murder Club #1)</td>\n",
       "      <td>Mystery</td>\n",
       "      <td>53.98</td>\n",
       "      <td>53.98</td>\n",
       "      <td>0.0</td>\n",
       "      <td>1</td>\n",
       "      <td>0</td>\n",
       "      <td>James Patterson, bestselling author of the Ale...</td>\n",
       "      <td>http://books.toscrape.com/media/cache/f6/8e/f6...</td>\n",
       "      <td>1</td>\n",
       "    </tr>\n",
       "    <tr>\n",
       "      <th>999</th>\n",
       "      <td>1,000 Places to See Before You Die</td>\n",
       "      <td>Travel</td>\n",
       "      <td>26.08</td>\n",
       "      <td>26.08</td>\n",
       "      <td>0.0</td>\n",
       "      <td>1</td>\n",
       "      <td>0</td>\n",
       "      <td>Around the World, continent by continent, here...</td>\n",
       "      <td>http://books.toscrape.com/media/cache/9e/10/9e...</td>\n",
       "      <td>5</td>\n",
       "    </tr>\n",
       "  </tbody>\n",
       "</table>\n",
       "<p>1000 rows × 10 columns</p>\n",
       "</div>"
      ],
      "text/plain": [
       "                                                 Title            Category  \\\n",
       "0                                 A Light in the Attic              Poetry   \n",
       "1                                   Tipping the Velvet  Historical Fiction   \n",
       "2                                           Soumission             Fiction   \n",
       "3                                        Sharp Objects             Mystery   \n",
       "4                Sapiens: A Brief History of Humankind             History   \n",
       "..                                                 ...                 ...   \n",
       "995  Alice in Wonderland (Alice's Adventures in Won...            Classics   \n",
       "996   Ajin: Demi-Human, Volume 1 (Ajin: Demi-Human #1)      Sequential Art   \n",
       "997  A Spy's Devotion (The Regency Spies of London #1)  Historical Fiction   \n",
       "998                1st to Die (Women's Murder Club #1)             Mystery   \n",
       "999                 1,000 Places to See Before You Die              Travel   \n",
       "\n",
       "     Price  Price_After_Tax  Tax_amount  Avilability  Number_of_reviews  \\\n",
       "0    51.77            51.77         0.0           22                  0   \n",
       "1    53.74            53.74         0.0           20                  0   \n",
       "2    50.10            50.10         0.0           20                  0   \n",
       "3    47.82            47.82         0.0           20                  0   \n",
       "4    54.23            54.23         0.0           20                  0   \n",
       "..     ...              ...         ...          ...                ...   \n",
       "995  55.53            55.53         0.0            1                  0   \n",
       "996  57.06            57.06         0.0            1                  0   \n",
       "997  16.97            16.97         0.0            1                  0   \n",
       "998  53.98            53.98         0.0            1                  0   \n",
       "999  26.08            26.08         0.0            1                  0   \n",
       "\n",
       "                                      Book_Description  \\\n",
       "0    It's hard to imagine a world without A Light i...   \n",
       "1    \"Erotic and absorbing...Written with starling ...   \n",
       "2    Dans une France assez proche de la nÃ´tre, un ...   \n",
       "3    WICKED above her hipbone, GIRL across her hear...   \n",
       "4    From a renowned historian comes a groundbreaki...   \n",
       "..                                                 ...   \n",
       "995                                       \\n\\n\\n\\n\\n\\n   \n",
       "996  High school student Kei Nagai is struck dead i...   \n",
       "997  In Englandâs Regency era, manners and elegan...   \n",
       "998  James Patterson, bestselling author of the Ale...   \n",
       "999  Around the World, continent by continent, here...   \n",
       "\n",
       "                                            Image_Link  Stars  \n",
       "0    http://books.toscrape.com/media/cache/fe/72/fe...      3  \n",
       "1    http://books.toscrape.com/media/cache/08/e9/08...      1  \n",
       "2    http://books.toscrape.com/media/cache/ee/cf/ee...      1  \n",
       "3    http://books.toscrape.com/media/cache/c0/59/c0...      4  \n",
       "4    http://books.toscrape.com/media/cache/ce/5f/ce...      5  \n",
       "..                                                 ...    ...  \n",
       "995  http://books.toscrape.com/media/cache/99/df/99...      1  \n",
       "996  http://books.toscrape.com/media/cache/30/98/30...      4  \n",
       "997  http://books.toscrape.com/media/cache/f9/6b/f9...      5  \n",
       "998  http://books.toscrape.com/media/cache/f6/8e/f6...      1  \n",
       "999  http://books.toscrape.com/media/cache/9e/10/9e...      5  \n",
       "\n",
       "[1000 rows x 10 columns]"
      ]
     },
     "execution_count": 285,
     "metadata": {},
     "output_type": "execute_result"
    }
   ],
   "source": [
    "books_df = pd.read_csv('Book_Dataset_1.csv')\n",
    "books_df.drop(books_df.columns[0], axis=1, inplace=True)\n",
    "books_df"
   ]
  },
  {
   "cell_type": "code",
   "execution_count": 286,
   "metadata": {},
   "outputs": [
    {
     "data": {
      "text/html": [
       "<div>\n",
       "<style scoped>\n",
       "    .dataframe tbody tr th:only-of-type {\n",
       "        vertical-align: middle;\n",
       "    }\n",
       "\n",
       "    .dataframe tbody tr th {\n",
       "        vertical-align: top;\n",
       "    }\n",
       "\n",
       "    .dataframe thead th {\n",
       "        text-align: right;\n",
       "    }\n",
       "</style>\n",
       "<table border=\"1\" class=\"dataframe\">\n",
       "  <thead>\n",
       "    <tr style=\"text-align: right;\">\n",
       "      <th></th>\n",
       "      <th>Title</th>\n",
       "      <th>Category</th>\n",
       "      <th>Book_Description</th>\n",
       "    </tr>\n",
       "  </thead>\n",
       "  <tbody>\n",
       "    <tr>\n",
       "      <th>0</th>\n",
       "      <td>A Light in the Attic</td>\n",
       "      <td>Poetry</td>\n",
       "      <td>It's hard to imagine a world without A Light i...</td>\n",
       "    </tr>\n",
       "    <tr>\n",
       "      <th>1</th>\n",
       "      <td>Tipping the Velvet</td>\n",
       "      <td>Historical Fiction</td>\n",
       "      <td>\"Erotic and absorbing...Written with starling ...</td>\n",
       "    </tr>\n",
       "    <tr>\n",
       "      <th>2</th>\n",
       "      <td>Soumission</td>\n",
       "      <td>Fiction</td>\n",
       "      <td>Dans une France assez proche de la nÃ´tre, un ...</td>\n",
       "    </tr>\n",
       "    <tr>\n",
       "      <th>3</th>\n",
       "      <td>Sharp Objects</td>\n",
       "      <td>Mystery</td>\n",
       "      <td>WICKED above her hipbone, GIRL across her hear...</td>\n",
       "    </tr>\n",
       "    <tr>\n",
       "      <th>4</th>\n",
       "      <td>Sapiens: A Brief History of Humankind</td>\n",
       "      <td>History</td>\n",
       "      <td>From a renowned historian comes a groundbreaki...</td>\n",
       "    </tr>\n",
       "    <tr>\n",
       "      <th>...</th>\n",
       "      <td>...</td>\n",
       "      <td>...</td>\n",
       "      <td>...</td>\n",
       "    </tr>\n",
       "    <tr>\n",
       "      <th>995</th>\n",
       "      <td>Alice in Wonderland (Alice's Adventures in Won...</td>\n",
       "      <td>Classics</td>\n",
       "      <td>\\n\\n\\n\\n\\n\\n</td>\n",
       "    </tr>\n",
       "    <tr>\n",
       "      <th>996</th>\n",
       "      <td>Ajin: Demi-Human, Volume 1 (Ajin: Demi-Human #1)</td>\n",
       "      <td>Sequential Art</td>\n",
       "      <td>High school student Kei Nagai is struck dead i...</td>\n",
       "    </tr>\n",
       "    <tr>\n",
       "      <th>997</th>\n",
       "      <td>A Spy's Devotion (The Regency Spies of London #1)</td>\n",
       "      <td>Historical Fiction</td>\n",
       "      <td>In Englandâs Regency era, manners and elegan...</td>\n",
       "    </tr>\n",
       "    <tr>\n",
       "      <th>998</th>\n",
       "      <td>1st to Die (Women's Murder Club #1)</td>\n",
       "      <td>Mystery</td>\n",
       "      <td>James Patterson, bestselling author of the Ale...</td>\n",
       "    </tr>\n",
       "    <tr>\n",
       "      <th>999</th>\n",
       "      <td>1,000 Places to See Before You Die</td>\n",
       "      <td>Travel</td>\n",
       "      <td>Around the World, continent by continent, here...</td>\n",
       "    </tr>\n",
       "  </tbody>\n",
       "</table>\n",
       "<p>1000 rows × 3 columns</p>\n",
       "</div>"
      ],
      "text/plain": [
       "                                                 Title            Category  \\\n",
       "0                                 A Light in the Attic              Poetry   \n",
       "1                                   Tipping the Velvet  Historical Fiction   \n",
       "2                                           Soumission             Fiction   \n",
       "3                                        Sharp Objects             Mystery   \n",
       "4                Sapiens: A Brief History of Humankind             History   \n",
       "..                                                 ...                 ...   \n",
       "995  Alice in Wonderland (Alice's Adventures in Won...            Classics   \n",
       "996   Ajin: Demi-Human, Volume 1 (Ajin: Demi-Human #1)      Sequential Art   \n",
       "997  A Spy's Devotion (The Regency Spies of London #1)  Historical Fiction   \n",
       "998                1st to Die (Women's Murder Club #1)             Mystery   \n",
       "999                 1,000 Places to See Before You Die              Travel   \n",
       "\n",
       "                                      Book_Description  \n",
       "0    It's hard to imagine a world without A Light i...  \n",
       "1    \"Erotic and absorbing...Written with starling ...  \n",
       "2    Dans une France assez proche de la nÃ´tre, un ...  \n",
       "3    WICKED above her hipbone, GIRL across her hear...  \n",
       "4    From a renowned historian comes a groundbreaki...  \n",
       "..                                                 ...  \n",
       "995                                       \\n\\n\\n\\n\\n\\n  \n",
       "996  High school student Kei Nagai is struck dead i...  \n",
       "997  In Englandâs Regency era, manners and elegan...  \n",
       "998  James Patterson, bestselling author of the Ale...  \n",
       "999  Around the World, continent by continent, here...  \n",
       "\n",
       "[1000 rows x 3 columns]"
      ]
     },
     "execution_count": 286,
     "metadata": {},
     "output_type": "execute_result"
    }
   ],
   "source": [
    "books_df = books_df.drop(['Price', 'Price_After_Tax', 'Tax_amount',\n",
    "       'Avilability', 'Number_of_reviews', 'Image_Link',\n",
    "       'Stars'], axis=1)\n",
    "\n",
    "books_df"
   ]
  },
  {
   "attachments": {},
   "cell_type": "markdown",
   "metadata": {},
   "source": [
    "### **Cleaning the data**"
   ]
  },
  {
   "cell_type": "code",
   "execution_count": 287,
   "metadata": {},
   "outputs": [
    {
     "data": {
      "text/html": [
       "<div>\n",
       "<style scoped>\n",
       "    .dataframe tbody tr th:only-of-type {\n",
       "        vertical-align: middle;\n",
       "    }\n",
       "\n",
       "    .dataframe tbody tr th {\n",
       "        vertical-align: top;\n",
       "    }\n",
       "\n",
       "    .dataframe thead th {\n",
       "        text-align: right;\n",
       "    }\n",
       "</style>\n",
       "<table border=\"1\" class=\"dataframe\">\n",
       "  <thead>\n",
       "    <tr style=\"text-align: right;\">\n",
       "      <th></th>\n",
       "      <th>track_name</th>\n",
       "      <th>genre</th>\n",
       "      <th>lyrics</th>\n",
       "    </tr>\n",
       "  </thead>\n",
       "  <tbody>\n",
       "    <tr>\n",
       "      <th>0</th>\n",
       "      <td>mohabbat bhi jhoothi</td>\n",
       "      <td>pop</td>\n",
       "      <td>hold time feel break feel untrue convince spea...</td>\n",
       "    </tr>\n",
       "    <tr>\n",
       "      <th>1</th>\n",
       "      <td>i believe</td>\n",
       "      <td>pop</td>\n",
       "      <td>believe drop rain fall grow believe darkest ni...</td>\n",
       "    </tr>\n",
       "    <tr>\n",
       "      <th>2</th>\n",
       "      <td>cry</td>\n",
       "      <td>pop</td>\n",
       "      <td>sweetheart send letter goodbye secret feel bet...</td>\n",
       "    </tr>\n",
       "    <tr>\n",
       "      <th>3</th>\n",
       "      <td>patricia</td>\n",
       "      <td>pop</td>\n",
       "      <td>kiss lip want stroll charm mambo chacha mering...</td>\n",
       "    </tr>\n",
       "    <tr>\n",
       "      <th>4</th>\n",
       "      <td>apopse eida oneiro</td>\n",
       "      <td>pop</td>\n",
       "      <td>till darling till matter know till dream live ...</td>\n",
       "    </tr>\n",
       "    <tr>\n",
       "      <th>...</th>\n",
       "      <td>...</td>\n",
       "      <td>...</td>\n",
       "      <td>...</td>\n",
       "    </tr>\n",
       "    <tr>\n",
       "      <th>28367</th>\n",
       "      <td>10 million ways</td>\n",
       "      <td>hip hop</td>\n",
       "      <td>cause fuck leave scar tick tock clock come kno...</td>\n",
       "    </tr>\n",
       "    <tr>\n",
       "      <th>28368</th>\n",
       "      <td>ante up (robbin hoodz theory)</td>\n",
       "      <td>hip hop</td>\n",
       "      <td>mink thing chain ring braclets yap fame come f...</td>\n",
       "    </tr>\n",
       "    <tr>\n",
       "      <th>28369</th>\n",
       "      <td>whutcha want?</td>\n",
       "      <td>hip hop</td>\n",
       "      <td>get ban get ban stick crack relax plan attack ...</td>\n",
       "    </tr>\n",
       "    <tr>\n",
       "      <th>28370</th>\n",
       "      <td>switch</td>\n",
       "      <td>hip hop</td>\n",
       "      <td>check check yeah yeah hear thing call switch g...</td>\n",
       "    </tr>\n",
       "    <tr>\n",
       "      <th>28371</th>\n",
       "      <td>r.i.p.</td>\n",
       "      <td>hip hop</td>\n",
       "      <td>remix killer alive remix thriller trap bitch s...</td>\n",
       "    </tr>\n",
       "  </tbody>\n",
       "</table>\n",
       "<p>28372 rows × 3 columns</p>\n",
       "</div>"
      ],
      "text/plain": [
       "                          track_name    genre  \\\n",
       "0               mohabbat bhi jhoothi      pop   \n",
       "1                          i believe      pop   \n",
       "2                                cry      pop   \n",
       "3                           patricia      pop   \n",
       "4                 apopse eida oneiro      pop   \n",
       "...                              ...      ...   \n",
       "28367                10 million ways  hip hop   \n",
       "28368  ante up (robbin hoodz theory)  hip hop   \n",
       "28369                  whutcha want?  hip hop   \n",
       "28370                         switch  hip hop   \n",
       "28371                         r.i.p.  hip hop   \n",
       "\n",
       "                                                  lyrics  \n",
       "0      hold time feel break feel untrue convince spea...  \n",
       "1      believe drop rain fall grow believe darkest ni...  \n",
       "2      sweetheart send letter goodbye secret feel bet...  \n",
       "3      kiss lip want stroll charm mambo chacha mering...  \n",
       "4      till darling till matter know till dream live ...  \n",
       "...                                                  ...  \n",
       "28367  cause fuck leave scar tick tock clock come kno...  \n",
       "28368  mink thing chain ring braclets yap fame come f...  \n",
       "28369  get ban get ban stick crack relax plan attack ...  \n",
       "28370  check check yeah yeah hear thing call switch g...  \n",
       "28371  remix killer alive remix thriller trap bitch s...  \n",
       "\n",
       "[28372 rows x 3 columns]"
      ]
     },
     "execution_count": 287,
     "metadata": {},
     "output_type": "execute_result"
    }
   ],
   "source": [
    "# Remove punctuation from the lyrics column\n",
    "songs_df['lyrics'] = songs_df['lyrics'].apply(lambda x: x.translate(str.maketrans('', '', string.punctuation)))\n",
    "\n",
    "# Remove digits from the lyrics column\n",
    "songs_df['lyrics'] = songs_df['lyrics'].apply(lambda x: x.translate(str.maketrans('', '', string.digits)))\n",
    "\n",
    "# Convert all lyrics to lowercase\n",
    "songs_df['lyrics'] = songs_df['lyrics'].apply(lambda x: x.lower())\n",
    "\n",
    "# Remove stopwords from the lyrics column\n",
    "stopwords = nltk.corpus.stopwords.words('english')\n",
    "songs_df['lyrics'] = songs_df['lyrics'].apply(lambda x: ' '.join([word for word in x.split() if word not in (stopwords)]))\n",
    "\n",
    "# Lemmatize the lyrics column\n",
    "lemmatizer = WordNetLemmatizer()\n",
    "songs_df['lyrics'] = songs_df['lyrics'].apply(lambda x: ' '.join([lemmatizer.lemmatize(word) for word in x.split()]))\n",
    "\n",
    "songs_df"
   ]
  },
  {
   "cell_type": "code",
   "execution_count": 288,
   "metadata": {},
   "outputs": [
    {
     "data": {
      "text/html": [
       "<div>\n",
       "<style scoped>\n",
       "    .dataframe tbody tr th:only-of-type {\n",
       "        vertical-align: middle;\n",
       "    }\n",
       "\n",
       "    .dataframe tbody tr th {\n",
       "        vertical-align: top;\n",
       "    }\n",
       "\n",
       "    .dataframe thead th {\n",
       "        text-align: right;\n",
       "    }\n",
       "</style>\n",
       "<table border=\"1\" class=\"dataframe\">\n",
       "  <thead>\n",
       "    <tr style=\"text-align: right;\">\n",
       "      <th></th>\n",
       "      <th>Title</th>\n",
       "      <th>Category</th>\n",
       "      <th>Book_Description</th>\n",
       "    </tr>\n",
       "  </thead>\n",
       "  <tbody>\n",
       "    <tr>\n",
       "      <th>0</th>\n",
       "      <td>A Light in the Attic</td>\n",
       "      <td>Poetry</td>\n",
       "      <td>hard imagin world without light attic nowclass...</td>\n",
       "    </tr>\n",
       "    <tr>\n",
       "      <th>1</th>\n",
       "      <td>Tipping the Velvet</td>\n",
       "      <td>Historical Fiction</td>\n",
       "      <td>erot absorbingwritten starl powerth new york t...</td>\n",
       "    </tr>\n",
       "    <tr>\n",
       "      <th>2</th>\n",
       "      <td>Soumission</td>\n",
       "      <td>Fiction</td>\n",
       "      <td>dan un franc assez proch de la ntre un homm se...</td>\n",
       "    </tr>\n",
       "    <tr>\n",
       "      <th>3</th>\n",
       "      <td>Sharp Objects</td>\n",
       "      <td>Mystery</td>\n",
       "      <td>wick hipbon girl across heart word like road m...</td>\n",
       "    </tr>\n",
       "    <tr>\n",
       "      <th>4</th>\n",
       "      <td>Sapiens: A Brief History of Humankind</td>\n",
       "      <td>History</td>\n",
       "      <td>renown historian come groundbreak narr humanit...</td>\n",
       "    </tr>\n",
       "    <tr>\n",
       "      <th>...</th>\n",
       "      <td>...</td>\n",
       "      <td>...</td>\n",
       "      <td>...</td>\n",
       "    </tr>\n",
       "    <tr>\n",
       "      <th>995</th>\n",
       "      <td>Alice in Wonderland (Alice's Adventures in Won...</td>\n",
       "      <td>Classics</td>\n",
       "      <td></td>\n",
       "    </tr>\n",
       "    <tr>\n",
       "      <th>996</th>\n",
       "      <td>Ajin: Demi-Human, Volume 1 (Ajin: Demi-Human #1)</td>\n",
       "      <td>Sequential Art</td>\n",
       "      <td>high school student kei nagai struck dead griz...</td>\n",
       "    </tr>\n",
       "    <tr>\n",
       "      <th>997</th>\n",
       "      <td>A Spy's Devotion (The Regency Spies of London #1)</td>\n",
       "      <td>Historical Fiction</td>\n",
       "      <td>england regenc era manner eleg reign public li...</td>\n",
       "    </tr>\n",
       "    <tr>\n",
       "      <th>998</th>\n",
       "      <td>1st to Die (Women's Murder Club #1)</td>\n",
       "      <td>Mystery</td>\n",
       "      <td>jame patterson bestsel author alex cross novel...</td>\n",
       "    </tr>\n",
       "    <tr>\n",
       "      <th>999</th>\n",
       "      <td>1,000 Places to See Before You Die</td>\n",
       "      <td>Travel</td>\n",
       "      <td>around world contin contin best world offer pl...</td>\n",
       "    </tr>\n",
       "  </tbody>\n",
       "</table>\n",
       "<p>999 rows × 3 columns</p>\n",
       "</div>"
      ],
      "text/plain": [
       "                                                 Title            Category  \\\n",
       "0                                 A Light in the Attic              Poetry   \n",
       "1                                   Tipping the Velvet  Historical Fiction   \n",
       "2                                           Soumission             Fiction   \n",
       "3                                        Sharp Objects             Mystery   \n",
       "4                Sapiens: A Brief History of Humankind             History   \n",
       "..                                                 ...                 ...   \n",
       "995  Alice in Wonderland (Alice's Adventures in Won...            Classics   \n",
       "996   Ajin: Demi-Human, Volume 1 (Ajin: Demi-Human #1)      Sequential Art   \n",
       "997  A Spy's Devotion (The Regency Spies of London #1)  Historical Fiction   \n",
       "998                1st to Die (Women's Murder Club #1)             Mystery   \n",
       "999                 1,000 Places to See Before You Die              Travel   \n",
       "\n",
       "                                      Book_Description  \n",
       "0    hard imagin world without light attic nowclass...  \n",
       "1    erot absorbingwritten starl powerth new york t...  \n",
       "2    dan un franc assez proch de la ntre un homm se...  \n",
       "3    wick hipbon girl across heart word like road m...  \n",
       "4    renown historian come groundbreak narr humanit...  \n",
       "..                                                 ...  \n",
       "995                                                     \n",
       "996  high school student kei nagai struck dead griz...  \n",
       "997  england regenc era manner eleg reign public li...  \n",
       "998  jame patterson bestsel author alex cross novel...  \n",
       "999  around world contin contin best world offer pl...  \n",
       "\n",
       "[999 rows x 3 columns]"
      ]
     },
     "execution_count": 288,
     "metadata": {},
     "output_type": "execute_result"
    }
   ],
   "source": [
    "# If the Title is duplicated, remove the duplicates\n",
    "books_df = books_df.drop_duplicates(subset=['Title'])\n",
    "\n",
    "# Remove floats from the description column\n",
    "def remove_floats(text):\n",
    "    return re.sub(r'\\d+\\.\\d+', '', text)\n",
    "\n",
    "books_df['Book_Description'] = books_df['Book_Description'].astype(str)\n",
    "books_df['Book_Description'] = books_df['Book_Description'].apply(remove_floats)\n",
    "\n",
    "# Remove digits from the description column\n",
    "books_df['Book_Description'] = books_df['Book_Description'].apply(lambda x: x.translate(str.maketrans('', '', string.digits)))\n",
    "\n",
    "# Remove punctuation from the description column\n",
    "books_df['Book_Description'] = books_df['Book_Description'].apply(lambda x: x.translate(str.maketrans('', '', string.punctuation)))\n",
    "\n",
    "# Convert all descriptions to lowercase\n",
    "books_df['Book_Description'] = books_df['Book_Description'].apply(lambda x: x.lower())\n",
    "\n",
    "# Remove stopwords from the description column\n",
    "stopwords = nltk.corpus.stopwords.words('english')\n",
    "books_df['Book_Description'] = books_df['Book_Description'].apply(lambda x: ' '.join([word for word in x.split() if word not in (stopwords)]))\n",
    "\n",
    "# Stem the description column\n",
    "stemmer = PorterStemmer()\n",
    "books_df['Book_Description'] = books_df['Book_Description'].apply(lambda x: ' '.join([stemmer.stem(word) for word in x.split()]))\n",
    "\n",
    "# Lemmatize the description column\n",
    "lemmatizer = WordNetLemmatizer()\n",
    "books_df['Book_Description'] = books_df['Book_Description'].apply(lambda x: ' '.join([lemmatizer.lemmatize(word) for word in x.split()]))\n",
    "\n",
    "# access the book_description column and do line = line_raw.decode('utf-8') on each description\n",
    "books_df['Book_Description'] = books_df['Book_Description'].apply(lambda x: x.encode('ascii', 'ignore').decode('ascii'))\n",
    "\n",
    "books_df"
   ]
  },
  {
   "attachments": {},
   "cell_type": "markdown",
   "metadata": {},
   "source": [
    "### **Visualizing the didtribution of the data**"
   ]
  },
  {
   "attachments": {},
   "cell_type": "markdown",
   "metadata": {},
   "source": [
    "##### **For Books Data**"
   ]
  },
  {
   "cell_type": "code",
   "execution_count": 289,
   "metadata": {},
   "outputs": [],
   "source": [
    "# Create an instance of the CountVectorizer class\n",
    "tf_vectorizer = CountVectorizer(max_df=0.5, min_df=2, stop_words='english', lowercase=True)\n",
    "\n",
    "# Fit and transform the vectorizer on the corpus\n",
    "dtm_tf = tf_vectorizer.fit_transform(books_df['Book_Description'])\n",
    "\n",
    "# Instantiate a new TfidfVectorizer\n",
    "tfidf_vectorizer = TfidfVectorizer(**tf_vectorizer.get_params())\n",
    "\n",
    "# Fit and transform the tfidf_vectorizer on the corpus\n",
    "dtm_tfidf = tfidf_vectorizer.fit_transform(books_df['Book_Description'])"
   ]
  },
  {
   "cell_type": "code",
   "execution_count": 290,
   "metadata": {},
   "outputs": [
    {
     "data": {
      "text/html": [
       "\n",
       "<link rel=\"stylesheet\" type=\"text/css\" href=\"https://cdn.jsdelivr.net/gh/bmabey/pyLDAvis@3.4.0/pyLDAvis/js/ldavis.v1.0.0.css\">\n",
       "\n",
       "\n",
       "<div id=\"ldavis_el1401116843300648154836988\" style=\"background-color:white;\"></div>\n",
       "<script type=\"text/javascript\">\n",
       "\n",
       "var ldavis_el1401116843300648154836988_data = {\"mdsDat\": {\"x\": [0.07201113032795145, -0.08053357661898074, -0.002979012868960758, -0.05444184031202558, 0.06594329947201556], \"y\": [0.007144040566157904, -0.06134031643465466, -0.051457902609864103, 0.10445545370642494, 0.0011987247719359437], \"topics\": [1, 2, 3, 4, 5], \"cluster\": [1, 1, 1, 1, 1], \"Freq\": [30.540932704838536, 20.88264135445503, 17.378263833161718, 16.27905047095382, 14.919111636590902]}, \"tinfo\": {\"Term\": [\"cook\", \"recip\", \"god\", \"murder\", \"food\", \"king\", \"startup\", \"harri\", \"art\", \"spiritu\", \"stori\", \"lincoln\", \"princ\", \"woman\", \"york\", \"detect\", \"new\", \"rachel\", \"investig\", \"christian\", \"cookbook\", \"friend\", \"ancient\", \"citi\", \"eat\", \"human\", \"hero\", \"artist\", \"dark\", \"secret\", \"cosmo\", \"flora\", \"toll\", \"data\", \"horribl\", \"structur\", \"spiritu\", \"abigail\", \"carolina\", \"laura\", \"virtu\", \"saint\", \"hitchen\", \"mcbride\", \"warren\", \"survei\", \"immens\", \"abduct\", \"therapi\", \"nurtur\", \"philosophi\", \"shack\", \"greenwich\", \"distil\", \"paradis\", \"nois\", \"kitti\", \"piano\", \"cuttingedg\", \"acknowledg\", \"technolog\", \"thinker\", \"religion\", \"intellectu\", \"dylan\", \"physic\", \"failur\", \"econom\", \"anxieti\", \"god\", \"theori\", \"understand\", \"grand\", \"address\", \"valu\", \"aspect\", \"stress\", \"human\", \"question\", \"christian\", \"scienc\", \"centuri\", \"univers\", \"compel\", \"explor\", \"concept\", \"book\", \"scientif\", \"creat\", \"languag\", \"live\", \"natur\", \"learn\", \"experi\", \"work\", \"histori\", \"write\", \"wai\", \"world\", \"author\", \"time\", \"person\", \"peopl\", \"stori\", \"new\", \"life\", \"american\", \"year\", \"everi\", \"love\", \"bestsel\", \"reader\", \"becom\", \"power\", \"woman\", \"make\", \"like\", \"york\", \"cook\", \"meal\", \"chef\", \"vegetarian\", \"mia\", \"hogwart\", \"barefoot\", \"dish\", \"garten\", \"chicken\", \"cal\", \"blink\", \"seuss\", \"grill\", \"veget\", \"calori\", \"ina\", \"luca\", \"johnson\", \"pope\", \"tomato\", \"wade\", \"salad\", \"culinari\", \"hazel\", \"patriarch\", \"sinclair\", \"ingredi\", \"achil\", \"omnivor\", \"potter\", \"food\", \"harri\", \"recip\", \"vallei\", \"eat\", \"kitchen\", \"delici\", \"anna\", \"easi\", \"dinner\", \"fat\", \"diet\", \"rose\", \"healthi\", \"heaven\", \"cookbook\", \"summer\", \"new\", \"famili\", \"dai\", \"year\", \"time\", \"make\", \"york\", \"like\", \"friend\", \"love\", \"life\", \"school\", \"green\", \"world\", \"thing\", \"home\", \"best\", \"secret\", \"book\", \"wai\", \"live\", \"know\", \"girl\", \"seri\", \"bestsel\", \"peopl\", \"come\", \"work\", \"princ\", \"fundrais\", \"throne\", \"raven\", \"golf\", \"egger\", \"celaena\", \"sheffield\", \"startup\", \"colin\", \"philippa\", \"scarlet\", \"mccullough\", \"pie\", \"homer\", \"tonight\", \"vanilla\", \"lui\", \"grisham\", \"carlo\", \"pixi\", \"mytholog\", \"safer\", \"ronan\", \"arianna\", \"prank\", \"psycho\", \"punch\", \"batch\", \"palestin\", \"tohru\", \"tape\", \"lunar\", \"roll\", \"norman\", \"katherin\", \"longawait\", \"emma\", \"king\", \"stone\", \"mechan\", \"jess\", \"eddi\", \"sleep\", \"sohma\", \"ancient\", \"armi\", \"kingdom\", \"secur\", \"song\", \"blue\", \"love\", \"dragon\", \"bird\", \"queen\", \"secret\", \"dark\", \"boi\", \"world\", \"life\", \"stori\", \"entrepreneur\", \"come\", \"year\", \"art\", \"book\", \"time\", \"true\", \"littl\", \"live\", \"sinc\", \"make\", \"turn\", \"new\", \"man\", \"power\", \"great\", \"becom\", \"girl\", \"dai\", \"thing\", \"know\", \"novel\", \"wai\", \"dream\", \"woman\", \"lincoln\", \"shadowhunt\", \"dracula\", \"clari\", \"cormoran\", \"merchant\", \"becki\", \"rachel\", \"jace\", \"stoker\", \"ana\", \"forens\", \"fool\", \"anastasia\", \"camil\", \"downworld\", \"bloomwood\", \"nicol\", \"tina\", \"sebastian\", \"seward\", \"bram\", \"astrid\", \"jem\", \"scarlett\", \"socialit\", \"aaron\", \"fei\", \"burrough\", \"kansa\", \"logan\", \"sixteenyearold\", \"penni\", \"detect\", \"chicago\", \"republican\", \"investig\", \"hitler\", \"murder\", \"invad\", \"strike\", \"husband\", \"citi\", \"footbal\", \"men\", \"woman\", \"alli\", \"stori\", \"york\", \"new\", \"friend\", \"novel\", \"young\", \"life\", \"girl\", \"home\", \"mother\", \"live\", \"small\", \"secret\", \"love\", \"world\", \"time\", \"bestsel\", \"famili\", \"want\", \"best\", \"war\", \"year\", \"author\", \"discov\", \"work\", \"book\", \"robot\", \"capitol\", \"robin\", \"tara\", \"jen\", \"hobbit\", \"balloon\", \"ben\", \"gotham\", \"dean\", \"approv\", \"vagabond\", \"katniss\", \"snowi\", \"kirkman\", \"sadi\", \"tolkien\", \"okai\", \"vega\", \"tweet\", \"gardner\", \"resurrect\", \"kira\", \"shinigami\", \"goldberg\", \"halloran\", \"joseph\", \"batman\", \"district\", \"mutual\", \"brand\", \"austin\", \"instagram\", \"toddler\", \"bryson\", \"rain\", \"jack\", \"sport\", \"mayb\", \"mar\", \"sedari\", \"notebook\", \"kate\", \"hero\", \"assist\", \"nick\", \"langdon\", \"hilari\", \"art\", \"wave\", \"artist\", \"travel\", \"know\", \"im\", \"comic\", \"collect\", \"fantasi\", \"power\", \"want\", \"david\", \"like\", \"new\", \"life\", \"novel\", \"death\", \"work\", \"make\", \"think\", \"girl\", \"peopl\", \"murder\", \"wai\", \"time\", \"come\", \"author\", \"love\", \"year\", \"book\", \"famili\", \"father\", \"thing\", \"place\", \"world\", \"man\", \"young\"], \"Freq\": [102.0, 128.0, 180.0, 135.0, 93.0, 94.0, 48.0, 64.0, 147.0, 72.0, 490.0, 35.0, 36.0, 277.0, 272.0, 45.0, 903.0, 33.0, 72.0, 85.0, 57.0, 247.0, 63.0, 153.0, 52.0, 226.0, 57.0, 96.0, 155.0, 260.0, 17.66414533154853, 14.755616255799044, 14.755315257515017, 13.782303205747018, 12.814189069682428, 12.81049103072827, 68.31274270737914, 10.870038266146938, 10.867691254759562, 10.865766560290002, 10.79704114796542, 9.871198271520525, 8.930941621703205, 8.92959658549011, 8.929061368691288, 8.928131864188936, 8.927046140119526, 8.926045258006376, 8.916413814028731, 8.905937329094598, 31.068446106051262, 7.960735760446243, 7.959907612991647, 7.959674579580847, 7.957106871880873, 7.955084170903463, 7.953641352795076, 7.95364323525941, 7.953483317590357, 8.83512810472452, 48.95061948639206, 12.267196987508262, 42.1686324839571, 18.205963819796946, 17.337111164571034, 43.748861083619566, 15.65241989044898, 13.105826072824087, 22.178161664243994, 144.89062560964564, 26.174549356491095, 74.88461837021525, 21.01767095620084, 16.982103493343853, 22.30930341660263, 15.34484085993644, 13.782658116158672, 160.7952190038144, 93.6086000387057, 64.11594032753003, 68.86937105063164, 66.1282720459401, 68.71333601063623, 31.64719559397171, 94.5128643459513, 21.70284623788816, 296.6116261684886, 24.88258987949327, 73.94842258471006, 39.00892210430156, 210.48196610299465, 64.75945012790994, 94.73650632845955, 72.52402824447952, 165.72099471606023, 99.81274407253375, 60.54638657578594, 159.51748206476668, 237.2094729108327, 151.66296167081748, 237.61731295141607, 95.04393736815965, 128.6413838043724, 179.15089893475076, 269.1831674898141, 220.30384336220473, 87.1250601724295, 155.44991313752195, 88.48118708513265, 158.70344731442597, 106.82863615957059, 88.71864393043887, 94.2943688006365, 98.39518151696726, 96.98112691577815, 100.1149179008229, 82.53470079475015, 80.93179088210779, 100.73115768824076, 30.26058757438183, 20.781007806822732, 18.046062614032547, 18.040428181191505, 16.165654569736233, 14.28638815351287, 30.735149720524035, 10.527003226008869, 10.526450375674866, 10.52252621874775, 10.519636835469447, 9.587319243935601, 9.586424562569013, 9.585319836405036, 9.585318416393907, 21.808415927375712, 9.582478838318986, 9.582529253183843, 9.579211710222133, 8.646512561520469, 8.64510776977572, 19.71301334416977, 7.706347984824447, 7.705752442292375, 7.705569687424592, 7.699636874472351, 32.44738690795727, 7.689091593001998, 11.0960332860026, 16.906888194821473, 79.31009323833426, 54.355039473976575, 105.76500520378126, 21.4609871045611, 44.00480634342786, 30.114291695496693, 37.608971846697756, 20.765637221358116, 39.55791496358482, 21.574169285699075, 12.406953794534848, 12.408209115226084, 24.769422334124943, 23.776014688076124, 21.443098170842593, 36.99605042440425, 45.702214781266846, 281.98701279518565, 133.76990347379177, 97.10871147731912, 143.46135307415733, 166.5687935384636, 113.82708088375556, 91.9424520057593, 95.10664589780073, 81.39479847285607, 129.38426720236092, 138.251496979113, 62.12388498478459, 34.21545016803474, 119.71578904329365, 69.39295019364206, 70.07803695943039, 58.37891932052328, 67.65766159477133, 95.96426078475042, 72.58258512858724, 80.03885607143287, 65.62342819381564, 62.61473767756568, 51.56720692557323, 58.54061740669037, 56.11551495006477, 55.369827546767254, 51.596099444181824, 36.16305058079364, 22.359606418691484, 14.04331538122391, 10.347000321409116, 10.345912750203857, 10.345739032909057, 9.424341235598764, 9.423681157109232, 44.54930286784391, 8.4975421776687, 7.576431198222493, 7.5753548264319255, 7.570280558673086, 6.652059259522784, 6.65170070502688, 6.651361500704312, 6.649774903093739, 6.648930342803136, 6.648443756231588, 6.6473083187879185, 6.64526292898419, 6.644824900373895, 6.635578537168113, 5.728520394230719, 5.727699111237336, 5.7269181875745225, 5.726532879008867, 5.725831231904126, 5.725569598942205, 5.725539370639807, 13.073724984302858, 12.986934850439258, 8.880440344377186, 11.133367188258852, 10.349267331159252, 20.511251843788337, 14.53666560431682, 17.735789214529166, 61.47741835801466, 26.166687301192542, 10.130380641768284, 12.67845809184486, 9.326187549352904, 28.178207640797382, 12.979210155578649, 38.39729246225986, 20.08515034734663, 20.054397972134158, 17.62979494187663, 16.21508175390934, 21.615642851606566, 145.12399522556342, 15.285520215636767, 23.400440137412943, 22.88724836028754, 75.68533721679903, 54.020488436607565, 46.7110365330153, 121.22256262759298, 131.7672652360552, 103.28073143457173, 23.734645744676993, 67.52279313593307, 95.10446432133978, 43.808653768169016, 89.26509417709138, 84.26548380092763, 39.73978809948244, 36.07316693416755, 69.60993404649903, 36.657640310266466, 61.88132957852777, 44.05283992977819, 88.80168397569875, 47.67589134461173, 53.35286061352057, 38.534386949262796, 47.25848715899511, 47.76788784263167, 46.47077705051797, 43.66511306424633, 46.74869973603414, 43.4135801057147, 46.494607437797534, 39.36485805666149, 39.66650386839059, 34.840671407774856, 26.4108413099404, 20.79231535010768, 19.855594214601265, 13.298808236213203, 13.29844296443009, 13.298409669672514, 31.83507258530795, 12.362937416407691, 10.489816462322626, 9.551724795480293, 9.549243326470066, 9.5432625075267, 8.616520904078396, 8.615454189005456, 7.680043882905004, 7.678637414696045, 7.67752785678609, 7.676330846019816, 8.444131365402606, 6.743453640874392, 6.7434532152082625, 6.7434527504150585, 6.743077243567432, 6.742993369642886, 6.7424058949580035, 6.739688196951382, 6.71545954180595, 5.806524483991591, 5.806367436454859, 12.370818355973743, 11.41432526857199, 14.469897463673252, 36.13086438184371, 16.428931671170016, 10.490829855579237, 43.79912942528599, 15.43416331798726, 69.94643515681861, 12.337893032265288, 31.478811242954958, 45.64406983159643, 66.5227501652679, 15.34545923715603, 46.058461960447886, 95.76864484419218, 16.621687838584744, 124.93338142640134, 73.832194711793, 154.3521053116885, 68.60220277143576, 65.71553325557292, 64.26953147101436, 109.85519813370415, 59.68485709766419, 55.974695857674, 44.56532489116424, 80.23704915011433, 32.48408488344626, 55.77058474263459, 78.7495471750789, 80.57350887759405, 82.53393901259395, 53.103608215943076, 59.07694662804881, 50.68528289115094, 44.66477806137232, 44.91338480935163, 57.537283097748904, 49.288291753225096, 44.195697871510724, 47.60980403995946, 48.210912398511134, 14.019327578767678, 12.17381107197286, 22.32338922194657, 9.40725219015825, 7.564479706731616, 7.56401938032294, 7.555890593173962, 16.6792822346638, 6.642450978106222, 6.641340652862021, 6.640756471076094, 5.719888888886898, 5.719888690806833, 5.719247476581311, 5.7191230183814, 5.718838969612155, 5.718531528969652, 5.7183795008037235, 5.712757762751324, 5.709091021090843, 5.69999546341107, 4.797326082099767, 4.797326062704537, 4.797326062704537, 4.795577933305467, 4.792807718843508, 4.791194319628442, 20.010037547383796, 11.841602836883641, 4.735732878634718, 26.702202765465064, 9.409084172910978, 9.406797466598965, 14.862433771695683, 14.786957524344405, 10.334712606759796, 21.7190874190964, 26.017533073985728, 26.020309989748196, 12.803153695800482, 10.981977744186297, 10.296627224485926, 18.3938494921075, 34.23541064842106, 13.563756996974481, 12.135981071163933, 12.067635911420824, 30.537338210729683, 59.236218380005425, 19.505293927941956, 39.716506730475956, 42.4965872170649, 82.02935772233853, 19.950980910584914, 23.183866202765653, 38.37000920610189, 20.113097979641775, 62.044996788686646, 55.70943315726294, 25.677465953523317, 62.798431683477034, 109.60650702131399, 94.17849201787243, 53.892458206933604, 37.02902438759607, 64.0382140411679, 64.07526307642082, 41.55021071578153, 50.99179760911972, 52.41808996045383, 36.73832385264514, 55.386810591383096, 70.7652942903542, 46.47584576435958, 48.081274341115304, 57.86756104143036, 54.32430730898525, 56.54379907209827, 45.468605286217304, 37.18868496425294, 38.348390353366774, 36.45764909146662, 44.344594696181076, 37.52914926062924, 37.15684436586607], \"Total\": [102.0, 128.0, 180.0, 135.0, 93.0, 94.0, 48.0, 64.0, 147.0, 72.0, 490.0, 35.0, 36.0, 277.0, 272.0, 45.0, 903.0, 33.0, 72.0, 85.0, 57.0, 247.0, 63.0, 153.0, 52.0, 226.0, 57.0, 96.0, 155.0, 260.0, 18.41335010822979, 15.501069910587201, 15.501048156852084, 14.530109647451118, 13.55943345285121, 13.55928596189444, 72.59509757852105, 11.617687508915743, 11.617553760524329, 11.617457300234543, 11.614056076331305, 10.645482148104275, 9.676148056935283, 9.67607928391131, 9.676080881747517, 9.676003669023599, 9.67597574697365, 9.675925237742781, 9.675657527396435, 9.67529477736, 33.87850839789432, 8.70534598629498, 8.70531963836895, 8.705312220739478, 8.705165604065382, 8.705147223740104, 8.70510881946399, 8.705117083309252, 8.705094962761676, 9.672010027182585, 54.14104814445672, 13.532258677760217, 48.2322030665421, 20.29043757751218, 19.31967877561026, 50.17389463062996, 17.39127908253412, 14.50587792962344, 25.13302820859697, 180.7100261927478, 29.90714812283791, 93.26802195362097, 24.137324193175317, 19.31885617230488, 26.029565671420276, 17.37741503676069, 15.470084649240436, 226.1255002447499, 129.51226649064833, 85.61937461342025, 95.02553053065076, 91.0928319675695, 95.84792773272247, 39.4736827826688, 144.34498608768683, 25.997262713918637, 586.5956926009399, 30.795663810105758, 119.35449028158229, 54.609130104843196, 468.0722080662547, 105.04231223374357, 172.46352458175076, 122.06301021492517, 359.60196177854004, 186.3965531122212, 97.35143321041433, 352.8164071502883, 603.0659281554944, 333.00238180501077, 641.7508235937554, 182.90835494882188, 284.64455392997513, 490.65618210267996, 903.9304765937011, 694.3562957289496, 174.1451184801322, 505.8773209397532, 186.14216092105403, 569.8288179588595, 267.3797625911845, 194.33224217988268, 240.41795980004227, 287.6028962725574, 277.97293831197413, 379.5603451432711, 315.52494025031814, 272.54164997298585, 102.43510203068763, 31.016663549811273, 21.61587280215817, 18.797495918990208, 18.797434817183248, 16.9176199586306, 15.037776822880309, 32.87253403595988, 11.278036984405686, 11.278031129389154, 11.278023195850812, 11.278290223510972, 10.338106618819289, 10.338097013372133, 10.338079596841288, 10.338130056841623, 23.527585497962384, 10.338024343580127, 10.338243428567454, 10.338249603399857, 9.398166511223051, 9.398131137811404, 21.597698701598866, 8.45822106974316, 8.458265836270112, 8.458299054533292, 8.458213748220428, 35.68622509485747, 8.457927794068363, 12.23014440435377, 18.778149698167823, 93.82990783346115, 64.15031532812279, 128.3914600316432, 24.510114198469143, 52.64598613357521, 35.83914433843209, 46.86557004275642, 24.481103552327642, 50.74156381042066, 26.271995652783204, 14.080494731463512, 14.1286925630423, 33.13872247332179, 31.943503837314417, 28.316474621275038, 57.00179768320214, 76.66183242694754, 903.9304765937011, 343.66421219163476, 256.94016149176196, 505.8773209397532, 641.7508235937554, 379.5603451432711, 272.54164997298585, 315.52494025031814, 247.57495773718753, 569.8288179588595, 694.3562957289496, 174.60295850432664, 59.09223326951205, 603.0659281554944, 226.17876008231636, 234.9738019755472, 186.09399443265517, 260.47686270318195, 586.5956926009399, 352.8164071502883, 468.0722080662547, 298.6021159106392, 261.5298754836582, 158.1235129822518, 267.3797625911845, 284.64455392997513, 265.4427867952828, 359.60196177854004, 36.973596089971196, 23.113700968947, 14.798131576087995, 11.10230145730252, 11.102311643706688, 11.102354005131549, 10.178323930620108, 10.178357412368872, 48.14818326248705, 9.254411201026869, 8.33041369702948, 8.330468281299824, 8.330627721627572, 7.406466267539234, 7.406495661305969, 7.406477856028151, 7.406505293552, 7.406482960857374, 7.406515910825468, 7.406720645042229, 7.406606644701448, 7.4065874744972335, 7.406691324566639, 6.482503475201906, 6.482545151050523, 6.482541100118355, 6.48257349441092, 6.482575513755385, 6.482582268001555, 6.48262190084497, 14.81487429343745, 14.796849613361676, 10.20589117213137, 12.963333938057875, 12.04220097101511, 25.012214784330386, 17.67419307891552, 22.184269557247568, 94.45911327851155, 36.31837179108552, 12.050456842823692, 15.739510822487087, 11.116283482067953, 42.70397943085359, 16.69635768490815, 63.2239143373707, 28.87097112615191, 29.70857143927533, 25.29134030635265, 23.34257848134623, 36.16959752517648, 569.8288179588595, 22.251348660988352, 42.33816050562516, 41.12682555471982, 260.47686270318195, 155.8243048125318, 129.11033815257915, 603.0659281554944, 694.3562957289496, 490.65618210267996, 45.05860498286127, 265.4427867952828, 505.8773209397532, 147.23213516340877, 586.5956926009399, 641.7508235937554, 138.71024583765652, 113.87115498165988, 468.0722080662547, 118.078897464392, 379.5603451432711, 180.80465221249008, 903.9304765937011, 218.50202555576107, 287.6028962725574, 143.5188706569722, 240.41795980004227, 261.5298754836582, 256.94016149176196, 226.17876008231636, 298.6021159106392, 253.86061925861358, 352.8164071502883, 164.77743616840183, 277.97293831197413, 35.592628194094466, 27.16330869394533, 21.543770635916427, 20.607180288182573, 14.05103244841112, 14.051035306303405, 14.051028236707694, 33.760676703806325, 13.114453539480904, 11.241271698649799, 10.304703516627278, 10.304677681615052, 10.304982790975806, 9.368094229677107, 9.368088163582525, 8.431499261093915, 8.431480295547686, 8.43159119104106, 8.431558205171834, 9.365776119416571, 7.494908449488234, 7.494908448713792, 7.494908447969107, 7.494916248385317, 7.4949252319665485, 7.494894322070647, 7.494937252236782, 7.495931513851239, 6.558329964258793, 6.5583193996243105, 14.084818220486646, 13.100500432229259, 16.836418800250915, 45.87745191226904, 19.690168083373667, 12.16384972966269, 72.1068341250896, 20.76872888175223, 135.56834868147968, 16.0255102609146, 53.62013627526771, 89.28122580750039, 153.40308638800474, 21.46231980953648, 96.67029906814264, 277.97293831197413, 24.48415381237138, 490.65618210267996, 272.54164997298585, 903.9304765937011, 247.57495773718753, 253.86061925861358, 253.71908107300433, 694.3562957289496, 261.5298754836582, 234.9738019755472, 153.22845938284507, 468.0722080662547, 85.90435525257159, 260.47686270318195, 569.8288179588595, 603.0659281554944, 641.7508235937554, 267.3797625911845, 343.66421219163476, 241.45057939693072, 186.09399443265517, 194.95950880208338, 505.8773209397532, 333.00238180501077, 198.69001854552988, 359.60196177854004, 586.5956926009399, 14.777279001495586, 12.932204398527025, 24.004279506827476, 10.164461742759773, 8.319293396277153, 8.319294193651636, 8.319457535633193, 18.469175456357327, 7.396712634477175, 7.396770734040326, 7.396772087487455, 6.47414978583001, 6.474149789516576, 6.4741833182676505, 6.474189786474091, 6.474195703398279, 6.474175342846957, 6.47420313164441, 6.474284054639179, 6.474345902996482, 6.474919926164493, 5.551586950182917, 5.551586950520496, 5.551586950520496, 5.5516037917018055, 5.551672024637633, 5.551818283500558, 23.20141567068713, 13.873844137431522, 5.554513667682547, 31.457430726608205, 11.10433136121035, 11.135266939567114, 18.514166574396068, 18.620495295741257, 12.963454816160887, 29.63106967326396, 36.30570061784471, 37.948970500497126, 16.680099830069807, 13.96536917081946, 13.028689760869915, 26.89065448772861, 57.955755395473375, 18.55950066344552, 16.66650392501343, 16.6939109978605, 57.256245046632856, 147.23213516340877, 33.76356997850441, 96.20050243244461, 108.15346071935393, 298.6021159106392, 36.54017639876231, 48.64384243669443, 113.11230489789807, 39.01024422263045, 287.6028962725574, 241.45057939693072, 62.837173485019655, 315.52494025031814, 903.9304765937011, 694.3562957289496, 253.86061925861358, 123.85276147809408, 359.60196177854004, 379.5603451432711, 162.93350350882457, 261.5298754836582, 284.64455392997513, 135.56834868147968, 352.8164071502883, 641.7508235937554, 265.4427867952828, 333.00238180501077, 569.8288179588595, 505.8773209397532, 586.5956926009399, 343.66421219163476, 188.03984360676316, 226.17876008231636, 171.5554230808425, 603.0659281554944, 218.50202555576107, 253.71908107300433], \"Category\": [\"Default\", \"Default\", \"Default\", \"Default\", \"Default\", \"Default\", \"Default\", \"Default\", \"Default\", \"Default\", \"Default\", \"Default\", \"Default\", \"Default\", \"Default\", \"Default\", \"Default\", \"Default\", \"Default\", \"Default\", \"Default\", \"Default\", \"Default\", \"Default\", \"Default\", \"Default\", \"Default\", \"Default\", \"Default\", \"Default\", \"Topic1\", \"Topic1\", \"Topic1\", \"Topic1\", \"Topic1\", \"Topic1\", \"Topic1\", \"Topic1\", \"Topic1\", \"Topic1\", \"Topic1\", \"Topic1\", \"Topic1\", \"Topic1\", \"Topic1\", \"Topic1\", \"Topic1\", \"Topic1\", \"Topic1\", \"Topic1\", \"Topic1\", \"Topic1\", \"Topic1\", \"Topic1\", \"Topic1\", \"Topic1\", \"Topic1\", \"Topic1\", \"Topic1\", \"Topic1\", \"Topic1\", \"Topic1\", \"Topic1\", \"Topic1\", \"Topic1\", \"Topic1\", \"Topic1\", \"Topic1\", \"Topic1\", \"Topic1\", \"Topic1\", \"Topic1\", \"Topic1\", \"Topic1\", \"Topic1\", \"Topic1\", \"Topic1\", \"Topic1\", \"Topic1\", \"Topic1\", \"Topic1\", \"Topic1\", \"Topic1\", \"Topic1\", \"Topic1\", \"Topic1\", \"Topic1\", \"Topic1\", \"Topic1\", \"Topic1\", \"Topic1\", \"Topic1\", \"Topic1\", \"Topic1\", \"Topic1\", \"Topic1\", \"Topic1\", \"Topic1\", \"Topic1\", \"Topic1\", \"Topic1\", \"Topic1\", \"Topic1\", \"Topic1\", \"Topic1\", \"Topic1\", \"Topic1\", \"Topic1\", \"Topic1\", \"Topic1\", \"Topic1\", \"Topic1\", \"Topic1\", \"Topic1\", \"Topic1\", \"Topic1\", \"Topic1\", \"Topic1\", \"Topic2\", \"Topic2\", \"Topic2\", \"Topic2\", \"Topic2\", \"Topic2\", \"Topic2\", \"Topic2\", \"Topic2\", \"Topic2\", \"Topic2\", \"Topic2\", \"Topic2\", \"Topic2\", \"Topic2\", \"Topic2\", \"Topic2\", \"Topic2\", \"Topic2\", \"Topic2\", \"Topic2\", \"Topic2\", \"Topic2\", \"Topic2\", \"Topic2\", \"Topic2\", \"Topic2\", \"Topic2\", \"Topic2\", \"Topic2\", \"Topic2\", \"Topic2\", \"Topic2\", \"Topic2\", \"Topic2\", \"Topic2\", \"Topic2\", \"Topic2\", \"Topic2\", \"Topic2\", \"Topic2\", \"Topic2\", \"Topic2\", \"Topic2\", \"Topic2\", \"Topic2\", \"Topic2\", \"Topic2\", \"Topic2\", \"Topic2\", \"Topic2\", \"Topic2\", \"Topic2\", \"Topic2\", \"Topic2\", \"Topic2\", \"Topic2\", \"Topic2\", \"Topic2\", \"Topic2\", \"Topic2\", \"Topic2\", \"Topic2\", \"Topic2\", \"Topic2\", \"Topic2\", \"Topic2\", \"Topic2\", \"Topic2\", \"Topic2\", \"Topic2\", \"Topic2\", \"Topic2\", \"Topic2\", \"Topic2\", \"Topic2\", \"Topic3\", \"Topic3\", \"Topic3\", \"Topic3\", \"Topic3\", \"Topic3\", \"Topic3\", \"Topic3\", \"Topic3\", \"Topic3\", \"Topic3\", \"Topic3\", \"Topic3\", \"Topic3\", \"Topic3\", \"Topic3\", \"Topic3\", \"Topic3\", \"Topic3\", \"Topic3\", \"Topic3\", \"Topic3\", \"Topic3\", \"Topic3\", \"Topic3\", \"Topic3\", \"Topic3\", \"Topic3\", \"Topic3\", \"Topic3\", \"Topic3\", \"Topic3\", \"Topic3\", \"Topic3\", \"Topic3\", \"Topic3\", \"Topic3\", \"Topic3\", \"Topic3\", \"Topic3\", \"Topic3\", \"Topic3\", \"Topic3\", \"Topic3\", \"Topic3\", \"Topic3\", \"Topic3\", \"Topic3\", \"Topic3\", \"Topic3\", \"Topic3\", \"Topic3\", \"Topic3\", \"Topic3\", \"Topic3\", \"Topic3\", \"Topic3\", \"Topic3\", \"Topic3\", \"Topic3\", \"Topic3\", \"Topic3\", \"Topic3\", \"Topic3\", \"Topic3\", \"Topic3\", \"Topic3\", \"Topic3\", \"Topic3\", \"Topic3\", \"Topic3\", \"Topic3\", \"Topic3\", \"Topic3\", \"Topic3\", \"Topic3\", \"Topic3\", \"Topic3\", \"Topic3\", \"Topic3\", \"Topic3\", \"Topic3\", \"Topic3\", \"Topic3\", \"Topic3\", \"Topic3\", \"Topic4\", \"Topic4\", \"Topic4\", \"Topic4\", \"Topic4\", \"Topic4\", \"Topic4\", \"Topic4\", \"Topic4\", \"Topic4\", \"Topic4\", \"Topic4\", \"Topic4\", \"Topic4\", \"Topic4\", \"Topic4\", \"Topic4\", \"Topic4\", \"Topic4\", \"Topic4\", \"Topic4\", \"Topic4\", \"Topic4\", \"Topic4\", \"Topic4\", \"Topic4\", \"Topic4\", \"Topic4\", \"Topic4\", \"Topic4\", \"Topic4\", \"Topic4\", \"Topic4\", \"Topic4\", \"Topic4\", \"Topic4\", \"Topic4\", \"Topic4\", \"Topic4\", \"Topic4\", \"Topic4\", \"Topic4\", \"Topic4\", \"Topic4\", \"Topic4\", \"Topic4\", \"Topic4\", \"Topic4\", \"Topic4\", \"Topic4\", \"Topic4\", \"Topic4\", \"Topic4\", \"Topic4\", \"Topic4\", \"Topic4\", \"Topic4\", \"Topic4\", \"Topic4\", \"Topic4\", \"Topic4\", \"Topic4\", \"Topic4\", \"Topic4\", \"Topic4\", \"Topic4\", \"Topic4\", \"Topic4\", \"Topic4\", \"Topic4\", \"Topic4\", \"Topic4\", \"Topic4\", \"Topic5\", \"Topic5\", \"Topic5\", \"Topic5\", \"Topic5\", \"Topic5\", \"Topic5\", \"Topic5\", \"Topic5\", \"Topic5\", \"Topic5\", \"Topic5\", \"Topic5\", \"Topic5\", \"Topic5\", \"Topic5\", \"Topic5\", \"Topic5\", \"Topic5\", \"Topic5\", \"Topic5\", \"Topic5\", \"Topic5\", \"Topic5\", \"Topic5\", \"Topic5\", \"Topic5\", \"Topic5\", \"Topic5\", \"Topic5\", \"Topic5\", \"Topic5\", \"Topic5\", \"Topic5\", \"Topic5\", \"Topic5\", \"Topic5\", \"Topic5\", \"Topic5\", \"Topic5\", \"Topic5\", \"Topic5\", \"Topic5\", \"Topic5\", \"Topic5\", \"Topic5\", \"Topic5\", \"Topic5\", \"Topic5\", \"Topic5\", \"Topic5\", \"Topic5\", \"Topic5\", \"Topic5\", \"Topic5\", \"Topic5\", \"Topic5\", \"Topic5\", \"Topic5\", \"Topic5\", \"Topic5\", \"Topic5\", \"Topic5\", \"Topic5\", \"Topic5\", \"Topic5\", \"Topic5\", \"Topic5\", \"Topic5\", \"Topic5\", \"Topic5\", \"Topic5\", \"Topic5\", \"Topic5\", \"Topic5\", \"Topic5\", \"Topic5\", \"Topic5\", \"Topic5\", \"Topic5\", \"Topic5\", \"Topic5\", \"Topic5\", \"Topic5\", \"Topic5\"], \"logprob\": [30.0, 29.0, 28.0, 27.0, 26.0, 25.0, 24.0, 23.0, 22.0, 21.0, 20.0, 19.0, 18.0, 17.0, 16.0, 15.0, 14.0, 13.0, 12.0, 11.0, 10.0, 9.0, 8.0, 7.0, 6.0, 5.0, 4.0, 3.0, 2.0, 1.0, -7.5186, -7.6986, -7.6986, -7.7668, -7.8396, -7.8399, -6.1661, -8.0042, -8.0044, -8.0046, -8.0109, -8.1006, -8.2007, -8.2008, -8.2009, -8.201, -8.2011, -8.2012, -8.2023, -8.2035, -6.954, -8.3157, -8.3158, -8.3158, -8.3161, -8.3164, -8.3166, -8.3166, -8.3166, -8.2114, -6.4994, -7.8833, -6.6485, -7.4884, -7.5373, -6.6117, -7.6396, -7.8171, -7.2911, -5.4142, -7.1254, -6.0742, -7.3448, -7.558, -7.2852, -7.6594, -7.7668, -5.3101, -5.8511, -6.2295, -6.158, -6.1986, -6.1602, -6.9355, -5.8414, -7.3127, -4.6978, -7.176, -6.0868, -6.7264, -5.0408, -6.2195, -5.8391, -6.1063, -5.2799, -5.7869, -6.2868, -5.318, -4.9212, -5.3685, -4.9195, -5.8358, -5.5332, -5.202, -4.7948, -4.9952, -5.9228, -5.3439, -5.9074, -5.3231, -5.719, -5.9047, -5.8438, -5.8012, -5.8157, -5.7839, -5.977, -5.9966, -5.3976, -6.6002, -6.976, -7.1171, -7.1174, -7.2271, -7.3507, -6.5846, -7.6561, -7.6561, -7.6565, -7.6568, -7.7496, -7.7497, -7.7498, -7.7498, -6.9277, -7.7501, -7.7501, -7.7504, -7.8529, -7.853, -7.0288, -7.968, -7.9681, -7.9681, -7.9689, -6.5304, -7.9702, -7.6034, -7.1823, -5.6367, -6.0145, -5.3488, -6.9438, -6.2257, -6.605, -6.3828, -6.9767, -6.3323, -6.9385, -7.4918, -7.4917, -6.8004, -6.8414, -6.9446, -6.3992, -6.1879, -4.3682, -5.1139, -5.4342, -5.044, -4.8946, -5.2754, -5.4889, -5.455, -5.6107, -5.1472, -5.081, -5.8809, -6.4774, -5.2249, -5.7702, -5.7604, -5.9431, -5.7956, -5.4461, -5.7253, -5.6275, -5.8261, -5.873, -6.0671, -5.9403, -5.9826, -5.996, -6.0666, -6.2383, -6.7191, -7.1842, -7.4896, -7.4897, -7.4898, -7.583, -7.5831, -6.0297, -7.6866, -7.8013, -7.8014, -7.8021, -7.9314, -7.9315, -7.9315, -7.9318, -7.9319, -7.932, -7.9321, -7.9324, -7.9325, -7.9339, -8.0809, -8.081, -8.0812, -8.0812, -8.0813, -8.0814, -8.0814, -7.2557, -7.2624, -7.6425, -7.4164, -7.4894, -6.8054, -7.1497, -6.9508, -5.7077, -6.5618, -7.5108, -7.2864, -7.5935, -6.4878, -7.263, -6.1783, -6.8264, -6.8279, -6.9567, -7.0404, -6.7529, -4.8487, -7.0994, -6.6736, -6.6958, -5.4998, -5.837, -5.9824, -5.0287, -4.9453, -5.1889, -6.6594, -5.6139, -5.2714, -6.0465, -5.3347, -5.3924, -6.144, -6.2408, -5.5834, -6.2247, -5.7011, -6.0409, -5.3399, -5.9619, -5.8494, -6.1748, -5.9707, -5.96, -5.9875, -6.0498, -5.9815, -6.0556, -5.987, -6.1535, -6.1458, -6.2102, -6.4872, -6.7264, -6.7725, -7.1733, -7.1733, -7.1733, -6.3004, -7.2463, -7.4106, -7.5043, -7.5045, -7.5052, -7.6073, -7.6074, -7.7224, -7.7226, -7.7227, -7.7229, -7.6275, -7.8524, -7.8524, -7.8524, -7.8525, -7.8525, -7.8526, -7.853, -7.8566, -8.002, -8.002, -7.2457, -7.3261, -7.0889, -6.1738, -6.962, -7.4105, -5.9814, -7.0244, -5.5133, -7.2483, -6.3117, -5.9401, -5.5635, -7.0302, -5.9311, -5.1991, -6.9503, -4.9332, -5.4592, -4.7218, -5.5327, -5.5757, -5.5979, -5.0618, -5.6719, -5.7361, -5.964, -5.376, -6.2802, -5.7397, -5.3947, -5.3718, -5.3478, -5.7887, -5.6822, -5.8354, -5.9618, -5.9563, -5.7086, -5.8633, -5.9724, -5.898, -5.8854, -7.0333, -7.1745, -6.5681, -7.4323, -7.6503, -7.6504, -7.6514, -6.8596, -7.7803, -7.7804, -7.7805, -7.9298, -7.9298, -7.9299, -7.9299, -7.93, -7.93, -7.9301, -7.9311, -7.9317, -7.9333, -8.1057, -8.1057, -8.1057, -8.1061, -8.1066, -8.107, -6.6775, -7.2021, -8.1186, -6.389, -7.4321, -7.4323, -6.9749, -6.98, -7.3382, -6.5956, -6.415, -6.4149, -7.1241, -7.2775, -7.3419, -6.7617, -6.1405, -7.0664, -7.1776, -7.1832, -6.2548, -5.5922, -6.7031, -5.992, -5.9243, -5.2667, -6.6805, -6.5303, -6.0265, -6.6724, -5.5459, -5.6536, -6.4281, -5.5338, -4.9769, -5.1286, -5.6868, -6.0621, -5.5143, -5.5137, -5.9469, -5.7421, -5.7145, -6.0699, -5.6594, -5.4144, -5.8348, -5.8009, -5.6156, -5.6788, -5.6387, -5.8567, -6.0578, -6.027, -6.0776, -5.8818, -6.0486, -6.0586], \"loglift\": [30.0, 29.0, 28.0, 27.0, 26.0, 25.0, 24.0, 23.0, 22.0, 21.0, 20.0, 19.0, 18.0, 17.0, 16.0, 15.0, 14.0, 13.0, 12.0, 11.0, 10.0, 9.0, 8.0, 7.0, 6.0, 5.0, 4.0, 3.0, 2.0, 1.0, 1.1446, 1.1368, 1.1368, 1.1333, 1.1296, 1.1293, 1.1253, 1.1196, 1.1194, 1.1192, 1.1132, 1.1106, 1.106, 1.1058, 1.1058, 1.1057, 1.1055, 1.1054, 1.1044, 1.1032, 1.0995, 1.0967, 1.0966, 1.0966, 1.0963, 1.096, 1.0958, 1.0958, 1.0958, 1.0956, 1.0853, 1.088, 1.0518, 1.0777, 1.0778, 1.0491, 1.0808, 1.0846, 1.061, 0.9652, 1.0528, 0.9666, 1.0477, 1.0572, 1.0319, 1.0617, 1.0706, 0.8451, 0.8614, 0.8969, 0.8642, 0.8658, 0.8533, 0.9651, 0.7626, 1.0056, 0.5042, 0.9729, 0.7074, 0.8497, 0.3869, 0.7024, 0.587, 0.6655, 0.4114, 0.5615, 0.7112, 0.3923, 0.253, 0.3996, 0.1926, 0.5315, 0.3919, 0.1786, -0.0253, 0.0381, 0.4936, 0.0061, 0.4424, -0.0922, 0.2687, 0.402, 0.2501, 0.1135, 0.1331, -0.1466, -0.1549, -0.0281, 1.5495, 1.5416, 1.5269, 1.5255, 1.5251, 1.5208, 1.515, 1.499, 1.4973, 1.4973, 1.4969, 1.4966, 1.4909, 1.4908, 1.4907, 1.4906, 1.4904, 1.4904, 1.4903, 1.49, 1.4829, 1.4827, 1.4749, 1.4732, 1.4731, 1.473, 1.4723, 1.4711, 1.471, 1.4689, 1.4613, 1.3981, 1.4006, 1.3724, 1.4334, 1.387, 1.3922, 1.3462, 1.4016, 1.3173, 1.3692, 1.4397, 1.4364, 1.2752, 1.271, 1.2882, 1.134, 1.049, 0.4014, 0.6227, 0.5932, 0.306, 0.2175, 0.3619, 0.4796, 0.367, 0.4538, 0.0837, -0.0477, 0.5329, 1.0198, -0.0507, 0.3847, 0.3564, 0.407, 0.2182, -0.2441, -0.015, -0.1999, 0.0511, 0.1367, 0.4458, 0.0473, -0.0576, -0.0011, -0.3753, 1.7278, 1.7168, 1.6976, 1.6795, 1.6794, 1.6794, 1.673, 1.6729, 1.6723, 1.6646, 1.6551, 1.6549, 1.6542, 1.6425, 1.6425, 1.6424, 1.6422, 1.6421, 1.642, 1.6418, 1.6415, 1.6414, 1.64, 1.6263, 1.6262, 1.626, 1.6259, 1.6258, 1.6258, 1.6258, 1.6249, 1.6195, 1.6108, 1.5978, 1.5984, 1.5516, 1.5545, 1.5262, 1.3205, 1.4221, 1.5764, 1.5337, 1.5744, 1.3342, 1.4981, 1.2513, 1.3871, 1.357, 1.3891, 1.3856, 1.2351, 0.3822, 1.3745, 1.157, 1.1639, 0.514, 0.6906, 0.7333, 0.1456, 0.088, 0.1917, 1.1089, 0.381, 0.0786, 0.5378, -0.1328, -0.2803, 0.4999, 0.6004, -0.1558, 0.5802, -0.0638, 0.3379, -0.5704, 0.2276, 0.0653, 0.435, 0.1232, 0.0498, 0.0399, 0.1052, -0.1044, -0.0161, -0.2767, 0.3182, -0.1971, 1.7939, 1.7872, 1.7798, 1.7781, 1.7603, 1.7602, 1.7602, 1.7566, 1.7563, 1.7461, 1.7394, 1.7392, 1.7385, 1.7317, 1.7315, 1.7219, 1.7218, 1.7216, 1.7215, 1.7117, 1.7096, 1.7096, 1.7096, 1.7096, 1.7096, 1.7095, 1.7091, 1.7053, 1.6935, 1.6935, 1.6855, 1.6775, 1.6638, 1.5765, 1.6342, 1.6673, 1.3168, 1.5184, 1.1535, 1.5538, 1.2827, 1.1444, 0.9798, 1.4798, 1.0739, 0.7497, 1.428, 0.4473, 0.5093, 0.0478, 0.5319, 0.4638, 0.4421, -0.0285, 0.3378, 0.3807, 0.5803, 0.0517, 0.8428, 0.274, -0.1638, -0.1976, -0.2357, 0.1989, 0.0545, 0.2543, 0.3882, 0.3472, -0.3586, -0.0952, 0.3122, -0.2067, -0.6835, 1.8499, 1.8421, 1.8299, 1.8251, 1.8074, 1.8074, 1.8063, 1.8006, 1.795, 1.7948, 1.7947, 1.7787, 1.7787, 1.7785, 1.7785, 1.7785, 1.7784, 1.7784, 1.7774, 1.7767, 1.7751, 1.7565, 1.7565, 1.7565, 1.7561, 1.7555, 1.7552, 1.7545, 1.7441, 1.7431, 1.7386, 1.7369, 1.7338, 1.6828, 1.672, 1.6759, 1.5919, 1.5693, 1.5252, 1.638, 1.6622, 1.6672, 1.5228, 1.3761, 1.5889, 1.5853, 1.578, 1.2739, 0.992, 1.3538, 1.0179, 0.9684, 0.6105, 1.2974, 1.1615, 0.8214, 1.2401, 0.3688, 0.436, 1.0076, 0.2882, -0.2073, -0.0953, 0.3527, 0.6951, 0.177, 0.1236, 0.5361, 0.2676, 0.2105, 0.5969, 0.0509, -0.3023, 0.1601, -0.0327, -0.3847, -0.3288, -0.4368, -0.1201, 0.2819, 0.1279, 0.3538, -0.7075, 0.1408, -0.0186]}, \"token.table\": {\"Topic\": [4, 1, 1, 2, 1, 1, 4, 5, 1, 2, 4, 1, 2, 3, 4, 5, 4, 4, 1, 2, 3, 5, 1, 2, 3, 1, 2, 4, 5, 3, 1, 2, 3, 4, 1, 2, 3, 4, 5, 1, 2, 4, 5, 1, 3, 1, 2, 3, 5, 4, 2, 5, 1, 2, 3, 4, 5, 5, 2, 3, 1, 5, 4, 1, 2, 3, 4, 5, 3, 5, 1, 2, 3, 4, 5, 1, 2, 3, 4, 5, 1, 2, 3, 2, 4, 2, 3, 4, 5, 1, 2, 3, 4, 5, 1, 2, 3, 4, 5, 4, 2, 5, 1, 5, 4, 2, 2, 4, 5, 3, 1, 3, 1, 2, 3, 5, 2, 1, 3, 4, 2, 1, 2, 4, 1, 2, 3, 4, 5, 4, 3, 1, 2, 3, 4, 5, 1, 2, 3, 4, 5, 1, 2, 3, 4, 5, 1, 3, 4, 1, 3, 5, 2, 3, 2, 3, 4, 1, 1, 2, 3, 4, 5, 2, 1, 1, 2, 3, 4, 5, 1, 2, 3, 4, 5, 1, 1, 2, 3, 4, 5, 5, 1, 2, 3, 4, 5, 2, 3, 4, 1, 4, 5, 1, 2, 2, 4, 5, 1, 2, 3, 4, 5, 2, 3, 1, 4, 5, 4, 4, 2, 3, 4, 5, 1, 2, 3, 4, 5, 1, 5, 1, 2, 3, 4, 1, 2, 3, 5, 1, 4, 3, 4, 3, 3, 5, 1, 3, 4, 5, 1, 2, 3, 4, 5, 1, 2, 3, 4, 5, 1, 2, 3, 4, 5, 1, 5, 1, 2, 3, 4, 5, 2, 3, 4, 5, 2, 5, 1, 2, 3, 4, 5, 4, 1, 1, 2, 3, 4, 5, 4, 4, 5, 4, 1, 2, 3, 4, 5, 3, 5, 2, 1, 2, 3, 4, 5, 1, 2, 3, 5, 5, 3, 5, 1, 3, 4, 1, 2, 3, 4, 5, 1, 2, 3, 4, 5, 1, 2, 3, 5, 1, 2, 3, 2, 1, 2, 3, 5, 1, 2, 3, 1, 3, 4, 5, 1, 2, 3, 4, 5, 1, 2, 3, 4, 5, 1, 1, 4, 5, 2, 1, 2, 3, 4, 5, 3, 1, 1, 2, 3, 4, 5, 1, 2, 3, 4, 5, 1, 2, 3, 5, 1, 1, 2, 2, 3, 4, 1, 5, 1, 3, 1, 4, 1, 2, 3, 4, 5, 4, 2, 3, 4, 5, 4, 5, 2, 3, 5, 2, 5, 4, 2, 4, 5, 3, 4, 5, 1, 2, 3, 5, 1, 2, 3, 4, 5, 5, 5, 1, 2, 3, 1, 1, 2, 3, 4, 5, 2, 5, 1, 2, 3, 5, 1, 1, 2, 3, 4, 5, 1, 2, 3, 4, 5, 1, 2, 3, 4, 5, 4, 1, 2, 3, 4, 5, 1, 2, 3, 4, 5, 1, 4, 1, 3, 1, 2, 3, 4, 5, 2, 3, 1, 3, 1, 2, 3, 4, 5, 1, 2, 3, 4, 5, 2, 5, 2, 3, 4, 5, 1, 3, 2, 2, 3, 1, 2, 3, 4, 5, 4, 2, 1, 2, 3, 4, 5, 1, 2, 3, 4, 5, 5, 3, 1, 2, 3, 4, 5, 1, 2, 3, 4, 5, 3, 4, 5, 4, 1, 2, 3, 1, 5, 1, 2, 3, 4, 5, 1, 5, 1, 2, 3, 1, 2, 4, 5, 1, 2, 3, 4, 5, 1, 2, 3, 4, 5, 3, 1, 2, 1, 2, 5, 1, 3, 3, 1, 2, 3, 4, 5, 2, 2, 3, 1, 2, 3, 4, 5, 3, 3, 3, 3, 1, 2, 3, 4, 5, 1, 2, 3, 4, 5, 1, 4, 2, 4, 5, 3, 1, 2, 3, 4, 5, 2, 3, 1, 5, 4, 5, 5, 3, 5, 5, 3, 4, 3, 1, 2, 5, 3, 1, 2, 3, 3, 4, 1, 2, 3, 4, 5, 1, 2, 3, 4, 5, 1, 2, 3, 4, 5, 4, 1, 2, 3, 4, 5, 1, 3, 1, 5, 1, 2, 3, 4, 5, 2, 4, 1, 4, 3, 5, 1, 2, 3, 4, 5, 2, 4, 5, 2, 3, 4, 5, 1, 2, 3, 4, 5, 5, 4, 2, 3, 1, 2, 3, 5, 1, 5, 1, 4, 5, 1, 3, 4, 4, 1, 2, 3, 4, 1, 2, 3, 4, 5, 1, 2, 1, 2, 3, 4, 5, 1, 2, 3, 4, 5, 1, 3, 5, 5, 1, 2, 3, 5, 1, 5, 1, 1, 2, 3, 4, 5, 1, 2, 3, 4, 5, 1, 5, 3, 1, 2, 3, 4, 5, 4, 2, 4, 5, 2, 3, 5, 1, 2, 3, 1, 2, 3, 4, 5, 1, 2, 3, 4, 5, 1, 2, 3, 4, 5, 5, 1, 3, 4, 5, 1, 2, 3, 4, 5, 5, 1, 2, 1, 3, 3, 5, 2, 2, 1, 2, 1, 2, 3, 4, 5, 1, 2, 3, 4, 5, 1, 2, 3, 4, 5, 1, 1, 3, 5, 1, 2, 3, 4, 5, 1, 2, 3, 4, 5, 1, 2, 3, 4, 5, 1, 2, 3, 4, 5, 1, 2, 3, 4, 5, 1, 2, 3, 4, 5, 1, 2, 3, 4, 5], \"Freq\": [0.9339637897449944, 0.9301436068246779, 0.9468321463766595, 0.945858157551367, 0.9305201271200151, 0.8799692822585871, 0.05176289895638748, 0.05176289895638748, 0.1633709717171796, 0.1633709717171796, 0.6943266297980133, 0.499583340373251, 0.11484674491339103, 0.10336207042205192, 0.2239511525811125, 0.057423372456695515, 0.9704306372196327, 0.9607076721633495, 0.1265343989508622, 0.03163359973771555, 0.6010383950165954, 0.2372519980328666, 0.08169566358497928, 0.8578044676422824, 0.04084783179248964, 0.8753421918523415, 0.03978828144783371, 0.03978828144783371, 0.9463587517913871, 0.9255623925778096, 0.1039106023448771, 0.06927373489658474, 0.6927373489658474, 0.1039106023448771, 0.13583991006992166, 0.08829594154544909, 0.29884780215382767, 0.07471195053845692, 0.40072773470626893, 0.3638234636516398, 0.14552938546065594, 0.07276469273032797, 0.4157982441733027, 0.8631893735787838, 0.05754595823858559, 0.10776151989580013, 0.053880759947900064, 0.10776151989580013, 0.754330639270601, 0.9339673791341357, 0.09005494950314613, 0.8104945455283151, 0.45645319164414705, 0.13813715010283398, 0.11411329791103676, 0.14714609467475792, 0.14414311315078326, 0.9616011579763561, 0.930988680367878, 0.9255570931380829, 0.12930245475452715, 0.8620163650301811, 0.925199194037492, 0.3909857652821804, 0.17885519050142293, 0.1954928826410902, 0.14973922925700525, 0.08318846069833624, 0.05414426877707674, 0.9204525692103045, 0.17732974188988265, 0.31167045544282407, 0.16120885626352968, 0.24181328439529454, 0.11284619938447078, 0.4001798751074506, 0.2206599311340148, 0.07479997665559825, 0.19821993813733535, 0.10845996615061745, 0.33067095577144695, 0.09447741593469913, 0.54324514162452, 0.9753251407796865, 0.94882508403945, 0.11059011638754704, 0.6082456401315087, 0.11059011638754704, 0.16588517458132054, 0.15490626301640179, 0.24010470767542277, 0.36402971808854423, 0.07745313150820089, 0.16265157616722187, 0.5063112527865912, 0.16365616251687795, 0.15172290066668895, 0.08182808125843898, 0.09717084649439629, 0.9339673790413379, 0.12715596625685668, 0.8583027722337827, 0.16111279277765173, 0.8055639638882587, 0.914867051932192, 0.9753482333718646, 0.9672929190305695, 0.9607082942479737, 0.9279160482003205, 0.9450876218324135, 0.9468430468880001, 0.8842320269376297, 0.7245356036740306, 0.08782249741503402, 0.08782249741503402, 0.09880030959191327, 0.9715083074463373, 0.050786768084747726, 0.10157353616949545, 0.8125882893559636, 0.9753475472625147, 0.747494364318429, 0.023359198884950905, 0.2219123894070336, 0.22163830468184512, 0.11081915234092256, 0.11081915234092256, 0.4367578356965771, 0.12385669967514874, 0.9705354988071431, 0.8644526189966921, 0.13261156700449078, 0.1502931092717562, 0.1502931092717562, 0.22986004947445068, 0.33594930307804327, 0.2938486328511758, 0.20720095906172653, 0.25617573120358916, 0.06781122296565596, 0.17329534757889856, 0.1850182787618533, 0.041115173058189625, 0.061672759587284444, 0.22613345182004296, 0.4728244901691807, 0.8106666959904189, 0.07600000274910176, 0.12666667124850295, 0.8462429388083789, 0.07693117625530717, 0.07693117625530717, 0.9859901342192474, 0.009762278556626211, 0.6491023354321951, 0.3333228208976137, 0.9251989167151934, 0.977551607621633, 0.6200018099479833, 0.11729763971988873, 0.13405444539415856, 0.050270417022809454, 0.092162431208484, 0.9458253613892508, 0.9190020366488931, 0.22184153566754702, 0.37751980631143967, 0.17903001124047654, 0.0972989191524329, 0.1206506597490168, 0.10267974575114701, 0.1090972298605937, 0.3465441419101212, 0.25028188026842085, 0.19252452328340064, 0.9635164730127064, 0.22279805445637355, 0.2068839077094897, 0.07957073373441911, 0.09548488048130294, 0.4137678154189794, 0.9463589249543227, 0.226074894623584, 0.17763027434710169, 0.169556170967688, 0.1291856540706194, 0.2987418250383074, 0.8108297832573427, 0.1493633811263526, 0.02133762587519323, 0.06539160033859047, 0.7846992040630857, 0.15258040079004442, 0.07077795737560251, 0.8493354885072301, 0.837393561218459, 0.07612668738349627, 0.07612668738349627, 0.37243944382159727, 0.15602192916850696, 0.1258241364262153, 0.22145048011013893, 0.1258241364262153, 0.9430365169319931, 0.06084106560851569, 0.9189791011677736, 0.07207807656581695, 0.8649369187898035, 0.9488229497824884, 0.9747597277604745, 0.08988219233229905, 0.6741164424922429, 0.13482328849844857, 0.08988219233229905, 0.4248154457777842, 0.07889429707301705, 0.23668289121905117, 0.19420134664127275, 0.060687920825397736, 0.8799318144699853, 0.051760694968822664, 0.05912312855016696, 0.7883083806688927, 0.07883083806688927, 0.07883083806688927, 0.056984401287275666, 0.8357712188800431, 0.01899480042909189, 0.07597920171636756, 0.8961884322390317, 0.06893757171069474, 0.8096231096047704, 0.08995812328941892, 0.900709885072838, 0.8113857413042219, 0.18030794251204932, 0.2885131487081047, 0.532639659153424, 0.11096659565696335, 0.066579957394178, 0.47275694858470163, 0.13967818935457094, 0.1504226654587687, 0.13967818935457094, 0.091328046885681, 0.5980517756481969, 0.04915494046423537, 0.15565731147007866, 0.12288735116058841, 0.0819249007737256, 0.6581454789312134, 0.06927847146644353, 0.06927847146644353, 0.06927847146644353, 0.13855694293288706, 0.9200013365358868, 0.057500083533492924, 0.20659701383281898, 0.38991549089574284, 0.10184359836829104, 0.1716792086779763, 0.1309417693306599, 0.07690287666180909, 0.07690287666180909, 0.3332457988678394, 0.5126858444120607, 0.8522427818665668, 0.0710202318222139, 0.37757955249355657, 0.10636043732212862, 0.1382685685187672, 0.18081274344761863, 0.19676680904593793, 0.9338399086311235, 0.967675140265965, 0.010657582673691863, 0.8419490312216572, 0.05328791336845932, 0.021315165347383726, 0.06394549604215118, 0.9704043376721713, 0.6988992864291846, 0.27955971457167383, 0.9704330702008624, 0.11713624134305564, 0.3271736396133623, 0.15752804870273002, 0.27870347078175306, 0.12117542207902308, 0.9518164152749382, 0.9266523861947095, 0.9753470409087919, 0.15294619754636565, 0.24089026113552592, 0.1835354370556388, 0.2294192963195485, 0.19500640187161622, 0.8023904542260484, 0.011067454541048943, 0.07747218178734261, 0.10514081813996497, 0.9006406414437736, 0.9007133217764131, 0.9463663583971023, 0.8700218728444482, 0.041429612992592776, 0.08285922598518555, 0.39019259100670395, 0.06967724839405427, 0.27174126873681165, 0.1254190471092977, 0.146322221627514, 0.08461348849679864, 0.5753717217782308, 0.13538158159487784, 0.06769079079743892, 0.1184588838955181, 0.9189783181239856, 0.9672960107711496, 0.945113746366048, 0.9006295721019936, 0.12470710329451629, 0.8417729472379849, 0.015588387911814536, 0.945820355479369, 0.0939158088379643, 0.7513264707037144, 0.12522107845061908, 0.03130526961265477, 0.17657565310913903, 0.7416177430583839, 0.07063026124365561, 0.24156358422848662, 0.12078179211424331, 0.03450908346121237, 0.5866544188406103, 0.2969108432827581, 0.05239603116754554, 0.03493068744503036, 0.0873267186125759, 0.5414256553979706, 0.5364906074190888, 0.07510868503867243, 0.16631208829991753, 0.10729812148381776, 0.11266302755800865, 0.9301221877800164, 0.2407465583699293, 0.7222396751097879, 0.961620038164381, 0.9457595122201293, 0.1829991243214205, 0.29790555122091705, 0.1361853948438478, 0.23832444097673366, 0.14044118843271805, 0.9451163303274935, 0.9587421218743049, 0.7119940025593732, 0.061912521961684626, 0.07517949095347419, 0.039800906975368686, 0.11498039792884288, 0.14560731981916727, 0.17920900900820588, 0.04480225225205147, 0.5152259008985919, 0.11200563063012867, 0.2736713663029476, 0.05473427326058951, 0.10946854652117902, 0.5473427326058952, 0.9301387514137709, 0.042503298950357885, 0.9350725769078735, 0.8967045383741451, 0.05604403364838407, 0.028022016824192034, 0.08980476224118927, 0.8082428601707035, 0.8871173887323819, 0.04928429937402121, 0.18720152751184757, 0.7488061100473903, 0.1109464879032374, 0.013868310987904675, 0.1109464879032374, 0.6102056834678057, 0.15255142086695142, 0.9150209700979264, 0.1349934391200595, 0.06749671956002976, 0.06749671956002976, 0.7424639151603274, 0.9339664070973521, 0.9616201303322184, 0.06353437608564663, 0.8259468891134063, 0.06353437608564663, 0.9672823114579802, 0.9006058456306998, 0.9148685256688941, 0.03718764080124357, 0.260313485608705, 0.6693775344223842, 0.8395897836746568, 0.15992186355707746, 0.9267626167246926, 0.2117318203171169, 0.10586591015855845, 0.6457820519672066, 0.03175977304756754, 0.033660319280043864, 0.13464127712017546, 0.6732063856008773, 0.033660319280043864, 0.1009809578401316, 0.9006433736089134, 0.9267568912692719, 0.11160980748389691, 0.8370735561292268, 0.02790245187097423, 0.9190005737909425, 0.23107672827291417, 0.22102991400017877, 0.1574000902728546, 0.12056177127282479, 0.27461292345476757, 0.23960832189129572, 0.7188249656738871, 0.7141662927998399, 0.07324782490254769, 0.07324782490254769, 0.14649564980509538, 0.9468509085699779, 0.5508411139711361, 0.13336153285616978, 0.10436989527874158, 0.1217648778251985, 0.08697491273228465, 0.31684021784383687, 0.19874522755658858, 0.1901041307063021, 0.15842010892191843, 0.1353771839878212, 0.2630536905708718, 0.30108554944858823, 0.12043421977943528, 0.11726489820629225, 0.1996672591080111, 0.9833496927829344, 0.27223751269575575, 0.14050968397200295, 0.31614678893700665, 0.19320081546150406, 0.07025484198600147, 0.44864872637401904, 0.17091380052343583, 0.14954957545800635, 0.17091380052343583, 0.059819830183202534, 0.07099843138518325, 0.851981176622199, 0.11315933865099086, 0.8486950398824314, 0.27903116688541973, 0.22638377690703865, 0.25446238489550854, 0.13863812694307018, 0.10178495395820343, 0.9673028102521312, 0.9451179509889375, 0.09798262426417416, 0.8818436183775674, 0.2634627175350824, 0.3003474979899939, 0.16334688487175106, 0.10538508701403294, 0.16861613922245272, 0.3020566964179332, 0.16018158143375244, 0.2196775973948605, 0.1510283482089666, 0.17391143127093123, 0.17985503867259797, 0.7793718342479246, 0.10540470392859802, 0.15810705589289703, 0.07905352794644852, 0.6851305755358872, 0.930128798651387, 0.9603117876976771, 0.9672220208927836, 0.08298440574022899, 0.8298440574022898, 0.1758554609210089, 0.051722194388532025, 0.16551102204330248, 0.47584418837449466, 0.13447770541018328, 0.9251987285355477, 0.9575774660245508, 0.19578608386999613, 0.23494330064399535, 0.19578608386999613, 0.29367912580499417, 0.08484063634366498, 0.09589258943135569, 0.03688176516590603, 0.08113988336499327, 0.5163447123226844, 0.27292506222770463, 0.9001688174954297, 0.9451046145208953, 0.6187982596514049, 0.0951997322540623, 0.10471970547946852, 0.08567975902865606, 0.0951997322540623, 0.2975892582067572, 0.31197089522046667, 0.0984588995553955, 0.1703670846239428, 0.1216907747313877, 0.06000058587567243, 0.1800017576270173, 0.7200070305080692, 0.9488126047311634, 0.9189965194595362, 0.0830412980489981, 0.830412980489981, 0.15350737769554976, 0.7675368884777488, 0.256046015289134, 0.1024184061156536, 0.1693842870374271, 0.25998518475512067, 0.21271515116328055, 0.930204216729378, 0.9267549809602644, 0.0817651833811556, 0.8994170171927116, 0.9255514345542715, 0.918994579065094, 0.9458166409607304, 0.8315307528339314, 0.1187901075477045, 0.4531967965624069, 0.19673659385654874, 0.0702630692344817, 0.09836829692827437, 0.18268398000965239, 0.5193857876343658, 0.19681987741933862, 0.03827053172042695, 0.13668047043009626, 0.10934437634407701, 0.9603364599830977, 0.9150343821490904, 0.059034476267683246, 0.8769500618582448, 0.01993068322405102, 0.09965341612025509, 0.9189997013755038, 0.9451200811754618, 0.9451021683469141, 0.31476708244048596, 0.1923576614914081, 0.15738354122024298, 0.12240942094907788, 0.20984472162699064, 0.9672817337193503, 0.9053075128940251, 0.05325338311141324, 0.3407476116204571, 0.1425576742493749, 0.18428187159065537, 0.11474154268852127, 0.2155750195966157, 0.92556297096064, 0.9736678010004205, 0.9255583457978563, 0.925558057483263, 0.1945202405509243, 0.04863006013773107, 0.5592456915839074, 0.12157515034432768, 0.0729450902065966, 0.7257999766901418, 0.08493403982544213, 0.05404893443437227, 0.05404893443437227, 0.08493403982544213, 0.02962025935597599, 0.9478482993912317, 0.07713993022549438, 0.07713993022549438, 0.7713993022549439, 0.9007141481843404, 0.4579785577609792, 0.1029165298339279, 0.15952062124258826, 0.1286456622924099, 0.14922896825919546, 0.8256000825434603, 0.17135096052788798, 0.8707875097900042, 0.10366517973690527, 0.8221081501536525, 0.08221081501536524, 0.9006433736636796, 0.0416592382918876, 0.9165032424215273, 0.9474003975009934, 0.8485471447824158, 0.07714064952567416, 0.9255683429946981, 0.24140942688543202, 0.7544044590169751, 0.926756044283713, 0.9450913631005902, 0.9393656258003099, 0.9260245860601533, 0.04630122930300767, 0.960330167507911, 0.9339652876247989, 0.16036383483906524, 0.3550913485722159, 0.18900023391746976, 0.16609111465474616, 0.13172743576066073, 0.7261206500472402, 0.12628185218212873, 0.0841879014547525, 0.021046975363688124, 0.04209395072737625, 0.8118026016310815, 0.032472104065243264, 0.06494420813048653, 0.032472104065243264, 0.06494420813048653, 0.8541737382996882, 0.13820805282434104, 0.2610596553348664, 0.29177255596249774, 0.2149903043934194, 0.09597781446134794, 0.2767745764047842, 0.7117060536123022, 0.14321139495395407, 0.7876626722467475, 0.2276701252143363, 0.3288568475318191, 0.10751089246232547, 0.14545591333138153, 0.18972510434528025, 0.9672951120272056, 0.933967378944832, 0.9189755367098078, 0.9571735274574769, 0.8842291182527235, 0.9006433736089134, 0.16937827528438112, 0.27947415421922883, 0.31334980927610506, 0.09315805140640962, 0.14397153399172397, 0.9458261801060732, 0.8396625805941197, 0.0763329618721927, 0.210753192558385, 0.6556765990705311, 0.07025106418612834, 0.04683404279075223, 0.2560987732847389, 0.2328170666224899, 0.034922559993373486, 0.37250730659598386, 0.10476767998012046, 0.9267578171705939, 0.9339691394162419, 0.17967990723579802, 0.7786129313551248, 0.21420084349274668, 0.042840168698549334, 0.6854426991767893, 0.042840168698549334, 0.9367023706586957, 0.05510013945051151, 0.13771941912456684, 0.11017553529965346, 0.7161409794477475, 0.04153843124457468, 0.9346147030029304, 0.04153843124457468, 0.8895790679270843, 0.11013709598572409, 0.13767136998215512, 0.7158911239072067, 0.027534273996431022, 0.3648175780297018, 0.09986626437684573, 0.20992296389418594, 0.25476087851236157, 0.06929495895536235, 0.904972423708579, 0.06464088740775564, 0.14919768123920268, 0.167847391394103, 0.055949130464701, 0.5781410148019104, 0.03729942030980067, 0.9587525505792711, 0.6000378355661435, 0.18262021082447846, 0.11739870695859331, 0.10435440618541628, 0.9301360673117837, 0.8785653932889129, 0.06758195332991637, 0.885437933436148, 0.9050434315431131, 0.03694054822624951, 0.03694054822624951, 0.018470274113124754, 0.8693573821619486, 0.10031046717253253, 0.9301693424469268, 0.17685126572204327, 0.30506843337052464, 0.19453639229424757, 0.15474485750678785, 0.1680087024359411, 0.31301112970444295, 0.16571177454941097, 0.16571177454941097, 0.09819957010335466, 0.257773871521306, 0.8867699240572138, 0.07389749367143449, 0.9460653818366043, 0.3708604512063082, 0.2602256107203927, 0.13089192395516758, 0.1293336867652251, 0.11063484048591546, 0.9488163166676451, 0.05401269325203854, 0.10802538650407709, 0.8101903987805781, 0.06749972900161362, 0.8774964770209771, 0.9267589588269565, 0.9676764982740473, 0.957633596856624, 0.945118602400557, 0.3051219977660381, 0.07396896915540317, 0.05547672686655238, 0.16643018059965714, 0.3883370880658667, 0.15139472843684487, 0.23069672904662075, 0.28837091130827597, 0.23069672904662075, 0.10092981895789659, 0.2765415568026295, 0.24335656998631397, 0.24335656998631397, 0.12167828499315698, 0.12167828499315698, 0.9267345442916568, 0.8041341333184374, 0.07505251910972083, 0.0321653653327375, 0.08577430755396666, 0.7198903683385887, 0.0625991624642251, 0.010433193744037516, 0.041732774976150064, 0.16693109990460026, 0.9267626172524178, 0.08159896701439752, 0.856789153651174, 0.8451927426570692, 0.11525355581687308, 0.945115101192745, 0.9267433973182982, 0.9672976403717587, 0.957574353391159, 0.9471281977376782, 0.9576372012718989, 0.4534936492674084, 0.20690647747825508, 0.13037942416437992, 0.05385237085050475, 0.15588844193567164, 0.21536498330167608, 0.21122334900741307, 0.12839066312215305, 0.21122334900741307, 0.2319315204787281, 0.3539196442582679, 0.20517080826566256, 0.15900737640588847, 0.23081715929887037, 0.046163431859774076, 0.9301286450568181, 0.3257949324376289, 0.08885316339208062, 0.5923544226138708, 0.34895483203884803, 0.08274186739065469, 0.14389889980983425, 0.3453573595436022, 0.08274186739065469, 0.46162150834491467, 0.14460432791527447, 0.08620642625718286, 0.13348091807563797, 0.17797455743418397, 0.39299185865942665, 0.19898321957439324, 0.20064141307084654, 0.13431367321271545, 0.0729605138439442, 0.626595808488564, 0.03081618730271626, 0.12326474921086504, 0.12326474921086504, 0.11299268677662629, 0.30639839657579654, 0.2826772303892833, 0.18779256564323013, 0.11465230323481419, 0.10674524783930976, 0.2972022808551598, 0.33756308442808275, 0.03669163961174812, 0.2715181331269361, 0.058706623378797, 0.30742662187695896, 0.141889210097058, 0.15371331093847948, 0.252247484616992, 0.1458305770441985], \"Term\": [\"aaron\", \"abduct\", \"abigail\", \"achil\", \"acknowledg\", \"address\", \"address\", \"address\", \"alli\", \"alli\", \"alli\", \"american\", \"american\", \"american\", \"american\", \"american\", \"ana\", \"anastasia\", \"ancient\", \"ancient\", \"ancient\", \"ancient\", \"anna\", \"anna\", \"anna\", \"anxieti\", \"anxieti\", \"anxieti\", \"approv\", \"arianna\", \"armi\", \"armi\", \"armi\", \"armi\", \"art\", \"art\", \"art\", \"art\", \"art\", \"artist\", \"artist\", \"artist\", \"artist\", \"aspect\", \"aspect\", \"assist\", \"assist\", \"assist\", \"assist\", \"astrid\", \"austin\", \"austin\", \"author\", \"author\", \"author\", \"author\", \"author\", \"balloon\", \"barefoot\", \"batch\", \"batman\", \"batman\", \"becki\", \"becom\", \"becom\", \"becom\", \"becom\", \"becom\", \"ben\", \"ben\", \"best\", \"best\", \"best\", \"best\", \"best\", \"bestsel\", \"bestsel\", \"bestsel\", \"bestsel\", \"bestsel\", \"bird\", \"bird\", \"bird\", \"blink\", \"bloomwood\", \"blue\", \"blue\", \"blue\", \"blue\", \"boi\", \"boi\", \"boi\", \"boi\", \"boi\", \"book\", \"book\", \"book\", \"book\", \"book\", \"bram\", \"brand\", \"brand\", \"bryson\", \"bryson\", \"burrough\", \"cal\", \"calori\", \"camil\", \"capitol\", \"carlo\", \"carolina\", \"celaena\", \"centuri\", \"centuri\", \"centuri\", \"centuri\", \"chef\", \"chicago\", \"chicago\", \"chicago\", \"chicken\", \"christian\", \"christian\", \"christian\", \"citi\", \"citi\", \"citi\", \"citi\", \"citi\", \"clari\", \"colin\", \"collect\", \"collect\", \"collect\", \"collect\", \"collect\", \"come\", \"come\", \"come\", \"come\", \"come\", \"comic\", \"comic\", \"comic\", \"comic\", \"comic\", \"compel\", \"compel\", \"compel\", \"concept\", \"concept\", \"concept\", \"cook\", \"cook\", \"cookbook\", \"cookbook\", \"cormoran\", \"cosmo\", \"creat\", \"creat\", \"creat\", \"creat\", \"creat\", \"culinari\", \"cuttingedg\", \"dai\", \"dai\", \"dai\", \"dai\", \"dai\", \"dark\", \"dark\", \"dark\", \"dark\", \"dark\", \"data\", \"david\", \"david\", \"david\", \"david\", \"david\", \"dean\", \"death\", \"death\", \"death\", \"death\", \"death\", \"delici\", \"delici\", \"delici\", \"detect\", \"detect\", \"detect\", \"diet\", \"diet\", \"dinner\", \"dinner\", \"dinner\", \"discov\", \"discov\", \"discov\", \"discov\", \"discov\", \"dish\", \"dish\", \"distil\", \"district\", \"district\", \"downworld\", \"dracula\", \"dragon\", \"dragon\", \"dragon\", \"dragon\", \"dream\", \"dream\", \"dream\", \"dream\", \"dream\", \"dylan\", \"dylan\", \"easi\", \"easi\", \"easi\", \"easi\", \"eat\", \"eat\", \"eat\", \"eat\", \"econom\", \"econom\", \"eddi\", \"eddi\", \"egger\", \"emma\", \"emma\", \"entrepreneur\", \"entrepreneur\", \"entrepreneur\", \"entrepreneur\", \"everi\", \"everi\", \"everi\", \"everi\", \"everi\", \"experi\", \"experi\", \"experi\", \"experi\", \"experi\", \"explor\", \"explor\", \"explor\", \"explor\", \"explor\", \"failur\", \"failur\", \"famili\", \"famili\", \"famili\", \"famili\", \"famili\", \"fantasi\", \"fantasi\", \"fantasi\", \"fantasi\", \"fat\", \"fat\", \"father\", \"father\", \"father\", \"father\", \"father\", \"fei\", \"flora\", \"food\", \"food\", \"food\", \"food\", \"food\", \"fool\", \"footbal\", \"footbal\", \"forens\", \"friend\", \"friend\", \"friend\", \"friend\", \"friend\", \"fundrais\", \"gardner\", \"garten\", \"girl\", \"girl\", \"girl\", \"girl\", \"girl\", \"god\", \"god\", \"god\", \"god\", \"goldberg\", \"golf\", \"gotham\", \"grand\", \"grand\", \"grand\", \"great\", \"great\", \"great\", \"great\", \"great\", \"green\", \"green\", \"green\", \"green\", \"green\", \"greenwich\", \"grill\", \"grisham\", \"halloran\", \"harri\", \"harri\", \"harri\", \"hazel\", \"healthi\", \"healthi\", \"healthi\", \"healthi\", \"heaven\", \"heaven\", \"heaven\", \"hero\", \"hero\", \"hero\", \"hero\", \"hilari\", \"hilari\", \"hilari\", \"hilari\", \"hilari\", \"histori\", \"histori\", \"histori\", \"histori\", \"histori\", \"hitchen\", \"hitler\", \"hitler\", \"hobbit\", \"hogwart\", \"home\", \"home\", \"home\", \"home\", \"home\", \"homer\", \"horribl\", \"human\", \"human\", \"human\", \"human\", \"human\", \"husband\", \"husband\", \"husband\", \"husband\", \"husband\", \"im\", \"im\", \"im\", \"im\", \"immens\", \"ina\", \"ina\", \"ingredi\", \"ingredi\", \"ingredi\", \"instagram\", \"instagram\", \"intellectu\", \"intellectu\", \"invad\", \"invad\", \"investig\", \"investig\", \"investig\", \"investig\", \"investig\", \"jace\", \"jack\", \"jack\", \"jack\", \"jack\", \"jem\", \"jen\", \"jess\", \"jess\", \"jess\", \"johnson\", \"joseph\", \"kansa\", \"kate\", \"kate\", \"kate\", \"katherin\", \"katherin\", \"katniss\", \"king\", \"king\", \"king\", \"king\", \"kingdom\", \"kingdom\", \"kingdom\", \"kingdom\", \"kingdom\", \"kira\", \"kirkman\", \"kitchen\", \"kitchen\", \"kitchen\", \"kitti\", \"know\", \"know\", \"know\", \"know\", \"know\", \"langdon\", \"langdon\", \"languag\", \"languag\", \"languag\", \"languag\", \"laura\", \"learn\", \"learn\", \"learn\", \"learn\", \"learn\", \"life\", \"life\", \"life\", \"life\", \"life\", \"like\", \"like\", \"like\", \"like\", \"like\", \"lincoln\", \"littl\", \"littl\", \"littl\", \"littl\", \"littl\", \"live\", \"live\", \"live\", \"live\", \"live\", \"logan\", \"logan\", \"longawait\", \"longawait\", \"love\", \"love\", \"love\", \"love\", \"love\", \"luca\", \"lui\", \"lunar\", \"lunar\", \"make\", \"make\", \"make\", \"make\", \"make\", \"man\", \"man\", \"man\", \"man\", \"man\", \"mar\", \"mar\", \"mayb\", \"mayb\", \"mayb\", \"mayb\", \"mcbride\", \"mccullough\", \"meal\", \"mechan\", \"mechan\", \"men\", \"men\", \"men\", \"men\", \"men\", \"merchant\", \"mia\", \"mother\", \"mother\", \"mother\", \"mother\", \"mother\", \"murder\", \"murder\", \"murder\", \"murder\", \"murder\", \"mutual\", \"mytholog\", \"natur\", \"natur\", \"natur\", \"natur\", \"natur\", \"new\", \"new\", \"new\", \"new\", \"new\", \"nick\", \"nick\", \"nick\", \"nicol\", \"nois\", \"norman\", \"norman\", \"notebook\", \"notebook\", \"novel\", \"novel\", \"novel\", \"novel\", \"novel\", \"nurtur\", \"okai\", \"omnivor\", \"omnivor\", \"palestin\", \"paradis\", \"patriarch\", \"penni\", \"penni\", \"peopl\", \"peopl\", \"peopl\", \"peopl\", \"peopl\", \"person\", \"person\", \"person\", \"person\", \"person\", \"philippa\", \"philosophi\", \"philosophi\", \"physic\", \"physic\", \"physic\", \"piano\", \"pie\", \"pixi\", \"place\", \"place\", \"place\", \"place\", \"place\", \"pope\", \"potter\", \"potter\", \"power\", \"power\", \"power\", \"power\", \"power\", \"prank\", \"princ\", \"psycho\", \"punch\", \"queen\", \"queen\", \"queen\", \"queen\", \"queen\", \"question\", \"question\", \"question\", \"question\", \"question\", \"rachel\", \"rachel\", \"rain\", \"rain\", \"rain\", \"raven\", \"reader\", \"reader\", \"reader\", \"reader\", \"reader\", \"recip\", \"recip\", \"religion\", \"religion\", \"republican\", \"republican\", \"resurrect\", \"robin\", \"robin\", \"robot\", \"roll\", \"roll\", \"ronan\", \"rose\", \"rose\", \"sadi\", \"safer\", \"saint\", \"salad\", \"salad\", \"scarlet\", \"scarlett\", \"school\", \"school\", \"school\", \"school\", \"school\", \"scienc\", \"scienc\", \"scienc\", \"scienc\", \"scienc\", \"scientif\", \"scientif\", \"scientif\", \"scientif\", \"scientif\", \"sebastian\", \"secret\", \"secret\", \"secret\", \"secret\", \"secret\", \"secur\", \"secur\", \"sedari\", \"sedari\", \"seri\", \"seri\", \"seri\", \"seri\", \"seri\", \"seuss\", \"seward\", \"shack\", \"shadowhunt\", \"sheffield\", \"shinigami\", \"sinc\", \"sinc\", \"sinc\", \"sinc\", \"sinc\", \"sinclair\", \"sixteenyearold\", \"sixteenyearold\", \"sleep\", \"sleep\", \"sleep\", \"sleep\", \"small\", \"small\", \"small\", \"small\", \"small\", \"snowi\", \"socialit\", \"sohma\", \"sohma\", \"song\", \"song\", \"song\", \"song\", \"spiritu\", \"spiritu\", \"sport\", \"sport\", \"sport\", \"startup\", \"startup\", \"startup\", \"stoker\", \"stone\", \"stone\", \"stone\", \"stone\", \"stori\", \"stori\", \"stori\", \"stori\", \"stori\", \"stress\", \"stress\", \"strike\", \"strike\", \"strike\", \"strike\", \"strike\", \"structur\", \"summer\", \"summer\", \"summer\", \"summer\", \"survei\", \"tape\", \"tape\", \"tara\", \"technolog\", \"technolog\", \"technolog\", \"technolog\", \"theori\", \"theori\", \"therapi\", \"thing\", \"thing\", \"thing\", \"thing\", \"thing\", \"think\", \"think\", \"think\", \"think\", \"think\", \"thinker\", \"thinker\", \"throne\", \"time\", \"time\", \"time\", \"time\", \"time\", \"tina\", \"toddler\", \"toddler\", \"toddler\", \"tohru\", \"tohru\", \"tolkien\", \"toll\", \"tomato\", \"tonight\", \"travel\", \"travel\", \"travel\", \"travel\", \"travel\", \"true\", \"true\", \"true\", \"true\", \"true\", \"turn\", \"turn\", \"turn\", \"turn\", \"turn\", \"tweet\", \"understand\", \"understand\", \"understand\", \"understand\", \"univers\", \"univers\", \"univers\", \"univers\", \"univers\", \"vagabond\", \"vallei\", \"vallei\", \"valu\", \"valu\", \"vanilla\", \"vega\", \"veget\", \"vegetarian\", \"virtu\", \"wade\", \"wai\", \"wai\", \"wai\", \"wai\", \"wai\", \"want\", \"want\", \"want\", \"want\", \"want\", \"war\", \"war\", \"war\", \"war\", \"war\", \"warren\", \"wave\", \"wave\", \"wave\", \"woman\", \"woman\", \"woman\", \"woman\", \"woman\", \"work\", \"work\", \"work\", \"work\", \"work\", \"world\", \"world\", \"world\", \"world\", \"world\", \"write\", \"write\", \"write\", \"write\", \"write\", \"year\", \"year\", \"year\", \"year\", \"year\", \"york\", \"york\", \"york\", \"york\", \"york\", \"young\", \"young\", \"young\", \"young\", \"young\"]}, \"R\": 30, \"lambda.step\": 0.01, \"plot.opts\": {\"xlab\": \"PC1\", \"ylab\": \"PC2\"}, \"topic.order\": [1, 2, 5, 4, 3]};\n",
       "\n",
       "function LDAvis_load_lib(url, callback){\n",
       "  var s = document.createElement('script');\n",
       "  s.src = url;\n",
       "  s.async = true;\n",
       "  s.onreadystatechange = s.onload = callback;\n",
       "  s.onerror = function(){console.warn(\"failed to load library \" + url);};\n",
       "  document.getElementsByTagName(\"head\")[0].appendChild(s);\n",
       "}\n",
       "\n",
       "if(typeof(LDAvis) !== \"undefined\"){\n",
       "   // already loaded: just create the visualization\n",
       "   !function(LDAvis){\n",
       "       new LDAvis(\"#\" + \"ldavis_el1401116843300648154836988\", ldavis_el1401116843300648154836988_data);\n",
       "   }(LDAvis);\n",
       "}else if(typeof define === \"function\" && define.amd){\n",
       "   // require.js is available: use it to load d3/LDAvis\n",
       "   require.config({paths: {d3: \"https://d3js.org/d3.v5\"}});\n",
       "   require([\"d3\"], function(d3){\n",
       "      window.d3 = d3;\n",
       "      LDAvis_load_lib(\"https://cdn.jsdelivr.net/gh/bmabey/pyLDAvis@3.4.0/pyLDAvis/js/ldavis.v3.0.0.js\", function(){\n",
       "        new LDAvis(\"#\" + \"ldavis_el1401116843300648154836988\", ldavis_el1401116843300648154836988_data);\n",
       "      });\n",
       "    });\n",
       "}else{\n",
       "    // require.js not available: dynamically load d3 & LDAvis\n",
       "    LDAvis_load_lib(\"https://d3js.org/d3.v5.js\", function(){\n",
       "         LDAvis_load_lib(\"https://cdn.jsdelivr.net/gh/bmabey/pyLDAvis@3.4.0/pyLDAvis/js/ldavis.v3.0.0.js\", function(){\n",
       "                 new LDAvis(\"#\" + \"ldavis_el1401116843300648154836988\", ldavis_el1401116843300648154836988_data);\n",
       "            })\n",
       "         });\n",
       "}\n",
       "</script>"
      ],
      "text/plain": [
       "<IPython.core.display.HTML object>"
      ]
     },
     "execution_count": 290,
     "metadata": {},
     "output_type": "execute_result"
    }
   ],
   "source": [
    "# Train and fit the LDA models\n",
    "lda_tf = LatentDirichletAllocation(n_components=5, random_state=0)\n",
    "lda_tf.fit(dtm_tf)\n",
    "\n",
    "# Train and fit the LDA models on the TF-IDF vectors\n",
    "lda_tfidf = LatentDirichletAllocation(n_components=5, random_state=0)\n",
    "lda_tfidf.fit(dtm_tfidf)\n",
    "\n",
    "# Prepare the visualization\n",
    "pyLDAvis.enable_notebook()\n",
    "panel = pyLDAvis.sklearn.prepare(lda_tf, dtm_tf, tf_vectorizer)\n",
    "\n",
    "# Display the visualization\n",
    "pyLDAvis.display(panel)"
   ]
  },
  {
   "attachments": {},
   "cell_type": "markdown",
   "metadata": {},
   "source": [
    "##### As we can see from the above graph, the words in cluster 1 include words from general books like book, story, proper names etc. So, we can say that cluster 1 is the cluster of general books.\n",
    "\n",
    "##### The words in cluster 2 mostly relate to Literature & Fiction. So, we can say that cluster 2 is the cluster of Literature & Fiction books.\n",
    "\n",
    "##### The words in cluster 3 mostly relate to Thriller, Mystery, Crime, Horror, etc. So, we can say that cluster 3 is the cluster of Thriller, Mystery, Crime, Horror, etc. books.\n",
    "\n",
    "##### The words in cluster 4 mostly relate to Science Fiction & Fantasy. So, we can say that cluster 4 is the cluster of Science Fiction & Fantasy books.\n",
    "\n",
    "##### The words in cluster 5 mostly relate to cooking, food, etc. So, we can say that cluster 5 is the cluster of cooking, food, etc. books."
   ]
  },
  {
   "attachments": {},
   "cell_type": "markdown",
   "metadata": {},
   "source": [
    "##### **For Songs Data**"
   ]
  },
  {
   "cell_type": "code",
   "execution_count": 291,
   "metadata": {},
   "outputs": [],
   "source": [
    "# Create an instance of the CountVectorizer class\n",
    "tf_vectorizer = CountVectorizer(max_df=0.5, min_df=2, stop_words='english', lowercase=True)\n",
    "\n",
    "# Fit and transform the vectorizer on the corpus\n",
    "dtm_tf = tf_vectorizer.fit_transform(songs_df['lyrics'])\n",
    "\n",
    "# Instantiate a new TfidfVectorizer\n",
    "tfidf_vectorizer = TfidfVectorizer(**tf_vectorizer.get_params())\n",
    "\n",
    "# Fit and transform the tfidf_vectorizer on the corpus\n",
    "dtm_tfidf = tfidf_vectorizer.fit_transform(songs_df['lyrics'])"
   ]
  },
  {
   "cell_type": "code",
   "execution_count": 292,
   "metadata": {},
   "outputs": [
    {
     "data": {
      "text/html": [
       "\n",
       "<link rel=\"stylesheet\" type=\"text/css\" href=\"https://cdn.jsdelivr.net/gh/bmabey/pyLDAvis@3.4.0/pyLDAvis/js/ldavis.v1.0.0.css\">\n",
       "\n",
       "\n",
       "<div id=\"ldavis_el140111555798256284671773\" style=\"background-color:white;\"></div>\n",
       "<script type=\"text/javascript\">\n",
       "\n",
       "var ldavis_el140111555798256284671773_data = {\"mdsDat\": {\"x\": [-0.13786292617675802, -0.09527092473385408, 0.15612822684781047, -0.07566666112052664, 0.15267228518332832], \"y\": [-0.12588330059347053, 0.010742513064688127, -0.09965033154478593, 0.14699906863659465, 0.06779205043697359], \"topics\": [1, 2, 3, 4, 5], \"cluster\": [1, 1, 1, 1, 1], \"Freq\": [26.35127164990448, 23.87969993675803, 21.846911808682563, 15.88663555278427, 12.035481051870649]}, \"tinfo\": {\"Term\": [\"heart\", \"life\", \"away\", \"live\", \"fuck\", \"time\", \"baby\", \"nigga\", \"money\", \"shit\", \"bitch\", \"like\", \"believe\", \"world\", \"lonely\", \"ready\", \"fall\", \"hold\", \"love\", \"night\", \"change\", \"kiss\", \"tonight\", \"dead\", \"party\", \"dream\", \"blue\", \"head\", \"sing\", \"girl\", \"darlin\", \"teardrop\", \"darling\", \"lonesome\", \"tenderly\", \"dearest\", \"raggamuffin\", \"jericho\", \"whoaohohoh\", \"ooma\", \"savoy\", \"nightingale\", \"sweetheart\", \"moonglow\", \"deface\", \"freek\", \"raver\", \"loove\", \"panorama\", \"prelude\", \"bluebird\", \"bally\", \"hummm\", \"stardust\", \"enfold\", \"sunbeam\", \"melancholy\", \"lonely\", \"doodoodoodoo\", \"nearness\", \"heartache\", \"goodbye\", \"heartbreak\", \"goodnight\", \"kiss\", \"love\", \"heart\", \"waltz\", \"tender\", \"hurt\", \"lover\", \"arm\", \"apart\", \"sweetest\", \"romance\", \"sweet\", \"baby\", \"tonight\", \"blue\", \"lovely\", \"babe\", \"hold\", \"summer\", \"somebody\", \"lip\", \"home\", \"miss\", \"away\", \"tear\", \"night\", \"break\", \"memory\", \"dear\", \"wish\", \"leave\", \"fool\", \"feel\", \"walk\", \"stay\", \"know\", \"right\", \"want\", \"long\", \"girl\", \"dream\", \"come\", \"little\", \"gonna\", \"time\", \"tell\", \"like\", \"cause\", \"need\", \"yeah\", \"fall\", \"bambalam\", \"lalala\", \"arrowhead\", \"lardy\", \"boundary\", \"isolation\", \"glamorous\", \"lunacy\", \"apartheid\", \"vacancy\", \"putty\", \"necessity\", \"symbol\", \"shoo\", \"forfeit\", \"spellbind\", \"remake\", \"vive\", \"boog\", \"wooooah\", \"traveler\", \"jiggaboo\", \"wimoweh\", \"metallic\", \"myth\", \"sacco\", \"dobalina\", \"readymade\", \"disorder\", \"territory\", \"imaginary\", \"live\", \"life\", \"conceive\", \"believe\", \"america\", \"oohoohoohooh\", \"alive\", \"slavery\", \"unable\", \"learn\", \"change\", \"search\", \"waste\", \"breathe\", \"colour\", \"tomorrow\", \"world\", \"time\", \"follow\", \"wait\", \"today\", \"reason\", \"fight\", \"survive\", \"simple\", \"guilty\", \"miracle\", \"welcome\", \"lesson\", \"answer\", \"stand\", \"perfect\", \"inside\", \"good\", \"thing\", \"grow\", \"end\", \"remember\", \"open\", \"long\", \"mind\", \"lose\", \"line\", \"dream\", \"look\", \"day\", \"know\", \"think\", \"come\", \"eye\", \"need\", \"want\", \"like\", \"feel\", \"leave\", \"face\", \"cause\", \"yeah\", \"tell\", \"bitch\", \"hoe\", \"nigga\", \"shawty\", \"fuckin\", \"motherfuckin\", \"crib\", \"motherfucking\", \"thang\", \"club\", \"imma\", \"homie\", \"wassup\", \"niggaz\", \"swag\", \"holla\", \"hella\", \"pussy\", \"skrrt\", \"loverman\", \"blah\", \"yall\", \"spendin\", \"jersey\", \"tambourine\", \"stunt\", \"zinga\", \"jailhouse\", \"benz\", \"kush\", \"fuck\", \"shit\", \"party\", \"tryna\", \"money\", \"motherfucker\", \"hater\", \"hood\", \"gucci\", \"hittin\", \"homies\", \"cash\", \"gyal\", \"smokin\", \"dope\", \"pimp\", \"boogie\", \"playin\", \"dough\", \"gettin\", \"bang\", \"weed\", \"doin\", \"lookin\", \"friday\", \"band\", \"smoke\", \"type\", \"somethin\", \"comin\", \"ball\", \"dollar\", \"play\", \"like\", \"yeah\", \"damn\", \"drink\", \"everybody\", \"roll\", \"real\", \"wanna\", \"check\", \"girl\", \"gotta\", \"cause\", \"know\", \"talk\", \"bout\", \"tell\", \"come\", \"want\", \"song\", \"right\", \"good\", \"think\", \"look\", \"time\", \"need\", \"baby\", \"say\", \"tonk\", \"zion\", \"vibration\", \"chant\", \"geronimo\", \"excitation\", \"haile\", \"hallelujah\", \"yiggy\", \"sanctuary\", \"ghoul\", \"gallows\", \"tbird\", \"sodom\", \"breakaway\", \"pout\", \"amour\", \"christmas\", \"dippy\", \"holy\", \"carol\", \"susu\", \"otherness\", \"genetic\", \"nbsp\", \"innamorata\", \"outcast\", \"hobble\", \"shakedown\", \"brimstone\", \"kingdom\", \"reggae\", \"thee\", \"grave\", \"voodoo\", \"brutal\", \"heathen\", \"salvation\", \"savior\", \"praise\", \"sin\", \"santa\", \"sinner\", \"shall\", \"unto\", \"death\", \"dead\", \"breakdown\", \"save\", \"bleed\", \"blood\", \"rebel\", \"thank\", \"sword\", \"lightning\", \"earth\", \"voice\", \"bury\", \"cold\", \"rise\", \"head\", \"lord\", \"soul\", \"power\", \"radio\", \"music\", \"scream\", \"sing\", \"hear\", \"grind\", \"water\", \"fall\", \"child\", \"hand\", \"fear\", \"away\", \"sound\", \"heaven\", \"come\", \"wind\", \"world\", \"devil\", \"feel\", \"burn\", \"hide\", \"turn\", \"stand\", \"eye\", \"know\", \"like\", \"tell\", \"break\", \"leave\", \"puppy\", \"neva\", \"skrt\", \"therapy\", \"maniac\", \"primitive\", \"simmer\", \"poser\", \"sensi\", \"licorice\", \"puppa\", \"terrorist\", \"dutty\", \"hustla\", \"dingaling\", \"diva\", \"remix\", \"sumthin\", \"supersonic\", \"caan\", \"advertise\", \"cuckoo\", \"anti\", \"circuit\", \"whooo\", \"badass\", \"cyaan\", \"ruckus\", \"locomotive\", \"yack\", \"nuff\", \"ghetto\", \"zoom\", \"unnu\", \"ready\", \"equal\", \"ohoh\", \"waan\", \"skull\", \"monkey\", \"damage\", \"riot\", \"sick\", \"dong\", \"pepper\", \"bwoy\", \"haffi\", \"ding\", \"whatcha\", \"steady\", \"pressure\", \"shoot\", \"evil\", \"action\", \"kick\", \"shame\", \"bullet\", \"brain\", \"stick\", \"trigger\", \"youth\", \"talkin\", \"freak\", \"bass\", \"better\", \"jump\", \"hole\", \"bout\", \"hell\", \"gimme\", \"people\", \"human\", \"black\", \"like\", \"woman\", \"cause\", \"beat\", \"stop\", \"yeah\", \"gonna\", \"mind\", \"know\", \"feelin\", \"drop\", \"come\", \"blow\", \"head\", \"sound\", \"right\", \"face\", \"tell\", \"need\", \"want\"], \"Freq\": [18059.0, 15626.0, 16650.0, 12556.0, 6675.0, 26080.0, 13583.0, 5809.0, 5223.0, 4812.0, 4151.0, 29366.0, 6318.0, 10561.0, 4174.0, 2648.0, 9279.0, 9730.0, 4719.0, 13109.0, 6252.0, 4153.0, 5275.0, 3392.0, 2569.0, 7957.0, 5510.0, 6449.0, 6261.0, 7597.0, 533.6919256650556, 333.0255079140463, 1859.177260805526, 634.0414151270488, 141.3508667496778, 85.38698441360445, 79.41216485090648, 72.4477771863976, 54.67304606408489, 53.690053245390914, 44.772692169913036, 39.805881842203796, 341.7475659843568, 38.82780392116369, 39.79456844461733, 38.81986500945311, 38.81844196783923, 37.838955608742644, 36.840919254653635, 35.85084020031818, 114.19761774504579, 33.8438626008706, 30.878197740710966, 29.911768955650693, 31.793176075379726, 28.902411062511476, 28.890528553563488, 4055.0911611461484, 26.932964576446665, 25.952322120878993, 627.4630230244967, 2180.1224949725865, 217.15850395147308, 314.4004307792431, 3808.8265067913576, 4314.936320238012, 15952.150954755523, 165.86061661929458, 461.7854769937098, 3116.9642551133416, 1739.8539924893414, 2307.6802115463406, 1753.0146447915938, 173.56421819925004, 479.3998241454235, 3868.011867120641, 11003.278293891504, 4420.3357858724285, 4599.77069408249, 640.6998628251433, 878.4797859259036, 7428.572723860445, 1275.4181414516167, 2170.1904852051352, 1115.9932683072607, 5683.790762542177, 2475.479842169447, 11481.564032610982, 4024.812123352845, 8671.621073595037, 6614.921703031814, 2035.6774113508122, 1336.6122372106738, 2687.208415772782, 7725.380091845294, 2505.1379412922165, 8836.940343051065, 4117.082908320277, 3975.9336191477414, 14048.799067896152, 6735.414681001862, 6396.366157215723, 4993.355946843142, 4124.766486813052, 4206.376030888561, 7636.349315566035, 3850.713868271237, 4639.815890681854, 7054.343585391224, 4511.448965064094, 6017.472669175357, 4684.113313407144, 4066.3478691714236, 4189.878683472167, 4029.0258975475604, 140.17060616163482, 99.0633051323138, 70.67806882272318, 56.97149284473962, 52.06951110964281, 53.00345358120745, 47.17224068585718, 46.192499909555494, 45.22015910664444, 44.240269488277455, 42.27942283180288, 49.837477620873464, 36.36730667713451, 57.335436073456506, 31.516639395498807, 30.538955302814216, 30.536899793578957, 29.54889083996026, 28.57950317168988, 28.574312971819595, 27.598354624849218, 27.57363134116991, 26.620926187158478, 26.614825264938617, 26.600136634613463, 25.64334450274353, 25.63473193415654, 24.663507076752477, 24.658304722635908, 24.649735055451554, 38.78635362268489, 10991.86086780731, 13597.141624713087, 62.59470862847627, 5323.899569170624, 380.803804661225, 52.21451723088816, 1798.6077315931345, 84.19972197885612, 48.51860034086174, 2191.456086824847, 4834.345052470662, 964.5063244064338, 1289.039816598147, 1276.2769725543312, 222.02631807963758, 1683.989694868208, 6925.278885890772, 15768.700210250263, 1435.5706250535575, 2522.482057080761, 2251.400567291264, 1594.2882428963737, 2610.2722523513085, 572.3901040522782, 612.4000713641334, 241.56443637634976, 233.48768962751154, 470.69636299284423, 368.50299455305463, 715.8038713087003, 3559.05881364247, 561.4193237047078, 2709.5877244373096, 4617.888084638902, 4500.752036312818, 1574.9506604693847, 739.1864355354788, 2189.9305040337886, 1588.9867074387007, 4278.195166719501, 3714.3064923915363, 3031.973965667816, 1666.9372506260443, 3324.866006670839, 3896.863122586866, 2011.1956311484741, 8643.96174085815, 4036.0881826618247, 6600.896982289531, 2795.2876164562967, 3110.3124316339986, 3604.369987980651, 4668.766665002825, 3626.649269632311, 2651.104382855458, 2153.391235415672, 2380.3564348568366, 2338.891428510849, 2298.120018648997, 4150.627482459859, 598.1356436263918, 5790.8961723123475, 240.37105798404403, 852.0259084517706, 184.5634110711184, 198.4513925219965, 166.62286800934592, 253.81660143909417, 831.7825533018311, 161.59634236046978, 282.4263907255853, 127.7598536486054, 161.29069048473966, 106.82922174722472, 165.03072719227617, 86.88408793583847, 648.5548904131269, 80.92081457204951, 78.92233210709954, 77.92719766635793, 77.92204155607982, 76.93100376203503, 74.93872015572252, 74.93074526654937, 72.94648103207301, 70.95417400997017, 69.95504988699497, 161.56979537097976, 73.88081424217023, 6576.536758853079, 4753.239569096098, 2539.493254697297, 1020.1251653617687, 5063.83442377377, 583.94462382019, 325.96389778499974, 522.2137716541024, 155.59049356896318, 134.8909318951591, 200.7334343314805, 616.3836750795127, 423.6814881250701, 278.2802169328855, 512.2622693873845, 231.17473520308502, 313.8019407613027, 568.4202345225697, 214.1046768498711, 1216.0111760185057, 590.929948525904, 477.8060019210748, 1040.5392270797552, 1242.7792899733813, 341.4777106338525, 901.3774633341618, 1600.2609801730125, 423.4224410796175, 749.3462229907068, 1362.2147189414914, 887.4725971673532, 602.5884624962474, 4172.540307024672, 13173.806141639167, 7012.954644079711, 1373.32281673314, 1439.1624669827588, 1607.2974086423515, 1747.6568727045628, 2181.131904470511, 3337.01895262288, 1090.053739082047, 3005.9478751406987, 2053.696570800583, 4220.55487240993, 6538.083517217287, 1827.318477931603, 1533.010747518028, 2898.972611276997, 3951.935256192014, 2918.0919328541618, 1941.2276287360096, 2456.8230067428885, 2041.656397488235, 2106.856597814769, 2023.6613320128702, 2232.120695938502, 1878.4543424838614, 1922.050102515508, 1681.1112191096822, 179.28981805163977, 171.30173694039226, 151.13854149821498, 182.7996751717628, 97.25453463354775, 61.23702648983998, 58.23339811574636, 299.03994992919934, 53.2256255217462, 57.129381623779004, 48.22788240137609, 47.22405964042364, 44.225645561571106, 44.22044508131547, 43.22204941798859, 44.17915916217072, 41.21406968834301, 658.2088093576596, 39.2187960274305, 635.4736691798265, 38.177322307353556, 35.21799432072949, 33.21766249557306, 33.21379276938932, 32.21856793810405, 32.21694400165151, 32.20972745840797, 32.20894257877337, 32.20666198274373, 35.1275643727496, 333.01390007915285, 324.5850209300516, 276.0837402633535, 674.1730084080857, 117.52436976575824, 63.82883311522892, 87.19342924508985, 153.83244972607275, 188.83397217820362, 439.945265346597, 277.13325082125493, 209.65789275252834, 227.37091324436733, 564.1112876663166, 153.03961402359374, 1537.7380691157098, 2601.124037903729, 102.05355605104829, 2103.482092300824, 883.9801152314028, 1919.9663517737436, 256.40320073622553, 1248.5867349504533, 188.6865972708972, 220.47248014733955, 815.0284093239636, 1114.64864472721, 541.0729008394857, 2225.59691007508, 881.7427041409768, 3293.1060752145772, 1583.2710251716844, 2243.963702795184, 815.5989070896209, 773.4232825792901, 1624.1229556024073, 929.4581764882439, 2745.712702964841, 3605.052288301884, 1221.4121579351756, 888.1809449950157, 3170.54768464617, 1062.6513512435943, 2721.640301140302, 1259.132402005715, 4320.250942404669, 1340.6624297764413, 1025.302348058172, 3519.4449504181384, 1031.408279570059, 2129.231214666819, 976.4034619915716, 2148.86985916593, 1191.9781345506553, 1128.7869936914033, 1295.7562392801944, 1232.471472731666, 1254.8504611372884, 1508.0529212212066, 1434.5979706975793, 1197.8670702884647, 1176.0861966734028, 1142.76973035768, 86.46322623957481, 109.73680915268973, 79.59886436391736, 77.63761750664808, 74.63292834535548, 60.964558631643754, 57.053814747521415, 53.133699559638046, 53.13184015440214, 52.15035916179149, 50.19431622288747, 50.19007640917797, 80.01648564001752, 46.27123122405266, 46.269800645265235, 47.228471935626324, 94.40259684103765, 44.30724384127696, 41.36670195082413, 41.36634176748811, 39.406967724451015, 39.40462620883333, 36.46755540032979, 46.06003499658193, 35.484689793823996, 33.52212627453209, 35.41622127848665, 32.539937110538425, 35.36244598214677, 29.6023830197252, 213.4437438458187, 490.3980718938006, 104.82411990390497, 68.73636077719017, 2298.9787881493226, 158.2476268204336, 494.34362117693684, 212.24006299710297, 141.76008279863896, 313.3612695857771, 219.42809509026327, 207.40579689397234, 1034.6645979333484, 108.46271307221048, 97.96991474963548, 121.7874905620107, 170.9401419344233, 120.54874676249904, 140.68958030285404, 335.7962487678544, 314.1653845610636, 1615.8145083004267, 785.3646973079539, 284.9869640008273, 958.7136699196527, 787.9979807479466, 380.9163024841919, 762.3256666346736, 940.876425791202, 233.29206384453502, 440.5233505544431, 794.4708112376585, 341.89791104576017, 302.7047100211734, 2455.912943827366, 527.3342554168672, 569.5240978427262, 1169.4877150303098, 1086.9061892297475, 381.05555165109513, 1533.3685804893257, 467.2989739766799, 1349.9607420723144, 4071.853598964853, 1150.4007278601337, 2338.3654588178542, 893.5310216139212, 1162.6990407219146, 2265.935809173668, 1633.9700082766628, 1421.0201467703637, 2399.1009176378934, 555.7418910292347, 626.664303773944, 1652.3363777858578, 686.8409538336899, 937.31510207172, 729.136042556419, 1086.4629031535342, 855.5766668269242, 921.625856798053, 885.1965183812758, 913.9893926544005], \"Total\": [18059.0, 15626.0, 16650.0, 12556.0, 6675.0, 26080.0, 13583.0, 5809.0, 5223.0, 4812.0, 4151.0, 29366.0, 6318.0, 10561.0, 4174.0, 2648.0, 9279.0, 9730.0, 4719.0, 13109.0, 6252.0, 4153.0, 5275.0, 3392.0, 2569.0, 7957.0, 5510.0, 6449.0, 6261.0, 7597.0, 534.915754218397, 333.8282423649745, 1867.17873301187, 638.8845613509175, 142.63890346224798, 86.1803067256568, 80.23667423576136, 73.30263992115351, 55.47195949098171, 54.481373043010166, 45.566055392731464, 40.61313469381044, 348.73925792291675, 39.62247213882613, 40.61308193293807, 39.622500146229186, 39.622559442961894, 38.63190376213244, 37.641316877613065, 36.65067349960483, 116.86897485389703, 34.669688218618255, 31.697514530279083, 30.707152853840437, 32.6872477132535, 29.716700731986258, 29.716257838297135, 4174.675964924407, 27.73533890036394, 26.744803440643405, 646.6375945006732, 2288.3474726755767, 223.89109152743546, 325.82718947505174, 4153.245831659893, 4719.893127525098, 18059.052629121634, 173.41986372692043, 493.4525195538542, 3505.4196343603517, 1974.3584029540075, 2650.5090418295836, 2008.1908371234672, 185.2169116079673, 527.920059973221, 4560.537529883966, 13583.843751019574, 5275.723940705588, 5510.100201277094, 712.6973729475748, 997.6670915985734, 9730.787155931555, 1503.6085851284824, 2711.4417258458243, 1327.1036919308829, 7663.939534035028, 3137.788200459955, 16650.120655182738, 5348.360454389672, 13109.339746376872, 9919.756026787767, 2620.9785838130256, 1628.9259565258471, 3651.1800788633823, 12654.396991747466, 3413.5909008805675, 16618.503162398352, 6676.0139114422445, 6505.506023298013, 33137.99816483069, 12838.569425859376, 14137.548798370288, 10233.549613882027, 7597.049583611349, 7957.6713409916865, 23360.962882251577, 7168.828682743502, 10194.131238869131, 26080.369664835176, 11828.034522076607, 29366.49704547978, 14109.27660053606, 10295.490498375919, 16628.930206320536, 9279.20294716172, 140.9768035306894, 99.86166751968494, 71.47257571231202, 57.76753445213973, 52.872995900535024, 53.85293204028605, 47.978378175605656, 46.99943360152529, 46.020396388453534, 45.04152334802175, 43.083626471170014, 50.921197290184146, 37.210809489948645, 58.75749801586428, 32.31534931561252, 31.33638482402273, 31.336377040240343, 30.357641773962538, 29.378550397752182, 29.378581055309727, 28.399652413105354, 28.39999243484727, 27.420711725353435, 27.420817112525913, 27.421038558816473, 26.44174795235769, 26.44170005624555, 25.462797446514454, 25.462853259554755, 25.462970405813852, 40.15923514120323, 12556.27415165248, 15626.329681906063, 65.64625419937055, 6318.80618586456, 423.4938497255604, 54.85235894864297, 2135.639676687481, 90.1097649810315, 50.943324709122976, 2697.1251244415603, 6252.7840934136075, 1208.8556772338889, 1650.4609176090453, 1633.93637516123, 257.0523910900536, 2286.039137335126, 10561.651358118947, 26080.369664835176, 1998.819693971148, 3703.9979396816484, 3279.0753465867415, 2247.4622658306193, 3877.05635186931, 746.5825277224728, 810.6169633333262, 290.36018227739316, 279.60527001136836, 622.137312061974, 474.6985455004966, 1022.9021286385396, 6333.1369069450575, 791.4334706493496, 5061.973994192988, 9883.255246394256, 9782.34128037476, 2782.1912455753204, 1115.205651572686, 4275.111717292932, 2879.772562268593, 10233.549613882027, 8631.271308344934, 6706.861656631226, 3126.067585389571, 7957.6713409916865, 9936.583436328641, 4069.8895202666736, 33137.99816483069, 11244.225347084519, 23360.962882251577, 7283.57761754493, 10295.490498375919, 14137.548798370288, 29366.49704547978, 16618.503162398352, 12654.396991747466, 5483.60353302834, 14109.27660053606, 16628.930206320536, 11828.034522076607, 4151.725303704285, 598.9351498808311, 5809.735302503595, 241.16430115580243, 855.0190871422226, 185.35603217703505, 199.3070659668167, 167.41762908830762, 255.10815108770888, 836.0628473862145, 162.43423607087055, 284.0041324172422, 128.55118900211664, 162.42905398211738, 107.6230488770349, 166.4113575746449, 87.69130439961539, 654.6558223193038, 81.71209611372527, 79.71893568446926, 78.72234536357423, 78.72222826288157, 77.725746811591, 75.73262013672587, 75.73257927014801, 73.73945828501161, 71.74635229780186, 70.74977481976565, 163.41398168306918, 74.73503417771431, 6675.456178360796, 4812.490912567713, 2569.815332313731, 1032.2872238910134, 5223.553565774651, 593.8027327426429, 329.8103688186904, 532.9958607841503, 157.4345231940074, 136.5095950784701, 204.24603955879877, 635.5033517555942, 435.31751654082916, 284.91712473538524, 535.7754574538778, 236.11294317669564, 323.729550547205, 597.6799887399876, 219.16903459589085, 1392.6470358480065, 651.3694946307708, 518.8509825974504, 1200.4681107331319, 1485.1473703168067, 362.43731652780673, 1059.1667631518058, 2047.909019709541, 460.8373629899497, 888.485835008607, 1770.68207020133, 1086.1355272125181, 694.169197032055, 6921.345773991912, 29366.49704547978, 16628.930206320536, 2017.2212262088192, 2148.9842714951355, 2489.706137956222, 2880.003597560268, 3979.432362228308, 7675.323350240976, 1534.1565195704864, 7597.049583611349, 4324.586397371285, 14109.27660053606, 33137.99816483069, 3813.793834512273, 2843.8787905486092, 11828.034522076607, 23360.962882251577, 14137.548798370288, 6021.5057674730915, 12838.569425859376, 9883.255246394256, 11244.225347084519, 9936.583436328641, 26080.369664835176, 10295.490498375919, 13583.843751019574, 7889.672339887272, 180.101379922092, 172.0964270287059, 152.0808730669414, 184.09331707417718, 98.05007486169454, 62.0275963567102, 59.02568680477665, 303.1648991367169, 54.02256167752914, 58.022859391657406, 49.01943539031252, 48.018773852048334, 45.01696624712167, 45.016859826806616, 44.016270566657674, 45.01606501284734, 42.01495918842262, 671.3202704463246, 40.01378404662126, 649.29684791371, 39.01272905521809, 36.011283953044504, 34.01005496331783, 34.009946646952784, 33.00942918432038, 33.009427774414114, 33.00929425333826, 33.00926779762779, 33.009310458941584, 36.009429691373136, 344.9578727466287, 336.1518033147565, 286.0052661482326, 719.5772185257638, 123.01358804317732, 66.01776871318735, 91.03296757991811, 162.90729134141148, 202.87761290733988, 489.3788308445616, 303.6874469611357, 228.05560807308458, 249.68389329294698, 650.7610317438362, 165.82704618672415, 1882.7071310303218, 3392.9703368126948, 108.9761485646626, 2823.099291959774, 1133.5901019299856, 2661.2551241059246, 297.712271358581, 1710.2736909079943, 214.6313148953679, 255.4775619759581, 1130.8671245882654, 1631.8102948864712, 719.9198088732728, 3736.5797011114855, 1304.6916016036816, 6449.519400716392, 2700.8284164775255, 4236.331651143364, 1218.1373182757911, 1154.8296678341787, 2964.319371725718, 1499.7885688383371, 6261.6264374534185, 8991.067163060541, 2268.1642954722015, 1468.3658659295716, 9279.20294716172, 1935.9147739042453, 7726.889833656397, 2519.1148967021045, 16650.120655182738, 2993.565709216821, 1900.5057578219282, 23360.962882251577, 2021.892979746534, 10561.651358118947, 1832.425588889852, 16618.503162398352, 3289.045431469973, 3233.221297616518, 6411.761992587381, 6333.1369069450575, 7283.57761754493, 33137.99816483069, 29366.49704547978, 11828.034522076607, 9919.756026787767, 12654.396991747466, 87.26232240274747, 110.79553531160079, 80.39977912636692, 78.4389888621821, 75.49895340400461, 61.77276114163395, 57.85110350023883, 53.92962190960487, 53.92960433849753, 52.94928966992418, 50.9884660673732, 50.98853975935268, 81.38944185510034, 47.06700233273399, 47.06703052814202, 48.04775727974614, 96.10033877452481, 45.106300975230205, 42.16515912469586, 42.16517203784632, 40.20440714564845, 40.204424796397234, 37.26325998696804, 47.07029999027945, 36.28291085611477, 34.322208230612844, 36.283621466926085, 33.34186038066311, 36.285450864501094, 30.400695638913135, 219.7030840836864, 512.1038924008404, 107.89611048062487, 70.59446561834842, 2648.9413698032977, 169.73838150460872, 556.2804069159715, 231.68031379290738, 152.98962934771873, 356.56116653588316, 245.2884133636491, 231.7263420993336, 1294.5929173897305, 117.74156231092587, 106.00712330377888, 136.50735668565258, 200.4733934383603, 135.4487792257789, 163.06005473238704, 440.59506012554215, 410.777408346224, 2704.5393766719408, 1179.539000356339, 368.89612578752616, 1540.7281661977095, 1224.7751361790215, 520.8977041143763, 1186.448287655696, 1570.5023754792974, 303.9469334491661, 679.4208329341159, 1436.8188060825828, 504.56249150135153, 437.47305110346474, 6690.234614815316, 920.8807319501586, 1041.1653446605567, 2843.8787905486092, 2657.4393609148847, 609.5626665710143, 4746.9764487188595, 839.0287239737178, 4333.780106234745, 29366.49704547978, 3847.116044447831, 14109.27660053606, 2781.7571603411307, 4545.591307177476, 16628.930206320536, 10194.131238869131, 8631.271308344934, 33137.99816483069, 1331.5741920558937, 1820.463796663474, 23360.962882251577, 2430.7270103666597, 6449.519400716392, 2993.565709216821, 12838.569425859376, 5483.60353302834, 11828.034522076607, 10295.490498375919, 14137.548798370288], \"Category\": [\"Default\", \"Default\", \"Default\", \"Default\", \"Default\", \"Default\", \"Default\", \"Default\", \"Default\", \"Default\", \"Default\", \"Default\", \"Default\", \"Default\", \"Default\", \"Default\", \"Default\", \"Default\", \"Default\", \"Default\", \"Default\", \"Default\", \"Default\", \"Default\", \"Default\", \"Default\", \"Default\", \"Default\", \"Default\", \"Default\", \"Topic1\", \"Topic1\", \"Topic1\", \"Topic1\", \"Topic1\", \"Topic1\", \"Topic1\", \"Topic1\", \"Topic1\", \"Topic1\", \"Topic1\", \"Topic1\", \"Topic1\", \"Topic1\", \"Topic1\", \"Topic1\", \"Topic1\", \"Topic1\", \"Topic1\", \"Topic1\", \"Topic1\", \"Topic1\", \"Topic1\", \"Topic1\", \"Topic1\", \"Topic1\", \"Topic1\", \"Topic1\", \"Topic1\", \"Topic1\", \"Topic1\", \"Topic1\", \"Topic1\", \"Topic1\", \"Topic1\", \"Topic1\", \"Topic1\", \"Topic1\", \"Topic1\", \"Topic1\", \"Topic1\", \"Topic1\", \"Topic1\", \"Topic1\", \"Topic1\", \"Topic1\", \"Topic1\", \"Topic1\", \"Topic1\", \"Topic1\", \"Topic1\", \"Topic1\", \"Topic1\", \"Topic1\", \"Topic1\", \"Topic1\", \"Topic1\", \"Topic1\", \"Topic1\", \"Topic1\", \"Topic1\", \"Topic1\", \"Topic1\", \"Topic1\", \"Topic1\", \"Topic1\", \"Topic1\", \"Topic1\", \"Topic1\", \"Topic1\", \"Topic1\", \"Topic1\", \"Topic1\", \"Topic1\", \"Topic1\", \"Topic1\", \"Topic1\", \"Topic1\", \"Topic1\", \"Topic1\", \"Topic1\", \"Topic1\", \"Topic1\", \"Topic1\", \"Topic1\", \"Topic2\", \"Topic2\", \"Topic2\", \"Topic2\", \"Topic2\", \"Topic2\", \"Topic2\", \"Topic2\", \"Topic2\", \"Topic2\", \"Topic2\", \"Topic2\", \"Topic2\", \"Topic2\", \"Topic2\", \"Topic2\", \"Topic2\", \"Topic2\", \"Topic2\", \"Topic2\", \"Topic2\", \"Topic2\", \"Topic2\", \"Topic2\", \"Topic2\", \"Topic2\", \"Topic2\", \"Topic2\", \"Topic2\", \"Topic2\", \"Topic2\", \"Topic2\", \"Topic2\", \"Topic2\", \"Topic2\", \"Topic2\", \"Topic2\", \"Topic2\", \"Topic2\", \"Topic2\", \"Topic2\", \"Topic2\", \"Topic2\", \"Topic2\", \"Topic2\", \"Topic2\", \"Topic2\", \"Topic2\", \"Topic2\", \"Topic2\", \"Topic2\", \"Topic2\", \"Topic2\", \"Topic2\", \"Topic2\", \"Topic2\", \"Topic2\", \"Topic2\", \"Topic2\", \"Topic2\", \"Topic2\", \"Topic2\", \"Topic2\", \"Topic2\", \"Topic2\", \"Topic2\", \"Topic2\", \"Topic2\", \"Topic2\", \"Topic2\", \"Topic2\", \"Topic2\", \"Topic2\", \"Topic2\", \"Topic2\", \"Topic2\", \"Topic2\", \"Topic2\", \"Topic2\", \"Topic2\", \"Topic2\", \"Topic2\", \"Topic2\", \"Topic2\", \"Topic2\", \"Topic2\", \"Topic2\", \"Topic2\", \"Topic2\", \"Topic2\", \"Topic3\", \"Topic3\", \"Topic3\", \"Topic3\", \"Topic3\", \"Topic3\", \"Topic3\", \"Topic3\", \"Topic3\", \"Topic3\", \"Topic3\", \"Topic3\", \"Topic3\", \"Topic3\", \"Topic3\", \"Topic3\", \"Topic3\", \"Topic3\", \"Topic3\", \"Topic3\", \"Topic3\", \"Topic3\", \"Topic3\", \"Topic3\", \"Topic3\", \"Topic3\", \"Topic3\", \"Topic3\", \"Topic3\", \"Topic3\", \"Topic3\", \"Topic3\", \"Topic3\", \"Topic3\", \"Topic3\", \"Topic3\", \"Topic3\", \"Topic3\", \"Topic3\", \"Topic3\", \"Topic3\", \"Topic3\", \"Topic3\", \"Topic3\", \"Topic3\", \"Topic3\", \"Topic3\", \"Topic3\", \"Topic3\", \"Topic3\", \"Topic3\", \"Topic3\", \"Topic3\", \"Topic3\", \"Topic3\", \"Topic3\", \"Topic3\", \"Topic3\", \"Topic3\", \"Topic3\", \"Topic3\", \"Topic3\", \"Topic3\", \"Topic3\", \"Topic3\", \"Topic3\", \"Topic3\", \"Topic3\", \"Topic3\", \"Topic3\", \"Topic3\", \"Topic3\", \"Topic3\", \"Topic3\", \"Topic3\", \"Topic3\", \"Topic3\", \"Topic3\", \"Topic3\", \"Topic3\", \"Topic3\", \"Topic3\", \"Topic3\", \"Topic3\", \"Topic3\", \"Topic3\", \"Topic3\", \"Topic3\", \"Topic3\", \"Topic3\", \"Topic4\", \"Topic4\", \"Topic4\", \"Topic4\", \"Topic4\", \"Topic4\", \"Topic4\", \"Topic4\", \"Topic4\", \"Topic4\", \"Topic4\", \"Topic4\", \"Topic4\", \"Topic4\", \"Topic4\", \"Topic4\", \"Topic4\", \"Topic4\", \"Topic4\", \"Topic4\", \"Topic4\", \"Topic4\", \"Topic4\", \"Topic4\", \"Topic4\", \"Topic4\", \"Topic4\", \"Topic4\", \"Topic4\", \"Topic4\", \"Topic4\", \"Topic4\", \"Topic4\", \"Topic4\", \"Topic4\", \"Topic4\", \"Topic4\", \"Topic4\", \"Topic4\", \"Topic4\", \"Topic4\", \"Topic4\", \"Topic4\", \"Topic4\", \"Topic4\", \"Topic4\", \"Topic4\", \"Topic4\", \"Topic4\", \"Topic4\", \"Topic4\", \"Topic4\", \"Topic4\", \"Topic4\", \"Topic4\", \"Topic4\", \"Topic4\", \"Topic4\", \"Topic4\", \"Topic4\", \"Topic4\", \"Topic4\", \"Topic4\", \"Topic4\", \"Topic4\", \"Topic4\", \"Topic4\", \"Topic4\", \"Topic4\", \"Topic4\", \"Topic4\", \"Topic4\", \"Topic4\", \"Topic4\", \"Topic4\", \"Topic4\", \"Topic4\", \"Topic4\", \"Topic4\", \"Topic4\", \"Topic4\", \"Topic4\", \"Topic4\", \"Topic4\", \"Topic4\", \"Topic4\", \"Topic4\", \"Topic4\", \"Topic4\", \"Topic4\", \"Topic4\", \"Topic4\", \"Topic4\", \"Topic5\", \"Topic5\", \"Topic5\", \"Topic5\", \"Topic5\", \"Topic5\", \"Topic5\", \"Topic5\", \"Topic5\", \"Topic5\", \"Topic5\", \"Topic5\", \"Topic5\", \"Topic5\", \"Topic5\", \"Topic5\", \"Topic5\", \"Topic5\", \"Topic5\", \"Topic5\", \"Topic5\", \"Topic5\", \"Topic5\", \"Topic5\", \"Topic5\", \"Topic5\", \"Topic5\", \"Topic5\", \"Topic5\", \"Topic5\", \"Topic5\", \"Topic5\", \"Topic5\", \"Topic5\", \"Topic5\", \"Topic5\", \"Topic5\", \"Topic5\", \"Topic5\", \"Topic5\", \"Topic5\", \"Topic5\", \"Topic5\", \"Topic5\", \"Topic5\", \"Topic5\", \"Topic5\", \"Topic5\", \"Topic5\", \"Topic5\", \"Topic5\", \"Topic5\", \"Topic5\", \"Topic5\", \"Topic5\", \"Topic5\", \"Topic5\", \"Topic5\", \"Topic5\", \"Topic5\", \"Topic5\", \"Topic5\", \"Topic5\", \"Topic5\", \"Topic5\", \"Topic5\", \"Topic5\", \"Topic5\", \"Topic5\", \"Topic5\", \"Topic5\", \"Topic5\", \"Topic5\", \"Topic5\", \"Topic5\", \"Topic5\", \"Topic5\", \"Topic5\", \"Topic5\", \"Topic5\", \"Topic5\", \"Topic5\", \"Topic5\", \"Topic5\", \"Topic5\", \"Topic5\", \"Topic5\", \"Topic5\", \"Topic5\", \"Topic5\", \"Topic5\", \"Topic5\", \"Topic5\"], \"logprob\": [30.0, 29.0, 28.0, 27.0, 26.0, 25.0, 24.0, 23.0, 22.0, 21.0, 20.0, 19.0, 18.0, 17.0, 16.0, 15.0, 14.0, 13.0, 12.0, 11.0, 10.0, 9.0, 8.0, 7.0, 6.0, 5.0, 4.0, 3.0, 2.0, 1.0, -6.8828, -7.3544, -5.6347, -6.7105, -8.2114, -8.7154, -8.788, -8.8797, -9.1612, -9.1794, -9.361, -9.4786, -7.3285, -9.5035, -9.4789, -9.5037, -9.5037, -9.5293, -9.556, -9.5832, -8.4247, -9.6408, -9.7326, -9.7643, -9.7034, -9.7987, -9.7991, -4.8549, -9.8693, -9.9063, -6.7209, -5.4755, -7.782, -7.4119, -4.9175, -4.7928, -3.4853, -8.0515, -7.0275, -5.118, -5.701, -5.4186, -5.6935, -8.0061, -6.9901, -4.9021, -3.8567, -4.7686, -4.7288, -6.7, -6.3844, -4.2495, -6.0116, -5.48, -6.1451, -4.5172, -5.3484, -3.8141, -4.8624, -4.0948, -4.3655, -5.544, -5.9647, -5.2663, -4.2103, -5.3365, -4.0759, -4.8397, -4.8746, -3.6123, -4.3475, -4.3991, -4.6467, -4.8378, -4.8182, -4.2219, -4.9066, -4.7202, -4.3012, -4.7482, -4.4602, -4.7107, -4.8521, -4.8222, -4.8613, -8.1213, -8.4684, -8.806, -9.0216, -9.1115, -9.0938, -9.2103, -9.2313, -9.2526, -9.2745, -9.3198, -9.1553, -9.4704, -9.0152, -9.6136, -9.6451, -9.6452, -9.6781, -9.7114, -9.7116, -9.7464, -9.7473, -9.7824, -9.7826, -9.7832, -9.8198, -9.8202, -9.8588, -9.859, -9.8593, -9.406, -3.7592, -3.5465, -8.9274, -4.4842, -7.1218, -9.1088, -5.5693, -8.6309, -9.1822, -5.3718, -4.5806, -6.1925, -5.9025, -5.9124, -7.6613, -5.6352, -4.2212, -3.3983, -5.7948, -5.2311, -5.3448, -5.6899, -5.1969, -6.7143, -6.6467, -7.577, -7.611, -6.9099, -7.1547, -6.4907, -4.8869, -6.7336, -5.1596, -4.6264, -4.6521, -5.7021, -6.4586, -5.3725, -5.6933, -4.7028, -4.8442, -5.0471, -5.6454, -4.9549, -4.7962, -5.4576, -3.9995, -4.7611, -4.2692, -5.1284, -5.0216, -4.8742, -4.6155, -4.868, -5.1814, -5.3893, -5.2891, -5.3067, -5.3243, -4.6441, -6.5813, -4.3111, -7.493, -6.2275, -7.7572, -7.6846, -7.8594, -7.4385, -6.2516, -7.89, -7.3317, -8.125, -7.8919, -8.3039, -7.869, -8.5106, -6.5004, -8.5817, -8.6067, -8.6194, -8.6194, -8.6322, -8.6585, -8.6586, -8.6854, -8.7131, -8.7273, -7.8902, -8.6727, -4.1839, -4.5086, -5.1354, -6.0475, -4.4453, -6.6053, -7.1884, -6.7171, -7.9279, -8.0707, -7.6732, -6.5513, -6.9262, -7.3465, -6.7363, -7.532, -7.2264, -6.6323, -7.6087, -5.8718, -6.5934, -6.8059, -6.0277, -5.85, -7.1419, -6.1712, -5.5972, -6.9268, -6.3559, -5.7583, -6.1868, -6.5739, -4.6389, -3.4892, -4.1196, -5.7502, -5.7033, -5.5928, -5.5091, -5.2875, -4.8623, -5.9812, -4.9668, -5.3477, -4.6274, -4.1897, -5.4645, -5.6402, -5.003, -4.6932, -4.9965, -5.4041, -5.1685, -5.3536, -5.3222, -5.3625, -5.2644, -5.4369, -5.414, -5.5479, -7.4676, -7.5131, -7.6384, -7.4482, -8.0792, -8.5418, -8.5921, -6.956, -8.682, -8.6112, -8.7806, -8.8017, -8.8673, -8.8674, -8.8902, -8.8683, -8.9378, -6.167, -8.9874, -6.2022, -9.0143, -9.095, -9.1535, -9.1536, -9.184, -9.1841, -9.1843, -9.1843, -9.1844, -9.0976, -6.8484, -6.874, -7.0359, -6.1431, -7.8899, -8.5004, -8.1884, -7.6207, -7.4157, -6.5699, -7.0321, -7.3111, -7.23, -6.3213, -7.6259, -5.3185, -4.7929, -8.0311, -5.0052, -5.8721, -5.0965, -7.1098, -5.5268, -7.4165, -7.2608, -5.9533, -5.6403, -6.363, -4.9488, -5.8747, -4.557, -5.2893, -4.9406, -5.9526, -6.0057, -5.2638, -5.822, -4.7388, -4.4665, -5.5488, -5.8674, -4.5949, -5.688, -4.7476, -5.5184, -4.2855, -5.4556, -5.7238, -4.4905, -5.7179, -4.993, -5.7727, -4.9839, -5.5732, -5.6277, -5.4897, -5.5398, -5.5218, -5.338, -5.3879, -5.5683, -5.5866, -5.6154, -7.9192, -7.6809, -8.0019, -8.0269, -8.0664, -8.2687, -8.3349, -8.4061, -8.4062, -8.4248, -8.463, -8.4631, -7.9967, -8.5444, -8.5445, -8.5239, -7.8314, -8.5878, -8.6565, -8.6565, -8.705, -8.7051, -8.7825, -8.549, -8.8098, -8.8667, -8.8118, -8.8965, -8.8133, -8.9911, -7.0156, -6.1837, -7.7267, -8.1487, -4.6387, -7.3148, -6.1757, -7.0212, -7.4248, -6.6316, -6.9879, -7.0443, -5.4371, -7.6925, -7.7943, -7.5767, -7.2376, -7.5869, -7.4324, -6.5624, -6.629, -4.9914, -5.7128, -6.7265, -5.5134, -5.7094, -6.4364, -5.7426, -5.5321, -6.9267, -6.291, -5.7013, -6.5444, -6.6662, -4.5727, -6.1111, -6.0341, -5.3146, -5.3879, -6.436, -5.0437, -6.232, -5.1711, -4.0671, -5.3311, -4.6217, -5.5838, -5.3204, -4.6532, -4.9802, -5.1198, -4.5961, -6.0586, -5.9385, -4.969, -5.8468, -5.5359, -5.7871, -5.3883, -5.6272, -5.5528, -5.5931, -5.5611], \"loglift\": [30.0, 29.0, 28.0, 27.0, 26.0, 25.0, 24.0, 23.0, 22.0, 21.0, 20.0, 19.0, 18.0, 17.0, 16.0, 15.0, 14.0, 13.0, 12.0, 11.0, 10.0, 9.0, 8.0, 7.0, 6.0, 5.0, 4.0, 3.0, 2.0, 1.0, 1.3314, 1.3312, 1.3294, 1.326, 1.3246, 1.3244, 1.3233, 1.3219, 1.3191, 1.319, 1.3161, 1.3136, 1.3134, 1.3134, 1.3133, 1.3132, 1.3132, 1.3129, 1.3122, 1.3116, 1.3105, 1.3095, 1.3075, 1.3074, 1.3059, 1.3059, 1.3055, 1.3046, 1.3043, 1.3036, 1.3036, 1.2852, 1.3031, 1.298, 1.2471, 1.244, 1.2096, 1.2891, 1.2673, 1.2162, 1.2072, 1.1951, 1.1978, 1.2687, 1.2372, 1.169, 1.123, 1.1568, 1.1531, 1.2272, 1.2064, 1.0637, 1.1691, 1.111, 1.1604, 1.0347, 1.0966, 0.962, 1.0493, 0.9204, 0.9285, 1.0809, 1.1359, 1.0271, 0.8402, 1.0242, 0.7021, 0.8503, 0.8413, 0.4755, 0.6886, 0.5405, 0.6161, 0.7229, 0.6961, 0.2155, 0.7122, 0.5465, 0.0261, 0.3698, -0.2515, 0.231, 0.4047, -0.0448, 0.4994, 1.4264, 1.4241, 1.421, 1.4183, 1.4168, 1.4162, 1.4152, 1.4148, 1.4146, 1.4142, 1.4133, 1.4106, 1.4092, 1.4076, 1.4071, 1.4064, 1.4063, 1.4051, 1.4046, 1.4044, 1.4035, 1.4026, 1.4025, 1.4023, 1.4017, 1.4015, 1.4011, 1.4002, 1.4, 1.3997, 1.3974, 1.2991, 1.293, 1.3845, 1.2608, 1.3259, 1.3829, 1.2604, 1.3643, 1.3834, 1.2245, 1.1749, 1.2063, 1.185, 1.1851, 1.2857, 1.1265, 1.0101, 0.929, 1.1011, 1.048, 1.0561, 1.0888, 1.0365, 1.1665, 1.1517, 1.2482, 1.2519, 1.1532, 1.1789, 1.0751, 0.8558, 1.0888, 0.8072, 0.6712, 0.6558, 0.8631, 1.0209, 0.7632, 0.8375, 0.56, 0.5889, 0.6382, 0.8034, 0.5594, 0.4961, 0.7273, 0.0883, 0.4076, 0.1683, 0.4745, 0.2352, 0.0655, -0.4068, -0.0901, -0.1309, 0.4974, -0.3474, -0.5293, -0.2062, 1.5208, 1.5198, 1.5179, 1.5178, 1.5176, 1.5168, 1.5168, 1.5164, 1.516, 1.516, 1.5159, 1.5155, 1.5149, 1.5141, 1.5137, 1.5128, 1.5119, 1.5117, 1.5114, 1.5111, 1.511, 1.5109, 1.5108, 1.5106, 1.5105, 1.5103, 1.51, 1.5098, 1.5098, 1.5096, 1.5062, 1.5087, 1.5092, 1.5093, 1.4901, 1.5044, 1.5094, 1.5007, 1.5093, 1.5092, 1.5038, 1.4906, 1.494, 1.4975, 1.4762, 1.5, 1.49, 1.4709, 1.4977, 1.3855, 1.4237, 1.4387, 1.3781, 1.3429, 1.4615, 1.3598, 1.2745, 1.4364, 1.3508, 1.2589, 1.3191, 1.3796, 1.015, 0.7195, 0.6577, 1.1366, 1.1202, 1.0835, 1.0216, 0.9198, 0.6882, 1.1794, 0.5939, 0.7764, 0.3142, -0.1019, 0.7853, 0.9032, 0.115, -0.2558, -0.0568, 0.3891, -0.1325, -0.056, -0.1535, -0.0702, -0.9371, -0.1801, -0.4344, -0.025, 1.8352, 1.8351, 1.8335, 1.8326, 1.8315, 1.8269, 1.8262, 1.826, 1.8248, 1.8242, 1.8234, 1.823, 1.822, 1.8218, 1.8215, 1.8209, 1.8204, 1.82, 1.8196, 1.8182, 1.818, 1.8174, 1.8161, 1.816, 1.8154, 1.8154, 1.8152, 1.8151, 1.8151, 1.8149, 1.8045, 1.8047, 1.8044, 1.7745, 1.794, 1.806, 1.7966, 1.7824, 1.768, 1.7332, 1.7482, 1.7556, 1.7461, 1.6968, 1.7594, 1.6373, 1.5739, 1.7741, 1.5455, 1.591, 1.5132, 1.6903, 1.5251, 1.7109, 1.6923, 1.5122, 1.4585, 1.5541, 1.3215, 1.4479, 1.1675, 1.3056, 1.2042, 1.4385, 1.4388, 1.238, 1.3612, 1.0153, 0.9258, 1.2207, 1.337, 0.7658, 1.2399, 0.7962, 1.1462, 0.4906, 1.0364, 1.2226, -0.0531, 1.1666, 0.2382, 1.2102, -0.2059, 0.8247, 0.7874, 0.2407, 0.2029, 0.0811, -1.2502, -1.1793, -0.4502, -0.2926, -0.5649, 2.1081, 2.1077, 2.1073, 2.107, 2.1058, 2.1041, 2.1034, 2.1024, 2.1024, 2.1021, 2.1016, 2.1015, 2.1003, 2.1003, 2.1002, 2.1001, 2.0995, 2.0994, 2.0982, 2.0982, 2.0973, 2.0972, 2.0957, 2.0956, 2.0951, 2.0937, 2.0931, 2.093, 2.0915, 2.0907, 2.0884, 2.074, 2.0884, 2.0906, 1.9756, 2.0472, 1.9993, 2.0297, 2.0411, 1.9882, 2.0059, 2.0064, 1.8932, 2.0352, 2.0385, 2.0032, 1.9579, 2.0008, 1.9697, 1.8457, 1.8492, 1.6022, 1.7106, 1.8592, 1.6429, 1.6763, 1.8043, 1.675, 1.605, 1.8527, 1.684, 1.5248, 1.7281, 1.7491, 1.1152, 1.5598, 1.514, 1.2287, 1.2233, 1.6475, 0.9873, 1.532, 0.9509, 0.1416, 0.9101, 0.3199, 0.9817, 0.7539, 0.1242, 0.2865, 0.3133, -0.5083, 1.2435, 1.0509, -0.5316, 0.8535, 0.1886, 0.705, -0.3522, 0.2596, -0.4348, -0.3363, -0.6215]}, \"token.table\": {\"Topic\": [1, 2, 3, 4, 5, 5, 1, 2, 3, 4, 5, 2, 3, 5, 4, 1, 2, 3, 4, 5, 5, 1, 2, 4, 5, 2, 1, 2, 3, 4, 5, 2, 1, 2, 3, 4, 5, 1, 2, 3, 4, 5, 1, 2, 3, 4, 5, 5, 1, 2, 3, 4, 5, 1, 2, 1, 2, 3, 4, 5, 1, 2, 3, 4, 5, 3, 5, 1, 2, 3, 4, 5, 1, 2, 3, 4, 5, 3, 5, 1, 2, 3, 4, 5, 3, 5, 1, 2, 3, 4, 5, 3, 1, 2, 3, 4, 5, 1, 2, 3, 4, 5, 1, 2, 3, 4, 5, 1, 2, 3, 4, 5, 1, 2, 2, 3, 5, 2, 1, 2, 3, 4, 5, 1, 2, 3, 4, 5, 1, 2, 3, 4, 5, 4, 3, 4, 5, 1, 2, 3, 4, 5, 4, 2, 3, 4, 2, 3, 4, 5, 1, 2, 3, 4, 5, 1, 2, 3, 4, 5, 3, 5, 5, 4, 2, 3, 5, 1, 2, 3, 4, 5, 1, 2, 3, 4, 5, 4, 1, 2, 3, 4, 5, 1, 2, 3, 4, 5, 1, 3, 4, 5, 3, 5, 1, 2, 3, 4, 5, 1, 2, 3, 4, 5, 1, 2, 3, 4, 5, 1, 2, 3, 4, 5, 2, 4, 3, 5, 5, 2, 4, 5, 1, 2, 3, 4, 5, 1, 1, 2, 1, 2, 3, 4, 5, 2, 3, 4, 5, 1, 2, 3, 4, 5, 1, 2, 3, 4, 5, 1, 1, 2, 3, 4, 5, 1, 3, 5, 5, 4, 2, 5, 2, 1, 3, 5, 1, 2, 3, 4, 5, 1, 5, 1, 3, 5, 3, 5, 1, 2, 3, 4, 5, 1, 2, 3, 4, 5, 1, 2, 3, 4, 5, 3, 5, 1, 2, 3, 4, 5, 1, 2, 3, 4, 5, 1, 2, 4, 5, 1, 2, 3, 4, 5, 2, 3, 4, 5, 4, 1, 2, 3, 4, 5, 1, 2, 3, 4, 5, 1, 2, 3, 4, 5, 1, 2, 3, 4, 5, 1, 2, 3, 4, 5, 1, 2, 3, 4, 5, 1, 2, 3, 4, 5, 1, 2, 3, 4, 5, 1, 2, 3, 4, 5, 2, 1, 2, 3, 5, 1, 1, 2, 3, 4, 2, 3, 4, 5, 3, 5, 4, 4, 4, 1, 3, 4, 5, 3, 5, 4, 1, 3, 4, 5, 1, 2, 3, 4, 5, 2, 1, 2, 3, 4, 5, 1, 2, 3, 4, 5, 1, 2, 3, 4, 1, 2, 3, 4, 1, 2, 3, 4, 5, 2, 3, 4, 5, 1, 2, 3, 4, 5, 1, 2, 3, 4, 5, 3, 5, 1, 2, 3, 4, 5, 3, 5, 3, 5, 4, 3, 4, 1, 2, 3, 4, 5, 3, 5, 1, 2, 3, 4, 5, 1, 2, 3, 4, 5, 1, 2, 3, 4, 5, 1, 2, 1, 4, 5, 3, 4, 1, 2, 3, 4, 5, 1, 2, 3, 4, 5, 3, 1, 2, 3, 4, 5, 2, 3, 5, 4, 3, 1, 2, 3, 4, 5, 1, 2, 3, 4, 5, 3, 5, 2, 3, 4, 5, 1, 2, 3, 4, 5, 3, 5, 3, 5, 3, 5, 2, 3, 4, 5, 1, 1, 2, 3, 4, 5, 5, 2, 4, 3, 4, 1, 2, 3, 4, 5, 2, 3, 1, 3, 2, 1, 2, 3, 4, 5, 1, 2, 3, 4, 5, 2, 4, 1, 2, 3, 4, 5, 1, 2, 3, 4, 5, 3, 2, 2, 1, 2, 3, 4, 5, 1, 2, 3, 4, 5, 1, 2, 3, 4, 5, 5, 1, 2, 3, 4, 5, 1, 2, 3, 4, 5, 1, 2, 3, 4, 5, 1, 2, 3, 4, 5, 1, 2, 3, 4, 5, 1, 2, 3, 4, 5, 1, 2, 3, 4, 5, 5, 1, 2, 3, 4, 1, 2, 1, 2, 3, 4, 5, 1, 2, 3, 4, 5, 1, 2, 3, 5, 1, 1, 2, 3, 4, 5, 1, 2, 3, 4, 5, 1, 2, 3, 4, 5, 1, 2, 3, 4, 5, 1, 2, 3, 4, 5, 3, 2, 5, 1, 1, 2, 3, 4, 2, 1, 2, 3, 4, 5, 1, 2, 4, 5, 1, 2, 3, 4, 5, 1, 2, 3, 4, 5, 2, 3, 5, 1, 3, 5, 3, 3, 1, 2, 3, 4, 5, 2, 4, 1, 2, 1, 2, 3, 4, 5, 5, 3, 5, 3, 5, 1, 2, 3, 4, 5, 1, 3, 4, 5, 1, 2, 3, 4, 5, 1, 2, 1, 1, 2, 3, 4, 5, 4, 4, 1, 1, 2, 3, 4, 5, 1, 2, 3, 4, 5, 3, 5, 1, 2, 3, 4, 5, 3, 5, 1, 2, 3, 4, 5, 1, 3, 4, 5, 5, 4, 1, 2, 3, 4, 5, 2, 3, 4, 5, 1, 2, 3, 4, 5, 5, 5, 5, 3, 5, 2, 1, 3, 4, 5, 1, 1, 1, 2, 3, 4, 5, 2, 1, 2, 3, 4, 5, 1, 2, 3, 4, 5, 2, 3, 4, 5, 3, 4, 2, 1, 2, 3, 4, 5, 3, 5, 1, 2, 3, 4, 5, 1, 3, 5, 1, 2, 3, 4, 5, 1, 2, 3, 4, 5, 1, 2, 3, 4, 5, 2, 2, 4, 4, 3, 4, 1, 2, 3, 4, 5, 2, 3, 4, 5, 1, 1, 2, 3, 4, 5, 1, 2, 3, 4, 5, 1, 2, 3, 4, 5, 5, 4, 1, 2, 3, 4, 5, 1, 2, 3, 4, 5, 3, 3, 5, 2, 3, 1, 2, 3, 4, 5, 1, 2, 3, 4, 5, 5, 1, 2, 3, 4, 5, 2, 3, 4, 5, 1, 2, 3, 4, 5, 1, 2, 4, 5, 3, 5, 2, 3, 4, 5, 2, 3, 5, 1, 2, 3, 4, 5, 3, 5, 4, 1, 2, 3, 4, 5, 1, 2, 3, 5, 1, 2, 3, 4, 5, 1, 2, 3, 4, 5, 1, 2, 3, 4, 5, 2, 3, 1, 2, 3, 4, 5, 1, 1, 2, 3, 4, 5, 1, 2, 3, 4, 5, 1, 2, 3, 4, 5, 1, 2, 3, 4, 5, 3, 1, 2, 3, 4, 5, 5, 1, 5, 1, 2, 3, 4, 5, 4, 3, 1, 2, 3, 4, 5, 1, 2, 3, 4, 5, 1, 2, 4, 2, 3, 4, 5, 2, 1, 2, 3, 4, 5, 1, 3, 5, 3, 4, 1, 2, 3, 4, 5, 1, 1, 2, 3, 4, 5, 1, 2, 4, 5, 1, 5, 2, 5, 3, 5, 1, 2, 3, 4, 5, 1, 2, 3, 4, 5, 5, 1, 2, 3, 4, 5, 1, 2, 3, 4, 5, 1, 2, 3, 4, 5, 1, 2, 3, 4, 5, 1, 2, 3, 4, 5, 1, 2, 3, 4, 5, 4, 2, 1, 2, 3, 4, 5, 1, 3, 5, 1, 2, 3, 4, 5, 1, 2, 3, 5, 2, 3, 2, 5, 2, 4, 2, 4, 2, 1, 2, 3, 4, 5, 3, 4, 5, 3, 5, 1, 2, 3, 4, 5, 1, 2, 3, 4, 5, 1, 4, 1, 2, 3, 4, 5, 1, 2, 3, 4, 5, 3, 1, 2, 3, 4, 5, 1, 2, 3, 4, 5, 2, 3, 4, 5, 1, 2, 3, 4, 5, 1, 3, 5, 1, 5, 2, 1, 2, 3, 4, 5, 1, 2, 3, 4, 5, 1, 2, 3, 4, 5, 2, 1, 2, 3, 4, 5, 5, 3, 1, 2, 3, 4, 5, 4, 1, 2, 3, 4, 5, 3, 4, 4, 5], \"Freq\": [0.010843160771777495, 0.027107901929443737, 0.12469634887544119, 0.06505896463066498, 0.7725752049891466, 0.9700429074532737, 0.009364875647478758, 0.8423705644907143, 0.017793263730209643, 0.11940216450535418, 0.011706094559348448, 0.8996588740235592, 0.07556190018045641, 0.023613093806392628, 0.9758429090964749, 0.10362672735961913, 0.6999692149951632, 0.0391044254187242, 0.12708938261085365, 0.030305929699511257, 0.9660990480325706, 0.8729250067244593, 0.0936166008352529, 0.029379677921701708, 0.003983685141925655, 0.9778273011853164, 0.8707761277459527, 0.02678730722268745, 0.006036576275535201, 0.09394421828801655, 0.0026410021205466503, 0.9933880134079089, 0.6896046123501189, 0.04642608999709475, 0.0022222061188777566, 0.2594575792851867, 0.0023423253685468243, 0.8800530832315723, 0.018042090544610822, 0.08018706908715921, 0.005011691817947451, 0.01603741381743184, 0.8100063723991332, 0.01089529611152156, 0.1414916157185435, 0.0012514867155126116, 0.03629311474986573, 0.9906122523222308, 0.005524172490148196, 0.03038294869581508, 0.8166568331269083, 0.006444867905172896, 0.140866398498779, 0.9806837542237077, 0.9930711754967776, 0.04248622744362905, 0.004720691938181006, 0.8506686872602172, 0.08969314682543911, 0.012273799039270615, 0.0015352269460620822, 0.010746588622434576, 0.9073191251226905, 0.04605680838186246, 0.03531021975942789, 0.30630458187539483, 0.6926140918525718, 0.22899195123196298, 0.07405391201536009, 0.3120329884919056, 0.06362884673164435, 0.3213795987462714, 0.12122543047982305, 0.8425642191574124, 0.0134519080819647, 0.014084939050527743, 0.008704175817741864, 0.9913472417200414, 0.0061194274180249465, 0.13392654392356226, 0.16352191858524232, 0.18220586723529286, 0.15320837893041442, 0.367102223076193, 0.9998253006518428, 0.00024086371974267474, 0.00046149088116462624, 0.4573374632341446, 0.12252582894920826, 0.10821961163310485, 0.3115063447861227, 0.9908241381752776, 0.012350143121543141, 0.16408047290050173, 0.008821530801102243, 0.7798233228174384, 0.03440397012429875, 0.0007515250912562997, 0.04960065602291578, 0.024424565465829738, 0.7214640876060476, 0.20403906227608534, 0.2163961636813573, 0.03126636585510106, 0.26535271021763396, 0.20487697626105691, 0.2826314913480846, 0.834830553341633, 0.01415582242622769, 0.0617048669861207, 0.07459029509204591, 0.014700277134928755, 0.9754513560379591, 0.017113181684876477, 0.9871147353212789, 0.96994543584063, 0.027800983829826972, 0.9834888134166389, 0.046063847881058585, 0.0031646918391566967, 0.5390525099363573, 0.0003516324265729663, 0.4110583066637976, 0.003371406947624833, 0.06405673200487183, 0.17447030953958512, 0.11631353969305673, 0.6422530235225307, 0.6668510780039901, 0.08810700561987715, 0.05332792445413617, 0.11855130275626491, 0.07308647491351365, 0.9769114794694238, 0.02752895968074983, 0.9359846291454942, 0.03670527957433311, 0.01897258698151025, 0.7809361609163574, 0.017748549111735394, 0.17075328283359226, 0.011628359762861121, 0.9719676290342647, 0.015147437114157501, 0.015147437114157501, 0.9694359753060801, 0.03455572919178704, 0.0767905093150823, 0.1574205440959187, 0.731429601226159, 0.15384402877458989, 0.3070799783840628, 0.027059522847704548, 0.3624151824097058, 0.14989151420132968, 0.019446610341103163, 0.07223026698124033, 0.008334261574758499, 0.7514725853240579, 0.1486276647498599, 0.10255857515605568, 0.8937247263599137, 0.972366482062483, 0.9740410609628287, 0.003147111646972355, 0.9693103872674854, 0.02675044899926502, 0.3319801668515052, 0.1686833469484591, 0.2991648770880025, 0.03444542294829879, 0.16570658200230984, 0.15353160858556103, 0.7730956207318771, 0.04733891264721465, 0.00943579677765427, 0.016632590930102442, 0.994061071354716, 0.0006518239744403441, 0.004562767821082409, 0.7104881321399751, 0.024769311028733077, 0.2587741178528166, 0.07851585309897442, 0.2872027258094064, 0.03047654824236507, 0.5490944200276962, 0.055271028168356995, 0.008937611843615157, 0.008937611843615157, 0.9801580988497954, 0.9772616705119687, 0.9951405000247097, 0.004784329327041873, 0.25504607856123607, 0.07038522419895603, 0.06128599369414802, 0.5957319736383122, 0.017395587729780004, 0.031122060238674636, 0.8636371716232212, 0.0038902575298343295, 0.08169540812652092, 0.019451287649171648, 0.3268700882959507, 0.28256540765342725, 0.1691711090814035, 0.1506359141845797, 0.0707162632091292, 0.0796303313694073, 0.0005647541231872858, 0.7691951157810831, 0.11125656226789529, 0.03953278862311, 0.959689182092039, 0.030466323241017113, 0.9934419486811655, 0.9700424815801577, 0.9646225648094098, 0.06115250123030454, 0.04076833415353636, 0.8928265179624463, 0.01437621200055624, 0.08774446634822257, 0.6806392785090937, 0.04312863600166872, 0.17449746979985506, 0.9982880402919988, 0.9956197374856144, 0.003748971577406832, 0.22433041375043936, 0.49411660684790093, 0.05135274531636563, 0.2179420339503173, 0.012285345769465463, 0.09166009989116165, 0.08281828961227146, 0.7665849511797797, 0.05865067484997161, 0.8207862331886078, 0.042359199768148045, 0.0030695072295759455, 0.13321661376359603, 0.0006139014459151891, 0.986304217628116, 0.07754790832501957, 0.027619802965075463, 0.816908787697809, 0.07754790832501957, 0.9849043238346102, 0.0038200732637884887, 0.3056058611030791, 0.023466164334700716, 0.5326273579225093, 0.1342482889845669, 0.10336010468328746, 0.007382864620234819, 0.893326619048413, 0.9773295549736449, 0.9746641296049364, 0.9818224118547644, 0.9781934196502484, 0.9832953230954898, 0.098294989217112, 0.8671617269068947, 0.0349863520942263, 0.00864342587607346, 0.03889541644233057, 0.8686643005453827, 0.002881141958691153, 0.0806719748433523, 0.07643859842995171, 0.9172631811594205, 0.9734872934848368, 0.9556242132350294, 0.04292843145391734, 0.9764153060881906, 0.018250753384825992, 0.528546583512941, 0.4178358036568067, 0.012315160528832197, 0.037071146489852026, 0.00427260671408464, 0.06235503990300067, 0.10563129894015785, 0.6696186747792385, 0.11400734907638183, 0.04839495634262739, 0.038451739676611654, 0.05548036724768253, 0.5125067588325525, 0.04943795101278641, 0.34441772538907867, 0.012286605943069679, 0.9829284754455744, 0.0008842771871753612, 0.2184164652323142, 0.0017685543743507224, 0.7206859075479194, 0.05836229435357384, 0.22238050860867256, 0.662658047829875, 0.0735290391367385, 0.028694259175312587, 0.01165704278997074, 0.9789750510877413, 0.023565677747972354, 0.04123993605895162, 0.930844271044908, 0.11286472556583342, 0.15825160808874864, 0.6454577010117235, 0.02972238324509492, 0.05382161290328, 0.15260199107076744, 0.0008477888392820413, 0.1805790227670748, 0.6655142388364024, 0.9834332391214925, 0.40405967431592976, 0.38373998970880857, 0.022379112101086153, 0.17230543366173695, 0.017436486115570193, 0.21719294489954963, 0.39262502969666696, 0.06364428024344486, 0.1705083152653895, 0.15610173033922292, 0.43419677562202386, 0.21478137845983955, 0.007220447745513924, 0.34173193732872614, 0.0021553575359743054, 0.06708705514831662, 0.39537696406936895, 0.006351437173805124, 0.49977871261379064, 0.031360221045662794, 0.5317566758957526, 0.21825070312027778, 0.08454431703446105, 0.12931369203349238, 0.0361645085677659, 0.30790623792954225, 0.006007926593747166, 0.2666017425975305, 0.0015019816484367916, 0.417550898265428, 0.019860428379606786, 0.673191143776282, 0.05906542985623317, 0.17487494079705715, 0.07325145012738087, 0.048028344072032, 0.7184239800774787, 0.07104192560654733, 0.13608030820409067, 0.026515648289767667, 0.7338313443927367, 0.099894805763642, 0.08964167320725645, 0.02841582451341136, 0.04804324969277797, 0.9902415006400637, 0.001981915058775869, 0.003963830117551738, 0.31710640940413903, 0.6778149501013472, 0.9842892259718137, 0.002759097792633829, 0.046904662474775094, 0.9408523472881357, 0.005518195585267658, 0.000898814978285625, 0.9852510186974259, 0.000299604992761875, 0.01378182966704625, 0.9964689827541588, 0.0023391290674980255, 0.9787838428530621, 0.9703043742633076, 0.9892904226419436, 0.013643083646410504, 0.8731573533702722, 0.0057444562721728435, 0.10699049806921922, 0.04100730400924704, 0.9568370935490976, 0.9792034448745611, 0.011483642919566, 0.35435241008946516, 0.008202602085404286, 0.6250382789078066, 0.5429739472674512, 0.02856372037746349, 0.39567992375417166, 0.007766172821522331, 0.025141339134080766, 0.9796079356408277, 0.4551638478331706, 0.19560273978003062, 0.13017293665401236, 0.058857394116358264, 0.16028830331021568, 0.2495129325835918, 0.46725495647649107, 0.20661208772737003, 0.04522801332719608, 0.03136618373921876, 0.9526525259081853, 0.039329691436576455, 0.0013109897145525485, 0.006117952001245226, 0.9637010358340358, 0.024552892632714287, 0.009207334737267857, 0.003069111579089286, 0.1886885646442417, 0.16556496603587875, 0.47495871541577506, 0.006705843596425257, 0.16417755011937696, 0.02779409837484164, 0.008338229512452493, 0.9366611152321633, 0.02779409837484164, 0.03218461737790576, 0.15034184282008034, 0.10889863688140718, 0.5383207920331909, 0.16974079028073588, 0.19876419382724603, 0.5661005520396247, 0.07260464222984393, 0.12328412022196272, 0.03917775249036133, 0.9908881281887606, 0.0063518469755689776, 0.01033199516707141, 0.8334476101437605, 0.024107988723166624, 0.06543596939145227, 0.06887996778047607, 0.9740016973569965, 0.0252689119597334, 0.14465760020626703, 0.8529810219059194, 0.9826230432833584, 0.013194139596603293, 0.9862619348460963, 0.23075261047901816, 0.23722351935392053, 0.1201000687181878, 0.35227627914968446, 0.05979119800409781, 0.9884467888855699, 0.009096136094038986, 0.07799030730012664, 0.11225642641211071, 0.15365485990939462, 0.510580679799835, 0.1452821430223035, 0.3094182202786496, 0.06973588214044332, 0.15626621117595355, 0.400953516931895, 0.06361869949654479, 0.8833242987661575, 0.06783301567129783, 0.0007198605744709157, 0.041198174415873944, 0.006921736292989574, 0.9696312205357668, 0.0293827642586596, 0.969221233947171, 0.017865829197182874, 0.008932914598591437, 0.03295509395940862, 0.95569772482285, 0.2588784579973364, 0.16048359692924308, 0.021047029105474502, 0.5393301208277841, 0.019994677650200778, 0.004515625145203209, 0.08805469033146258, 0.1381028690241315, 0.36049740742538955, 0.40904037773632407, 0.9921166140206438, 0.31207266905727105, 0.2956803484824094, 0.008660093888606134, 0.34918735715129734, 0.03433108648697432, 0.007325492390664318, 0.9889414727396829, 0.007325492390664318, 0.9694247141798061, 0.9984386458516967, 0.7634531390887053, 0.08046625493423828, 0.05682993483861273, 0.08180222085268668, 0.01747032354894062, 0.02593248050222283, 0.10180899752724519, 0.0268929427430459, 0.2987037568959741, 0.5474634772691487, 0.9915188626833248, 0.006009205228383786, 0.00308025521212109, 0.016941403666665994, 0.977981029848446, 0.001540127606060545, 0.7416551206801342, 0.07868016146553851, 0.08324700334164771, 0.08768336402129664, 0.008611758966377349, 0.9929432983943421, 0.0035210755262210717, 0.9841072092961475, 0.014688167302927574, 0.9793697069842662, 0.018761871781307782, 0.2610160936598162, 0.0011918543089489324, 0.18116185496023773, 0.5565959622791514, 0.9779946617072206, 0.8891945402048197, 0.040508702184499326, 0.009984539270827299, 0.005990723562496379, 0.054487057163657544, 0.9773301404412594, 0.9711340333766999, 0.02490087265068461, 0.9973266961363915, 0.9694200159629386, 0.29079564645900075, 0.5353642675977527, 0.007704504220041459, 0.1361129078873991, 0.029830259928878472, 0.9841618272585791, 0.9894024423162379, 0.9822292904791059, 0.9903262275172414, 0.9859157555846222, 0.09121702418739105, 0.04995217991214272, 0.253018650424549, 0.03366342559296575, 0.5722782350804178, 0.008437568862054419, 0.03634645048269596, 0.3310123168959811, 0.0019471312758587121, 0.6224329645161684, 0.03188795174441342, 0.9653352664445152, 0.9171140246417074, 0.009631021524197505, 0.03948718824920977, 0.031060044415536954, 0.0028893064572592516, 0.4239543961020006, 0.26084858708133624, 0.19729616639724393, 0.045506671600955007, 0.07239423419807099, 0.9901647977310554, 0.9913713886310271, 0.9867133943066996, 0.08119756774181693, 0.8123464425676753, 0.022616674119866814, 0.019650552923818707, 0.06414237086454032, 0.6104597481047765, 0.2094924002881246, 0.07546783940971671, 0.09032433554482325, 0.014224304810208385, 0.04845180213423666, 0.7773354342405795, 0.05687820250540825, 0.006319800278378695, 0.1116498049180236, 0.9820717203981041, 0.050043741295532004, 0.8701339519122107, 0.036156923058792305, 0.030909369623710947, 0.012734916263185255, 0.011742714220367882, 0.027399666514191724, 0.0039142380734559605, 0.8611323761603112, 0.09394171376294305, 0.2048933514501745, 0.1589907026626001, 0.4486064503913244, 0.04886520846451727, 0.13866141384495773, 0.14395082246563806, 0.5332578245560414, 0.14587016676517991, 0.059819564002387374, 0.1170800022720523, 0.840929014654661, 0.027126742408214867, 0.04973236108172726, 0.069323897265438, 0.013563371204107433, 0.5371867804945545, 0.0898333644867549, 0.2079837677791173, 0.08829894366477616, 0.07672104109893663, 0.024131362244915893, 0.8754189234195231, 0.031139810685683545, 0.028830208358612386, 0.040457861453522356, 0.9645739315930981, 0.9713328732744952, 0.009342042431000078, 0.00095815819805129, 0.01820500576297451, 0.9923545478378926, 0.006260911973740646, 0.48790499761948575, 0.41803676743764473, 0.05960786071457767, 0.02452716891698196, 0.009869498249462861, 0.28561124839189006, 0.3921871159207877, 0.2036917430391774, 0.07286206618595081, 0.04568974868566529, 0.08282006382555965, 0.014813344749287092, 0.8369539783347206, 0.06531338366731126, 0.9836429556766539, 0.17957453240681862, 0.07997546185540788, 0.032212338802872616, 0.586116463505142, 0.12218473339020648, 0.34054675896613396, 0.4520743315172146, 0.03638065200864128, 0.11987723038912947, 0.051141654258049014, 0.9142156153570778, 0.046399355680927006, 0.006991683732742426, 0.028390473339014698, 0.0040255148764274575, 0.8993999758255756, 0.005612480348365527, 0.03227176200310178, 0.057527923570746646, 0.005612480348365527, 0.8812989563579927, 0.06837664316570632, 0.01722078420469641, 0.029883125531679062, 0.003545455571555143, 0.9909816196328206, 0.9787351990239122, 0.9933912540305738, 0.9758967686242764, 0.7768090943490301, 0.19000536787122643, 0.0003815368832755551, 0.032430635078422185, 0.9846533708022259, 0.33679858924020123, 0.43029582402411676, 0.03139746050364449, 0.03684277653195184, 0.16463391651542, 0.05722352800914469, 0.8333176266331694, 0.06437646901028778, 0.03934117550628697, 0.7887721674895712, 0.08541048116654751, 0.09050961437052049, 0.0038243499029797395, 0.03155088669958285, 0.0009572027810264259, 0.013400838934369963, 0.9694549766235642, 0.0019144055620528518, 0.01435804171539639, 0.002804567894241964, 0.11779185155816248, 0.8778297508977346, 0.9842899217230776, 0.9834916004893305, 0.015156548637678038, 0.9980791983252264, 0.9975054652811542, 0.03946943136963238, 0.005397529076189043, 0.3849112922457311, 0.5478492012331879, 0.021927461872017988, 0.9846454189576601, 0.9694199745568498, 0.9721514707596787, 0.9819093552546589, 0.39493018818689585, 0.3020740003101933, 0.18240995902975662, 0.03448111579103493, 0.08595996471849554, 0.9928197890884012, 0.9967751882782815, 0.0030982478654824844, 0.9912019805134449, 0.006156534040456179, 0.6615131019391535, 0.17109938741345954, 0.0847487380367158, 0.07940903356995603, 0.003356385664820428, 0.9849030443369376, 0.022757987312073714, 0.004551597462414743, 0.9694902594943403, 0.04853667262826761, 0.046739018086479914, 0.003595309083575378, 0.012583581792513824, 0.8880413436431184, 0.0364615130202979, 0.9479993385277455, 0.9911644472941211, 0.19341805227882758, 0.5517796859444472, 0.06944992900496502, 0.1451503516203769, 0.03993370917785489, 0.9703012840053554, 0.9694239372222813, 0.9829624218595157, 0.0019456650978489783, 0.0007782660391395914, 0.9880087366877113, 0.0019456650978489783, 0.007393527371826118, 0.06614736841273862, 0.3522242037773852, 0.1624191753064378, 0.09627180689369919, 0.32294240693225573, 0.06603329834675806, 0.9244661768546129, 0.11498123768424524, 0.7088403773721053, 0.1250894783597833, 0.031588252111056384, 0.018952951266633832, 0.9783453498655965, 0.016941045019317688, 0.20732962155889495, 0.08220944576098344, 0.6029174291047168, 0.059237034731112845, 0.04840099179249464, 0.01338508926301076, 0.9503413376737639, 0.01003881694725807, 0.02342390621026883, 0.9827623136100774, 0.9774288354044859, 0.004104627553055542, 0.17567805927077718, 0.047613679615444285, 0.6698752166586643, 0.10343661433699965, 0.028607694321062152, 0.014303847160531076, 0.899098964376239, 0.059258795379343025, 0.982246615478653, 0.09981074705413966, 0.05112257775943739, 0.08276988780099387, 0.7644042579268258, 0.9874902606366883, 0.9806139281368633, 0.9855341644825657, 0.9913606170960698, 0.009165121267452109, 0.9748482994602338, 0.03030749986328341, 0.2935497843900879, 0.6693627826948022, 0.006927428540179066, 0.9845871698005876, 0.9842877529439236, 0.006040148786376541, 0.037373420615704846, 0.08418457371012304, 0.004530111589782406, 0.8678938787424793, 0.9818245639550572, 0.2045517867639282, 0.15429336249760678, 0.5480681166242352, 0.0035180896986425, 0.08971128731538375, 0.18465271088617094, 0.7092443883194132, 0.03159118668173045, 0.049389038333409574, 0.024472046021058798, 0.026871582966643524, 0.07725580102910014, 0.8598906549325928, 0.03358947870830441, 0.03272331099083864, 0.9668250974565963, 0.9892656052801385, 0.4154277402426787, 0.5122673148262761, 0.05192846753033484, 0.018245137240387916, 0.0021052081431216824, 0.010405790580470769, 0.9781443145642522, 0.5245911578305913, 0.1648158708195295, 0.19137646247806428, 0.034505402066659537, 0.08458886375709312, 0.02589261085141539, 0.07767783255424617, 0.8932950743738309, 0.049820202659467, 0.2307058615461472, 0.017628687094888323, 0.6760218268561522, 0.02682626297048223, 0.132638723202847, 0.04930549396545622, 0.6069436862789963, 0.14930536905032515, 0.061805478351064834, 0.9073343415370454, 0.0416729760204906, 0.03220184510674274, 0.01894226182749573, 0.989746811462825, 0.9832935419718233, 0.04910768532289984, 0.9453229424658218, 0.9823714411460999, 0.07892811824312415, 0.9208280461697819, 0.025858105737869376, 0.18986225582873953, 0.02621232636441553, 0.7449259776265658, 0.01275194255566161, 0.02957448046640994, 0.01478724023320497, 0.931596134691913, 0.024645400388674948, 0.9875772570644384, 0.3626259591967894, 0.2221892018427025, 0.2130633475742059, 0.13676106605149801, 0.06540195559089247, 0.021336340778210915, 0.17602481142024004, 0.10801522518969275, 0.6194206432174356, 0.0753439533730573, 0.11084863356610082, 0.7982756073976665, 0.007445057478320205, 0.07775948921801103, 0.005790600260915715, 0.9827626338093873, 0.969423461292928, 0.027659922954768244, 0.07683311931880069, 0.003073324772752027, 0.8666775859160717, 0.02612326056839223, 0.13880098883322828, 0.1469657528822417, 0.0008164764049013428, 0.06940049441661414, 0.6433834070622582, 0.9951721662359544, 0.9876382285912781, 0.012259763409822304, 0.970088957576278, 0.01701910451888207, 0.0011092461902668385, 0.09132793633196969, 0.20816853504007665, 0.10168090077446018, 0.5975139478237369, 0.000772443589461532, 0.0409395102414612, 0.1282256358506143, 0.03089774357846128, 0.7994791150926857, 0.9852880334385443, 0.08388672218303721, 0.7549804996473349, 0.07525132431125398, 0.06291504163727792, 0.023438937080554514, 0.046100028631712406, 0.013171436751917832, 0.9121219950703098, 0.026342873503835663, 0.357734531495143, 0.03593315606536034, 0.1643343004055813, 0.43854420691324225, 0.0035134641486130117, 0.004005064110510039, 0.056070897547140536, 0.9091495530857787, 0.03204051288408031, 0.9912853035524363, 0.9950276091463065, 0.052291126098602383, 0.019609172286975892, 0.006536390762325298, 0.9281674882501922, 0.9321964164225971, 0.022195152771966598, 0.033292729157949896, 0.0029298176541314278, 0.006836241192973332, 0.7812847077683808, 0.1259821591276514, 0.08301150020039046, 0.9757223271791421, 0.02105875526285918, 0.9774115780016913, 0.8003122395422592, 0.03171744359476235, 0.11654316483656862, 0.014014684379081037, 0.037249555849662754, 0.09004082771812004, 0.0011255103464765004, 0.8430072495108988, 0.06527960009563702, 0.4684874695692312, 0.04317856862389227, 0.32234462191913427, 0.16540713211306426, 0.0004982142533526032, 0.16122439323551588, 0.2162248084974122, 0.028562447410684366, 0.5297035701617828, 0.06444254663732919, 0.08384649758219834, 0.07349095405611009, 0.15132455539735395, 0.44796076995110745, 0.24352229775865572, 0.9892653595521059, 0.9906627232112646, 0.12726710504491426, 0.5619647975866623, 0.022263848401157457, 0.1945323491505389, 0.09379238262615269, 0.9769710706425199, 0.6111745936074529, 0.22995905232312613, 0.12389505091740619, 0.020751652448945206, 0.014141866854095991, 0.04766281309194957, 0.02950555096168307, 0.1384491237432821, 0.02269657766283313, 0.7626050094711931, 0.03947781357610388, 0.08277606072408879, 0.24132405395715115, 0.036930857861516536, 0.5991713318566734, 0.26377206373718254, 0.18303449293522592, 0.2534323748333897, 0.043998676186352385, 0.2558523020236391, 0.9899720135974757, 0.8479600426669897, 0.018621867603667224, 0.07714773721519279, 0.045224535608906116, 0.010641067202095558, 0.9754734715259022, 0.9758822239908073, 0.9723667798513433, 0.028128169653343846, 0.7661577638910799, 0.025449296353025383, 0.12054929851433076, 0.06027464925716538, 0.9719175813235893, 0.9942108230203851, 0.848145635169987, 0.008990168314883524, 0.061834816214564714, 0.08003442524225575, 0.0010963619896199419, 0.9394390527809406, 0.026995375079912086, 0.005399075015982417, 0.02159630006392967, 0.005399075015982417, 0.9806753677143903, 0.002867471835422194, 0.017204831012533162, 0.004659152372464833, 0.009318304744929666, 0.8805797983958534, 0.10716050456669116, 0.96746081295878, 0.21684444306249734, 0.11930377459907654, 0.47905054108244577, 0.07394211964162546, 0.11091317946243819, 0.007655801798690936, 0.43916463045218, 0.5526096934691457, 0.9903267619139868, 0.9774092673962298, 0.7525670781400826, 0.10956628764971141, 0.0033655173680798727, 0.1237762498704931, 0.010657471665586263, 0.9975189565774695, 0.38138204547681853, 0.19428418100326514, 0.2450956661133445, 0.1012847906187605, 0.0779503981222848, 0.9362602919075347, 0.004053074856742575, 0.046610360852539605, 0.012159224570227724, 0.988510122957572, 0.007010710091897674, 0.9818178948317772, 0.9806125108893443, 0.9956561517811797, 0.003919906109374724, 0.03040449039030291, 0.13214259285016264, 0.0888746642178085, 0.7302924711055448, 0.018125753886526735, 0.0034964391162004473, 0.0034964391162004473, 0.0034964391162004473, 0.9650171960713234, 0.02447507381340313, 0.9944034354783257, 0.31853315179785124, 0.46011479982096554, 0.14219499812285338, 0.020138328274767876, 0.05898383459157901, 0.35707217492230686, 0.3589398002456863, 0.18738507411240363, 0.03530701206579224, 0.06127589751468728, 0.2704716263861508, 0.6046310003520289, 0.08558160902947101, 0.018404647103112046, 0.0208969430649918, 0.21438970615047548, 0.6864740093097017, 0.05489352362316584, 0.04025525065698828, 0.003964532261673088, 0.24540262274510624, 0.7366453060655239, 0.004811816132256985, 0.005249253962462165, 0.007873880943693248, 0.837799712357364, 0.10481973776778784, 0.04606002943503155, 0.005686423387040932, 0.0053073284945715365, 0.993884666943871, 0.9859275597006627, 0.0032900479983531267, 0.03619052798188439, 0.14147206392918443, 0.05264076797365003, 0.7665811836162785, 0.0029061679061492805, 0.9880970880907555, 0.008718503718447842, 0.2941469134662826, 0.3261194040604437, 0.11900005035778027, 0.20212852590259928, 0.0584862632820021, 0.008679851768197959, 0.013019777652296938, 0.9178943244869342, 0.05858899943533623, 0.9618532021571226, 0.0392593143737601, 0.014165416385559931, 0.9774137306036353, 0.07236455256211818, 0.9226480451670069, 0.9768763738301162, 0.9928927744485947, 0.9882190528294169, 0.1348195931165552, 0.12133763380489967, 0.01654604097339541, 0.6832902105679957, 0.04412277592905443, 0.02438754976358393, 0.9592436240343012, 0.016258366509055953, 0.08200955743259038, 0.9150540092478506, 0.25755953851367275, 0.6808859078946359, 0.013498927595056224, 0.04022680423326754, 0.00782937800513261, 0.6166853536574775, 0.1283700141084426, 0.06950255139593625, 0.16641666939845942, 0.019023327645008414, 0.9572144530190366, 0.04036446488634492, 0.43346707991078254, 0.06123520515721905, 0.4347699566162553, 0.02110660262865848, 0.04937902713741706, 0.45241223151337956, 0.2549239653493152, 0.20640070224453433, 0.02157375400431219, 0.0646505283932503, 0.9957122994629978, 0.10845455235578066, 0.7809939552324093, 0.049077199669375605, 0.03514169852868871, 0.026053328219545077, 0.0783183555735937, 0.11849907712874178, 0.1014733476562214, 0.6047539108639235, 0.09602511422501489, 0.007709342632397774, 0.921266444571534, 0.028910034871491654, 0.04240138447818776, 0.012858897617770726, 0.7570675972462515, 0.10447854314438716, 0.08840492112217374, 0.03696933065109084, 0.042928968786919326, 0.09199064740054141, 0.8647120855650893, 0.9914919268164948, 0.9646414572082614, 0.984657155161861, 0.2868598911069513, 0.1513433218598743, 0.012859236497897816, 0.5099181857435634, 0.03857770949369345, 0.7359264517121453, 0.1876105766367025, 0.03779599938082474, 0.023006260492675925, 0.015337506995117283, 0.6368406805757386, 0.026773302081347376, 0.02885278185465591, 0.008577854064897703, 0.2989252174131018, 0.9871137052331769, 0.09790135698856828, 0.6556739817657982, 0.02083007595501453, 0.2015783259464815, 0.023954587348266707, 0.9868195240111466, 0.9908256120435286, 0.2519705085061582, 0.14065847718279334, 0.42173488691018796, 0.04937178698891549, 0.13626853753578866, 0.9810715810991525, 0.0014718418269299243, 0.2590441615396667, 0.0029436836538598485, 0.08831050961579545, 0.6490822456760966, 0.9895973485215815, 0.9936289959783824, 0.018536349374328413, 0.9731583421522416], \"Term\": [\"action\", \"action\", \"action\", \"action\", \"action\", \"advertise\", \"alive\", \"alive\", \"alive\", \"alive\", \"alive\", \"america\", \"america\", \"america\", \"amour\", \"answer\", \"answer\", \"answer\", \"answer\", \"answer\", \"anti\", \"apart\", \"apart\", \"apart\", \"apart\", \"apartheid\", \"arm\", \"arm\", \"arm\", \"arm\", \"arm\", \"arrowhead\", \"away\", \"away\", \"away\", \"away\", \"away\", \"babe\", \"babe\", \"babe\", \"babe\", \"babe\", \"baby\", \"baby\", \"baby\", \"baby\", \"baby\", \"badass\", \"ball\", \"ball\", \"ball\", \"ball\", \"ball\", \"bally\", \"bambalam\", \"band\", \"band\", \"band\", \"band\", \"band\", \"bang\", \"bang\", \"bang\", \"bang\", \"bang\", \"bass\", \"bass\", \"beat\", \"beat\", \"beat\", \"beat\", \"beat\", \"believe\", \"believe\", \"believe\", \"believe\", \"believe\", \"benz\", \"benz\", \"better\", \"better\", \"better\", \"better\", \"better\", \"bitch\", \"bitch\", \"black\", \"black\", \"black\", \"black\", \"black\", \"blah\", \"bleed\", \"bleed\", \"bleed\", \"bleed\", \"bleed\", \"blood\", \"blood\", \"blood\", \"blood\", \"blood\", \"blow\", \"blow\", \"blow\", \"blow\", \"blow\", \"blue\", \"blue\", \"blue\", \"blue\", \"blue\", \"bluebird\", \"bluebird\", \"boog\", \"boogie\", \"boogie\", \"boundary\", \"bout\", \"bout\", \"bout\", \"bout\", \"bout\", \"brain\", \"brain\", \"brain\", \"brain\", \"brain\", \"break\", \"break\", \"break\", \"break\", \"break\", \"breakaway\", \"breakdown\", \"breakdown\", \"breakdown\", \"breathe\", \"breathe\", \"breathe\", \"breathe\", \"breathe\", \"brimstone\", \"brutal\", \"brutal\", \"brutal\", \"bullet\", \"bullet\", \"bullet\", \"bullet\", \"burn\", \"burn\", \"burn\", \"burn\", \"burn\", \"bury\", \"bury\", \"bury\", \"bury\", \"bury\", \"bwoy\", \"bwoy\", \"caan\", \"carol\", \"cash\", \"cash\", \"cash\", \"cause\", \"cause\", \"cause\", \"cause\", \"cause\", \"change\", \"change\", \"change\", \"change\", \"change\", \"chant\", \"check\", \"check\", \"check\", \"check\", \"check\", \"child\", \"child\", \"child\", \"child\", \"child\", \"christmas\", \"christmas\", \"christmas\", \"circuit\", \"club\", \"club\", \"cold\", \"cold\", \"cold\", \"cold\", \"cold\", \"colour\", \"colour\", \"colour\", \"colour\", \"colour\", \"come\", \"come\", \"come\", \"come\", \"come\", \"comin\", \"comin\", \"comin\", \"comin\", \"comin\", \"conceive\", \"conceive\", \"crib\", \"cuckoo\", \"cyaan\", \"damage\", \"damage\", \"damage\", \"damn\", \"damn\", \"damn\", \"damn\", \"damn\", \"darlin\", \"darling\", \"darling\", \"day\", \"day\", \"day\", \"day\", \"day\", \"dead\", \"dead\", \"dead\", \"dead\", \"dear\", \"dear\", \"dear\", \"dear\", \"dear\", \"dearest\", \"death\", \"death\", \"death\", \"death\", \"deface\", \"devil\", \"devil\", \"devil\", \"devil\", \"devil\", \"ding\", \"ding\", \"ding\", \"dingaling\", \"dippy\", \"disorder\", \"diva\", \"dobalina\", \"doin\", \"doin\", \"doin\", \"dollar\", \"dollar\", \"dollar\", \"dollar\", \"dollar\", \"dong\", \"dong\", \"doodoodoodoo\", \"dope\", \"dope\", \"dough\", \"dough\", \"dream\", \"dream\", \"dream\", \"dream\", \"dream\", \"drink\", \"drink\", \"drink\", \"drink\", \"drink\", \"drop\", \"drop\", \"drop\", \"drop\", \"drop\", \"dutty\", \"dutty\", \"earth\", \"earth\", \"earth\", \"earth\", \"earth\", \"end\", \"end\", \"end\", \"end\", \"end\", \"enfold\", \"equal\", \"equal\", \"equal\", \"everybody\", \"everybody\", \"everybody\", \"everybody\", \"everybody\", \"evil\", \"evil\", \"evil\", \"evil\", \"excitation\", \"eye\", \"eye\", \"eye\", \"eye\", \"eye\", \"face\", \"face\", \"face\", \"face\", \"face\", \"fall\", \"fall\", \"fall\", \"fall\", \"fall\", \"fear\", \"fear\", \"fear\", \"fear\", \"fear\", \"feel\", \"feel\", \"feel\", \"feel\", \"feel\", \"feelin\", \"feelin\", \"feelin\", \"feelin\", \"feelin\", \"fight\", \"fight\", \"fight\", \"fight\", \"fight\", \"follow\", \"follow\", \"follow\", \"follow\", \"follow\", \"fool\", \"fool\", \"fool\", \"fool\", \"fool\", \"forfeit\", \"freak\", \"freak\", \"freak\", \"freak\", \"freek\", \"friday\", \"friday\", \"friday\", \"friday\", \"fuck\", \"fuck\", \"fuck\", \"fuck\", \"fuckin\", \"fuckin\", \"gallows\", \"genetic\", \"geronimo\", \"gettin\", \"gettin\", \"gettin\", \"gettin\", \"ghetto\", \"ghetto\", \"ghoul\", \"gimme\", \"gimme\", \"gimme\", \"gimme\", \"girl\", \"girl\", \"girl\", \"girl\", \"girl\", \"glamorous\", \"gonna\", \"gonna\", \"gonna\", \"gonna\", \"gonna\", \"good\", \"good\", \"good\", \"good\", \"good\", \"goodbye\", \"goodbye\", \"goodbye\", \"goodbye\", \"goodnight\", \"goodnight\", \"goodnight\", \"goodnight\", \"gotta\", \"gotta\", \"gotta\", \"gotta\", \"gotta\", \"grave\", \"grave\", \"grave\", \"grave\", \"grind\", \"grind\", \"grind\", \"grind\", \"grind\", \"grow\", \"grow\", \"grow\", \"grow\", \"grow\", \"gucci\", \"gucci\", \"guilty\", \"guilty\", \"guilty\", \"guilty\", \"guilty\", \"gyal\", \"gyal\", \"haffi\", \"haffi\", \"haile\", \"hallelujah\", \"hallelujah\", \"hand\", \"hand\", \"hand\", \"hand\", \"hand\", \"hater\", \"hater\", \"head\", \"head\", \"head\", \"head\", \"head\", \"hear\", \"hear\", \"hear\", \"hear\", \"hear\", \"heart\", \"heart\", \"heart\", \"heart\", \"heart\", \"heartache\", \"heartache\", \"heartbreak\", \"heartbreak\", \"heartbreak\", \"heathen\", \"heathen\", \"heaven\", \"heaven\", \"heaven\", \"heaven\", \"heaven\", \"hell\", \"hell\", \"hell\", \"hell\", \"hell\", \"hella\", \"hide\", \"hide\", \"hide\", \"hide\", \"hide\", \"hittin\", \"hittin\", \"hittin\", \"hobble\", \"hoe\", \"hold\", \"hold\", \"hold\", \"hold\", \"hold\", \"hole\", \"hole\", \"hole\", \"hole\", \"hole\", \"holla\", \"holla\", \"holy\", \"holy\", \"holy\", \"holy\", \"home\", \"home\", \"home\", \"home\", \"home\", \"homie\", \"homie\", \"homies\", \"homies\", \"hood\", \"hood\", \"human\", \"human\", \"human\", \"human\", \"hummm\", \"hurt\", \"hurt\", \"hurt\", \"hurt\", \"hurt\", \"hustla\", \"imaginary\", \"imaginary\", \"imma\", \"innamorata\", \"inside\", \"inside\", \"inside\", \"inside\", \"inside\", \"isolation\", \"jailhouse\", \"jericho\", \"jersey\", \"jiggaboo\", \"jump\", \"jump\", \"jump\", \"jump\", \"jump\", \"kick\", \"kick\", \"kick\", \"kick\", \"kick\", \"kingdom\", \"kingdom\", \"kiss\", \"kiss\", \"kiss\", \"kiss\", \"kiss\", \"know\", \"know\", \"know\", \"know\", \"know\", \"kush\", \"lalala\", \"lardy\", \"learn\", \"learn\", \"learn\", \"learn\", \"learn\", \"leave\", \"leave\", \"leave\", \"leave\", \"leave\", \"lesson\", \"lesson\", \"lesson\", \"lesson\", \"lesson\", \"licorice\", \"life\", \"life\", \"life\", \"life\", \"life\", \"lightning\", \"lightning\", \"lightning\", \"lightning\", \"lightning\", \"like\", \"like\", \"like\", \"like\", \"like\", \"line\", \"line\", \"line\", \"line\", \"line\", \"lip\", \"lip\", \"lip\", \"lip\", \"lip\", \"little\", \"little\", \"little\", \"little\", \"little\", \"live\", \"live\", \"live\", \"live\", \"live\", \"locomotive\", \"lonely\", \"lonely\", \"lonely\", \"lonely\", \"lonesome\", \"lonesome\", \"long\", \"long\", \"long\", \"long\", \"long\", \"look\", \"look\", \"look\", \"look\", \"look\", \"lookin\", \"lookin\", \"lookin\", \"lookin\", \"loove\", \"lord\", \"lord\", \"lord\", \"lord\", \"lord\", \"lose\", \"lose\", \"lose\", \"lose\", \"lose\", \"love\", \"love\", \"love\", \"love\", \"love\", \"lovely\", \"lovely\", \"lovely\", \"lovely\", \"lovely\", \"lover\", \"lover\", \"lover\", \"lover\", \"lover\", \"loverman\", \"lunacy\", \"maniac\", \"melancholy\", \"memory\", \"memory\", \"memory\", \"memory\", \"metallic\", \"mind\", \"mind\", \"mind\", \"mind\", \"mind\", \"miracle\", \"miracle\", \"miracle\", \"miracle\", \"miss\", \"miss\", \"miss\", \"miss\", \"miss\", \"money\", \"money\", \"money\", \"money\", \"money\", \"monkey\", \"monkey\", \"monkey\", \"moonglow\", \"motherfucker\", \"motherfucker\", \"motherfuckin\", \"motherfucking\", \"music\", \"music\", \"music\", \"music\", \"music\", \"myth\", \"nbsp\", \"nearness\", \"necessity\", \"need\", \"need\", \"need\", \"need\", \"need\", \"neva\", \"nigga\", \"nigga\", \"niggaz\", \"niggaz\", \"night\", \"night\", \"night\", \"night\", \"night\", \"nightingale\", \"nuff\", \"nuff\", \"nuff\", \"ohoh\", \"ohoh\", \"ohoh\", \"ohoh\", \"ohoh\", \"oohoohoohooh\", \"oohoohoohooh\", \"ooma\", \"open\", \"open\", \"open\", \"open\", \"open\", \"otherness\", \"outcast\", \"panorama\", \"party\", \"party\", \"party\", \"party\", \"party\", \"people\", \"people\", \"people\", \"people\", \"people\", \"pepper\", \"pepper\", \"perfect\", \"perfect\", \"perfect\", \"perfect\", \"perfect\", \"pimp\", \"pimp\", \"play\", \"play\", \"play\", \"play\", \"play\", \"playin\", \"playin\", \"playin\", \"playin\", \"poser\", \"pout\", \"power\", \"power\", \"power\", \"power\", \"power\", \"praise\", \"praise\", \"praise\", \"praise\", \"prelude\", \"pressure\", \"pressure\", \"pressure\", \"pressure\", \"primitive\", \"puppa\", \"puppy\", \"pussy\", \"pussy\", \"putty\", \"radio\", \"radio\", \"radio\", \"radio\", \"raggamuffin\", \"raver\", \"ready\", \"ready\", \"ready\", \"ready\", \"ready\", \"readymade\", \"real\", \"real\", \"real\", \"real\", \"real\", \"reason\", \"reason\", \"reason\", \"reason\", \"reason\", \"rebel\", \"rebel\", \"rebel\", \"rebel\", \"reggae\", \"reggae\", \"remake\", \"remember\", \"remember\", \"remember\", \"remember\", \"remember\", \"remix\", \"remix\", \"right\", \"right\", \"right\", \"right\", \"right\", \"riot\", \"riot\", \"riot\", \"rise\", \"rise\", \"rise\", \"rise\", \"rise\", \"roll\", \"roll\", \"roll\", \"roll\", \"roll\", \"romance\", \"romance\", \"romance\", \"romance\", \"ruckus\", \"sacco\", \"salvation\", \"salvation\", \"sanctuary\", \"santa\", \"santa\", \"save\", \"save\", \"save\", \"save\", \"save\", \"savior\", \"savior\", \"savior\", \"savior\", \"savoy\", \"say\", \"say\", \"say\", \"say\", \"say\", \"scream\", \"scream\", \"scream\", \"scream\", \"scream\", \"search\", \"search\", \"search\", \"search\", \"search\", \"sensi\", \"shakedown\", \"shall\", \"shall\", \"shall\", \"shall\", \"shall\", \"shame\", \"shame\", \"shame\", \"shame\", \"shame\", \"shawty\", \"shit\", \"shit\", \"shoo\", \"shoo\", \"shoot\", \"shoot\", \"shoot\", \"shoot\", \"shoot\", \"sick\", \"sick\", \"sick\", \"sick\", \"sick\", \"simmer\", \"simple\", \"simple\", \"simple\", \"simple\", \"simple\", \"sin\", \"sin\", \"sin\", \"sin\", \"sing\", \"sing\", \"sing\", \"sing\", \"sing\", \"sinner\", \"sinner\", \"sinner\", \"sinner\", \"skrrt\", \"skrt\", \"skull\", \"skull\", \"skull\", \"skull\", \"slavery\", \"slavery\", \"slavery\", \"smoke\", \"smoke\", \"smoke\", \"smoke\", \"smoke\", \"smokin\", \"smokin\", \"sodom\", \"somebody\", \"somebody\", \"somebody\", \"somebody\", \"somebody\", \"somethin\", \"somethin\", \"somethin\", \"somethin\", \"song\", \"song\", \"song\", \"song\", \"song\", \"soul\", \"soul\", \"soul\", \"soul\", \"soul\", \"sound\", \"sound\", \"sound\", \"sound\", \"sound\", \"spellbind\", \"spendin\", \"stand\", \"stand\", \"stand\", \"stand\", \"stand\", \"stardust\", \"stay\", \"stay\", \"stay\", \"stay\", \"stay\", \"steady\", \"steady\", \"steady\", \"steady\", \"steady\", \"stick\", \"stick\", \"stick\", \"stick\", \"stick\", \"stop\", \"stop\", \"stop\", \"stop\", \"stop\", \"stunt\", \"summer\", \"summer\", \"summer\", \"summer\", \"summer\", \"sumthin\", \"sunbeam\", \"supersonic\", \"survive\", \"survive\", \"survive\", \"survive\", \"survive\", \"susu\", \"swag\", \"sweet\", \"sweet\", \"sweet\", \"sweet\", \"sweet\", \"sweetest\", \"sweetest\", \"sweetest\", \"sweetest\", \"sweetest\", \"sweetheart\", \"sweetheart\", \"sweetheart\", \"sword\", \"sword\", \"sword\", \"sword\", \"symbol\", \"talk\", \"talk\", \"talk\", \"talk\", \"talk\", \"talkin\", \"talkin\", \"talkin\", \"tambourine\", \"tbird\", \"tear\", \"tear\", \"tear\", \"tear\", \"tear\", \"teardrop\", \"tell\", \"tell\", \"tell\", \"tell\", \"tell\", \"tender\", \"tender\", \"tender\", \"tender\", \"tenderly\", \"tenderly\", \"territory\", \"terrorist\", \"thang\", \"thang\", \"thank\", \"thank\", \"thank\", \"thank\", \"thank\", \"thee\", \"thee\", \"thee\", \"thee\", \"thee\", \"therapy\", \"thing\", \"thing\", \"thing\", \"thing\", \"thing\", \"think\", \"think\", \"think\", \"think\", \"think\", \"time\", \"time\", \"time\", \"time\", \"time\", \"today\", \"today\", \"today\", \"today\", \"today\", \"tomorrow\", \"tomorrow\", \"tomorrow\", \"tomorrow\", \"tomorrow\", \"tonight\", \"tonight\", \"tonight\", \"tonight\", \"tonight\", \"tonk\", \"traveler\", \"trigger\", \"trigger\", \"trigger\", \"trigger\", \"trigger\", \"tryna\", \"tryna\", \"tryna\", \"turn\", \"turn\", \"turn\", \"turn\", \"turn\", \"type\", \"type\", \"type\", \"type\", \"unable\", \"unable\", \"unnu\", \"unnu\", \"unto\", \"unto\", \"vacancy\", \"vibration\", \"vive\", \"voice\", \"voice\", \"voice\", \"voice\", \"voice\", \"voodoo\", \"voodoo\", \"voodoo\", \"waan\", \"waan\", \"wait\", \"wait\", \"wait\", \"wait\", \"wait\", \"walk\", \"walk\", \"walk\", \"walk\", \"walk\", \"waltz\", \"waltz\", \"wanna\", \"wanna\", \"wanna\", \"wanna\", \"wanna\", \"want\", \"want\", \"want\", \"want\", \"want\", \"wassup\", \"waste\", \"waste\", \"waste\", \"waste\", \"waste\", \"water\", \"water\", \"water\", \"water\", \"water\", \"weed\", \"weed\", \"weed\", \"weed\", \"welcome\", \"welcome\", \"welcome\", \"welcome\", \"welcome\", \"whatcha\", \"whatcha\", \"whatcha\", \"whoaohohoh\", \"whooo\", \"wimoweh\", \"wind\", \"wind\", \"wind\", \"wind\", \"wind\", \"wish\", \"wish\", \"wish\", \"wish\", \"wish\", \"woman\", \"woman\", \"woman\", \"woman\", \"woman\", \"wooooah\", \"world\", \"world\", \"world\", \"world\", \"world\", \"yack\", \"yall\", \"yeah\", \"yeah\", \"yeah\", \"yeah\", \"yeah\", \"yiggy\", \"youth\", \"youth\", \"youth\", \"youth\", \"youth\", \"zinga\", \"zion\", \"zoom\", \"zoom\"]}, \"R\": 30, \"lambda.step\": 0.01, \"plot.opts\": {\"xlab\": \"PC1\", \"ylab\": \"PC2\"}, \"topic.order\": [1, 3, 4, 2, 5]};\n",
       "\n",
       "function LDAvis_load_lib(url, callback){\n",
       "  var s = document.createElement('script');\n",
       "  s.src = url;\n",
       "  s.async = true;\n",
       "  s.onreadystatechange = s.onload = callback;\n",
       "  s.onerror = function(){console.warn(\"failed to load library \" + url);};\n",
       "  document.getElementsByTagName(\"head\")[0].appendChild(s);\n",
       "}\n",
       "\n",
       "if(typeof(LDAvis) !== \"undefined\"){\n",
       "   // already loaded: just create the visualization\n",
       "   !function(LDAvis){\n",
       "       new LDAvis(\"#\" + \"ldavis_el140111555798256284671773\", ldavis_el140111555798256284671773_data);\n",
       "   }(LDAvis);\n",
       "}else if(typeof define === \"function\" && define.amd){\n",
       "   // require.js is available: use it to load d3/LDAvis\n",
       "   require.config({paths: {d3: \"https://d3js.org/d3.v5\"}});\n",
       "   require([\"d3\"], function(d3){\n",
       "      window.d3 = d3;\n",
       "      LDAvis_load_lib(\"https://cdn.jsdelivr.net/gh/bmabey/pyLDAvis@3.4.0/pyLDAvis/js/ldavis.v3.0.0.js\", function(){\n",
       "        new LDAvis(\"#\" + \"ldavis_el140111555798256284671773\", ldavis_el140111555798256284671773_data);\n",
       "      });\n",
       "    });\n",
       "}else{\n",
       "    // require.js not available: dynamically load d3 & LDAvis\n",
       "    LDAvis_load_lib(\"https://d3js.org/d3.v5.js\", function(){\n",
       "         LDAvis_load_lib(\"https://cdn.jsdelivr.net/gh/bmabey/pyLDAvis@3.4.0/pyLDAvis/js/ldavis.v3.0.0.js\", function(){\n",
       "                 new LDAvis(\"#\" + \"ldavis_el140111555798256284671773\", ldavis_el140111555798256284671773_data);\n",
       "            })\n",
       "         });\n",
       "}\n",
       "</script>"
      ],
      "text/plain": [
       "<IPython.core.display.HTML object>"
      ]
     },
     "execution_count": 292,
     "metadata": {},
     "output_type": "execute_result"
    }
   ],
   "source": [
    "# Train and fit the LDA models\n",
    "lda_tf = LatentDirichletAllocation(n_components=5, random_state=0)\n",
    "lda_tf.fit(dtm_tf)\n",
    "\n",
    "# Train and fit the LDA models on the TF-IDF vectors\n",
    "lda_tfidf = LatentDirichletAllocation(n_components=5, random_state=0)\n",
    "lda_tfidf.fit(dtm_tfidf)\n",
    "\n",
    "# prepare the visualization\n",
    "pyLDAvis.enable_notebook()\n",
    "panel = pyLDAvis.sklearn.prepare(lda_tf, dtm_tf, tf_vectorizer)\n",
    "\n",
    "# display the visualization\n",
    "pyLDAvis.display(panel)"
   ]
  },
  {
   "attachments": {},
   "cell_type": "markdown",
   "metadata": {},
   "source": [
    "##### As we can see from the above graph, the words in cluster 1 include words from romantic or sad songs. So, we can say that cluster 1 is the cluster of romantic or sad songs. Basically, it's about love and it's consequences.\n",
    "\n",
    "##### Cluster 2 is the cluster of songs about nature or using nature as a metaphor, since it has words like spring, winter, sky, etc.\n",
    "\n",
    "##### Cluster 3 is the cluster of songs about money and seems mostly to be rap/hip-hop songs.\n",
    "\n",
    "##### Cluster 4 is the cluster of songs about revenge and negative emotions, since it has words like evil, death, etc.\n",
    "\n",
    "##### Cluster 5 is the cluster of party songs, since it has words like party, bass, rockin, etc."
   ]
  },
  {
   "attachments": {},
   "cell_type": "markdown",
   "metadata": {},
   "source": [
    "### **Training the Model**"
   ]
  },
  {
   "attachments": {},
   "cell_type": "markdown",
   "metadata": {},
   "source": [
    "#### **Training the model for Books Data**"
   ]
  },
  {
   "cell_type": "code",
   "execution_count": 293,
   "metadata": {},
   "outputs": [],
   "source": [
    "# Create tagged documents \n",
    "# the review is the document and title is the tag\n",
    "tagged_documents = []\n",
    "for _, row in books_df.iterrows():\n",
    "    tag = row['Title']\n",
    "    words = row['Book_Description'].split()  # Split the description into words\n",
    "    tagged_doc = TaggedDocument(words=words, tags=[tag])\n",
    "    tagged_documents.append(tagged_doc)\n"
   ]
  },
  {
   "attachments": {},
   "cell_type": "markdown",
   "metadata": {},
   "source": [
    "#### Hyperparameter Tuning"
   ]
  },
  {
   "cell_type": "code",
   "execution_count": 294,
   "metadata": {},
   "outputs": [
    {
     "data": {
      "image/png": "[encoded data removed]",
      "text/plain": [
       "<Figure size 640x480 with 1 Axes>"
      ]
     },
     "metadata": {},
     "output_type": "display_data"
    }
   ],
   "source": [
    "# Find the optimal vector size for the doc2vec model\n",
    "vector_sizes = [50, 100, 150, 200, 250, 300, 350, 400, 450, 500, 550]\n",
    "vector_size_scores = []\n",
    "\n",
    "for size in vector_sizes:\n",
    "    # Train a Doc2Vec model\n",
    "    model = Doc2Vec(dm=1, vector_size=size, window=5, min_count=1, epochs=10, workers=4)\n",
    "    model.build_vocab(tagged_documents)\n",
    "    model.train(tagged_documents, total_examples=model.corpus_count, epochs=model.epochs)\n",
    "    \n",
    "    # Get the document vectors\n",
    "    doc_vectors = []\n",
    "    for tag in books_df['Title']:\n",
    "        doc_vectors.append(model.docvecs[tag])\n",
    "    \n",
    "    # Get the accuracy of the model\n",
    "    knn = KNeighborsClassifier(n_neighbors=5, metric='cosine')\n",
    "    knn.fit(doc_vectors, books_df['Title'])\n",
    "    accuracy = knn.score(doc_vectors, books_df['Title'])\n",
    "    \n",
    "    # Append the accuracy to the list of scores\n",
    "    vector_size_scores.append(accuracy)\n",
    "\n",
    "# Plot the accuracies by vector size\n",
    "plt.plot(vector_sizes, vector_size_scores)\n",
    "plt.xlabel('Vector Size')\n",
    "plt.ylabel('Accuracy')\n",
    "plt.title('Finding Optimal Vector Size')\n",
    "plt.show()\n"
   ]
  },
  {
   "cell_type": "code",
   "execution_count": 295,
   "metadata": {},
   "outputs": [
    {
     "data": {
      "image/png": "[encoded data removed]",
      "text/plain": [
       "<Figure size 640x480 with 1 Axes>"
      ]
     },
     "metadata": {},
     "output_type": "display_data"
    }
   ],
   "source": [
    "# Find optimal number of epochs\n",
    "epochs = [5, 10, 15, 20, 25, 30]\n",
    "epoch_scores = []\n",
    "\n",
    "for epoch in epochs:\n",
    "    # Train a Doc2Vec model\n",
    "    model = Doc2Vec(dm=1, vector_size=250, window=5, min_count=1, epochs=epoch, workers=4)\n",
    "    model.build_vocab(tagged_documents)\n",
    "    model.train(tagged_documents, total_examples=model.corpus_count, epochs=model.epochs)\n",
    "    \n",
    "    # Get the document vectors\n",
    "    doc_vectors = []\n",
    "    for tag in books_df['Title']:\n",
    "        doc_vectors.append(model.docvecs[tag])\n",
    "    \n",
    "    # Get the accuracy of the model\n",
    "    knn = KNeighborsClassifier(n_neighbors=5, metric='cosine')\n",
    "    knn.fit(doc_vectors, books_df['Title'])\n",
    "    accuracy = knn.score(doc_vectors, books_df['Title'])\n",
    "    \n",
    "    # Append the accuracy to the list of scores\n",
    "    epoch_scores.append(accuracy)\n",
    "\n",
    "# Plot the accuracies by number of epochs\n",
    "plt.plot(epochs, epoch_scores)\n",
    "plt.xlabel('Epochs')\n",
    "plt.ylabel('Accuracy')\n",
    "plt.title('Finding Optimal Number of Epochs')\n",
    "plt.show()"
   ]
  },
  {
   "cell_type": "code",
   "execution_count": 296,
   "metadata": {},
   "outputs": [],
   "source": [
    "# Train a Doc2Vec model with the optimal parameters\n",
    "book_model = Doc2Vec(tagged_documents, vector_size=250, window=5, epochs=20, dm=0, min_count=2)"
   ]
  },
  {
   "cell_type": "code",
   "execution_count": 297,
   "metadata": {},
   "outputs": [
    {
     "data": {
      "text/html": [
       "<div>\n",
       "<style scoped>\n",
       "    .dataframe tbody tr th:only-of-type {\n",
       "        vertical-align: middle;\n",
       "    }\n",
       "\n",
       "    .dataframe tbody tr th {\n",
       "        vertical-align: top;\n",
       "    }\n",
       "\n",
       "    .dataframe thead th {\n",
       "        text-align: right;\n",
       "    }\n",
       "</style>\n",
       "<table border=\"1\" class=\"dataframe\">\n",
       "  <thead>\n",
       "    <tr style=\"text-align: right;\">\n",
       "      <th></th>\n",
       "      <th>0</th>\n",
       "      <th>1</th>\n",
       "      <th>2</th>\n",
       "      <th>3</th>\n",
       "      <th>4</th>\n",
       "      <th>5</th>\n",
       "      <th>6</th>\n",
       "      <th>7</th>\n",
       "      <th>8</th>\n",
       "      <th>9</th>\n",
       "      <th>...</th>\n",
       "      <th>240</th>\n",
       "      <th>241</th>\n",
       "      <th>242</th>\n",
       "      <th>243</th>\n",
       "      <th>244</th>\n",
       "      <th>245</th>\n",
       "      <th>246</th>\n",
       "      <th>247</th>\n",
       "      <th>248</th>\n",
       "      <th>249</th>\n",
       "    </tr>\n",
       "  </thead>\n",
       "  <tbody>\n",
       "    <tr>\n",
       "      <th>0</th>\n",
       "      <td>0.125986</td>\n",
       "      <td>-0.134286</td>\n",
       "      <td>-0.208127</td>\n",
       "      <td>0.198773</td>\n",
       "      <td>-0.083731</td>\n",
       "      <td>0.355222</td>\n",
       "      <td>-0.309607</td>\n",
       "      <td>0.105951</td>\n",
       "      <td>-0.223053</td>\n",
       "      <td>-0.113557</td>\n",
       "      <td>...</td>\n",
       "      <td>0.075367</td>\n",
       "      <td>-0.071757</td>\n",
       "      <td>0.089066</td>\n",
       "      <td>-0.390910</td>\n",
       "      <td>-0.009924</td>\n",
       "      <td>-0.106461</td>\n",
       "      <td>0.025354</td>\n",
       "      <td>0.050090</td>\n",
       "      <td>-0.212746</td>\n",
       "      <td>-0.212347</td>\n",
       "    </tr>\n",
       "    <tr>\n",
       "      <th>1</th>\n",
       "      <td>0.100675</td>\n",
       "      <td>-0.237147</td>\n",
       "      <td>-0.118059</td>\n",
       "      <td>0.165274</td>\n",
       "      <td>0.088617</td>\n",
       "      <td>0.382351</td>\n",
       "      <td>-0.294613</td>\n",
       "      <td>0.146485</td>\n",
       "      <td>-0.142892</td>\n",
       "      <td>0.014110</td>\n",
       "      <td>...</td>\n",
       "      <td>0.137765</td>\n",
       "      <td>0.043280</td>\n",
       "      <td>0.106360</td>\n",
       "      <td>-0.379633</td>\n",
       "      <td>0.176896</td>\n",
       "      <td>-0.187657</td>\n",
       "      <td>-0.046869</td>\n",
       "      <td>0.110423</td>\n",
       "      <td>-0.150503</td>\n",
       "      <td>-0.155043</td>\n",
       "    </tr>\n",
       "    <tr>\n",
       "      <th>2</th>\n",
       "      <td>0.129714</td>\n",
       "      <td>-0.167695</td>\n",
       "      <td>0.006831</td>\n",
       "      <td>0.123053</td>\n",
       "      <td>0.197091</td>\n",
       "      <td>0.230882</td>\n",
       "      <td>-0.169054</td>\n",
       "      <td>0.033550</td>\n",
       "      <td>-0.192549</td>\n",
       "      <td>0.042341</td>\n",
       "      <td>...</td>\n",
       "      <td>0.178395</td>\n",
       "      <td>-0.113729</td>\n",
       "      <td>0.255381</td>\n",
       "      <td>-0.235503</td>\n",
       "      <td>0.158753</td>\n",
       "      <td>-0.076846</td>\n",
       "      <td>0.027550</td>\n",
       "      <td>0.154444</td>\n",
       "      <td>-0.134532</td>\n",
       "      <td>-0.011726</td>\n",
       "    </tr>\n",
       "    <tr>\n",
       "      <th>3</th>\n",
       "      <td>0.159824</td>\n",
       "      <td>-0.263061</td>\n",
       "      <td>0.038184</td>\n",
       "      <td>0.371639</td>\n",
       "      <td>-0.008663</td>\n",
       "      <td>0.108378</td>\n",
       "      <td>-0.240213</td>\n",
       "      <td>0.014529</td>\n",
       "      <td>-0.212781</td>\n",
       "      <td>-0.093625</td>\n",
       "      <td>...</td>\n",
       "      <td>0.184182</td>\n",
       "      <td>-0.299614</td>\n",
       "      <td>0.017319</td>\n",
       "      <td>-0.280541</td>\n",
       "      <td>0.252122</td>\n",
       "      <td>-0.288470</td>\n",
       "      <td>-0.158535</td>\n",
       "      <td>0.147105</td>\n",
       "      <td>-0.193191</td>\n",
       "      <td>-0.013530</td>\n",
       "    </tr>\n",
       "    <tr>\n",
       "      <th>4</th>\n",
       "      <td>0.115786</td>\n",
       "      <td>-0.106272</td>\n",
       "      <td>-0.095703</td>\n",
       "      <td>0.095093</td>\n",
       "      <td>-0.144928</td>\n",
       "      <td>0.327021</td>\n",
       "      <td>-0.037968</td>\n",
       "      <td>-0.038685</td>\n",
       "      <td>0.073160</td>\n",
       "      <td>0.013647</td>\n",
       "      <td>...</td>\n",
       "      <td>-0.119213</td>\n",
       "      <td>-0.102146</td>\n",
       "      <td>0.029855</td>\n",
       "      <td>-0.331512</td>\n",
       "      <td>-0.040126</td>\n",
       "      <td>-0.072731</td>\n",
       "      <td>-0.011632</td>\n",
       "      <td>-0.025591</td>\n",
       "      <td>-0.192138</td>\n",
       "      <td>-0.166814</td>\n",
       "    </tr>\n",
       "    <tr>\n",
       "      <th>...</th>\n",
       "      <td>...</td>\n",
       "      <td>...</td>\n",
       "      <td>...</td>\n",
       "      <td>...</td>\n",
       "      <td>...</td>\n",
       "      <td>...</td>\n",
       "      <td>...</td>\n",
       "      <td>...</td>\n",
       "      <td>...</td>\n",
       "      <td>...</td>\n",
       "      <td>...</td>\n",
       "      <td>...</td>\n",
       "      <td>...</td>\n",
       "      <td>...</td>\n",
       "      <td>...</td>\n",
       "      <td>...</td>\n",
       "      <td>...</td>\n",
       "      <td>...</td>\n",
       "      <td>...</td>\n",
       "      <td>...</td>\n",
       "      <td>...</td>\n",
       "    </tr>\n",
       "    <tr>\n",
       "      <th>994</th>\n",
       "      <td>0.000661</td>\n",
       "      <td>-0.000949</td>\n",
       "      <td>0.003678</td>\n",
       "      <td>-0.000811</td>\n",
       "      <td>0.001363</td>\n",
       "      <td>-0.000782</td>\n",
       "      <td>0.002704</td>\n",
       "      <td>-0.002084</td>\n",
       "      <td>-0.000451</td>\n",
       "      <td>0.000620</td>\n",
       "      <td>...</td>\n",
       "      <td>-0.003736</td>\n",
       "      <td>-0.003848</td>\n",
       "      <td>-0.001271</td>\n",
       "      <td>-0.003767</td>\n",
       "      <td>-0.001639</td>\n",
       "      <td>0.003795</td>\n",
       "      <td>-0.001157</td>\n",
       "      <td>-0.001085</td>\n",
       "      <td>0.001076</td>\n",
       "      <td>-0.000658</td>\n",
       "    </tr>\n",
       "    <tr>\n",
       "      <th>995</th>\n",
       "      <td>0.116849</td>\n",
       "      <td>-0.088660</td>\n",
       "      <td>0.061082</td>\n",
       "      <td>0.284749</td>\n",
       "      <td>-0.066937</td>\n",
       "      <td>0.090207</td>\n",
       "      <td>-0.206457</td>\n",
       "      <td>0.117978</td>\n",
       "      <td>-0.119008</td>\n",
       "      <td>-0.007696</td>\n",
       "      <td>...</td>\n",
       "      <td>0.098632</td>\n",
       "      <td>-0.195024</td>\n",
       "      <td>0.093346</td>\n",
       "      <td>-0.326273</td>\n",
       "      <td>0.058103</td>\n",
       "      <td>-0.294954</td>\n",
       "      <td>-0.119917</td>\n",
       "      <td>0.088749</td>\n",
       "      <td>-0.145704</td>\n",
       "      <td>-0.133858</td>\n",
       "    </tr>\n",
       "    <tr>\n",
       "      <th>996</th>\n",
       "      <td>0.233469</td>\n",
       "      <td>-0.237575</td>\n",
       "      <td>0.008698</td>\n",
       "      <td>0.275675</td>\n",
       "      <td>-0.015731</td>\n",
       "      <td>0.079336</td>\n",
       "      <td>-0.190616</td>\n",
       "      <td>0.166078</td>\n",
       "      <td>-0.148240</td>\n",
       "      <td>0.116273</td>\n",
       "      <td>...</td>\n",
       "      <td>0.174959</td>\n",
       "      <td>-0.203077</td>\n",
       "      <td>0.049334</td>\n",
       "      <td>-0.120067</td>\n",
       "      <td>0.033356</td>\n",
       "      <td>-0.286952</td>\n",
       "      <td>-0.134191</td>\n",
       "      <td>0.127223</td>\n",
       "      <td>-0.123986</td>\n",
       "      <td>-0.102581</td>\n",
       "    </tr>\n",
       "    <tr>\n",
       "      <th>997</th>\n",
       "      <td>0.141325</td>\n",
       "      <td>-0.316899</td>\n",
       "      <td>-0.035160</td>\n",
       "      <td>0.112571</td>\n",
       "      <td>0.018999</td>\n",
       "      <td>0.044731</td>\n",
       "      <td>-0.193888</td>\n",
       "      <td>0.217824</td>\n",
       "      <td>-0.350917</td>\n",
       "      <td>0.099951</td>\n",
       "      <td>...</td>\n",
       "      <td>0.175349</td>\n",
       "      <td>0.075521</td>\n",
       "      <td>0.005117</td>\n",
       "      <td>-0.504119</td>\n",
       "      <td>0.286035</td>\n",
       "      <td>-0.356025</td>\n",
       "      <td>-0.150091</td>\n",
       "      <td>0.200507</td>\n",
       "      <td>-0.205030</td>\n",
       "      <td>-0.218359</td>\n",
       "    </tr>\n",
       "    <tr>\n",
       "      <th>998</th>\n",
       "      <td>0.092227</td>\n",
       "      <td>-0.145659</td>\n",
       "      <td>-0.087961</td>\n",
       "      <td>0.065875</td>\n",
       "      <td>-0.047626</td>\n",
       "      <td>0.300949</td>\n",
       "      <td>-0.373683</td>\n",
       "      <td>0.189097</td>\n",
       "      <td>-0.255237</td>\n",
       "      <td>-0.003704</td>\n",
       "      <td>...</td>\n",
       "      <td>0.064233</td>\n",
       "      <td>-0.076687</td>\n",
       "      <td>0.111193</td>\n",
       "      <td>-0.279580</td>\n",
       "      <td>0.015658</td>\n",
       "      <td>-0.064406</td>\n",
       "      <td>0.067010</td>\n",
       "      <td>0.054603</td>\n",
       "      <td>-0.182679</td>\n",
       "      <td>-0.214259</td>\n",
       "    </tr>\n",
       "  </tbody>\n",
       "</table>\n",
       "<p>999 rows × 250 columns</p>\n",
       "</div>"
      ],
      "text/plain": [
       "          0         1         2         3         4         5         6    \\\n",
       "0    0.125986 -0.134286 -0.208127  0.198773 -0.083731  0.355222 -0.309607   \n",
       "1    0.100675 -0.237147 -0.118059  0.165274  0.088617  0.382351 -0.294613   \n",
       "2    0.129714 -0.167695  0.006831  0.123053  0.197091  0.230882 -0.169054   \n",
       "3    0.159824 -0.263061  0.038184  0.371639 -0.008663  0.108378 -0.240213   \n",
       "4    0.115786 -0.106272 -0.095703  0.095093 -0.144928  0.327021 -0.037968   \n",
       "..        ...       ...       ...       ...       ...       ...       ...   \n",
       "994  0.000661 -0.000949  0.003678 -0.000811  0.001363 -0.000782  0.002704   \n",
       "995  0.116849 -0.088660  0.061082  0.284749 -0.066937  0.090207 -0.206457   \n",
       "996  0.233469 -0.237575  0.008698  0.275675 -0.015731  0.079336 -0.190616   \n",
       "997  0.141325 -0.316899 -0.035160  0.112571  0.018999  0.044731 -0.193888   \n",
       "998  0.092227 -0.145659 -0.087961  0.065875 -0.047626  0.300949 -0.373683   \n",
       "\n",
       "          7         8         9    ...       240       241       242  \\\n",
       "0    0.105951 -0.223053 -0.113557  ...  0.075367 -0.071757  0.089066   \n",
       "1    0.146485 -0.142892  0.014110  ...  0.137765  0.043280  0.106360   \n",
       "2    0.033550 -0.192549  0.042341  ...  0.178395 -0.113729  0.255381   \n",
       "3    0.014529 -0.212781 -0.093625  ...  0.184182 -0.299614  0.017319   \n",
       "4   -0.038685  0.073160  0.013647  ... -0.119213 -0.102146  0.029855   \n",
       "..        ...       ...       ...  ...       ...       ...       ...   \n",
       "994 -0.002084 -0.000451  0.000620  ... -0.003736 -0.003848 -0.001271   \n",
       "995  0.117978 -0.119008 -0.007696  ...  0.098632 -0.195024  0.093346   \n",
       "996  0.166078 -0.148240  0.116273  ...  0.174959 -0.203077  0.049334   \n",
       "997  0.217824 -0.350917  0.099951  ...  0.175349  0.075521  0.005117   \n",
       "998  0.189097 -0.255237 -0.003704  ...  0.064233 -0.076687  0.111193   \n",
       "\n",
       "          243       244       245       246       247       248       249  \n",
       "0   -0.390910 -0.009924 -0.106461  0.025354  0.050090 -0.212746 -0.212347  \n",
       "1   -0.379633  0.176896 -0.187657 -0.046869  0.110423 -0.150503 -0.155043  \n",
       "2   -0.235503  0.158753 -0.076846  0.027550  0.154444 -0.134532 -0.011726  \n",
       "3   -0.280541  0.252122 -0.288470 -0.158535  0.147105 -0.193191 -0.013530  \n",
       "4   -0.331512 -0.040126 -0.072731 -0.011632 -0.025591 -0.192138 -0.166814  \n",
       "..        ...       ...       ...       ...       ...       ...       ...  \n",
       "994 -0.003767 -0.001639  0.003795 -0.001157 -0.001085  0.001076 -0.000658  \n",
       "995 -0.326273  0.058103 -0.294954 -0.119917  0.088749 -0.145704 -0.133858  \n",
       "996 -0.120067  0.033356 -0.286952 -0.134191  0.127223 -0.123986 -0.102581  \n",
       "997 -0.504119  0.286035 -0.356025 -0.150091  0.200507 -0.205030 -0.218359  \n",
       "998 -0.279580  0.015658 -0.064406  0.067010  0.054603 -0.182679 -0.214259  \n",
       "\n",
       "[999 rows x 250 columns]"
      ]
     },
     "execution_count": 297,
     "metadata": {},
     "output_type": "execute_result"
    }
   ],
   "source": [
    "# Create a dataframe of the vectors from each book\n",
    "vectors_df = pd.DataFrame()\n",
    "for _, row in books_df.iterrows():\n",
    "    vectors_df = vectors_df.append(pd.Series(book_model.dv[row['Title']]), ignore_index=True)\n",
    "\n",
    "vectors_df"
   ]
  },
  {
   "attachments": {},
   "cell_type": "markdown",
   "metadata": {},
   "source": [
    "### Using PCA to reduce the dimensions of the data"
   ]
  },
  {
   "cell_type": "code",
   "execution_count": 298,
   "metadata": {},
   "outputs": [],
   "source": [
    "# Create an instance PCA with 3 components\n",
    "pca = PCA(n_components=3)\n",
    "\n",
    "# Fit PCA to the vectors\n",
    "pca.fit(vectors_df)\n",
    "\n",
    "# Transform the vectors and store in a new dataframe\n",
    "pca_df = pd.DataFrame(pca.transform(vectors_df), columns=['pca_1', 'pca_2', 'pca_3'])\n",
    "\n",
    "# Add the book titles to the dataframe\n",
    "pca_df[\"Title\"] = books_df[\"Title\"]\n"
   ]
  },
  {
   "cell_type": "code",
   "execution_count": 299,
   "metadata": {},
   "outputs": [],
   "source": [
    "# Append the vectors to the main dataframe\n",
    "books_df[\"Vec1\"] = pca_df[\"pca_1\"]\n",
    "books_df[\"Vec2\"] = pca_df[\"pca_2\"]\n",
    "books_df[\"Vec3\"] = pca_df[\"pca_3\"]"
   ]
  },
  {
   "cell_type": "code",
   "execution_count": 300,
   "metadata": {},
   "outputs": [
    {
     "data": {
      "text/html": [
       "<div>\n",
       "<style scoped>\n",
       "    .dataframe tbody tr th:only-of-type {\n",
       "        vertical-align: middle;\n",
       "    }\n",
       "\n",
       "    .dataframe tbody tr th {\n",
       "        vertical-align: top;\n",
       "    }\n",
       "\n",
       "    .dataframe thead th {\n",
       "        text-align: right;\n",
       "    }\n",
       "</style>\n",
       "<table border=\"1\" class=\"dataframe\">\n",
       "  <thead>\n",
       "    <tr style=\"text-align: right;\">\n",
       "      <th></th>\n",
       "      <th>Title</th>\n",
       "      <th>Category</th>\n",
       "      <th>Book_Description</th>\n",
       "      <th>Vec1</th>\n",
       "      <th>Vec2</th>\n",
       "      <th>Vec3</th>\n",
       "    </tr>\n",
       "  </thead>\n",
       "  <tbody>\n",
       "    <tr>\n",
       "      <th>0</th>\n",
       "      <td>A Light in the Attic</td>\n",
       "      <td>Poetry</td>\n",
       "      <td>hard imagin world without light attic nowclass...</td>\n",
       "      <td>0.514689</td>\n",
       "      <td>0.446421</td>\n",
       "      <td>0.105085</td>\n",
       "    </tr>\n",
       "    <tr>\n",
       "      <th>1</th>\n",
       "      <td>Tipping the Velvet</td>\n",
       "      <td>Historical Fiction</td>\n",
       "      <td>erot absorbingwritten starl powerth new york t...</td>\n",
       "      <td>-0.219717</td>\n",
       "      <td>0.022567</td>\n",
       "      <td>-0.089398</td>\n",
       "    </tr>\n",
       "    <tr>\n",
       "      <th>2</th>\n",
       "      <td>Soumission</td>\n",
       "      <td>Fiction</td>\n",
       "      <td>dan un franc assez proch de la ntre un homm se...</td>\n",
       "      <td>0.478949</td>\n",
       "      <td>-0.327231</td>\n",
       "      <td>-0.570650</td>\n",
       "    </tr>\n",
       "    <tr>\n",
       "      <th>3</th>\n",
       "      <td>Sharp Objects</td>\n",
       "      <td>Mystery</td>\n",
       "      <td>wick hipbon girl across heart word like road m...</td>\n",
       "      <td>-1.047820</td>\n",
       "      <td>0.030745</td>\n",
       "      <td>-0.091382</td>\n",
       "    </tr>\n",
       "    <tr>\n",
       "      <th>4</th>\n",
       "      <td>Sapiens: A Brief History of Humankind</td>\n",
       "      <td>History</td>\n",
       "      <td>renown historian come groundbreak narr humanit...</td>\n",
       "      <td>1.273516</td>\n",
       "      <td>-0.855692</td>\n",
       "      <td>0.110162</td>\n",
       "    </tr>\n",
       "    <tr>\n",
       "      <th>...</th>\n",
       "      <td>...</td>\n",
       "      <td>...</td>\n",
       "      <td>...</td>\n",
       "      <td>...</td>\n",
       "      <td>...</td>\n",
       "      <td>...</td>\n",
       "    </tr>\n",
       "    <tr>\n",
       "      <th>994</th>\n",
       "      <td>Beyond Good and Evil</td>\n",
       "      <td>Philosophy</td>\n",
       "      <td>friedrich nietzsch beyond good evil translat g...</td>\n",
       "      <td>-0.063919</td>\n",
       "      <td>-0.224519</td>\n",
       "      <td>-0.212188</td>\n",
       "    </tr>\n",
       "    <tr>\n",
       "      <th>995</th>\n",
       "      <td>Alice in Wonderland (Alice's Adventures in Won...</td>\n",
       "      <td>Classics</td>\n",
       "      <td></td>\n",
       "      <td>-0.517046</td>\n",
       "      <td>-0.267148</td>\n",
       "      <td>0.162447</td>\n",
       "    </tr>\n",
       "    <tr>\n",
       "      <th>996</th>\n",
       "      <td>Ajin: Demi-Human, Volume 1 (Ajin: Demi-Human #1)</td>\n",
       "      <td>Sequential Art</td>\n",
       "      <td>high school student kei nagai struck dead griz...</td>\n",
       "      <td>-0.749503</td>\n",
       "      <td>-0.380599</td>\n",
       "      <td>-0.561633</td>\n",
       "    </tr>\n",
       "    <tr>\n",
       "      <th>997</th>\n",
       "      <td>A Spy's Devotion (The Regency Spies of London #1)</td>\n",
       "      <td>Historical Fiction</td>\n",
       "      <td>england regenc era manner eleg reign public li...</td>\n",
       "      <td>-0.301698</td>\n",
       "      <td>-0.223744</td>\n",
       "      <td>-0.064041</td>\n",
       "    </tr>\n",
       "    <tr>\n",
       "      <th>998</th>\n",
       "      <td>1st to Die (Women's Murder Club #1)</td>\n",
       "      <td>Mystery</td>\n",
       "      <td>jame patterson bestsel author alex cross novel...</td>\n",
       "      <td>0.352359</td>\n",
       "      <td>0.313709</td>\n",
       "      <td>-0.355746</td>\n",
       "    </tr>\n",
       "  </tbody>\n",
       "</table>\n",
       "<p>779 rows × 6 columns</p>\n",
       "</div>"
      ],
      "text/plain": [
       "                                                 Title            Category  \\\n",
       "0                                 A Light in the Attic              Poetry   \n",
       "1                                   Tipping the Velvet  Historical Fiction   \n",
       "2                                           Soumission             Fiction   \n",
       "3                                        Sharp Objects             Mystery   \n",
       "4                Sapiens: A Brief History of Humankind             History   \n",
       "..                                                 ...                 ...   \n",
       "994                               Beyond Good and Evil          Philosophy   \n",
       "995  Alice in Wonderland (Alice's Adventures in Won...            Classics   \n",
       "996   Ajin: Demi-Human, Volume 1 (Ajin: Demi-Human #1)      Sequential Art   \n",
       "997  A Spy's Devotion (The Regency Spies of London #1)  Historical Fiction   \n",
       "998                1st to Die (Women's Murder Club #1)             Mystery   \n",
       "\n",
       "                                      Book_Description      Vec1      Vec2  \\\n",
       "0    hard imagin world without light attic nowclass...  0.514689  0.446421   \n",
       "1    erot absorbingwritten starl powerth new york t... -0.219717  0.022567   \n",
       "2    dan un franc assez proch de la ntre un homm se...  0.478949 -0.327231   \n",
       "3    wick hipbon girl across heart word like road m... -1.047820  0.030745   \n",
       "4    renown historian come groundbreak narr humanit...  1.273516 -0.855692   \n",
       "..                                                 ...       ...       ...   \n",
       "994  friedrich nietzsch beyond good evil translat g... -0.063919 -0.224519   \n",
       "995                                                    -0.517046 -0.267148   \n",
       "996  high school student kei nagai struck dead griz... -0.749503 -0.380599   \n",
       "997  england regenc era manner eleg reign public li... -0.301698 -0.223744   \n",
       "998  jame patterson bestsel author alex cross novel...  0.352359  0.313709   \n",
       "\n",
       "         Vec3  \n",
       "0    0.105085  \n",
       "1   -0.089398  \n",
       "2   -0.570650  \n",
       "3   -0.091382  \n",
       "4    0.110162  \n",
       "..        ...  \n",
       "994 -0.212188  \n",
       "995  0.162447  \n",
       "996 -0.561633  \n",
       "997 -0.064041  \n",
       "998 -0.355746  \n",
       "\n",
       "[779 rows x 6 columns]"
      ]
     },
     "execution_count": 300,
     "metadata": {},
     "output_type": "execute_result"
    }
   ],
   "source": [
    "# Removing the unwanted rows\n",
    "books_df = books_df[books_df['Category'] != 'Default']\n",
    "books_df = books_df[books_df['Category'] != 'Add a comment']\n",
    "books_df = books_df.dropna()\n",
    "books_df"
   ]
  },
  {
   "cell_type": "code",
   "execution_count": 301,
   "metadata": {},
   "outputs": [
    {
     "data": {
      "application/vnd.plotly.v1+json": {
       "config": {
        "plotlyServerURL": "https://plot.ly"
       },
       "data": [
        {
         "hovertemplate": "<b>%{hovertext}</b><br><br>color=Poetry<br>x=%{x}<br>y=%{y}<br>z=%{z}<extra></extra>",
         "hovertext": [
          "A Light in the Attic",
          "The Black Maria",
          "Shakespeare's Sonnets",
          "Olio",
          "You can't bury them all: Poems",
          "Slow States of Collapse: Poems",
          "Untitled Collection: Sabbath Poems 2014",
          "Poems That Make Grown Women Cry",
          "Night Sky with Exit Wounds",
          "salt.",
          "Quarter Life Poetry: Poems for the Young, Broke and Hangry",
          "Out of Print: City Lights Spotlight No. 14",
          "Les Fleurs du Mal",
          "Howl and Other Poems",
          "Leave This Song Behind: Teen Poetry at Its Best",
          "The Collected Poems of W.B. Yeats (The Collected Works of W.B. Yeats #1)",
          "The Crossover",
          "Booked",
          "Twenty Love Poems and a Song of Despair"
         ],
         "legendgroup": "Poetry",
         "marker": {
          "color": "#636efa",
          "opacity": 0.6,
          "size": 5,
          "symbol": "circle"
         },
         "mode": "markers",
         "name": "Poetry",
         "scene": "scene",
         "showlegend": true,
         "type": "scatter3d",
         "x": [
          0.5146892666816711,
          0.8397486805915833,
          1.145458698272705,
          0.8730356097221375,
          0.4647444486618042,
          0.741795003414154,
          0.5103495121002197,
          0.5824024081230164,
          0.22845745086669922,
          0.1854109913110733,
          0.3306052088737488,
          -1.1544394493103027,
          -0.098485067486763,
          1.2137515544891357,
          -0.4868048131465912,
          1.3630107641220093,
          -0.5791130661964417,
          -0.7689831256866455,
          0.18466730415821075
         ],
         "y": [
          0.4464209973812103,
          -0.7670877575874329,
          -0.3903197944164276,
          -1.0075230598449707,
          -0.5368966460227966,
          -0.19245022535324097,
          -0.15006206929683685,
          -0.5917446613311768,
          -0.07057411223649979,
          -0.15091735124588013,
          0.8736705780029297,
          0.5960152745246887,
          -0.08012653142213821,
          -0.5860174894332886,
          -0.52973872423172,
          2.4161219596862793,
          -0.4436374604701996,
          0.4459454119205475,
          -1.0651776790618896
         ],
         "z": [
          0.10508520156145096,
          -0.2736046612262726,
          -0.1277797371149063,
          -0.3360692262649536,
          0.15443281829357147,
          -0.05090143159031868,
          -0.134882852435112,
          -0.08948112279176712,
          -0.12311814725399017,
          0.02734622173011303,
          0.8659423589706421,
          -0.003701430279761553,
          -0.15768413245677948,
          -0.5092216730117798,
          0.09942035377025604,
          -1.7329902648925781,
          0.17891861498355865,
          0.15142717957496643,
          -0.6377036571502686
         ]
        },
        {
         "hovertemplate": "<b>%{hovertext}</b><br><br>color=Historical Fiction<br>x=%{x}<br>y=%{y}<br>z=%{z}<extra></extra>",
         "hovertext": [
          "Tipping the Velvet",
          "Forever and Forever: The Courtship of Henry Longfellow and Fanny Appleton",
          "A Flight of Arrows (The Pathfinders #2)",
          "The House by the Lake",
          "Mrs. Houdini",
          "The Marriage of Opposites",
          "Glory over Everything: Beyond The Kitchen House",
          "Love, Lies and Spies",
          "A Paris Apartment",
          "Lilac Girls",
          "The Constant Princess (The Tudor Court #1)",
          "The Invention of Wings",
          "World Without End (The Pillars of the Earth #2)",
          "The Passion of Dolssa",
          "Girl With a Pearl Earring",
          "Voyager (Outlander #3)",
          "The Red Tent",
          "The Last Painting of Sara de Vos",
          "The Guernsey Literary and Potato Peel Pie Society",
          "Girl in the Blue Coat",
          "Between Shades of Gray",
          "While You Were Mine",
          "The Secret Healer",
          "Starlark",
          "Lost Among the Living",
          "A Spy's Devotion (The Regency Spies of London #1)"
         ],
         "legendgroup": "Historical Fiction",
         "marker": {
          "color": "#EF553B",
          "opacity": 0.6,
          "size": 5,
          "symbol": "circle"
         },
         "mode": "markers",
         "name": "Historical Fiction",
         "scene": "scene",
         "showlegend": true,
         "type": "scatter3d",
         "x": [
          -0.21971678733825684,
          0.391579806804657,
          -0.33330655097961426,
          -0.6893954277038574,
          -0.8848333358764648,
          -0.7213343381881714,
          -0.4347928464412689,
          0.7810766100883484,
          1.018426537513733,
          -0.1454588919878006,
          -0.2769310772418976,
          0.39803576469421387,
          -0.37412258982658386,
          0.7310706973075867,
          -0.7464055418968201,
          1.182944416999817,
          0.973338782787323,
          -0.49688562750816345,
          -0.8915259838104248,
          -0.723630964756012,
          -0.7009741067886353,
          -0.8320218920707703,
          -0.4669739007949829,
          -0.19069890677928925,
          0.07937265187501907,
          -0.30169790983200073
         ],
         "y": [
          0.022567179054021835,
          -0.4966503977775574,
          -0.7251855731010437,
          -0.29556360840797424,
          -0.4557383954524994,
          -0.6021075248718262,
          -0.011056597344577312,
          0.7452011108398438,
          1.8236383199691772,
          0.31807515025138855,
          0.03611920773983002,
          -0.1244330033659935,
          -0.1879628747701645,
          -0.6337382793426514,
          0.47823381423950195,
          -0.23493888974189758,
          -0.17818765342235565,
          -0.40363794565200806,
          -0.09793628007173538,
          0.567815363407135,
          0.13536415994167328,
          0.3981766104698181,
          -0.7575703859329224,
          0.2278783768415451,
          -1.0253944396972656,
          -0.2237444669008255
         ],
         "z": [
          -0.0893978625535965,
          -0.02531053125858307,
          -0.23727157711982727,
          -0.4021313786506653,
          0.08503299206495285,
          -0.15523388981819153,
          -0.5563708543777466,
          -0.5019450783729553,
          -1.3885023593902588,
          0.11081419140100479,
          -0.007688051089644432,
          -0.46372121572494507,
          0.13874009251594543,
          -0.19556593894958496,
          0.10051388293504715,
          0.4413206875324249,
          1.2203551530838013,
          0.07841664552688599,
          -0.28961390256881714,
          -0.08613643050193787,
          0.19778671860694885,
          0.2506311535835266,
          -0.08892395347356796,
          0.07512626051902771,
          -0.24838358163833618,
          -0.06404117494821548
         ]
        },
        {
         "hovertemplate": "<b>%{hovertext}</b><br><br>color=Fiction<br>x=%{x}<br>y=%{y}<br>z=%{z}<extra></extra>",
         "hovertext": [
          "Soumission",
          "Private Paris (Private #10)",
          "We Love You, Charlie Freeman",
          "Thirst",
          "The Murder That Never Was (Forensic Instincts #5)",
          "Tuesday Nights in 1980",
          "The Vacationers",
          "The Regional Office Is Under Attack!",
          "Finders Keepers (Bill Hodges Trilogy #2)",
          "The Time Keeper",
          "The Testament of Mary",
          "The First Hostage (J.B. Collins #2)",
          "Take Me with You",
          "Still Life with Bread Crumbs",
          "Shtum",
          "My Name Is Lucy Barton",
          "My Mrs. Brown",
          "Mr. Mercedes (Bill Hodges Trilogy #1)",
          "I Am Pilgrim (Pilgrim #1)",
          "Eligible (The Austen Project #4)",
          "Eight Hundred Grapes",
          "Dear Mr. Knightley",
          "Cometh the Hour (The Clifton Chronicles #6)",
          "Balloon Animals",
          "A Man Called Ove",
          "The Silent Sister (Riley MacPherson #1)",
          "The Dinner Party",
          "The Improbability of Love",
          "Mothering Sunday",
          "Lies and Other Acts of Love",
          "Daredevils",
          "11/22/63",
          "The Shack",
          "The High Mountains of Portugal",
          "Miller's Valley",
          "Hystopia: A Novel",
          "The Bourne Identity (Jason Bourne #1)",
          "Sister Dear",
          "Memoirs of a Geisha",
          "Me Before You (Me Before You #1)",
          "Deception Point",
          "The Little Paris Bookshop",
          "The Firm",
          "The Expatriates",
          "Siddhartha",
          "Last One Home (New Beginnings #1)",
          "Digital Fortress",
          "Atlas Shrugged",
          "Three-Martini Lunch",
          "The Nightingale",
          "The Infinities",
          "The Husband's Secret",
          "The Da Vinci Code (Robert Langdon #2)",
          "The Art of Fielding",
          "Lila (Gilead #3)",
          "Jurassic Park (Jurassic Park #1)",
          "Inferno (Robert Langdon #4)",
          "Crazy Rich Asians (Crazy Rich Asians #1)",
          "Big Little Lies",
          "The Course of Love",
          "When I'm Gone",
          "The Silent Wife",
          "The Bette Davis Club",
          "Kitchens of the Great Midwest",
          "Bright Lines"
         ],
         "legendgroup": "Fiction",
         "marker": {
          "color": "#00cc96",
          "opacity": 0.6,
          "size": 5,
          "symbol": "circle"
         },
         "mode": "markers",
         "name": "Fiction",
         "scene": "scene",
         "showlegend": true,
         "type": "scatter3d",
         "x": [
          0.47894909977912903,
          -0.25508978962898254,
          -0.3424263298511505,
          -0.7444970607757568,
          -0.6947449445724487,
          -0.16994047164916992,
          -0.41575443744659424,
          -0.8059016466140747,
          -0.1827019900083542,
          -0.6907640099525452,
          -0.1290801763534546,
          0.2741188406944275,
          -0.6832845211029053,
          0.09273257106542587,
          -0.47690510749816895,
          0.06565331667661667,
          -0.43011221289634705,
          -0.6816973090171814,
          -0.27929115295410156,
          -0.5416253209114075,
          -0.6012868881225586,
          -0.6427414417266846,
          -0.49453508853912354,
          -0.024257495999336243,
          -0.582298219203949,
          -0.3996107578277588,
          -0.6155550479888916,
          2.7332680225372314,
          0.1781650334596634,
          -0.018859002739191055,
          1.1261463165283203,
          0.9168958067893982,
          1.1203221082687378,
          -0.5007673501968384,
          0.530820906162262,
          0.725643515586853,
          -0.8470383882522583,
          0.41970932483673096,
          -0.6883264183998108,
          -1.3320457935333252,
          -0.11667674779891968,
          -0.6531504988670349,
          -0.025794237852096558,
          -1.1409008502960205,
          -0.9160513877868652,
          -0.471924751996994,
          -0.2664644718170166,
          0.10570897907018661,
          1.4323093891143799,
          -0.4008767604827881,
          -0.6347973942756653,
          0.25943297147750854,
          -0.9651422500610352,
          0.26767271757125854,
          -0.09202933311462402,
          1.185941219329834,
          -0.006160445977002382,
          -0.6693251729011536,
          -0.9258666634559631,
          -0.39287346601486206,
          1.2792613506317139,
          -0.776608943939209,
          -0.7993842959403992,
          -0.39424172043800354,
          0.2573454678058624
         ],
         "y": [
          -0.32723116874694824,
          -0.19519728422164917,
          -0.5666385889053345,
          0.02799942158162594,
          -0.45388877391815186,
          -0.5094460248947144,
          -0.05842585489153862,
          -0.5069520473480225,
          -0.7802474498748779,
          -0.6627733111381531,
          -0.7369109392166138,
          -1.0669406652450562,
          0.10907326638698578,
          -0.10035428404808044,
          -0.3305031955242157,
          -0.3766118884086609,
          0.341292142868042,
          -0.2026711404323578,
          -0.7188360691070557,
          0.26930561661720276,
          0.8341707587242126,
          0.06658653169870377,
          -0.017217017710208893,
          0.0003979415341746062,
          -0.23432156443595886,
          -0.8029491305351257,
          -0.7947365641593933,
          0.6737441420555115,
          0.9912306666374207,
          0.02583872526884079,
          1.7866867780685425,
          -0.052060745656490326,
          0.6956227421760559,
          -0.19901880621910095,
          -0.7656694054603577,
          -0.6916104555130005,
          0.5058639049530029,
          0.49228090047836304,
          -0.1513441503047943,
          -0.07873374968767166,
          -0.6093062162399292,
          -0.08499164134263992,
          0.06727699935436249,
          0.42926833033561707,
          0.21998104453086853,
          0.1236896812915802,
          -0.37796422839164734,
          -0.284096360206604,
          0.36871275305747986,
          1.066163420677185,
          0.13801954686641693,
          0.2142750322818756,
          -0.21418209373950958,
          -0.30049142241477966,
          0.12756173312664032,
          0.8477263450622559,
          -1.0487483739852905,
          1.1085379123687744,
          0.17081831395626068,
          1.264037013053894,
          -0.3334718346595764,
          0.5052267909049988,
          0.23465858399868011,
          -0.21537558734416962,
          0.18315677344799042
         ],
         "z": [
          -0.5706497430801392,
          -0.6858636140823364,
          0.14488515257835388,
          -0.1447746902704239,
          0.5279396772384644,
          -0.07903189957141876,
          -0.47258439660072327,
          -0.3097250163555145,
          -0.1553489863872528,
          0.4023396670818329,
          -0.0040116263553500175,
          0.10304085910320282,
          -0.16155613958835602,
          0.28357186913490295,
          -0.1333254724740982,
          -0.16417965292930603,
          -0.31869789958000183,
          -0.03360135853290558,
          -0.2454824149608612,
          -0.207187220454216,
          -0.35331177711486816,
          -0.010594658553600311,
          0.2067495435476303,
          0.046624284237623215,
          0.6270422339439392,
          -0.5233935713768005,
          -0.1113763302564621,
          2.126347780227661,
          0.30800238251686096,
          0.049219194799661636,
          -0.7599597573280334,
          0.03582542762160301,
          0.9922641515731812,
          0.12794895470142365,
          0.321960985660553,
          -0.38986700773239136,
          0.27202877402305603,
          -0.18030135333538055,
          0.11889871209859848,
          -0.25517794489860535,
          0.48623430728912354,
          -0.1649143248796463,
          -0.21793381869792938,
          0.2636644244194031,
          0.13209663331508636,
          0.01557812187820673,
          0.6044328212738037,
          -0.08032548427581787,
          0.9833793640136719,
          0.7425126433372498,
          0.49454253911972046,
          -0.18794389069080353,
          -0.1566905975341797,
          -0.15151599049568176,
          0.2040363848209381,
          0.7409753203392029,
          -0.9261574745178223,
          0.20405793190002441,
          0.06177924945950508,
          0.11839389055967331,
          0.3264278471469879,
          0.13387015461921692,
          -0.2687380611896515,
          -0.19170615077018738,
          0.12791945040225983
         ]
        },
        {
         "hovertemplate": "<b>%{hovertext}</b><br><br>color=Mystery<br>x=%{x}<br>y=%{y}<br>z=%{z}<extra></extra>",
         "hovertext": [
          "Sharp Objects",
          "In a Dark, Dark Wood",
          "The Past Never Ends",
          "A Murder in Time",
          "The Murder of Roger Ackroyd (Hercule Poirot #4)",
          "The Last Mile (Amos Decker #2)",
          "That Darkness (Gardiner and Renner #1)",
          "Tastes Like Fear (DI Marnie Rome #3)",
          "A Time of Torment (Charlie Parker #14)",
          "A Study in Scarlet (Sherlock Holmes #1)",
          "Poisonous (Max Revere Novels #3)",
          "Murder at the 42nd Street Library (Raymond Ambler #1)",
          "Most Wanted",
          "Hide Away (Eve Duncan #20)",
          "Boar Island (Anna Pigeon #19)",
          "The Widow",
          "Playing with Fire",
          "What Happened on Beale Street (Secrets of the South Mysteries #2)",
          "The Bachelor Girl's Guide to Murder (Herringford and Watts Mysteries #1)",
          "Delivering the Truth (Quaker Midwife Mystery #1)",
          "The Mysterious Affair at Styles (Hercule Poirot #1)",
          "In the Woods (Dublin Murder Squad #1)",
          "The Silkworm (Cormoran Strike #2)",
          "The Exiled",
          "The Cuckoo's Calling (Cormoran Strike #1)",
          "Extreme Prey (Lucas Davenport #26)",
          "Career of Evil (Cormoran Strike #3)",
          "The No. 1 Ladies' Detective Agency (No. 1 Ladies' Detective Agency #1)",
          "The Girl You Lost",
          "The Girl In The Ice (DCI Erika Foster #1)",
          "Blood Defense (Samantha Brinkman #1)",
          "1st to Die (Women's Murder Club #1)"
         ],
         "legendgroup": "Mystery",
         "marker": {
          "color": "#ab63fa",
          "opacity": 0.6,
          "size": 5,
          "symbol": "circle"
         },
         "mode": "markers",
         "name": "Mystery",
         "scene": "scene",
         "showlegend": true,
         "type": "scatter3d",
         "x": [
          -1.047819972038269,
          -1.6136189699172974,
          -0.7059630155563354,
          -0.46615731716156006,
          -0.6621243357658386,
          -1.1368398666381836,
          -0.8787887096405029,
          -0.8722953796386719,
          -1.0057530403137207,
          -0.657479465007782,
          -0.7952023148536682,
          -0.9635379314422607,
          -0.5049592852592468,
          -0.0159511286765337,
          -0.5429238677024841,
          1.2689645290374756,
          -0.602165699005127,
          0.16289934515953064,
          1.498293399810791,
          -0.9018776416778564,
          0.3175792992115021,
          -0.2902870178222656,
          -0.21004728972911835,
          0.9522371292114258,
          0.2283760905265808,
          -0.6646468043327332,
          -0.6875494122505188,
          0.9693145751953125,
          -1.3321173191070557,
          0.5721141695976257,
          -0.33290112018585205,
          0.3523588478565216
         ],
         "y": [
          0.030745187774300575,
          0.5085814595222473,
          -0.2798847556114197,
          -0.31633248925209045,
          -0.6017001271247864,
          -0.4797750413417816,
          0.009964102879166603,
          0.13788603246212006,
          -0.53379225730896,
          -0.3301459550857544,
          -0.04471024498343468,
          -0.22619271278381348,
          -0.004697259981185198,
          0.5902143716812134,
          0.1913658231496811,
          -0.070799820125103,
          0.9551036357879639,
          0.3533787131309509,
          -0.08582159876823425,
          -0.36743050813674927,
          -1.1741306781768799,
          -0.6442950963973999,
          -0.25884225964546204,
          -0.8267127275466919,
          -0.42107102274894714,
          -0.2200712412595749,
          -0.14234736561775208,
          -0.15393249690532684,
          -0.01739163137972355,
          -0.47106146812438965,
          -0.17185337841510773,
          0.3137094974517822
         ],
         "z": [
          -0.09138165414333344,
          -0.17161323130130768,
          0.21608959138393402,
          -0.18023376166820526,
          -0.7159719467163086,
          -0.3060705363750458,
          -0.04094746708869934,
          -0.09162784367799759,
          -0.3002093434333801,
          -0.2943490743637085,
          0.16550174355506897,
          0.19567163288593292,
          -0.12305192649364471,
          0.5292712450027466,
          -0.13573716580867767,
          0.7940837740898132,
          -0.11947502940893173,
          1.0741102695465088,
          -0.08108161389827728,
          0.12121664732694626,
          0.024038290604948997,
          -0.3219788372516632,
          -0.2492571920156479,
          0.10024148225784302,
          -0.2062370479106903,
          -0.1118667870759964,
          0.20373015105724335,
          -0.13861028850078583,
          -0.31720227003097534,
          0.3223065435886383,
          -0.060067832469940186,
          -0.35574644804000854
         ]
        },
        {
         "hovertemplate": "<b>%{hovertext}</b><br><br>color=History<br>x=%{x}<br>y=%{y}<br>z=%{z}<extra></extra>",
         "hovertext": [
          "Sapiens: A Brief History of Humankind",
          "Unbound: How Eight Technologies Made Us Human, Transformed Society, and Brought Our World to the Brink",
          "The Age of Genius: The Seventeenth Century and the Birth of the Modern Mind",
          "Political Suicide: Missteps, Peccadilloes, Bad Calls, Backroom Hijinx, Sordid Pasts, Rotten Breaks, and Just Plain Dumb Mistakes in the Annals of American Politics",
          "Thomas Jefferson and the Tripoli Pirates: The Forgotten War That Changed American History",
          "Zealot: The Life and Times of Jesus of Nazareth",
          "A Distant Mirror: The Calamitous 14th Century",
          "1491: New Revelations of the Americas Before Columbus",
          "Brilliant Beacons: A History of the American Lighthouse",
          "\"Most Blessed of the Patriarchs\": Thomas Jefferson and the Empire of the Imagination",
          "A Short History of Nearly Everything",
          "The Rise and Fall of the Third Reich: A History of Nazi Germany",
          "Catherine the Great: Portrait of a Woman",
          "The Mathews Men: Seven Brothers and the War Against Hitler's U-boats",
          "The Hiding Place",
          "America's War for the Greater Middle East: A Military History",
          "The Guns of August",
          "House of Lost Worlds: Dinosaurs, Dynasties, and the Story of Life on Earth"
         ],
         "legendgroup": "History",
         "marker": {
          "color": "#FFA15A",
          "opacity": 0.6,
          "size": 5,
          "symbol": "circle"
         },
         "mode": "markers",
         "name": "History",
         "scene": "scene",
         "showlegend": true,
         "type": "scatter3d",
         "x": [
          1.2735157012939453,
          1.4734188318252563,
          1.2214739322662354,
          -0.15624964237213135,
          0.33432790637016296,
          0.5581462383270264,
          0.5474343299865723,
          1.132006049156189,
          0.3611116111278534,
          1.1159807443618774,
          -1.1550099849700928,
          -0.32363685965538025,
          1.7856045961380005,
          0.48468002676963806,
          1.7465592622756958,
          -0.3775070607662201,
          -0.29911455512046814,
          -0.36705338954925537
         ],
         "y": [
          -0.8556916117668152,
          -0.7843295931816101,
          -1.2541794776916504,
          -0.30039891600608826,
          -1.8198375701904297,
          -1.5359352827072144,
          -0.9191188216209412,
          -0.6805933713912964,
          0.18978001177310944,
          0.45807549357414246,
          -0.13886885344982147,
          0.2716507613658905,
          1.899444818496704,
          0.17682267725467682,
          -0.6343258023262024,
          -0.48160257935523987,
          -0.26314297318458557,
          -0.03782298043370247
         ],
         "z": [
          0.1101621612906456,
          0.39452943205833435,
          -0.13419502973556519,
          -0.27019140124320984,
          -1.263257622718811,
          0.6597153544425964,
          -0.3677294850349426,
          -0.003357851644977927,
          1.0563997030258179,
          0.18178018927574158,
          -0.6748371720314026,
          0.2807040810585022,
          -1.6016759872436523,
          0.6837969422340393,
          0.40592557191848755,
          -0.11791471391916275,
          0.12126929312944412,
          -0.08825273811817169
         ]
        },
        {
         "hovertemplate": "<b>%{hovertext}</b><br><br>color=Young Adult<br>x=%{x}<br>y=%{y}<br>z=%{z}<extra></extra>",
         "hovertext": [
          "The Requiem Red",
          "Set Me Free",
          "The Natural History of Us (The Fine Art of Pretending #2)",
          "Obsidian (Lux #1)",
          "Burning",
          "A Fierce and Subtle Poison",
          "Scarlett Epstein Hates It Here",
          "Nightingale, Sing",
          "Library of Souls (Miss Peregrineâs Peculiar Children #3)",
          "Frostbite (Vampire Academy #2)",
          "Wild Swans",
          "Until Friday Night (The Field Party #1)",
          "This Is Where It Ends",
          "The Darkest Lie",
          "My Kind of Crazy",
          "Don't Get Caught",
          "Catching Jordan (Hundred Oaks)",
          "Aristotle and Dante Discover the Secrets of the Universe (Aristotle and Dante Discover the Secrets of the Universe #1)",
          "The Epidemic (The Program 0.6)",
          "Stars Above (The Lunar Chronicles #4.5)",
          "No Love Allowed (Dodge Cove #1)",
          "Exit, Pursued by a Bear",
          "The Alien Club",
          "Don't Forget Steven",
          "South of Sunshine",
          "My Life Next Door (My Life Next Door )",
          "Future Shock (Future Shock #1)",
          "Nightstruck: A Novel",
          "Tell the Wolves I'm Home",
          "Will Grayson, Will Grayson (Will Grayson, Will Grayson)",
          "Where She Went (If I Stay #2)",
          "Two Summers",
          "The Darkest Corners",
          "Tell Me Three Things",
          "Lola and the Boy Next Door (Anna and the French Kiss #2)",
          "Kill the Boy Band",
          "Isla and the Happily Ever After (Anna and the French Kiss #3)",
          "An Abundance of Katherines",
          "Harry Potter and the Prisoner of Azkaban (Harry Potter #3)",
          "Walk the Edge (Thunder Road #2)",
          "Two Boys Kissing",
          "The New Guy (and Other Senior Year Distractions)",
          "The Land of 10,000 Madonnas",
          "Scarlet (The Lunar Chronicles #2)",
          "Legend (Legend #1)",
          "Lady Renegades (Rebel Belle #3)",
          "Golden (Heart of Dread #3)",
          "Cinder (The Lunar Chronicles #1)",
          "Boy Meets Boy",
          "Annie on My Mind",
          "New Moon (Twilight #2)",
          "Girl Online On Tour (Girl Online #2)",
          "The Haters",
          "The Art of Not Breathing"
         ],
         "legendgroup": "Young Adult",
         "marker": {
          "color": "#19d3f3",
          "opacity": 0.6,
          "size": 5,
          "symbol": "circle"
         },
         "mode": "markers",
         "name": "Young Adult",
         "scene": "scene",
         "showlegend": true,
         "type": "scatter3d",
         "x": [
          -0.35338959097862244,
          -0.4193324148654938,
          -1.0385407209396362,
          -0.05293780192732811,
          -1.0947080850601196,
          -0.9623093008995056,
          -0.18820646405220032,
          -0.479660302400589,
          -0.7628878355026245,
          -1.0516284704208374,
          -1.1645921468734741,
          -1.23017418384552,
          -0.09964630752801895,
          -0.9973164796829224,
          -0.6178520917892456,
          -0.3782918453216553,
          -0.8522554636001587,
          0.14868196845054626,
          -0.42314088344573975,
          -0.32363975048065186,
          -0.7307726740837097,
          -0.620673418045044,
          0.46451321244239807,
          0.417165607213974,
          0.29956647753715515,
          -0.727087676525116,
          0.15726891160011292,
          0.867139458656311,
          -0.1366405040025711,
          1.0465888977050781,
          0.5687161087989807,
          0.6190145015716553,
          -0.684975802898407,
          -0.3800005316734314,
          -0.6651707887649536,
          -0.7996420860290527,
          -0.3532424569129944,
          1.3804810047149658,
          -1.0611417293548584,
          -0.8679682612419128,
          -0.05737053602933884,
          -0.38727906346321106,
          -0.5586391091346741,
          -0.6602912545204163,
          1.2287580966949463,
          0.45966923236846924,
          -0.49091586470603943,
          -0.08418769389390945,
          0.6108690500259399,
          -0.5356302261352539,
          0.12013890594244003,
          -0.76130610704422,
          -0.690322756767273,
          -0.5267865061759949
         ],
         "y": [
          -0.1640237718820572,
          0.09412621706724167,
          1.054458498954773,
          0.7247732877731323,
          0.32363733649253845,
          0.5632829666137695,
          0.7139893174171448,
          -0.012620103545486927,
          -0.5134137272834778,
          0.3286837041378021,
          0.13332289457321167,
          0.20926426351070404,
          0.2540765702724457,
          0.7881718873977661,
          0.6930328607559204,
          0.047444600611925125,
          0.9659357070922852,
          0.13235238194465637,
          0.6486855149269104,
          -0.2762625813484192,
          -0.7370676398277283,
          -0.26589101552963257,
          0.3352695107460022,
          -0.8241522908210754,
          -0.16616536676883698,
          0.2530604302883148,
          -0.9389575123786926,
          1.7162071466445923,
          -0.1050160750746727,
          -0.5185225009918213,
          0.4046827256679535,
          -0.4385448694229126,
          -0.08663351088762283,
          -0.35815802216529846,
          0.8862445950508118,
          0.030424557626247406,
          0.3033355474472046,
          -1.530379056930542,
          0.6595895886421204,
          -0.33473390340805054,
          -0.06616313755512238,
          0.697083055973053,
          -0.29944613575935364,
          -0.20462290942668915,
          -0.011029372923076153,
          -0.013632901012897491,
          0.1480298787355423,
          0.35057029128074646,
          -0.3374082148075104,
          -0.06512296944856644,
          -0.2523927688598633,
          0.269199013710022,
          0.4741141200065613,
          0.8448470830917358
         ],
         "z": [
          0.01586991176009178,
          0.17010053992271423,
          0.505973756313324,
          0.1629929393529892,
          0.0968903973698616,
          -0.019462324678897858,
          0.12388516217470169,
          -0.26785576343536377,
          -0.3135392665863037,
          0.07353048771619797,
          0.20544789731502533,
          0.5079787969589233,
          0.18863244354724884,
          0.21430470049381256,
          0.19733791053295135,
          -0.12967075407505035,
          0.09642019867897034,
          0.5676902532577515,
          -0.4889814555644989,
          0.052657775580883026,
          -0.6469889879226685,
          -0.6835532188415527,
          0.3710904121398926,
          -0.4014267027378082,
          0.005486025474965572,
          0.18959613144397736,
          0.5335924029350281,
          -0.8130196928977966,
          -0.05005738139152527,
          0.2614869177341461,
          0.2857517600059509,
          -0.003584793070331216,
          -0.2582947909832001,
          -0.20301741361618042,
          0.6481457948684692,
          -0.3739384412765503,
          -0.10600084066390991,
          -0.607037365436554,
          0.31926628947257996,
          -0.1497747153043747,
          -0.090305395424366,
          0.11441019177436829,
          -0.2470942735671997,
          -0.2699247896671295,
          0.42489567399024963,
          -0.07248862087726593,
          0.242614284157753,
          -0.009981646202504635,
          -0.18385620415210724,
          -0.526638388633728,
          -0.020022597163915634,
          0.045652102679014206,
          0.9347114562988281,
          0.6579063534736633
         ]
        },
        {
         "hovertemplate": "<b>%{hovertext}</b><br><br>color=Business<br>x=%{x}<br>y=%{y}<br>z=%{z}<extra></extra>",
         "hovertext": [
          "The Dirty Little Secrets of Getting Your Dream Job",
          "The Third Wave: An Entrepreneurâs Vision of the Future",
          "The 10% Entrepreneur: Live Your Startup Dream Without Quitting Your Day Job",
          "Shoe Dog: A Memoir by the Creator of NIKE",
          "Made to Stick: Why Some Ideas Survive and Others Die",
          "Quench Your Own Thirst: Business Lessons Learned Over a Beer or Two",
          "The Art of Startup Fundraising",
          "Born for This: How to Find the Work You Were Meant to Do",
          "The E-Myth Revisited: Why Most Small Businesses Don't Work and What to Do About It",
          "Rich Dad, Poor Dad",
          "The Lean Startup: How Today's Entrepreneurs Use Continuous Innovation to Create Radically Successful Businesses",
          "Rework"
         ],
         "legendgroup": "Business",
         "marker": {
          "color": "#FF6692",
          "opacity": 0.6,
          "size": 5,
          "symbol": "circle"
         },
         "mode": "markers",
         "name": "Business",
         "scene": "scene",
         "showlegend": true,
         "type": "scatter3d",
         "x": [
          1.0368692874908447,
          2.214801549911499,
          1.1043648719787598,
          0.8509263396263123,
          1.4152212142944336,
          -0.16802090406417847,
          -0.1684875637292862,
          -0.16076934337615967,
          -0.8497779965400696,
          -0.7203621864318848,
          0.06783697754144669,
          -0.8258007764816284
         ],
         "y": [
          0.5889706015586853,
          -0.6819043159484863,
          0.894747793674469,
          -0.10402790457010269,
          0.3908231556415558,
          -0.8017916083335876,
          1.0637890100479126,
          -0.03308818116784096,
          0.9760229587554932,
          0.41414719820022583,
          -0.6391412019729614,
          -0.026563365012407303
         ],
         "z": [
          0.399087518453598,
          0.6002199649810791,
          0.9924792647361755,
          0.41341742873191833,
          0.693524956703186,
          -0.37864595651626587,
          0.043102338910102844,
          -0.0213360246270895,
          0.1147613674402237,
          0.005457667168229818,
          -0.09195487201213837,
          0.2208879441022873
         ]
        },
        {
         "hovertemplate": "<b>%{hovertext}</b><br><br>color=Sequential Art<br>x=%{x}<br>y=%{y}<br>z=%{z}<extra></extra>",
         "hovertext": [
          "Scott Pilgrim's Precious Little Life (Scott Pilgrim #1)",
          "Tsubasa: WoRLD CHRoNiCLE 2 (Tsubasa WoRLD CHRoNiCLE #2)",
          "This One Summer",
          "The Nameless City (The Nameless City #1)",
          "Saga, Volume 5 (Saga (Collected Editions) #5)",
          "Rat Queens, Vol. 3: Demons (Rat Queens (Collected Editions) #11-15)",
          "Princess Jellyfish 2-in-1 Omnibus, Vol. 01 (Princess Jellyfish 2-in-1 Omnibus #1)",
          "Pop Gun War, Volume 1: Gift",
          "Patience",
          "Outcast, Vol. 1: A Darkness Surrounds Him (Outcast #1)",
          "orange: The Complete Collection 1 (orange: The Complete Collection #1)",
          "Lumberjanes, Vol. 2: Friendship to the Max (Lumberjanes #5-8)",
          "Lumberjanes, Vol. 1: Beware the Kitten Holy (Lumberjanes #1-4)",
          "Lumberjanes Vol. 3: A Terrible Plan (Lumberjanes #9-12)",
          "I Hate Fairyland, Vol. 1: Madly Ever After (I Hate Fairyland (Compilations) #1-5)",
          "I am a Hero Omnibus Volume 1",
          "Giant Days, Vol. 2 (Giant Days #5-8)",
          "Danganronpa Volume 1",
          "Codename Baboushka, Volume 1: The Conclave of Death",
          "Camp Midnight",
          "Bitch Planet, Vol. 1: Extraordinary Machine (Bitch Planet (Collected Editions))",
          "The Shadow Hero (The Shadow Hero)",
          "Fables, Vol. 1: Legends in Exile (Fables #1)",
          "Batman: The Long Halloween (Batman)",
          "Batman: The Dark Knight Returns (Batman)",
          "Wonder Woman: Earth One, Volume One (Wonder Woman: Earth One #1)",
          "We Are Robin, Vol. 1: The Vigilante Business (We Are Robin #1)",
          "Through the Woods",
          "Superman Vol. 1: Before Truth (Superman by Gene Luen Yang #1)",
          "So Cute It Hurts!!, Vol. 6 (So Cute It Hurts!! #6)",
          "Robin War",
          "Red Hood/Arsenal, Vol. 1: Open for Business (Red Hood/Arsenal #1)",
          "Naruto (3-in-1 Edition), Vol. 14: Includes Vols. 40, 41 & 42 (Naruto: Omnibus #14)",
          "Lowriders to the Center of the Earth (Lowriders in Space #2)",
          "El Deafo",
          "Batman: Europa",
          "Art Ops Vol. 1",
          "Adulthood Is a Myth: A \"Sarah's Scribbles\" Collection",
          "Fruits Basket, Vol. 9 (Fruits Basket #9)",
          "Roller Girl",
          "Fruits Basket, Vol. 7 (Fruits Basket #7)",
          "Fruits Basket, Vol. 6 (Fruits Basket #6)",
          "Death Note, Vol. 6: Give-and-Take (Death Note #6)",
          "Fruits Basket, Vol. 5 (Fruits Basket #5)",
          "Death Note, Vol. 5: Whiteout (Death Note #5)",
          "The Demon Prince of Momochi House, Vol. 4 (The Demon Prince of Momochi House #4)",
          "Fruits Basket, Vol. 4 (Fruits Basket #4)",
          "The Wicked + The Divine, Vol. 3: Commercial Suicide (The Wicked + The Divine)",
          "The Sandman, Vol. 3: Dream Country (The Sandman (volumes) #3)",
          "Saga, Volume 3 (Saga (Collected Editions) #3)",
          "Prodigy: The Graphic Novel (Legend: The Graphic Novel #2)",
          "Persepolis: The Story of a Childhood (Persepolis #1-2)",
          "Original Fake",
          "Grayson, Vol 3: Nemesis (Grayson #3)",
          "Fruits Basket, Vol. 3 (Fruits Basket #3)",
          "Black Butler, Vol. 1 (Black Butler #1)",
          "Awkward",
          "The Sandman, Vol. 2: The Doll's House (The Sandman (volumes) #2)",
          "Saga, Volume 2 (Saga (Collected Editions) #2)",
          "Fruits Basket, Vol. 2 (Fruits Basket #2)",
          "Y: The Last Man, Vol. 1: Unmanned (Y: The Last Man #1)",
          "The Wicked + The Divine, Vol. 1: The Faust Act (The Wicked + The Divine)",
          "The Sandman, Vol. 1: Preludes and Nocturnes (The Sandman (volumes) #1)",
          "The Complete Maus (Maus #1-2)",
          "Skip Beat!, Vol. 01 (Skip Beat! #1)",
          "Saga, Volume 1 (Saga (Collected Editions) #1)",
          "Rat Queens, Vol. 1: Sass & Sorcery (Rat Queens (Collected Editions) #1-5)",
          "Paper Girls, Vol. 1 (Paper Girls #1-5)",
          "Ouran High School Host Club, Vol. 1 (Ouran High School Host Club #1)",
          "Ms. Marvel, Vol. 1: No Normal (Ms. Marvel (2014-2015) #1)",
          "Hawkeye, Vol. 1: My Life as a Weapon (Hawkeye #1)",
          "Giant Days, Vol. 1 (Giant Days #1-4)",
          "Fruits Basket, Vol. 1 (Fruits Basket #1)",
          "Bleach, Vol. 1: Strawberry and the Soul Reapers (Bleach #1)",
          "Ajin: Demi-Human, Volume 1 (Ajin: Demi-Human #1)"
         ],
         "legendgroup": "Sequential Art",
         "marker": {
          "color": "#B6E880",
          "opacity": 0.6,
          "size": 5,
          "symbol": "circle"
         },
         "mode": "markers",
         "name": "Sequential Art",
         "scene": "scene",
         "showlegend": true,
         "type": "scatter3d",
         "x": [
          -0.9799156785011292,
          -0.17499125003814697,
          -1.2032183408737183,
          -0.8245279788970947,
          -0.2628519833087921,
          -0.33317363262176514,
          -0.4020695984363556,
          0.1513507217168808,
          0.3187824487686157,
          -0.08862078934907913,
          -0.7759938836097717,
          -0.2013658732175827,
          -0.6743409037590027,
          -0.16227780282497406,
          -0.007617102935910225,
          -0.23044800758361816,
          -0.4578297436237335,
          -0.27500468492507935,
          -0.1675686538219452,
          -0.4161686897277832,
          0.042488373816013336,
          -0.00916906539350748,
          -0.4069531261920929,
          -0.2346724420785904,
          -0.6874171495437622,
          -0.16280899941921234,
          0.25333669781684875,
          -0.21311983466148376,
          -0.10879570990800858,
          -0.2009686976671219,
          -0.13413512706756592,
          0.140915185213089,
          -0.09403698146343231,
          -0.22051618993282318,
          -0.21365289390087128,
          -0.5099679827690125,
          0.04647263139486313,
          0.2472979724407196,
          0.04105799272656441,
          0.5073156952857971,
          0.6580819487571716,
          -0.02552899718284607,
          0.3615174889564514,
          -0.03345196694135666,
          -0.04279109090566635,
          -0.07149095088243484,
          -1.1253365278244019,
          -0.12520919740200043,
          -0.9005637764930725,
          -0.21254903078079224,
          0.2343863993883133,
          0.49603620171546936,
          -0.24050681293010712,
          0.6526074409484863,
          -0.4563828408718109,
          -1.3216688632965088,
          -1.0106945037841797,
          -0.02969266287982464,
          0.825866162776947,
          0.30933550000190735,
          -0.5894564986228943,
          1.2338916063308716,
          0.9656971096992493,
          1.5381935834884644,
          -0.2349300980567932,
          -0.5908944606781006,
          0.85553377866745,
          -0.2621796429157257,
          -0.4131441116333008,
          1.5608564615249634,
          -0.4453350603580475,
          -0.6004862189292908,
          0.2547408938407898,
          1.1755417585372925,
          -0.7495033740997314
         ],
         "y": [
          0.7940689921379089,
          -0.30791884660720825,
          0.48118072748184204,
          0.16547664999961853,
          0.09697797149419785,
          -0.20754407346248627,
          0.37254658341407776,
          -0.15824545919895172,
          -0.2788916826248169,
          -0.05464097857475281,
          -0.006540981121361256,
          0.13534016907215118,
          0.5830733776092529,
          -0.007418731227517128,
          -0.08357459306716919,
          0.06584163010120392,
          0.44852301478385925,
          0.13522575795650482,
          -0.5609338879585266,
          0.2965254485607147,
          -0.07727660238742828,
          -0.6356506943702698,
          -0.5645473003387451,
          -0.6645822525024414,
          -0.5678200125694275,
          -0.32123076915740967,
          0.20130588114261627,
          -0.05596758797764778,
          -0.18831045925617218,
          -0.1407088190317154,
          -0.17327134311199188,
          -0.1401037573814392,
          -0.23089979588985443,
          0.41155126690864563,
          0.9251401424407959,
          -0.03463013470172882,
          0.08619648218154907,
          0.6738731861114502,
          -0.10895142704248428,
          -0.06892191618680954,
          0.2676894962787628,
          -0.7467244863510132,
          -0.9983176589012146,
          -0.4740123748779297,
          0.19464008510112762,
          -1.2779204845428467,
          -0.31114593148231506,
          1.0351966619491577,
          -0.45893755555152893,
          -0.21043680608272552,
          -0.9287425875663757,
          -0.07008206844329834,
          -0.25343209505081177,
          0.19888509809970856,
          -0.158087357878685,
          0.3560698628425598,
          -0.07417300343513489,
          0.1404944807291031,
          0.6384803056716919,
          0.7188764810562134,
          -0.07322584837675095,
          -0.15598207712173462,
          -0.29845741391181946,
          -0.9533249139785767,
          -0.19332225620746613,
          0.7981370091438293,
          -0.9076756238937378,
          0.1543368101119995,
          -0.2706286311149597,
          -0.44208985567092896,
          0.7903143167495728,
          0.21460680663585663,
          -0.7278047204017639,
          -0.618369996547699,
          -0.3805994987487793
         ],
         "z": [
          0.4737353026866913,
          0.10433096438646317,
          -0.2567806839942932,
          -0.08349339663982391,
          -0.09817589819431305,
          -0.06959803402423859,
          -0.1563645601272583,
          -0.30606067180633545,
          0.10868579149246216,
          0.1769258826971054,
          -0.17545288801193237,
          -0.39047694206237793,
          -0.15656396746635437,
          -0.17535698413848877,
          -0.47405141592025757,
          -0.157127246260643,
          -0.16384391486644745,
          0.04028087854385376,
          -0.8411660194396973,
          -0.36310723423957825,
          -0.4013243317604065,
          -1.077755093574524,
          -0.35446444153785706,
          -0.8763726949691772,
          -0.7200795412063599,
          -0.1252554953098297,
          -0.33391332626342773,
          -0.07723543047904968,
          0.19968178868293762,
          -0.16798900067806244,
          -0.20319107174873352,
          -0.04736211150884628,
          -0.18863366544246674,
          0.16597980260849,
          0.5346614122390747,
          -0.007783917244523764,
          0.28520795702934265,
          -0.03200177103281021,
          0.01776104047894478,
          0.30920854210853577,
          0.9806488156318665,
          -0.3407764136791229,
          -0.37282881140708923,
          -0.18420089781284332,
          0.30474454164505005,
          -0.2077465057373047,
          -0.13031691312789917,
          0.2791263461112976,
          -0.16903415322303772,
          0.08831316232681274,
          -0.38247114419937134,
          0.6780223250389099,
          0.1591840535402298,
          0.0203106626868248,
          0.19405534863471985,
          -0.16952922940254211,
          0.20478826761245728,
          0.23918063938617706,
          0.4034470021724701,
          0.47741279006004333,
          -0.22744451463222504,
          0.2874663174152374,
          0.05664046108722687,
          0.07017488777637482,
          0.06100119650363922,
          0.187929168343544,
          -0.048379603773355484,
          -0.018020961433649063,
          -0.1575993299484253,
          -0.0217171348631382,
          0.14498873054981232,
          0.036591786891222,
          -0.1085112988948822,
          -0.13283400237560272,
          -0.5616326928138733
         ]
        },
        {
         "hovertemplate": "<b>%{hovertext}</b><br><br>color=Music<br>x=%{x}<br>y=%{y}<br>z=%{z}<extra></extra>",
         "hovertext": [
          "Rip it Up and Start Again",
          "Our Band Could Be Your Life: Scenes from the American Indie Underground, 1981-1991",
          "How Music Works",
          "Love Is a Mix Tape (Music #1)",
          "Please Kill Me: The Uncensored Oral History of Punk",
          "Kill 'Em and Leave: Searching for James Brown and the American Soul",
          "Chronicles, Vol. 1",
          "This Is Your Brain on Music: The Science of a Human Obsession",
          "Orchestra of Exiles: The Story of Bronislaw Huberman, the Israel Philharmonic, and the One Thousand Jews He Saved from Nazi Horrors",
          "No One Here Gets Out Alive",
          "Life",
          "Old Records Never Die: One Man's Quest for His Vinyl and His Past",
          "Forever Rockers (The Rocker #12)"
         ],
         "legendgroup": "Music",
         "marker": {
          "color": "#FF97FF",
          "opacity": 0.6,
          "size": 5,
          "symbol": "circle"
         },
         "mode": "markers",
         "name": "Music",
         "scene": "scene",
         "showlegend": true,
         "type": "scatter3d",
         "x": [
          0.11343058198690414,
          0.5507548451423645,
          1.0634373426437378,
          -0.08693217486143112,
          0.7166908383369446,
          1.0605595111846924,
          0.4167889952659607,
          -0.9745556116104126,
          0.5792558789253235,
          -0.6912098526954651,
          -0.0020104264840483665,
          -0.374761700630188,
          -0.6913458108901978
         ],
         "y": [
          -0.0035011048894375563,
          -0.620093047618866,
          -0.43617624044418335,
          -0.27853038907051086,
          -0.3738689422607422,
          -0.320385217666626,
          -0.14263202250003815,
          0.1657857745885849,
          -0.7769603133201599,
          -0.1504187285900116,
          -0.16340988874435425,
          0.3550057113170624,
          0.39140257239341736
         ],
         "z": [
          0.021026037633419037,
          -0.09331543743610382,
          0.3647975027561188,
          -0.4756011664867401,
          -0.10693199932575226,
          1.064795732498169,
          0.9076201915740967,
          -0.1540394127368927,
          0.033238042145967484,
          -0.9341196417808533,
          -0.14134854078292847,
          0.8626087307929993,
          0.6211270689964294
         ]
        },
        {
         "hovertemplate": "<b>%{hovertext}</b><br><br>color=Science Fiction<br>x=%{x}<br>y=%{y}<br>z=%{z}<extra></extra>",
         "hovertext": [
          "Mesaerion: The Best Science Fiction Stories 1800-1849",
          "Join",
          "William Shakespeare's Star Wars: Verily, A New Hope (William Shakespeare's Star Wars #4)",
          "The Project",
          "Soft Apocalypse",
          "Sleeping Giants (Themis Files #1)",
          "Arena",
          "Foundation (Foundation (Publication Order) #1)",
          "The Restaurant at the End of the Universe (Hitchhiker's Guide to the Galaxy #2)",
          "Ready Player One",
          "Life, the Universe and Everything (Hitchhiker's Guide to the Galaxy #3)",
          "Dune (Dune #1)",
          "Do Androids Dream of Electric Sheep? (Blade Runner #1)",
          "Three Wishes (River of Time: California #1)",
          "The Last Girl (The Dominion Trilogy #1)",
          "Having the Barbarian's Baby (Ice Planet Barbarians #7.5)"
         ],
         "legendgroup": "Science Fiction",
         "marker": {
          "color": "#FECB52",
          "opacity": 0.6,
          "size": 5,
          "symbol": "circle"
         },
         "mode": "markers",
         "name": "Science Fiction",
         "scene": "scene",
         "showlegend": true,
         "type": "scatter3d",
         "x": [
          0.540867805480957,
          -0.24200725555419922,
          -0.23676611483097076,
          0.24415473639965057,
          0.6525240540504456,
          0.5090477466583252,
          0.172628715634346,
          -0.6124475598335266,
          0.8947136402130127,
          1.375489592552185,
          -0.014746415428817272,
          1.1162357330322266,
          0.5383177995681763,
          -0.8026829957962036,
          0.05405835807323456,
          -0.5241018533706665
         ],
         "y": [
          -0.8199687004089355,
          -0.37466156482696533,
          -0.8573471307754517,
          -0.4738859534263611,
          -0.8896004557609558,
          -1.108154296875,
          0.08698897063732147,
          -0.09177408367395401,
          -1.0401238203048706,
          -0.20309771597385406,
          1.0755833387374878,
          -0.3493918180465698,
          0.03577316179871559,
          0.6649274230003357,
          -0.6371716856956482,
          0.30670636892318726
         ],
         "z": [
          -0.39891308546066284,
          0.47083860635757446,
          -0.4116365611553192,
          -0.16784630715847015,
          -0.32446131110191345,
          -0.09628396481275558,
          0.3496580719947815,
          -0.01797979697585106,
          -0.5158435702323914,
          0.5803902745246887,
          -0.34188446402549744,
          -0.7795059084892273,
          0.4892031252384186,
          0.19809149205684662,
          -0.2183803766965866,
          -0.17768926918506622
         ]
        },
        {
         "hovertemplate": "<b>%{hovertext}</b><br><br>color=Politics<br>x=%{x}<br>y=%{y}<br>z=%{z}<extra></extra>",
         "hovertext": [
          "Libertarianism for Beginners",
          "Why the Right Went Wrong: Conservatism--From Goldwater to the Tea Party and Beyond",
          "Equal Is Unfair: America's Misguided Fight Against Income Inequality"
         ],
         "legendgroup": "Politics",
         "marker": {
          "color": "#636efa",
          "opacity": 0.6,
          "size": 5,
          "symbol": "circle"
         },
         "mode": "markers",
         "name": "Politics",
         "scene": "scene",
         "showlegend": true,
         "type": "scatter3d",
         "x": [
          0.6018193364143372,
          0.782202959060669,
          -0.7460328936576843
         ],
         "y": [
          -0.5468655228614807,
          -0.707955539226532,
          0.9096289277076721
         ],
         "z": [
          0.03197341412305832,
          -0.2721813917160034,
          0.27163198590278625
         ]
        },
        {
         "hovertemplate": "<b>%{hovertext}</b><br><br>color=Travel<br>x=%{x}<br>y=%{y}<br>z=%{z}<extra></extra>",
         "hovertext": [
          "It's Only the Himalayas",
          "Full Moon over Noahâs Ark: An Odyssey to Mount Ararat and Beyond",
          "See America: A Celebration of Our National Parks & Treasured Sites",
          "Vagabonding: An Uncommon Guide to the Art of Long-Term World Travel",
          "Under the Tuscan Sun",
          "A Summer In Europe",
          "The Great Railway Bazaar",
          "A Year in Provence (Provence #1)",
          "The Road to Little Dribbling: Adventures of an American in Britain (Notes From a Small Island #2)",
          "Neither Here nor There: Travels in Europe"
         ],
         "legendgroup": "Travel",
         "marker": {
          "color": "#EF553B",
          "opacity": 0.6,
          "size": 5,
          "symbol": "circle"
         },
         "mode": "markers",
         "name": "Travel",
         "scene": "scene",
         "showlegend": true,
         "type": "scatter3d",
         "x": [
          -0.2747032642364502,
          0.4587901830673218,
          1.1655821800231934,
          -0.7639228701591492,
          0.7682315707206726,
          0.7264915108680725,
          -0.3062315881252289,
          -0.01165569294244051,
          0.31562498211860657,
          -0.18742835521697998
         ],
         "y": [
          0.3291386365890503,
          -1.2566370964050293,
          -0.7597295641899109,
          -0.10570738464593887,
          1.1956859827041626,
          -0.23806655406951904,
          -0.836932897567749,
          -0.6839434504508972,
          -0.27049338817596436,
          -0.308759868144989
         ],
         "z": [
          -0.17107434570789337,
          -0.6442714929580688,
          -0.3092034161090851,
          0.39908260107040405,
          0.29006290435791016,
          0.010616421699523926,
          -0.3120381236076355,
          0.057936541736125946,
          -0.21531754732131958,
          -0.27020084857940674
         ]
        },
        {
         "hovertemplate": "<b>%{hovertext}</b><br><br>color=Thriller<br>x=%{x}<br>y=%{y}<br>z=%{z}<extra></extra>",
         "hovertext": [
          "In Her Wake",
          "The Elephant Tree",
          "Behind Closed Doors",
          "You (You #1)",
          "The Guilty (Will Robie #4)",
          "The 14th Colony (Cotton Malone #11)",
          "Give It Back",
          "Killing Floor (Jack Reacher #1)",
          "The Bone Hunters (Lexy Vaughan & Steven Macaulay #2)",
          "Far From True (Promise Falls Trilogy #2)",
          "The Travelers"
         ],
         "legendgroup": "Thriller",
         "marker": {
          "color": "#00cc96",
          "opacity": 0.6,
          "size": 5,
          "symbol": "circle"
         },
         "mode": "markers",
         "name": "Thriller",
         "scene": "scene",
         "showlegend": true,
         "type": "scatter3d",
         "x": [
          -0.6923593282699585,
          -0.507147490978241,
          -0.5867091417312622,
          -0.3261716067790985,
          -0.8079066872596741,
          -0.1759297102689743,
          -0.29464611411094666,
          -0.51347416639328,
          -0.1544005572795868,
          -0.6912432909011841,
          1.2812343835830688
         ],
         "y": [
          -0.23081128299236298,
          -0.11988022178411484,
          1.6931887865066528,
          0.05345841869711876,
          -0.5289856791496277,
          -0.6468929052352905,
          -0.21448855102062225,
          0.5805314779281616,
          -0.20318323373794556,
          -0.2754548192024231,
          0.05301805958151817
         ],
         "z": [
          -0.006170614622533321,
          0.18459834158420563,
          0.041362177580595016,
          -0.09069851785898209,
          -0.011360633186995983,
          -0.3729386329650879,
          -0.49635154008865356,
          0.4725838005542755,
          -0.1416867971420288,
          -0.5793898701667786,
          0.3700617253780365
         ]
        },
        {
         "hovertemplate": "<b>%{hovertext}</b><br><br>color=Food and Drink<br>x=%{x}<br>y=%{y}<br>z=%{z}<extra></extra>",
         "hovertext": [
          "Foolproof Preserving: A Guide to Small Batch Jams, Jellies, Pickles, Condiments, and More: A Foolproof Guide to Making Small Batch Jams, Jellies, Pickles, Condiments, and More",
          "The Pioneer Woman Cooks: Dinnertime: Comfort Classics, Freezer Food, 16-Minute Meals, and Other Delicious Ways to Solve Supper!",
          "My Paris Kitchen: Recipes and Stories",
          "Mama Tried: Traditional Italian Cooking for the Screwed, Crude, Vegan, and Tattooed",
          "Layered: Baking, Building, and Styling Spectacular Cakes",
          "The Nerdy Nummies Cookbook: Sweet Treats for the Geek in All of Us",
          "The Love and Lemons Cookbook: An Apple-to-Zucchini Celebration of Impromptu Cooking",
          "The Cookies & Cups Cookbook: 125+ sweet & savory recipes reminding you to Always Eat Dessert First",
          "Deliciously Ella Every Day: Quick and Easy Recipes for Gluten-Free Snacks, Packed Lunches, and Simple Meals",
          "The Help Yourself Cookbook for Kids: 60 Easy Plant-Based Recipes Kids Can Make to Stay Healthy and Save the Earth",
          "It's All Easy: Healthy, Delicious Weeknight Meals in under 30 Minutes",
          "Barefoot Contessa Back to Basics",
          "Barefoot Contessa at Home: Everyday Recipes You'll Make Over and Over Again",
          "My Kitchen Year: 136 Recipes That Saved My Life",
          "Everyday Italian: 125 Simple and Delicious Recipes",
          "A la Mode: 120 Recipes in 60 Pairings: Pies, Tarts, Cakes, Crisps, and More Topped with Ice Cream, Gelato, Frozen Custard, and More",
          "Cravings: Recipes for What You Want to Eat",
          "The Moosewood Cookbook: Recipes from Moosewood Restaurant, Ithaca, New York",
          "32 Yolks",
          "Naturally Lean: 125 Nourishing Gluten-Free, Plant-Based Recipes--All Under 300 Calories",
          "How to Cook Everything Vegetarian: Simple Meatless Recipes for Great Food (How to Cook Everything)",
          "How to Be a Domestic Goddess: Baking and the Art of Comfort Cooking",
          "The Barefoot Contessa Cookbook",
          "Better Homes and Gardens New Cook Book",
          "The Power Greens Cookbook: 140 Delicious Superfood Recipes",
          "Mexican Today: New and Rediscovered Recipes for Contemporary Kitchens",
          "Vegan Vegetarian Omnivore: Dinner for Everyone at the Table",
          "The Smitten Kitchen Cookbook",
          "The Art of Simple Food: Notes, Lessons, and Recipes from a Delicious Revolution",
          "Hungry Girl Clean & Hungry: Easy All-Natural Recipes for Healthy Eating in the Real World"
         ],
         "legendgroup": "Food and Drink",
         "marker": {
          "color": "#ab63fa",
          "opacity": 0.6,
          "size": 5,
          "symbol": "circle"
         },
         "mode": "markers",
         "name": "Food and Drink",
         "scene": "scene",
         "showlegend": true,
         "type": "scatter3d",
         "x": [
          1.445508360862732,
          0.7830732464790344,
          1.239197850227356,
          1.0322157144546509,
          1.0219534635543823,
          1.4773082733154297,
          1.3691989183425903,
          0.903576672077179,
          1.2549430131912231,
          1.008880615234375,
          1.2242813110351562,
          1.8315883874893188,
          0.7634377479553223,
          0.4960409700870514,
          0.4124097228050232,
          0.5069912075996399,
          0.9001986384391785,
          -0.47294700145721436,
          0.668590784072876,
          0.15572546422481537,
          0.7131833434104919,
          -0.6465374231338501,
          -0.9652745127677917,
          0.7235325574874878,
          -0.11677612364292145,
          0.4173148274421692,
          0.7450112700462341,
          -1.234291911125183,
          -0.5731801986694336,
          0.919554591178894
         ],
         "y": [
          1.0474377870559692,
          2.3635458946228027,
          1.2208964824676514,
          1.417447566986084,
          1.4988335371017456,
          2.1541266441345215,
          1.9271221160888672,
          2.0587565898895264,
          2.614315986633301,
          2.2310054302215576,
          2.00419020652771,
          2.2768776416778564,
          2.373375415802002,
          1.3501032590866089,
          -0.44366365671157837,
          -0.2197035551071167,
          1.5027222633361816,
          0.2546844184398651,
          -1.3966842889785767,
          0.6628710031509399,
          1.042073130607605,
          0.29897040128707886,
          0.24986937642097473,
          -0.10447831451892853,
          -0.3098977208137512,
          0.18321378529071808,
          1.0361777544021606,
          -0.0068576755002141,
          0.03648022562265396,
          -1.07132089138031
         ],
         "z": [
          -0.8160414695739746,
          -0.9628007411956787,
          -1.7682340145111084,
          -1.0530924797058105,
          -0.9240382313728333,
          -1.928728699684143,
          -0.8009034991264343,
          -1.4378079175949097,
          -1.2904138565063477,
          -0.514054000377655,
          -0.9368433952331543,
          -1.4473494291305542,
          -1.5416913032531738,
          -1.1188836097717285,
          -0.05322267487645149,
          0.3284569978713989,
          1.232956886291504,
          -0.3400527834892273,
          -0.21368955075740814,
          0.054888565093278885,
          -0.909972071647644,
          -0.0984383076429367,
          0.5933170914649963,
          0.22000068426132202,
          0.0040380642749369144,
          0.3159336447715759,
          0.6841496229171753,
          -0.024560116231441498,
          0.19818611443042755,
          -0.17863552272319794
         ]
        },
        {
         "hovertemplate": "<b>%{hovertext}</b><br><br>color=Romance<br>x=%{x}<br>y=%{y}<br>z=%{z}<extra></extra>",
         "hovertext": [
          "Chase Me (Paris Nights #2)",
          "Black Dust",
          "Her Backup Boyfriend (The Sorensen Family #1)",
          "First and First (Five Boroughs #3)",
          "Fifty Shades Darker (Fifty Shades #2)",
          "The Wedding Dress",
          "Suddenly in Love (Lake Haven #1)",
          "Something More Than This",
          "Doing It Over (Most Likely To #1)",
          "The Wedding Pact (The O'Malleys #2)",
          "Hold Your Breath (Search and Rescue #1)",
          "Dirty (Dive Bar #1)",
          "Take Me Home Tonight (Rock Star Romance #3)",
          "Off the Hook (Fishing for Trouble #1)",
          "A Gentleman's Position (Society of Gentlemen #3)",
          "Sit, Stay, Love",
          "A Girl's Guide to Moving On (New Beginnings #2)",
          "The Perfect Play (Play by Play #1)",
          "Dark Lover (Black Dagger Brotherhood #1)",
          "Changing the Game (Play by Play #2)",
          "A Walk to Remember",
          "The Purest Hook (Second Circle Tattoos #3)",
          "The Obsession",
          "Reservations for Two",
          "Best of My Love (Fool's Gold #20)",
          "Where Lightning Strikes (Bleeding Stars #3)",
          "This One Moment (Pushing Limits #1)",
          "Rhythm, Chord & Malykhin",
          "My Perfect Mistake (Over the Top #1)",
          "Listen to Me (Fusion #1)",
          "Imperfect Harmony",
          "Fighting Fate (Fighting #6)",
          "Deep Under (Walker Security #1)",
          "Charity's Cross (Charles Towne Belles #4)",
          "Bounty (Colorado Mountain #7)"
         ],
         "legendgroup": "Romance",
         "marker": {
          "color": "#FFA15A",
          "opacity": 0.6,
          "size": 5,
          "symbol": "circle"
         },
         "mode": "markers",
         "name": "Romance",
         "scene": "scene",
         "showlegend": true,
         "type": "scatter3d",
         "x": [
          -0.043475184589624405,
          -0.2448742687702179,
          -0.439436137676239,
          -0.49405378103256226,
          0.10992055386304855,
          -0.5815774202346802,
          -0.3597412705421448,
          -0.39929232001304626,
          -0.7984322905540466,
          -0.423382967710495,
          -0.7728838324546814,
          -0.6226328611373901,
          -0.6147037148475647,
          -0.45011866092681885,
          -0.8528031706809998,
          -1.136317253112793,
          -0.8041736483573914,
          -0.7380670309066772,
          -0.300077348947525,
          -0.23449213802814484,
          1.5518832206726074,
          0.11293930560350418,
          -0.9190614223480225,
          -0.8463163375854492,
          0.4250158965587616,
          -0.7756698727607727,
          -0.7229410409927368,
          0.10262034088373184,
          -0.33207789063453674,
          0.5705604553222656,
          -0.626078188419342,
          -0.21706359088420868,
          1.495733380317688,
          -1.3230571746826172,
          -0.2983187139034271
         ],
         "y": [
          0.6902636289596558,
          0.30686745047569275,
          0.9474523067474365,
          0.5939885973930359,
          -0.15708458423614502,
          0.4405822455883026,
          0.18592751026153564,
          0.7500328421592712,
          0.605089008808136,
          0.12564876675605774,
          0.5787572860717773,
          0.4687504172325134,
          -0.5291228294372559,
          -0.4503873586654663,
          -0.18390615284442902,
          0.02747800014913082,
          -0.6285538673400879,
          -0.30291277170181274,
          0.6451854109764099,
          -0.4032629728317261,
          -0.15353348851203918,
          -0.680031418800354,
          -0.2533453702926636,
          0.15211693942546844,
          -1.099439263343811,
          0.7211552262306213,
          -0.36875370144844055,
          -0.3120122253894806,
          0.15073174238204956,
          0.5629751682281494,
          0.35968396067619324,
          0.3698244094848633,
          -1.1246302127838135,
          0.16444283723831177,
          -0.08167880028486252
         ],
         "z": [
          -0.1828957051038742,
          0.8128529191017151,
          0.17988251149654388,
          0.2681850790977478,
          0.25726285576820374,
          0.19375507533550262,
          0.1378706395626068,
          0.3726270794868469,
          -0.16925638914108276,
          -0.13667047023773193,
          -0.3522394597530365,
          0.2641575336456299,
          -0.5070396661758423,
          0.3804347515106201,
          0.001913017244078219,
          0.044974904507398605,
          -0.05600656569004059,
          -0.24590498208999634,
          0.45064932107925415,
          -0.057745639234781265,
          0.2940885126590729,
          -0.08987874537706375,
          -0.04659171402454376,
          -0.25521188974380493,
          -0.2140195071697235,
          0.00745629146695137,
          -0.14326712489128113,
          -0.002702525118365884,
          -0.4274294972419739,
          -0.7646448612213135,
          -0.3679112493991852,
          0.5041677951812744,
          0.1705547422170639,
          -0.2998499274253845,
          0.0055981907062232494
         ]
        },
        {
         "hovertemplate": "<b>%{hovertext}</b><br><br>color=Childrens<br>x=%{x}<br>y=%{y}<br>z=%{z}<extra></extra>",
         "hovertext": [
          "Birdsong: A Story in Pictures",
          "The Bear and the Piano",
          "The Secret of Dreadwillow Carse",
          "The White Cat and the Monk: A Retelling of the Poem âPangur BÃ¡nâ",
          "Little Red",
          "Walt Disney's Alice in Wonderland",
          "Twenty Yawns",
          "Rain Fish",
          "Once Was a Time",
          "Luis Paints the World",
          "Nap-a-Roo",
          "The Whale",
          "Shrunken Treasures: Literary Classics, Short, Sweet, and Silly",
          "Raymie Nightingale",
          "Playing from the Heart",
          "Maybe Something Beautiful: How Art Transformed a Neighborhood",
          "The Wild Robot",
          "The Thing About Jellyfish",
          "The Lonely Ones",
          "The Day the Crayons Came Home (Crayons)",
          "The Cat in the Hat (Beginner Books B-1)",
          "Red: The True Story of Red Riding Hood",
          "Horrible Bear!",
          "Green Eggs and Ham (Beginner Books B-16)",
          "Counting Thyme",
          "Are We There Yet?",
          "Diary of a Minecraft Zombie Book 1: A Scare of a Dare (An Unofficial Minecraft Book)",
          "Matilda",
          "Charlie and the Chocolate Factory (Charlie Bucket #1)"
         ],
         "legendgroup": "Childrens",
         "marker": {
          "color": "#19d3f3",
          "opacity": 0.6,
          "size": 5,
          "symbol": "circle"
         },
         "mode": "markers",
         "name": "Childrens",
         "scene": "scene",
         "showlegend": true,
         "type": "scatter3d",
         "x": [
          0.207563579082489,
          -0.6526411175727844,
          -1.029219388961792,
          0.20764675736427307,
          -0.6240994930267334,
          0.2751435339450836,
          -0.23669004440307617,
          0.4756525456905365,
          -0.6383021473884583,
          -0.06396883726119995,
          0.7955046892166138,
          1.1821492910385132,
          -0.22381390631198883,
          -0.09613506495952606,
          -0.9303452968597412,
          -0.4847475588321686,
          0.10209115594625473,
          0.4070163667201996,
          2.097602367401123,
          -0.3883171081542969,
          0.3972361087799072,
          -0.2709362804889679,
          0.14601567387580872,
          -0.6118348836898804,
          1.81503427028656,
          1.046122431755066,
          -0.36758551001548767,
          -1.165462613105774,
          -1.0030524730682373
         ],
         "y": [
          -0.19228795170783997,
          -0.015076884999871254,
          0.2279035896062851,
          0.19966229796409607,
          0.9117882251739502,
          0.15621095895767212,
          0.2767329812049866,
          0.5342870354652405,
          0.27171003818511963,
          0.2850308418273926,
          0.6701096296310425,
          -0.1590661108493805,
          -0.4381844401359558,
          -0.3347600996494293,
          0.3336873948574066,
          0.6024028658866882,
          0.12751372158527374,
          -0.372172474861145,
          0.3588264584541321,
          -0.7613469362258911,
          -0.36771658062934875,
          -0.18417386710643768,
          -0.0563274547457695,
          0.1623024195432663,
          -0.46528327465057373,
          0.06779248267412186,
          -0.7106269001960754,
          -0.16537518799304962,
          -0.21692918241024017
         ],
         "z": [
          0.0672016590833664,
          -0.08998424559831619,
          0.0590466670691967,
          -0.026904834434390068,
          0.1885673701763153,
          -0.24945704638957977,
          -0.44004717469215393,
          -0.157243549823761,
          0.1130673810839653,
          -0.11668653041124344,
          0.5291416049003601,
          -0.23475587368011475,
          0.13774344325065613,
          0.11300382018089294,
          0.22907458245754242,
          -0.021531881764531136,
          0.4955126643180847,
          -0.2573367655277252,
          1.2223846912384033,
          -0.2741575837135315,
          -0.020294664427638054,
          0.1256864070892334,
          -0.18262816965579987,
          0.20478291809558868,
          -0.37499868869781494,
          0.3576871454715729,
          -0.05300428718328476,
          -0.23408262431621552,
          -0.2722359001636505
         ]
        },
        {
         "hovertemplate": "<b>%{hovertext}</b><br><br>color=Nonfiction<br>x=%{x}<br>y=%{y}<br>z=%{z}<extra></extra>",
         "hovertext": [
          "Worlds Elsewhere: Journeys Around Shakespeareâs Globe",
          "The Five Love Languages: How to Express Heartfelt Commitment to Your Mate",
          "Reasons to Stay Alive",
          "#HigherSelfie: Wake Up Your Life. Free Your Soul. Find Your Tribe.",
          "Unseen City: The Majesty of Pigeons, the Discreet Charm of Snails & Other Wonders of the Urban Wilderness",
          "Throwing Rocks at the Google Bus: How Growth Became the Enemy of Prosperity",
          "The Life-Changing Magic of Tidying Up: The Japanese Art of Decluttering and Organizing",
          "The Gutsy Girl: Escapades for Your Life of Epic Adventure",
          "The Electric Pencil: Drawings from Inside State Hospital No. 3",
          "Spark Joy: An Illustrated Master Class on the Art of Organizing and Tidying Up",
          "Reskilling America: Learning to Labor in the Twenty-First Century",
          "In the Country We Love: My Family Divided",
          "Everydata: The Misinformation Hidden in the Little Data You Consume Every Day",
          "Call the Nurse: True Stories of a Country Nurse on a Scottish Isle",
          "Algorithms to Live By: The Computer Science of Human Decisions",
          "The Power of Now: A Guide to Spiritual Enlightenment",
          "The Omnivore's Dilemma: A Natural History of Four Meals",
          "The Genius of Birds",
          "The Artist's Way: A Spiritual Path to Higher Creativity",
          "So You've Been Publicly Shamed",
          "Daring Greatly: How the Courage to Be Vulnerable Transforms the Way We Live, Love, Parent, and Lead",
          "Big Magic: Creative Living Beyond Fear",
          "Becoming Wise: An Inquiry into the Mystery and Art of Living",
          "Agnostic: A Spirited Manifesto",
          "Whole Lotta Creativity Going On: 60 Fun and Unusual Exercises to Awaken and Strengthen Your Creativity",
          "What's It Like in Space?: Stories from Astronauts Who've Been There",
          "The Year of Magical Thinking",
          "The Literature Book (Big Ideas Simply Explained)",
          "The Bad-Ass Librarians of Timbuktu: And Their Race to Save the Worldâs Most Precious Manuscripts",
          "Swell: A Year of Waves",
          "No Dream Is Too High: Life Lessons From a Man Who Walked on the Moon",
          "Looking for Lovely: Collecting the Moments that Matter",
          "Let It Out: A Journey Through Journaling",
          "Hamilton: The Revolution",
          "Far & Away: Places on the Brink of Change: Seven Continents, Twenty-Five Years",
          "Eaternity: More than 150 Deliciously Easy Vegan Recipes for a Long, Healthy, Satisfied, Joyful Life",
          "Buying In: The Secret Dialogue Between What We Buy and Who We Are",
          "Brain on Fire: My Month of Madness",
          "Abstract City",
          "13 Hours: The Inside Account of What Really Happened In Benghazi",
          "The Lonely City: Adventures in the Art of Being Alone",
          "The Diary of a Young Girl",
          "Snatched: How A Drug Queen Went Undercover for the DEA and Was Kidnapped By Colombian Guerillas",
          "Furiously Happy: A Funny Book About Horrible Things",
          "The Sleep Revolution: Transforming Your Life, One Night at a Time",
          "Mother, Can You Not?",
          "A Mother's Reckoning: Living in the Aftermath of Tragedy",
          "10% Happier: How I Tamed the Voice in My Head, Reduced Stress Without Losing My Edge, and Found Self-Help That Actually Works",
          "Chernobyl 01:23:40: The Incredible True Story of the World's Worst Nuclear Disaster",
          "Zero to One: Notes on Startups, or How to Build the Future",
          "Why Not Me?",
          "When Breath Becomes Air",
          "The Midnight Assassin: Panic, Scandal, and the Hunt for America's First Serial Killer",
          "Smarter Faster Better: The Secrets of Being Productive in Life and Business",
          "Rising Strong",
          "Man's Search for Meaning",
          "Love That Boy: What Two Presidents, Eight Road Trips, and My Son Taught Me About a Parent's Expectations",
          "Living Forward: A Proven Plan to Stop Drifting and Get the Life You Want",
          "I Will Find You",
          "Brazen: The Courage to Find the You That's Been Hiding",
          "Between the World and Me",
          "Being Mortal: Medicine and What Matters in the End",
          "A Murder Over a Girl: Justice, Gender, Junior High",
          "For the Love: Fighting for Grace in a World of Impossible Standards",
          "Finding God in the Ruins: How God Redeems Pain",
          "The Man Who Mistook His Wife for a Hat and Other Clinical Tales",
          "In Cold Blood",
          "Girl, Interrupted",
          "Why Save the Bankers?: And Other Essays on Our Economic and Political Crisis",
          "Talking to Girls About Duran Duran: One Young Man's Quest for True Love and a Cooler Haircut",
          "My Mother Was Nuts",
          "Data, A Love Story: How I Gamed Online Dating to Meet My Match",
          "The Jazz of Physics: The Secret Link Between Music and the Structure of the Universe",
          "The Gunning of America: Business and the Making of American Gun Culture",
          "The Geography of Bliss: One Grump's Search for the Happiest Places in the World",
          "God Is Not Great: How Religion Poisons Everything",
          "We the People: The Modern-Day Figures Who Have Reshaped and Affirmed the Founding Fathers' Vision of America",
          "Very Good Lives: The Fringe Benefits of Failure and the Importance of Imagination",
          "Unstuffed: Decluttering Your Home, Mind, and Soul",
          "Under the Banner of Heaven: A Story of Violent Faith",
          "Trespassing Across America: One Man's Epic, Never-Done-Before (and Sort of Illegal) Hike Across the Heartland",
          "The Name of God is Mercy",
          "Stiff: The Curious Lives of Human Cadavers",
          "Spilled Milk: Based on a True Story",
          "Rise of the Rocket Girls: The Women Who Propelled Us, from Missiles to the Moon to Mars",
          "Outliers: The Story of Success",
          "Notes from a Small Island (Notes From a Small Island #1)",
          "Night (The Night Trilogy #1)",
          "Miracles from Heaven: A Little Girl, Her Journey to Heaven, and Her Amazing Story of Healing",
          "Letter to a Christian Nation",
          "Let's Pretend This Never Happened: A Mostly True Memoir",
          "It's Never Too Late to Begin Again: Discovering Creativity and Meaning at Midlife and Beyond",
          "Into the Wild",
          "In the Garden of Beasts: Love, Terror, and an American Family in Hitler's Berlin",
          "I Am Malala: The Girl Who Stood Up for Education and Was Shot by the Taliban",
          "Gratitude",
          "Disrupted: My Misadventure in the Start-Up Bubble",
          "Brave Enough",
          "Born to Run: A Hidden Tribe, Superathletes, and the Greatest Race the World Has Never Seen",
          "Blink: The Power of Thinking Without Thinking",
          "Black Flags: The Rise of ISIS",
          "Are We Smart Enough to Know How Smart Animals Are?",
          "A Walk in the Woods: Rediscovering America on the Appalachian Trail",
          "The Suffragettes (Little Black Classics, #96)",
          "Kindle Paperwhite User's Guide",
          "H is for Hawk",
          "Travels with Charley: In Search of America",
          "The Tumor",
          "The End of the Jesus Era (An Investigation #1)",
          "Eat, Pray, Love"
         ],
         "legendgroup": "Nonfiction",
         "marker": {
          "color": "#FF6692",
          "opacity": 0.6,
          "size": 5,
          "symbol": "circle"
         },
         "mode": "markers",
         "name": "Nonfiction",
         "scene": "scene",
         "showlegend": true,
         "type": "scatter3d",
         "x": [
          0.7444498538970947,
          0.5447706580162048,
          0.1283930242061615,
          1.3662869930267334,
          0.17719881236553192,
          1.6326513290405273,
          0.13890483975410461,
          0.004142825957387686,
          0.41410788893699646,
          0.640838623046875,
          1.0288597345352173,
          0.10479144752025604,
          1.1029483079910278,
          -0.7650428414344788,
          1.0674636363983154,
          1.3367773294448853,
          1.5648138523101807,
          1.159454107284546,
          1.390332818031311,
          0.34358876943588257,
          0.49747198820114136,
          1.3255022764205933,
          1.4800279140472412,
          1.0218428373336792,
          1.1576473712921143,
          0.2441842406988144,
          -0.09500021487474442,
          1.8792927265167236,
          0.2380857616662979,
          0.4719506502151489,
          0.8314730525016785,
          -0.2129659801721573,
          0.7776123285293579,
          0.9713900685310364,
          1.160672664642334,
          1.5326826572418213,
          1.9686274528503418,
          -0.29832667112350464,
          1.1156392097473145,
          0.03931811451911926,
          0.671309769153595,
          -0.596889853477478,
          1.6205744743347168,
          1.6555935144424438,
          0.038767751306295395,
          0.5676673054695129,
          -0.29701754450798035,
          1.2637654542922974,
          1.9284065961837769,
          0.0008829472353681922,
          0.4550744295120239,
          0.7595434188842773,
          -0.4452391266822815,
          -1.081274151802063,
          1.1120741367340088,
          -0.06223142892122269,
          0.8534435629844666,
          0.3671773672103882,
          0.6778780817985535,
          0.4338359534740448,
          0.9939326047897339,
          -0.23471297323703766,
          0.2169133573770523,
          0.29072287678718567,
          -0.5628616213798523,
          -0.8056881427764893,
          0.9429649114608765,
          -0.44481679797172546,
          -0.7917519211769104,
          -0.6007130146026611,
          1.2942252159118652,
          1.356501579284668,
          -0.06866878271102905,
          0.9486756324768066,
          -0.3405480682849884,
          0.27824297547340393,
          -0.9716187715530396,
          1.2870588302612305,
          0.7839358448982239,
          -0.22044238448143005,
          0.08077366650104523,
          -0.5186806321144104,
          -0.802623987197876,
          -0.5509998798370361,
          1.2329707145690918,
          -0.47498631477355957,
          -0.013106225989758968,
          0.21563327312469482,
          -0.3491194248199463,
          -0.34017300605773926,
          -0.621536910533905,
          -0.18659758567810059,
          -0.15255334973335266,
          -0.8126155734062195,
          0.8063803315162659,
          -0.4613286852836609,
          0.07185781747102737,
          -0.5236265063285828,
          1.2886056900024414,
          0.5228927731513977,
          -0.15754568576812744,
          -0.2460605949163437,
          -0.17889085412025452,
          -0.40604421496391296,
          0.2343246042728424,
          -0.3524310290813446,
          -0.8018901348114014,
          0.5782694220542908,
          -0.04737050458788872,
          -0.8276642560958862
         ],
         "y": [
          -0.9348722696304321,
          0.44124364852905273,
          0.6542234420776367,
          0.09404230117797852,
          -0.03149529546499252,
          -0.4700245261192322,
          0.9122277498245239,
          0.6710555553436279,
          -0.7577748894691467,
          0.4955337345600128,
          -0.24813111126422882,
          -0.4272116720676422,
          0.6330071091651917,
          -0.691227912902832,
          -0.12565582990646362,
          0.5415809750556946,
          0.4401731491088867,
          -0.5385546088218689,
          0.3510507047176361,
          -0.0894419327378273,
          -0.3162260949611664,
          0.09524563699960709,
          -1.0025674104690552,
          -0.8461586236953735,
          1.0575532913208008,
          0.12770630419254303,
          -0.11881173402070999,
          -0.8880695700645447,
          -1.2503364086151123,
          -0.3044188916683197,
          -0.5040909647941589,
          0.8350945711135864,
          1.1868338584899902,
          -0.8214055299758911,
          -1.0503277778625488,
          2.068638563156128,
          -0.164170503616333,
          -0.45073288679122925,
          1.0162240266799927,
          -1.0228816270828247,
          -0.2093336582183838,
          -0.3460957705974579,
          0.6557357907295227,
          2.29447340965271,
          -0.23463915288448334,
          -0.626220703125,
          0.2642103433609009,
          2.0180578231811523,
          0.7520216107368469,
          0.4485020637512207,
          -0.229379802942276,
          0.40854087471961975,
          0.04397079721093178,
          0.23622487485408783,
          -0.3798885643482208,
          0.3540557324886322,
          0.6995495557785034,
          -0.10675033181905746,
          -1.2067984342575073,
          -1.3658136129379272,
          -0.28487735986709595,
          -0.6482463479042053,
          0.49938157200813293,
          -0.17749512195587158,
          0.6873998045921326,
          -0.011222959496080875,
          0.7186529040336609,
          0.0749768316745758,
          -0.20913615822792053,
          -0.40885046124458313,
          1.7123644351959229,
          0.011600004509091377,
          -0.9253353476524353,
          0.12396805733442307,
          0.12056891620159149,
          -0.6088476777076721,
          0.8877852559089661,
          2.5902040004730225,
          -1.025001049041748,
          -0.3705904185771942,
          -0.49661654233932495,
          0.32895535230636597,
          0.4445098638534546,
          0.5559265613555908,
          1.440087080001831,
          0.6724025011062622,
          -0.9727875590324402,
          -0.21423521637916565,
          -0.4750848114490509,
          0.6267914175987244,
          -0.4561617076396942,
          0.6739756464958191,
          -0.9445474147796631,
          0.23541946709156036,
          2.147585391998291,
          0.0781799927353859,
          -1.3176454305648804,
          1.0309463739395142,
          0.6448391079902649,
          -1.3923603296279907,
          0.06923668831586838,
          0.11767631769180298,
          -0.45345190167427063,
          0.22870180010795593,
          -0.5173398852348328,
          0.585418701171875,
          0.2515215575695038,
          -0.5920255184173584,
          0.2422674149274826,
          0.12604600191116333
         ],
         "z": [
          -0.417609304189682,
          0.6634290814399719,
          0.7294492125511169,
          0.8087761998176575,
          0.27849170565605164,
          0.6554616093635559,
          -0.5772730112075806,
          -0.10475210100412369,
          -0.4385122060775757,
          -0.6967185139656067,
          0.07371476292610168,
          0.21062229573726654,
          0.26503807306289673,
          -0.20789998769760132,
          0.6685463190078735,
          0.896843671798706,
          -1.80025315284729,
          -0.03251390904188156,
          0.41932517290115356,
          0.7280805706977844,
          0.7827981114387512,
          0.6639383435249329,
          1.0142309665679932,
          -0.2123900204896927,
          0.6579935550689697,
          -0.12139057368040085,
          -0.19434276223182678,
          0.39821311831474304,
          -0.8242117166519165,
          -0.3593100905418396,
          -0.16857673227787018,
          1.1062129735946655,
          0.9643891453742981,
          -0.35379594564437866,
          -0.0020664320327341557,
          -0.6935248970985413,
          0.6731294393539429,
          -0.08772575110197067,
          -0.17440307140350342,
          -0.2982725203037262,
          -0.013601399958133698,
          -0.664917528629303,
          -0.6411197185516357,
          -1.5002140998840332,
          0.21941576898097992,
          -0.034488894045352936,
          0.006427499931305647,
          -0.541492223739624,
          1.0527750253677368,
          0.07487301528453827,
          0.2922070622444153,
          0.2530793249607086,
          0.04885607212781906,
          0.2870805859565735,
          0.24392566084861755,
          0.4716958701610565,
          0.7280415296554565,
          -0.3060450255870819,
          -0.5300688743591309,
          0.06783870607614517,
          0.3235940635204315,
          -0.15411894023418427,
          -0.8429006338119507,
          0.6326569318771362,
          0.09291419386863708,
          0.04118521884083748,
          1.0246036052703857,
          -0.307806134223938,
          -0.21799372136592865,
          0.041679225862026215,
          -1.5850697755813599,
          -0.12405809015035629,
          -0.5982181429862976,
          0.13154509663581848,
          -0.10942024737596512,
          -0.014849193394184113,
          -0.4632308781147003,
          -1.4629322290420532,
          0.21532559394836426,
          -0.14831645786762238,
          0.44387587904930115,
          0.06793569028377533,
          -0.22917726635932922,
          0.08809293061494827,
          1.5853921175003052,
          0.0497814416885376,
          0.2635563910007477,
          -0.1874343752861023,
          0.08045365661382675,
          -0.09951066970825195,
          -0.6367440819740295,
          0.3181179463863373,
          -0.3960495591163635,
          0.3297383189201355,
          -1.5957767963409424,
          -0.32711946964263916,
          -0.2650907635688782,
          0.5828753709793091,
          0.8797940015792847,
          -0.4801371693611145,
          0.14232254028320312,
          0.218218132853508,
          0.12331383675336838,
          -0.19710935652256012,
          -0.04273339360952377,
          0.29405516386032104,
          0.17138700187206268,
          -0.34528422355651855,
          0.0832427516579628,
          -0.032970722764730453
         ]
        },
        {
         "hovertemplate": "<b>%{hovertext}</b><br><br>color=Art<br>x=%{x}<br>y=%{y}<br>z=%{z}<extra></extra>",
         "hovertext": [
          "Wall and Piece",
          "Feathers: Displays of Brilliant Plumage",
          "Art and Fear: Observations on the Perils (and Rewards) of Artmaking",
          "The New Drawing on the Right Side of the Brain",
          "History of Beauty",
          "The Story of Art",
          "The Art Book",
          "Ways of Seeing"
         ],
         "legendgroup": "Art",
         "marker": {
          "color": "#B6E880",
          "opacity": 0.6,
          "size": 5,
          "symbol": "circle"
         },
         "mode": "markers",
         "name": "Art",
         "scene": "scene",
         "showlegend": true,
         "type": "scatter3d",
         "x": [
          0.30893898010253906,
          0.9600092172622681,
          -1.1770741939544678,
          -0.3786373436450958,
          0.042349375784397125,
          1.533582091331482,
          1.2109876871109009,
          -1.0379127264022827
         ],
         "y": [
          -0.39344027638435364,
          -0.07298330962657928,
          -0.005261778365820646,
          -0.903525173664093,
          -0.09939989447593689,
          -0.33165818452835083,
          -0.33696895837783813,
          0.203672394156456
         ],
         "z": [
          -0.12336260080337524,
          -0.41416656970977783,
          0.07555536180734634,
          -0.3027454614639282,
          0.4814946949481964,
          -0.3941963315010071,
          0.5682764053344727,
          -0.09710796922445297
         ]
        },
        {
         "hovertemplate": "<b>%{hovertext}</b><br><br>color=Spirituality<br>x=%{x}<br>y=%{y}<br>z=%{z}<extra></extra>",
         "hovertext": [
          "The Four Agreements: A Practical Guide to Personal Freedom",
          "The Activist's Tao Te Ching: Ancient Advice for a Modern Revolution",
          "Chasing Heaven: What Dying Taught Me About Living",
          "If I Gave You God's Phone Number....: Searching for Spirituality in America",
          "Unreasonable Hope: Finding Faith in the God Who Brings Purpose to Your Pain",
          "A New Earth: Awakening to Your Life's Purpose"
         ],
         "legendgroup": "Spirituality",
         "marker": {
          "color": "#FF97FF",
          "opacity": 0.6,
          "size": 5,
          "symbol": "circle"
         },
         "mode": "markers",
         "name": "Spirituality",
         "scene": "scene",
         "showlegend": true,
         "type": "scatter3d",
         "x": [
          0.9314547777175903,
          0.3864436447620392,
          0.4006917178630829,
          -0.3454993665218353,
          0.78196781873703,
          0.9686588644981384
         ],
         "y": [
          0.04154956713318825,
          -0.11904178559780121,
          -0.024273782968521118,
          0.08272568881511688,
          0.474018931388855,
          -0.9577428102493286
         ],
         "z": [
          0.3718198537826538,
          -0.018554171547293663,
          0.9497942328453064,
          -0.09708162397146225,
          -0.8468127846717834,
          -0.02886897884309292
         ]
        },
        {
         "hovertemplate": "<b>%{hovertext}</b><br><br>color=Philosophy<br>x=%{x}<br>y=%{y}<br>z=%{z}<extra></extra>",
         "hovertext": [
          "Sophie's World",
          "The Death of Humanity: and the Case for Life",
          "The Stranger",
          "Proofs of God: Classical Arguments from Tertullian to Barth",
          "Kierkegaard: A Christian Missionary to Christians",
          "At The Existentialist CafÃ©: Freedom, Being, and apricot cocktails with: Jean-Paul Sartre, Simone de Beauvoir, Albert Camus, Martin Heidegger, Edmund Husserl, Karl Jaspers, Maurice Merleau-Ponty and others",
          "Critique of Pure Reason",
          "Run, Spot, Run: The Ethics of Keeping Pets",
          "The Nicomachean Ethics",
          "Meditations",
          "Beyond Good and Evil"
         ],
         "legendgroup": "Philosophy",
         "marker": {
          "color": "#FECB52",
          "opacity": 0.6,
          "size": 5,
          "symbol": "circle"
         },
         "mode": "markers",
         "name": "Philosophy",
         "scene": "scene",
         "showlegend": true,
         "type": "scatter3d",
         "x": [
          -0.33443817496299744,
          0.6257016062736511,
          0.014111457392573357,
          0.4780821204185486,
          2.1275665760040283,
          0.10043302923440933,
          -0.20658619701862335,
          -0.39050039649009705,
          -0.5257459282875061,
          -0.5011276006698608,
          -0.06391928344964981
         ],
         "y": [
          -0.024067403748631477,
          -0.9175143241882324,
          -0.3163750171661377,
          -0.5397891998291016,
          -0.8176717162132263,
          -0.2711772918701172,
          0.5014697313308716,
          0.6566633582115173,
          -0.8349132537841797,
          0.7093384265899658,
          -0.22451941668987274
         ],
         "z": [
          0.14099986851215363,
          0.35556432604789734,
          -0.17835932970046997,
          -0.5823391675949097,
          0.1544174700975418,
          -0.14671926200389862,
          -0.08755630254745483,
          -0.30494529008865356,
          -0.004936080425977707,
          0.1877996027469635,
          -0.212187722325325
         ]
        },
        {
         "hovertemplate": "<b>%{hovertext}</b><br><br>color=New Adult<br>x=%{x}<br>y=%{y}<br>z=%{z}<extra></extra>",
         "hovertext": [
          "Without Borders (Wanderlove #1)",
          "The Mistake (Off-Campus #2)",
          "The Matchmaker's Playbook (Wingmen Inc. #1)",
          "The Hook Up (Game On #1)",
          "Shameless",
          "Off Sides (Off #1)"
         ],
         "legendgroup": "New Adult",
         "marker": {
          "color": "#636efa",
          "opacity": 0.6,
          "size": 5,
          "symbol": "circle"
         },
         "mode": "markers",
         "name": "New Adult",
         "scene": "scene",
         "showlegend": true,
         "type": "scatter3d",
         "x": [
          0.07361309975385666,
          -0.7428412437438965,
          -0.3293420672416687,
          -0.6461700201034546,
          -0.7253450751304626,
          -0.19838932156562805
         ],
         "y": [
          0.38800176978111267,
          0.6754018068313599,
          0.6715053915977478,
          0.18614226579666138,
          -0.3786269426345825,
          -0.5276803374290466
         ],
         "z": [
          -0.04879065603017807,
          0.3385102152824402,
          0.4526295065879822,
          -0.13682296872138977,
          -0.18121613562107086,
          0.22186550498008728
         ]
        },
        {
         "hovertemplate": "<b>%{hovertext}</b><br><br>color=Contemporary<br>x=%{x}<br>y=%{y}<br>z=%{z}<extra></extra>",
         "hovertext": [
          "When We Collided",
          "Someone Like You (The Harrisons #2)",
          "We Are All Completely Beside Ourselves"
         ],
         "legendgroup": "Contemporary",
         "marker": {
          "color": "#EF553B",
          "opacity": 0.6,
          "size": 5,
          "symbol": "circle"
         },
         "mode": "markers",
         "name": "Contemporary",
         "scene": "scene",
         "showlegend": true,
         "type": "scatter3d",
         "x": [
          -0.9098623394966125,
          -0.7070637345314026,
          -0.5539729595184326
         ],
         "y": [
          0.32543447613716125,
          0.4450879693031311,
          0.6562201976776123
         ],
         "z": [
          0.5033919811248779,
          -0.14759711921215057,
          0.45539334416389465
         ]
        },
        {
         "hovertemplate": "<b>%{hovertext}</b><br><br>color=Fantasy<br>x=%{x}<br>y=%{y}<br>z=%{z}<extra></extra>",
         "hovertext": [
          "Unicorn Tracks",
          "Saga, Volume 6 (Saga (Collected Editions) #6)",
          "Princess Between Worlds (Wide-Awake Princess #5)",
          "Masks and Shadows",
          "Crown of Midnight (Throne of Glass #2)",
          "Avatar: The Last Airbender: Smoke and Shadow, Part 3 (Smoke and Shadow #3)",
          "A Court of Thorns and Roses (A Court of Thorns and Roses #1)",
          "Throne of Glass (Throne of Glass #1)",
          "The Glittering Court (The Glittering Court #1)",
          "Hollow City (Miss Peregrineâs Peculiar Children #2)",
          "The Star-Touched Queen",
          "The Hidden Oracle (The Trials of Apollo #1)",
          "The Bane Chronicles (The Bane Chronicles #1-11)",
          "Island of Dragons (Unwanteds #7)",
          "Demigods & Magicians: Percy and Annabeth Meet the Kanes (Percy Jackson & Kane Chronicles Crossover #1-3)",
          "City of Glass (The Mortal Instruments #3)",
          "Searching for Meaning in Gailana",
          "A Shard of Ice (The Black Symphony Saga #1)",
          "King's Folly (The Kinsman Chronicles #1)",
          "Every Heart a Doorway (Every Heart A Doorway #1)",
          "A Gathering of Shadows (Shades of Magic #2)",
          "The Raven Boys (The Raven Cycle #1)",
          "The False Prince (The Ascendance Trilogy #1)",
          "Tell the Wind and Fire",
          "A Feast for Crows (A Song of Ice and Fire #4)",
          "The Demonists (Demonist #1)",
          "The Beast (Black Dagger Brotherhood #14)",
          "Paper and Fire (The Great Library #2)",
          "Harry Potter and the Order of the Phoenix (Harry Potter #5)",
          "Harry Potter and the Half-Blood Prince (Harry Potter #6)",
          "Harry Potter and the Chamber of Secrets (Harry Potter #2)",
          "The Rose & the Dagger (The Wrath and the Dawn #2)",
          "Soldier (Talon #3)",
          "Midnight Riot (Peter Grant/ Rivers of London - books #1)",
          "Heir to the Sky",
          "Eragon (The Inheritance Cycle #1)",
          "Darkfever (Fever #1)",
          "Ash",
          "A Storm of Swords (A Song of Ice and Fire #3)",
          "Vampire Girl (Vampire Girl #1)",
          "The Silent Twin (Detective Jennifer Knight #3)",
          "The Mirror & the Maze (The Wrath and the Dawn #1.5)",
          "Sister Sable (The Mad Queen #1)",
          "Shadow Rites (Jane Yellowrock #10)",
          "Origins (Alphas 0.5)",
          "One Second (Seven #7)",
          "Myriad (Prentor #1)"
         ],
         "legendgroup": "Fantasy",
         "marker": {
          "color": "#00cc96",
          "opacity": 0.6,
          "size": 5,
          "symbol": "circle"
         },
         "mode": "markers",
         "name": "Fantasy",
         "scene": "scene",
         "showlegend": true,
         "type": "scatter3d",
         "x": [
          -0.11531303822994232,
          0.03631160408258438,
          0.13784675300121307,
          -0.7100251317024231,
          -0.9585137367248535,
          -0.6700056791305542,
          -0.572746753692627,
          -0.6344214677810669,
          -0.35948142409324646,
          -0.029240867123007774,
          -0.9399967193603516,
          -0.24508951604366302,
          0.2430010288953781,
          -0.7982410788536072,
          -0.44026246666908264,
          -1.1568779945373535,
          0.24998776614665985,
          -0.9536873698234558,
          0.28338003158569336,
          -0.6235302686691284,
          -0.03819359466433525,
          0.9975483417510986,
          0.092969611287117,
          -0.6975889801979065,
          -0.8675740957260132,
          -0.640845537185669,
          -1.0274264812469482,
          -0.7550315856933594,
          -0.5508087277412415,
          -1.1164493560791016,
          0.10995665937662125,
          -0.19515733420848846,
          -0.2666027843952179,
          0.13784144818782806,
          0.5533539056777954,
          -0.4122108519077301,
          -0.9754487872123718,
          0.12923093140125275,
          0.9421948790550232,
          0.8923184871673584,
          1.691097617149353,
          0.16040447354316711,
          -0.261601060628891,
          -0.20117108523845673,
          0.003495326731353998,
          0.24988552927970886,
          -0.4193785786628723
         ],
         "y": [
          0.05410381406545639,
          -0.024873808026313782,
          0.14246204495429993,
          -0.2698502540588379,
          -0.1637658327817917,
          -0.1740146279335022,
          -0.10185513645410538,
          -0.06379425525665283,
          -0.021518755704164505,
          -0.1774122714996338,
          -0.4560045003890991,
          -0.15729793906211853,
          0.1433389037847519,
          -0.10879067331552505,
          -0.23215653002262115,
          0.23856264352798462,
          -1.293459415435791,
          -0.20157299935817719,
          -1.574571132659912,
          -0.025682836771011353,
          0.5488366484642029,
          2.0115294456481934,
          -0.9430354833602905,
          0.7263903617858887,
          -0.6491703391075134,
          -0.22975927591323853,
          0.31514251232147217,
          -0.5746538639068604,
          0.049635399132966995,
          0.6939599514007568,
          -0.8293787240982056,
          -0.30601489543914795,
          0.6693159341812134,
          0.4374505281448364,
          0.7951452136039734,
          0.17849010229110718,
          -0.3808799982070923,
          1.0689502954483032,
          0.6528570055961609,
          -0.288082480430603,
          -0.5755277276039124,
          -0.3070724904537201,
          0.44776782393455505,
          0.5560988187789917,
          -0.08942081034183502,
          -0.572392463684082,
          0.6199603080749512
         ],
         "z": [
          0.27969446778297424,
          -0.06224164366722107,
          0.014117944985628128,
          -0.32056012749671936,
          0.014527039602398872,
          -0.3516298234462738,
          -0.19711488485336304,
          -0.2125796377658844,
          0.021195625886321068,
          -0.2486330270767212,
          -0.020923620089888573,
          0.5082979798316956,
          -0.28953975439071655,
          0.2847844362258911,
          -0.17295941710472107,
          -0.0661228597164154,
          0.29836946725845337,
          -0.04837406799197197,
          -0.5867693424224854,
          -0.23002341389656067,
          0.9711578488349915,
          -1.8180569410324097,
          0.11786532402038574,
          0.543338418006897,
          -0.8089520335197449,
          0.15222761034965515,
          0.19288864731788635,
          -0.1928911656141281,
          -0.20056337118148804,
          0.0937822014093399,
          -0.3980538249015808,
          -0.33871978521347046,
          -0.22601595520973206,
          -0.5441635251045227,
          -0.42453911900520325,
          0.0780206173658371,
          -0.2803480327129364,
          0.43205252289772034,
          0.4870404005050659,
          -0.4606533646583557,
          -0.13300125300884247,
          -0.11873264610767365,
          0.338319331407547,
          0.11397439986467361,
          -0.07182548195123672,
          -0.49775537848472595,
          -0.14395199716091156
         ]
        },
        {
         "hovertemplate": "<b>%{hovertext}</b><br><br>color=Science<br>x=%{x}<br>y=%{y}<br>z=%{z}<extra></extra>",
         "hovertext": [
          "The Most Perfect Thing: Inside (and Outside) a Bird's Egg",
          "Immunity: How Elie Metchnikoff Changed the Course of Modern Medicine",
          "Sorting the Beef from the Bull: The Science of Food Fraud Forensics",
          "Tipping Point for Planet Earth: How Close Are We to the Edge?",
          "The Fabric of the Cosmos: Space, Time, and the Texture of Reality",
          "Diary of a Citizen Scientist: Chasing Tiger Beetles and Other New Ways of Engaging the World",
          "The Origin of Species",
          "The Grand Design",
          "Peak: Secrets from the New Science of Expertise",
          "The Elegant Universe: Superstrings, Hidden Dimensions, and the Quest for the Ultimate Theory",
          "The Disappearing Spoon: And Other True Tales of Madness, Love, and the History of the World from the Periodic Table of the Elements",
          "Surely You're Joking, Mr. Feynman!: Adventures of a Curious Character",
          "Seven Brief Lessons on Physics",
          "The Selfish Gene"
         ],
         "legendgroup": "Science",
         "marker": {
          "color": "#ab63fa",
          "opacity": 0.6,
          "size": 5,
          "symbol": "circle"
         },
         "mode": "markers",
         "name": "Science",
         "scene": "scene",
         "showlegend": true,
         "type": "scatter3d",
         "x": [
          0.33486586809158325,
          0.8563148975372314,
          1.572677493095398,
          0.9881485104560852,
          0.7732104063034058,
          -0.05619649589061737,
          0.4954596161842346,
          -0.517048716545105,
          0.17890599370002747,
          0.6990296840667725,
          -0.15286259353160858,
          0.3783797323703766,
          -0.9173259735107422,
          -0.5339648127555847
         ],
         "y": [
          -0.47470495104789734,
          -0.887310802936554,
          0.23173758387565613,
          -0.3197178542613983,
          -1.1186646223068237,
          -0.41248202323913574,
          -0.5400784015655518,
          0.5855795741081238,
          0.460429847240448,
          -0.4278513193130493,
          0.2593748867511749,
          -0.5677583813667297,
          0.43672505021095276,
          -0.3090023696422577
         ],
         "z": [
          -0.8965224623680115,
          -0.4151449501514435,
          -0.5578183531761169,
          0.336911678314209,
          0.33948126435279846,
          -0.7424266338348389,
          -0.422670841217041,
          0.08897335082292557,
          0.7155523300170898,
          -0.5014925599098206,
          -0.14525823295116425,
          -0.10729151219129562,
          0.09804090857505798,
          0.050212666392326355
         ]
        },
        {
         "hovertemplate": "<b>%{hovertext}</b><br><br>color=Health<br>x=%{x}<br>y=%{y}<br>z=%{z}<extra></extra>",
         "hovertext": [
          "The Bulletproof Diet: Lose up to a Pound a Day, Reclaim Energy and Focus, Upgrade Your Life",
          "Eat Fat, Get Thin",
          "10-Day Green Smoothie Cleanse: Lose Up to 15 Pounds in 10 Days!",
          "The Art and Science of Low Carbohydrate Living"
         ],
         "legendgroup": "Health",
         "marker": {
          "color": "#FFA15A",
          "opacity": 0.6,
          "size": 5,
          "symbol": "circle"
         },
         "mode": "markers",
         "name": "Health",
         "scene": "scene",
         "showlegend": true,
         "type": "scatter3d",
         "x": [
          1.3291380405426025,
          -0.00047712118248455226,
          -0.12833349406719208,
          -0.08478140085935593
         ],
         "y": [
          1.034139633178711,
          -0.20902249217033386,
          -0.2419171780347824,
          0.08191821724176407
         ],
         "z": [
          -0.3049059808254242,
          -0.176833376288414,
          0.34471121430397034,
          -0.18106786906719208
         ]
        },
        {
         "hovertemplate": "<b>%{hovertext}</b><br><br>color=Horror<br>x=%{x}<br>y=%{y}<br>z=%{z}<extra></extra>",
         "hovertext": [
          "Security",
          "Follow You Home",
          "The Loney",
          "Pet Sematary",
          "Doctor Sleep (The Shining #2)",
          "Psycho: Sanitarium (Psycho #1.5)",
          "Can You Keep a Secret? (Fear Street Relaunch #4)",
          "Red Dragon (Hannibal Lecter #1)",
          "Dracula the Un-Dead",
          "Night Shift (Night Shift #1-20)",
          "Needful Things",
          "Misery",
          "It",
          "'Salem's Lot",
          "The Stand",
          "The Girl with All the Gifts",
          "House of Leaves"
         ],
         "legendgroup": "Horror",
         "marker": {
          "color": "#19d3f3",
          "opacity": 0.6,
          "size": 5,
          "symbol": "circle"
         },
         "mode": "markers",
         "name": "Horror",
         "scene": "scene",
         "showlegend": true,
         "type": "scatter3d",
         "x": [
          -0.3100450932979584,
          -0.8176373243331909,
          -0.7516194581985474,
          -0.9544147849082947,
          -0.6451407074928284,
          -0.8086792826652527,
          -0.06434200704097748,
          0.29666846990585327,
          -0.22314171493053436,
          -0.1657252311706543,
          -0.5099976658821106,
          -0.1529216319322586,
          -0.416016548871994,
          0.02210836112499237,
          1.0294170379638672,
          -0.17683972418308258,
          -0.326101690530777
         ],
         "y": [
          0.12372075021266937,
          0.1543569713830948,
          0.1277717649936676,
          0.25624462962150574,
          -0.7040940523147583,
          0.4116140305995941,
          -0.46073678135871887,
          -0.08992618322372437,
          -1.0928497314453125,
          0.26613420248031616,
          0.04265674576163292,
          -0.3790973722934723,
          0.20825384557247162,
          0.5955192446708679,
          2.539963960647583,
          -0.6727476119995117,
          1.0216970443725586
         ],
         "z": [
          0.022298211231827736,
          0.1732761710882187,
          0.16460753977298737,
          -0.22185564041137695,
          -0.1319046914577484,
          0.40879368782043457,
          -0.7380503416061401,
          -0.06518349796533585,
          -0.3528909385204315,
          0.2628655731678009,
          -0.0017603430896997452,
          -0.15354806184768677,
          0.35021862387657166,
          0.33791905641555786,
          -1.7589534521102905,
          -0.16675886511802673,
          0.2908715307712555
         ]
        },
        {
         "hovertemplate": "<b>%{hovertext}</b><br><br>color=Self Help<br>x=%{x}<br>y=%{y}<br>z=%{z}<extra></extra>",
         "hovertext": [
          "Online Marketing for Busy Authors: A Step-By-Step Guide",
          "How to Be Miserable: 40 Strategies You Already Use",
          "Overload: How to Unplug, Unwind, and Unleash Yourself from the Pressure of Stress",
          "You Are a Badass: How to Stop Doubting Your Greatness and Start Living an Awesome Life",
          "How to Stop Worrying and Start Living"
         ],
         "legendgroup": "Self Help",
         "marker": {
          "color": "#FF6692",
          "opacity": 0.6,
          "size": 5,
          "symbol": "circle"
         },
         "mode": "markers",
         "name": "Self Help",
         "scene": "scene",
         "showlegend": true,
         "type": "scatter3d",
         "x": [
          1.5122092962265015,
          0.5411288738250732,
          1.4008479118347168,
          0.678560197353363,
          -1.2729487419128418
         ],
         "y": [
          0.651598334312439,
          0.754713237285614,
          0.20453011989593506,
          -0.05151743441820145,
          0.5420156717300415
         ],
         "z": [
          0.6448386907577515,
          0.4214322566986084,
          1.0596294403076172,
          -0.5648679733276367,
          0.20247767865657806
         ]
        },
        {
         "hovertemplate": "<b>%{hovertext}</b><br><br>color=Religion<br>x=%{x}<br>y=%{y}<br>z=%{z}<extra></extra>",
         "hovertext": [
          "Don't Be a Jerk: And Other Practical Advice from Dogen, Japan's Greatest Zen Master",
          "You Are What You Love: The Spiritual Power of Habit",
          "God: The Most Unpleasant Character in All Fiction",
          "The Book of Mormon",
          "A History of God: The 4,000-Year Quest of Judaism, Christianity, and Islam",
          "The Bhagavad Gita",
          "Choosing Our Religion: The Spiritual Lives of America's Nones"
         ],
         "legendgroup": "Religion",
         "marker": {
          "color": "#B6E880",
          "opacity": 0.6,
          "size": 5,
          "symbol": "circle"
         },
         "mode": "markers",
         "name": "Religion",
         "scene": "scene",
         "showlegend": true,
         "type": "scatter3d",
         "x": [
          1.2755811214447021,
          1.3241143226623535,
          0.9623433947563171,
          1.3550556898117065,
          -0.47047123312950134,
          -0.20652255415916443,
          0.22747893631458282
         ],
         "y": [
          0.2514115571975708,
          -0.20948518812656403,
          -0.24869219958782196,
          0.2059573233127594,
          -0.06467287242412567,
          0.4605777859687805,
          -0.006278748158365488
         ],
         "z": [
          -0.06585722416639328,
          0.6689811944961548,
          0.44513383507728577,
          0.08433651924133301,
          0.017943022772669792,
          -0.3627707362174988,
          -0.18242070078849792
         ]
        },
        {
         "hovertemplate": "<b>%{hovertext}</b><br><br>color=Christian<br>x=%{x}<br>y=%{y}<br>z=%{z}<extra></extra>",
         "hovertext": [
          "(Un)Qualified: How God Uses Broken People to Do Big Things",
          "Crazy Love: Overwhelmed by a Relentless God",
          "Blue Like Jazz: Nonreligious Thoughts on Christian Spirituality"
         ],
         "legendgroup": "Christian",
         "marker": {
          "color": "#FF97FF",
          "opacity": 0.6,
          "size": 5,
          "symbol": "circle"
         },
         "mode": "markers",
         "name": "Christian",
         "scene": "scene",
         "showlegend": true,
         "type": "scatter3d",
         "x": [
          0.988653302192688,
          0.27296626567840576,
          1.2698817253112793
         ],
         "y": [
          0.32135844230651855,
          0.5300211906433105,
          -0.6089575886726379
         ],
         "z": [
          1.8324167728424072,
          0.9023565053939819,
          0.0010402428451925516
         ]
        },
        {
         "hovertemplate": "<b>%{hovertext}</b><br><br>color=Crime<br>x=%{x}<br>y=%{y}<br>z=%{z}<extra></extra>",
         "hovertext": [
          "The Long Shadow of Small Ghosts: Murder and Memory in an American City"
         ],
         "legendgroup": "Crime",
         "marker": {
          "color": "#FECB52",
          "opacity": 0.6,
          "size": 5,
          "symbol": "circle"
         },
         "mode": "markers",
         "name": "Crime",
         "scene": "scene",
         "showlegend": true,
         "type": "scatter3d",
         "x": [
          -0.044957853853702545
         ],
         "y": [
          -1.2296092510223389
         ],
         "z": [
          -0.050374045968055725
         ]
        },
        {
         "hovertemplate": "<b>%{hovertext}</b><br><br>color=Autobiography<br>x=%{x}<br>y=%{y}<br>z=%{z}<extra></extra>",
         "hovertext": [
          "The Argonauts",
          "M Train",
          "Lab Girl",
          "Approval Junkie: Adventures in Caring Too Much",
          "Running with Scissors",
          "Me Talk Pretty One Day",
          "Lust & Wonder",
          "Life Without a Recipe",
          "A Heartbreaking Work of Staggering Genius"
         ],
         "legendgroup": "Autobiography",
         "marker": {
          "color": "#636efa",
          "opacity": 0.6,
          "size": 5,
          "symbol": "circle"
         },
         "mode": "markers",
         "name": "Autobiography",
         "scene": "scene",
         "showlegend": true,
         "type": "scatter3d",
         "x": [
          0.7335692644119263,
          -0.5899932384490967,
          -0.2206529825925827,
          -1.247849702835083,
          0.15912678837776184,
          0.03800470754504204,
          -0.4410097599029541,
          -0.24554936587810516,
          1.132117509841919
         ],
         "y": [
          -0.09975060075521469,
          -0.8533175587654114,
          0.7434185147285461,
          0.43689170479774475,
          0.11536658555269241,
          -0.3900812268257141,
          -0.3473378121852875,
          -0.26841530203819275,
          0.8066794276237488
         ],
         "z": [
          0.3667970895767212,
          -0.2593323290348053,
          0.2574956715106964,
          -0.09032934159040451,
          -0.25265514850616455,
          0.7041565179824829,
          -0.14235642552375793,
          -0.2534727454185486,
          0.5176451206207275
         ]
        },
        {
         "hovertemplate": "<b>%{hovertext}</b><br><br>color=Christian Fiction<br>x=%{x}<br>y=%{y}<br>z=%{z}<extra></extra>",
         "hovertext": [
          "Redeeming Love",
          "Close to You",
          "Shadows of the Past (Logan Point #1)",
          "Like Never Before (Walker Family #2)",
          "Counted With the Stars (Out from Egypt #1)",
          "If I Run (If I Run #1)"
         ],
         "legendgroup": "Christian Fiction",
         "marker": {
          "color": "#EF553B",
          "opacity": 0.6,
          "size": 5,
          "symbol": "circle"
         },
         "mode": "markers",
         "name": "Christian Fiction",
         "scene": "scene",
         "showlegend": true,
         "type": "scatter3d",
         "x": [
          -1.0545750856399536,
          -0.5242906808853149,
          -0.87203049659729,
          0.05551254376769066,
          0.3249627351760864,
          -0.7292132377624512
         ],
         "y": [
          -0.34774699807167053,
          0.6676415205001831,
          0.3946797847747803,
          -0.28099969029426575,
          -0.244662344455719,
          0.49198436737060547
         ],
         "z": [
          0.19405995309352875,
          0.7824611663818359,
          -0.21076074242591858,
          -0.06512532383203506,
          0.5225414633750916,
          0.31295427680015564
         ]
        },
        {
         "hovertemplate": "<b>%{hovertext}</b><br><br>color=Biography<br>x=%{x}<br>y=%{y}<br>z=%{z}<extra></extra>",
         "hovertext": [
          "Louisa: The Extraordinary Life of Mrs. Adams",
          "Setting the World on Fire: The Brief, Astonishing Life of St. Catherine of Siena",
          "The Faith of Christopher Hitchens: The Restless Soul of the World's Most Notorious Atheist",
          "Benjamin Franklin: An American Life",
          "The Rise of Theodore Roosevelt (Theodore Roosevelt #1)"
         ],
         "legendgroup": "Biography",
         "marker": {
          "color": "#00cc96",
          "opacity": 0.6,
          "size": 5,
          "symbol": "circle"
         },
         "mode": "markers",
         "name": "Biography",
         "scene": "scene",
         "showlegend": true,
         "type": "scatter3d",
         "x": [
          0.10904082655906677,
          -0.7833742499351501,
          -1.2061350345611572,
          0.34756380319595337,
          0.030453287065029144
         ],
         "y": [
          -1.5744481086730957,
          -0.03908915817737579,
          0.5268363952636719,
          0.08392281085252762,
          0.27150702476501465
         ],
         "z": [
          -0.33740150928497314,
          0.06936559826135635,
          0.19860149919986725,
          0.1499134600162506,
          -0.22056201100349426
         ]
        },
        {
         "hovertemplate": "<b>%{hovertext}</b><br><br>color=Womens Fiction<br>x=%{x}<br>y=%{y}<br>z=%{z}<extra></extra>",
         "hovertext": [
          "I Had a Nice Time And Other Lies...: How to find love & sh*t like that",
          "Will You Won't You Want Me?",
          "Keep Me Posted",
          "Grey (Fifty Shades #4)",
          "Meternity",
          "Some Women",
          "Shopaholic Ties the Knot (Shopaholic #3)",
          "Can You Keep a Secret?",
          "Twenties Girl",
          "The Undomestic Goddess",
          "The Nanny Diaries (Nanny #1)",
          "The Devil Wears Prada (The Devil Wears Prada #1)",
          "Something Borrowed (Darcy & Rachel #1)",
          "Something Blue (Darcy & Rachel #2)",
          "I've Got Your Number",
          "The Edge of Reason (Bridget Jones #2)",
          "Bridget Jones's Diary (Bridget Jones #1)"
         ],
         "legendgroup": "Womens Fiction",
         "marker": {
          "color": "#ab63fa",
          "opacity": 0.6,
          "size": 5,
          "symbol": "circle"
         },
         "mode": "markers",
         "name": "Womens Fiction",
         "scene": "scene",
         "showlegend": true,
         "type": "scatter3d",
         "x": [
          0.5413973331451416,
          -0.7099862098693848,
          1.1660654544830322,
          -0.8433992862701416,
          -0.32088419795036316,
          -0.3824249804019928,
          -0.541163444519043,
          -0.32259401679039,
          0.694953978061676,
          -0.4068557322025299,
          1.2454627752304077,
          0.8403662443161011,
          -0.7254824638366699,
          -0.6966618299484253,
          -0.4984523057937622,
          0.13046802580356598,
          -0.9185152053833008
         ],
         "y": [
          1.0053770542144775,
          0.5507633686065674,
          0.34645363688468933,
          0.8537790179252625,
          -0.3465276062488556,
          0.821564257144928,
          -0.3415815830230713,
          -0.8983393311500549,
          -1.1287153959274292,
          0.004634073004126549,
          -0.6068469882011414,
          -0.40493205189704895,
          0.43484431505203247,
          -0.4861558973789215,
          -0.31187912821769714,
          -0.5032080411911011,
          0.9201429486274719
         ],
         "z": [
          0.618110716342926,
          0.25593891739845276,
          0.5853033065795898,
          0.37186893820762634,
          -0.27451491355895996,
          0.33514243364334106,
          -0.08494050800800323,
          0.4357566237449646,
          0.05605091527104378,
          0.19918963313102722,
          0.7526886463165283,
          0.19578002393245697,
          0.14343740046024323,
          -0.37991422414779663,
          -0.1810922622680664,
          -0.23003852367401123,
          0.5244808793067932
         ]
        },
        {
         "hovertemplate": "<b>%{hovertext}</b><br><br>color=Erotica<br>x=%{x}<br>y=%{y}<br>z=%{z}<extra></extra>",
         "hovertext": [
          "Dark Notes"
         ],
         "legendgroup": "Erotica",
         "marker": {
          "color": "#FFA15A",
          "opacity": 0.6,
          "size": 5,
          "symbol": "circle"
         },
         "mode": "markers",
         "name": "Erotica",
         "scene": "scene",
         "showlegend": true,
         "type": "scatter3d",
         "x": [
          -0.4558512568473816
         ],
         "y": [
          0.2896374464035034
         ],
         "z": [
          0.24694675207138062
         ]
        },
        {
         "hovertemplate": "<b>%{hovertext}</b><br><br>color=Cultural<br>x=%{x}<br>y=%{y}<br>z=%{z}<extra></extra>",
         "hovertext": [
          "Amid the Chaos"
         ],
         "legendgroup": "Cultural",
         "marker": {
          "color": "#19d3f3",
          "opacity": 0.6,
          "size": 5,
          "symbol": "circle"
         },
         "mode": "markers",
         "name": "Cultural",
         "scene": "scene",
         "showlegend": true,
         "type": "scatter3d",
         "x": [
          -0.4659927785396576
         ],
         "y": [
          -0.7487592697143555
         ],
         "z": [
          -0.13603366911411285
         ]
        },
        {
         "hovertemplate": "<b>%{hovertext}</b><br><br>color=Psychology<br>x=%{x}<br>y=%{y}<br>z=%{z}<extra></extra>",
         "hovertext": [
          "The Lucifer Effect: Understanding How Good People Turn Evil",
          "The Golden Condom: And Other Essays on Love Lost and Found",
          "It Didn't Start with You: How Inherited Family Trauma Shapes Who We Are and How to End the Cycle",
          "An Unquiet Mind: A Memoir of Moods and Madness",
          "Thinking, Fast and Slow",
          "Civilization and Its Discontents",
          "8 Keys to Mental Health Through Exercise"
         ],
         "legendgroup": "Psychology",
         "marker": {
          "color": "#FF6692",
          "opacity": 0.6,
          "size": 5,
          "symbol": "circle"
         },
         "mode": "markers",
         "name": "Psychology",
         "scene": "scene",
         "showlegend": true,
         "type": "scatter3d",
         "x": [
          1.0243712663650513,
          -0.6791660785675049,
          0.17464685440063477,
          -0.43406593799591064,
          -0.706918478012085,
          -0.6465360522270203,
          0.9106984734535217
         ],
         "y": [
          -0.2085612267255783,
          0.29024767875671387,
          -0.1295255422592163,
          -0.307341068983078,
          0.03539443761110306,
          -0.07710174471139908,
          0.3896605670452118
         ],
         "z": [
          0.37778082489967346,
          0.8682589530944824,
          0.25156840682029724,
          -0.15763139724731445,
          -0.09269562363624573,
          0.13672342896461487,
          0.6807525753974915
         ]
        },
        {
         "hovertemplate": "<b>%{hovertext}</b><br><br>color=Humor<br>x=%{x}<br>y=%{y}<br>z=%{z}<extra></extra>",
         "hovertext": [
          "The Long Haul (Diary of a Wimpy Kid #9)",
          "Old School (Diary of a Wimpy Kid #10)",
          "I Know What I'm Doing -- and Other Lies I Tell Myself: Dispatches from a Life Under Construction",
          "Hyperbole and a Half: Unfortunate Situations, Flawed Coping Mechanisms, Mayhem, and Other Things That Happened",
          "Dress Your Family in Corduroy and Denim",
          "Toddlers Are A**holes: It's Not Your Fault",
          "When You Are Engulfed in Flames",
          "Naked",
          "Lamb: The Gospel According to Biff, Christ's Childhood Pal",
          "Holidays on Ice"
         ],
         "legendgroup": "Humor",
         "marker": {
          "color": "#B6E880",
          "opacity": 0.6,
          "size": 5,
          "symbol": "circle"
         },
         "mode": "markers",
         "name": "Humor",
         "scene": "scene",
         "showlegend": true,
         "type": "scatter3d",
         "x": [
          -0.0312199704349041,
          -0.1701980084180832,
          0.10237029939889908,
          0.04216594621539116,
          -0.24594752490520477,
          0.7876552939414978,
          1.3291676044464111,
          -0.5351330637931824,
          -0.665947675704956,
          -0.9151344299316406
         ],
         "y": [
          -0.021000312641263008,
          0.29222896695137024,
          1.1440109014511108,
          0.5352888107299805,
          1.2152093648910522,
          -0.5504546761512756,
          -1.5730493068695068,
          -0.5660179853439331,
          0.06599486619234085,
          -0.3115639388561249
         ],
         "z": [
          -0.12030535191297531,
          0.05096306651830673,
          0.6133872270584106,
          0.24402521550655365,
          0.19389459490776062,
          0.16980794072151184,
          0.2619307041168213,
          -0.09955594688653946,
          0.042574867606163025,
          -0.01485766377300024
         ]
        },
        {
         "hovertemplate": "<b>%{hovertext}</b><br><br>color=Historical<br>x=%{x}<br>y=%{y}<br>z=%{z}<extra></extra>",
         "hovertext": [
          "All the Light We Cannot See",
          "The Girl You Left Behind (The Girl You Left Behind #1)"
         ],
         "legendgroup": "Historical",
         "marker": {
          "color": "#FF97FF",
          "opacity": 0.6,
          "size": 5,
          "symbol": "circle"
         },
         "mode": "markers",
         "name": "Historical",
         "scene": "scene",
         "showlegend": true,
         "type": "scatter3d",
         "x": [
          -0.37029245495796204,
          -0.1496908813714981
         ],
         "y": [
          -0.9754328727722168,
          -0.0352758914232254
         ],
         "z": [
          -0.1509234458208084,
          0.026682831346988678
         ]
        },
        {
         "hovertemplate": "<b>%{hovertext}</b><br><br>color=Novels<br>x=%{x}<br>y=%{y}<br>z=%{z}<extra></extra>",
         "hovertext": [
          "Suzie Snowflake: One beautiful flake (a self-esteem story)"
         ],
         "legendgroup": "Novels",
         "marker": {
          "color": "#FECB52",
          "opacity": 0.6,
          "size": 5,
          "symbol": "circle"
         },
         "mode": "markers",
         "name": "Novels",
         "scene": "scene",
         "showlegend": true,
         "type": "scatter3d",
         "x": [
          0.4550932049751282
         ],
         "y": [
          0.7474202513694763
         ],
         "z": [
          -0.1360820084810257
         ]
        },
        {
         "hovertemplate": "<b>%{hovertext}</b><br><br>color=Short Stories<br>x=%{x}<br>y=%{y}<br>z=%{z}<extra></extra>",
         "hovertext": [
          "The Grownup"
         ],
         "legendgroup": "Short Stories",
         "marker": {
          "color": "#636efa",
          "opacity": 0.6,
          "size": 5,
          "symbol": "circle"
         },
         "mode": "markers",
         "name": "Short Stories",
         "scene": "scene",
         "showlegend": true,
         "type": "scatter3d",
         "x": [
          1.720043420791626
         ],
         "y": [
          0.14963427186012268
         ],
         "z": [
          0.9647615551948547
         ]
        },
        {
         "hovertemplate": "<b>%{hovertext}</b><br><br>color=Suspense<br>x=%{x}<br>y=%{y}<br>z=%{z}<extra></extra>",
         "hovertext": [
          "Silence in the Dark (Logan Point #4)"
         ],
         "legendgroup": "Suspense",
         "marker": {
          "color": "#EF553B",
          "opacity": 0.6,
          "size": 5,
          "symbol": "circle"
         },
         "mode": "markers",
         "name": "Suspense",
         "scene": "scene",
         "showlegend": true,
         "type": "scatter3d",
         "x": [
          -1.2365704774856567
         ],
         "y": [
          -0.06106095388531685
         ],
         "z": [
          0.11666857451200485
         ]
        },
        {
         "hovertemplate": "<b>%{hovertext}</b><br><br>color=Classics<br>x=%{x}<br>y=%{y}<br>z=%{z}<extra></extra>",
         "hovertext": [
          "The Secret Garden",
          "The Metamorphosis",
          "The Pilgrim's Progress",
          "The Hound of the Baskervilles (Sherlock Holmes #5)",
          "Little Women (Little Women #1)",
          "Gone with the Wind",
          "Candide",
          "Animal Farm",
          "Wuthering Heights",
          "The Picture of Dorian Gray",
          "The Complete Stories and Poems (The Works of Edgar Allan Poe [Cameo Edition])",
          "Beowulf",
          "And Then There Were None",
          "The Story of Hong Gildong",
          "The Little Prince",
          "Sense and Sensibility",
          "Of Mice and Men",
          "Emma",
          "Alice in Wonderland (Alice's Adventures in Wonderland #1)"
         ],
         "legendgroup": "Classics",
         "marker": {
          "color": "#00cc96",
          "opacity": 0.6,
          "size": 5,
          "symbol": "circle"
         },
         "mode": "markers",
         "name": "Classics",
         "scene": "scene",
         "showlegend": true,
         "type": "scatter3d",
         "x": [
          -1.0827057361602783,
          0.1392497569322586,
          -0.5861784815788269,
          1.4419269561767578,
          -0.42267709970474243,
          0.8863353133201599,
          -0.8291448950767517,
          -1.1072425842285156,
          0.7341464161872864,
          -0.5545185804367065,
          1.2281361818313599,
          -1.0681577920913696,
          0.18469786643981934,
          -0.8103342652320862,
          -0.8784214854240417,
          -0.7772804498672485,
          -0.678417444229126,
          0.45463043451309204,
          -0.5170457363128662
         ],
         "y": [
          -0.41073504090309143,
          -1.5818201303482056,
          0.73879075050354,
          -1.2751758098602295,
          0.3006451427936554,
          -0.3846622705459595,
          0.4221392869949341,
          0.16506774723529816,
          -1.3720250129699707,
          -0.4901007413864136,
          -0.48567143082618713,
          -0.0267055444419384,
          0.5985890626907349,
          0.24028462171554565,
          0.6163114905357361,
          -0.24710799753665924,
          0.5122882127761841,
          -0.352085143327713,
          -0.2671484351158142
         ],
         "z": [
          0.24877044558525085,
          -1.4029700756072998,
          0.1149853840470314,
          -0.711206316947937,
          -0.004804844502359629,
          0.3056100010871887,
          0.2211921513080597,
          0.1696784347295761,
          -0.4214884042739868,
          0.2590698003768921,
          -0.42014971375465393,
          -0.27106502652168274,
          -0.04344597086310387,
          0.2590303421020508,
          0.27743828296661377,
          -0.24909262359142303,
          0.03064141795039177,
          -0.3065135180950165,
          0.1624467819929123
         ]
        },
        {
         "hovertemplate": "<b>%{hovertext}</b><br><br>color=Academic<br>x=%{x}<br>y=%{y}<br>z=%{z}<extra></extra>",
         "hovertext": [
          "Logan Kade (Fallen Crest High #5.5)"
         ],
         "legendgroup": "Academic",
         "marker": {
          "color": "#ab63fa",
          "opacity": 0.6,
          "size": 5,
          "symbol": "circle"
         },
         "mode": "markers",
         "name": "Academic",
         "scene": "scene",
         "showlegend": true,
         "type": "scatter3d",
         "x": [
          -1.076843023300171
         ],
         "y": [
          0.5854448676109314
         ],
         "z": [
          0.13941548764705658
         ]
        },
        {
         "hovertemplate": "<b>%{hovertext}</b><br><br>color=Sports and Games<br>x=%{x}<br>y=%{y}<br>z=%{z}<extra></extra>",
         "hovertext": [
          "The Book of Basketball: The NBA According to The Sports Guy",
          "Friday Night Lights: A Town, a Team, and a Dream",
          "Sugar Rush (Offensive Line #2)",
          "Settling the Score (The Summer Games #1)",
          "Icing (Aces Hockey #2)"
         ],
         "legendgroup": "Sports and Games",
         "marker": {
          "color": "#FFA15A",
          "opacity": 0.6,
          "size": 5,
          "symbol": "circle"
         },
         "mode": "markers",
         "name": "Sports and Games",
         "scene": "scene",
         "showlegend": true,
         "type": "scatter3d",
         "x": [
          -0.5788581371307373,
          -0.5961681008338928,
          -0.5600502490997314,
          -0.34005358815193176,
          -0.5300427675247192
         ],
         "y": [
          -0.02494799718260765,
          -0.19943830370903015,
          -0.6466855406761169,
          -0.022187788039445877,
          -0.12656132876873016
         ],
         "z": [
          0.07583750039339066,
          0.007967240177094936,
          -0.3342735767364502,
          0.0944707840681076,
          -0.10851647704839706
         ]
        },
        {
         "hovertemplate": "<b>%{hovertext}</b><br><br>color=Adult Fiction<br>x=%{x}<br>y=%{y}<br>z=%{z}<extra></extra>",
         "hovertext": [
          "Fifty Shades Freed (Fifty Shades #3)"
         ],
         "legendgroup": "Adult Fiction",
         "marker": {
          "color": "#19d3f3",
          "opacity": 0.6,
          "size": 5,
          "symbol": "circle"
         },
         "mode": "markers",
         "name": "Adult Fiction",
         "scene": "scene",
         "showlegend": true,
         "type": "scatter3d",
         "x": [
          -0.3765908479690552
         ],
         "y": [
          0.2754651606082916
         ],
         "z": [
          0.055191390216350555
         ]
        },
        {
         "hovertemplate": "<b>%{hovertext}</b><br><br>color=Parenting<br>x=%{x}<br>y=%{y}<br>z=%{z}<extra></extra>",
         "hovertext": [
          "Catastrophic Happiness: Finding Joy in Childhood's Messy Years"
         ],
         "legendgroup": "Parenting",
         "marker": {
          "color": "#FF6692",
          "opacity": 0.6,
          "size": 5,
          "symbol": "circle"
         },
         "mode": "markers",
         "name": "Parenting",
         "scene": "scene",
         "showlegend": true,
         "type": "scatter3d",
         "x": [
          -0.6480119824409485
         ],
         "y": [
          -0.31732505559921265
         ],
         "z": [
          0.11234966665506363
         ]
        },
        {
         "hovertemplate": "<b>%{hovertext}</b><br><br>color=Paranormal<br>x=%{x}<br>y=%{y}<br>z=%{z}<extra></extra>",
         "hovertext": [
          "Vampire Knight, Vol. 1 (Vampire Knight #1)"
         ],
         "legendgroup": "Paranormal",
         "marker": {
          "color": "#B6E880",
          "opacity": 0.6,
          "size": 5,
          "symbol": "circle"
         },
         "mode": "markers",
         "name": "Paranormal",
         "scene": "scene",
         "showlegend": true,
         "type": "scatter3d",
         "x": [
          -1.1107350587844849
         ],
         "y": [
          0.37027549743652344
         ],
         "z": [
          0.5433035492897034
         ]
        }
       ],
       "layout": {
        "legend": {
         "title": {
          "text": "color"
         },
         "tracegroupgap": 0
        },
        "scene": {
         "domain": {
          "x": [
           0,
           1
          ],
          "y": [
           0,
           1
          ]
         },
         "xaxis": {
          "title": {
           "text": "x"
          }
         },
         "yaxis": {
          "title": {
           "text": "y"
          }
         },
         "zaxis": {
          "title": {
           "text": "z"
          }
         }
        },
        "template": {
         "data": {
          "bar": [
           {
            "error_x": {
             "color": "#2a3f5f"
            },
            "error_y": {
             "color": "#2a3f5f"
            },
            "marker": {
             "line": {
              "color": "#E5ECF6",
              "width": 0.5
             },
             "pattern": {
              "fillmode": "overlay",
              "size": 10,
              "solidity": 0.2
             }
            },
            "type": "bar"
           }
          ],
          "barpolar": [
           {
            "marker": {
             "line": {
              "color": "#E5ECF6",
              "width": 0.5
             },
             "pattern": {
              "fillmode": "overlay",
              "size": 10,
              "solidity": 0.2
             }
            },
            "type": "barpolar"
           }
          ],
          "carpet": [
           {
            "aaxis": {
             "endlinecolor": "#2a3f5f",
             "gridcolor": "white",
             "linecolor": "white",
             "minorgridcolor": "white",
             "startlinecolor": "#2a3f5f"
            },
            "baxis": {
             "endlinecolor": "#2a3f5f",
             "gridcolor": "white",
             "linecolor": "white",
             "minorgridcolor": "white",
             "startlinecolor": "#2a3f5f"
            },
            "type": "carpet"
           }
          ],
          "choropleth": [
           {
            "colorbar": {
             "outlinewidth": 0,
             "ticks": ""
            },
            "type": "choropleth"
           }
          ],
          "contour": [
           {
            "colorbar": {
             "outlinewidth": 0,
             "ticks": ""
            },
            "colorscale": [
             [
              0,
              "#0d0887"
             ],
             [
              0.1111111111111111,
              "#46039f"
             ],
             [
              0.2222222222222222,
              "#7201a8"
             ],
             [
              0.3333333333333333,
              "#9c179e"
             ],
             [
              0.4444444444444444,
              "#bd3786"
             ],
             [
              0.5555555555555556,
              "#d8576b"
             ],
             [
              0.6666666666666666,
              "#ed7953"
             ],
             [
              0.7777777777777778,
              "#fb9f3a"
             ],
             [
              0.8888888888888888,
              "#fdca26"
             ],
             [
              1,
              "#f0f921"
             ]
            ],
            "type": "contour"
           }
          ],
          "contourcarpet": [
           {
            "colorbar": {
             "outlinewidth": 0,
             "ticks": ""
            },
            "type": "contourcarpet"
           }
          ],
          "heatmap": [
           {
            "colorbar": {
             "outlinewidth": 0,
             "ticks": ""
            },
            "colorscale": [
             [
              0,
              "#0d0887"
             ],
             [
              0.1111111111111111,
              "#46039f"
             ],
             [
              0.2222222222222222,
              "#7201a8"
             ],
             [
              0.3333333333333333,
              "#9c179e"
             ],
             [
              0.4444444444444444,
              "#bd3786"
             ],
             [
              0.5555555555555556,
              "#d8576b"
             ],
             [
              0.6666666666666666,
              "#ed7953"
             ],
             [
              0.7777777777777778,
              "#fb9f3a"
             ],
             [
              0.8888888888888888,
              "#fdca26"
             ],
             [
              1,
              "#f0f921"
             ]
            ],
            "type": "heatmap"
           }
          ],
          "heatmapgl": [
           {
            "colorbar": {
             "outlinewidth": 0,
             "ticks": ""
            },
            "colorscale": [
             [
              0,
              "#0d0887"
             ],
             [
              0.1111111111111111,
              "#46039f"
             ],
             [
              0.2222222222222222,
              "#7201a8"
             ],
             [
              0.3333333333333333,
              "#9c179e"
             ],
             [
              0.4444444444444444,
              "#bd3786"
             ],
             [
              0.5555555555555556,
              "#d8576b"
             ],
             [
              0.6666666666666666,
              "#ed7953"
             ],
             [
              0.7777777777777778,
              "#fb9f3a"
             ],
             [
              0.8888888888888888,
              "#fdca26"
             ],
             [
              1,
              "#f0f921"
             ]
            ],
            "type": "heatmapgl"
           }
          ],
          "histogram": [
           {
            "marker": {
             "pattern": {
              "fillmode": "overlay",
              "size": 10,
              "solidity": 0.2
             }
            },
            "type": "histogram"
           }
          ],
          "histogram2d": [
           {
            "colorbar": {
             "outlinewidth": 0,
             "ticks": ""
            },
            "colorscale": [
             [
              0,
              "#0d0887"
             ],
             [
              0.1111111111111111,
              "#46039f"
             ],
             [
              0.2222222222222222,
              "#7201a8"
             ],
             [
              0.3333333333333333,
              "#9c179e"
             ],
             [
              0.4444444444444444,
              "#bd3786"
             ],
             [
              0.5555555555555556,
              "#d8576b"
             ],
             [
              0.6666666666666666,
              "#ed7953"
             ],
             [
              0.7777777777777778,
              "#fb9f3a"
             ],
             [
              0.8888888888888888,
              "#fdca26"
             ],
             [
              1,
              "#f0f921"
             ]
            ],
            "type": "histogram2d"
           }
          ],
          "histogram2dcontour": [
           {
            "colorbar": {
             "outlinewidth": 0,
             "ticks": ""
            },
            "colorscale": [
             [
              0,
              "#0d0887"
             ],
             [
              0.1111111111111111,
              "#46039f"
             ],
             [
              0.2222222222222222,
              "#7201a8"
             ],
             [
              0.3333333333333333,
              "#9c179e"
             ],
             [
              0.4444444444444444,
              "#bd3786"
             ],
             [
              0.5555555555555556,
              "#d8576b"
             ],
             [
              0.6666666666666666,
              "#ed7953"
             ],
             [
              0.7777777777777778,
              "#fb9f3a"
             ],
             [
              0.8888888888888888,
              "#fdca26"
             ],
             [
              1,
              "#f0f921"
             ]
            ],
            "type": "histogram2dcontour"
           }
          ],
          "mesh3d": [
           {
            "colorbar": {
             "outlinewidth": 0,
             "ticks": ""
            },
            "type": "mesh3d"
           }
          ],
          "parcoords": [
           {
            "line": {
             "colorbar": {
              "outlinewidth": 0,
              "ticks": ""
             }
            },
            "type": "parcoords"
           }
          ],
          "pie": [
           {
            "automargin": true,
            "type": "pie"
           }
          ],
          "scatter": [
           {
            "fillpattern": {
             "fillmode": "overlay",
             "size": 10,
             "solidity": 0.2
            },
            "type": "scatter"
           }
          ],
          "scatter3d": [
           {
            "line": {
             "colorbar": {
              "outlinewidth": 0,
              "ticks": ""
             }
            },
            "marker": {
             "colorbar": {
              "outlinewidth": 0,
              "ticks": ""
             }
            },
            "type": "scatter3d"
           }
          ],
          "scattercarpet": [
           {
            "marker": {
             "colorbar": {
              "outlinewidth": 0,
              "ticks": ""
             }
            },
            "type": "scattercarpet"
           }
          ],
          "scattergeo": [
           {
            "marker": {
             "colorbar": {
              "outlinewidth": 0,
              "ticks": ""
             }
            },
            "type": "scattergeo"
           }
          ],
          "scattergl": [
           {
            "marker": {
             "colorbar": {
              "outlinewidth": 0,
              "ticks": ""
             }
            },
            "type": "scattergl"
           }
          ],
          "scattermapbox": [
           {
            "marker": {
             "colorbar": {
              "outlinewidth": 0,
              "ticks": ""
             }
            },
            "type": "scattermapbox"
           }
          ],
          "scatterpolar": [
           {
            "marker": {
             "colorbar": {
              "outlinewidth": 0,
              "ticks": ""
             }
            },
            "type": "scatterpolar"
           }
          ],
          "scatterpolargl": [
           {
            "marker": {
             "colorbar": {
              "outlinewidth": 0,
              "ticks": ""
             }
            },
            "type": "scatterpolargl"
           }
          ],
          "scatterternary": [
           {
            "marker": {
             "colorbar": {
              "outlinewidth": 0,
              "ticks": ""
             }
            },
            "type": "scatterternary"
           }
          ],
          "surface": [
           {
            "colorbar": {
             "outlinewidth": 0,
             "ticks": ""
            },
            "colorscale": [
             [
              0,
              "#0d0887"
             ],
             [
              0.1111111111111111,
              "#46039f"
             ],
             [
              0.2222222222222222,
              "#7201a8"
             ],
             [
              0.3333333333333333,
              "#9c179e"
             ],
             [
              0.4444444444444444,
              "#bd3786"
             ],
             [
              0.5555555555555556,
              "#d8576b"
             ],
             [
              0.6666666666666666,
              "#ed7953"
             ],
             [
              0.7777777777777778,
              "#fb9f3a"
             ],
             [
              0.8888888888888888,
              "#fdca26"
             ],
             [
              1,
              "#f0f921"
             ]
            ],
            "type": "surface"
           }
          ],
          "table": [
           {
            "cells": {
             "fill": {
              "color": "#EBF0F8"
             },
             "line": {
              "color": "white"
             }
            },
            "header": {
             "fill": {
              "color": "#C8D4E3"
             },
             "line": {
              "color": "white"
             }
            },
            "type": "table"
           }
          ]
         },
         "layout": {
          "annotationdefaults": {
           "arrowcolor": "#2a3f5f",
           "arrowhead": 0,
           "arrowwidth": 1
          },
          "autotypenumbers": "strict",
          "coloraxis": {
           "colorbar": {
            "outlinewidth": 0,
            "ticks": ""
           }
          },
          "colorscale": {
           "diverging": [
            [
             0,
             "#8e0152"
            ],
            [
             0.1,
             "#c51b7d"
            ],
            [
             0.2,
             "#de77ae"
            ],
            [
             0.3,
             "#f1b6da"
            ],
            [
             0.4,
             "#fde0ef"
            ],
            [
             0.5,
             "#f7f7f7"
            ],
            [
             0.6,
             "#e6f5d0"
            ],
            [
             0.7,
             "#b8e186"
            ],
            [
             0.8,
             "#7fbc41"
            ],
            [
             0.9,
             "#4d9221"
            ],
            [
             1,
             "#276419"
            ]
           ],
           "sequential": [
            [
             0,
             "#0d0887"
            ],
            [
             0.1111111111111111,
             "#46039f"
            ],
            [
             0.2222222222222222,
             "#7201a8"
            ],
            [
             0.3333333333333333,
             "#9c179e"
            ],
            [
             0.4444444444444444,
             "#bd3786"
            ],
            [
             0.5555555555555556,
             "#d8576b"
            ],
            [
             0.6666666666666666,
             "#ed7953"
            ],
            [
             0.7777777777777778,
             "#fb9f3a"
            ],
            [
             0.8888888888888888,
             "#fdca26"
            ],
            [
             1,
             "#f0f921"
            ]
           ],
           "sequentialminus": [
            [
             0,
             "#0d0887"
            ],
            [
             0.1111111111111111,
             "#46039f"
            ],
            [
             0.2222222222222222,
             "#7201a8"
            ],
            [
             0.3333333333333333,
             "#9c179e"
            ],
            [
             0.4444444444444444,
             "#bd3786"
            ],
            [
             0.5555555555555556,
             "#d8576b"
            ],
            [
             0.6666666666666666,
             "#ed7953"
            ],
            [
             0.7777777777777778,
             "#fb9f3a"
            ],
            [
             0.8888888888888888,
             "#fdca26"
            ],
            [
             1,
             "#f0f921"
            ]
           ]
          },
          "colorway": [
           "#636efa",
           "#EF553B",
           "#00cc96",
           "#ab63fa",
           "#FFA15A",
           "#19d3f3",
           "#FF6692",
           "#B6E880",
           "#FF97FF",
           "#FECB52"
          ],
          "font": {
           "color": "#2a3f5f"
          },
          "geo": {
           "bgcolor": "white",
           "lakecolor": "white",
           "landcolor": "#E5ECF6",
           "showlakes": true,
           "showland": true,
           "subunitcolor": "white"
          },
          "hoverlabel": {
           "align": "left"
          },
          "hovermode": "closest",
          "mapbox": {
           "style": "light"
          },
          "paper_bgcolor": "white",
          "plot_bgcolor": "#E5ECF6",
          "polar": {
           "angularaxis": {
            "gridcolor": "white",
            "linecolor": "white",
            "ticks": ""
           },
           "bgcolor": "#E5ECF6",
           "radialaxis": {
            "gridcolor": "white",
            "linecolor": "white",
            "ticks": ""
           }
          },
          "scene": {
           "xaxis": {
            "backgroundcolor": "#E5ECF6",
            "gridcolor": "white",
            "gridwidth": 2,
            "linecolor": "white",
            "showbackground": true,
            "ticks": "",
            "zerolinecolor": "white"
           },
           "yaxis": {
            "backgroundcolor": "#E5ECF6",
            "gridcolor": "white",
            "gridwidth": 2,
            "linecolor": "white",
            "showbackground": true,
            "ticks": "",
            "zerolinecolor": "white"
           },
           "zaxis": {
            "backgroundcolor": "#E5ECF6",
            "gridcolor": "white",
            "gridwidth": 2,
            "linecolor": "white",
            "showbackground": true,
            "ticks": "",
            "zerolinecolor": "white"
           }
          },
          "shapedefaults": {
           "line": {
            "color": "#2a3f5f"
           }
          },
          "ternary": {
           "aaxis": {
            "gridcolor": "white",
            "linecolor": "white",
            "ticks": ""
           },
           "baxis": {
            "gridcolor": "white",
            "linecolor": "white",
            "ticks": ""
           },
           "bgcolor": "#E5ECF6",
           "caxis": {
            "gridcolor": "white",
            "linecolor": "white",
            "ticks": ""
           }
          },
          "title": {
           "x": 0.05
          },
          "xaxis": {
           "automargin": true,
           "gridcolor": "white",
           "linecolor": "white",
           "ticks": "",
           "title": {
            "standoff": 15
           },
           "zerolinecolor": "white",
           "zerolinewidth": 2
          },
          "yaxis": {
           "automargin": true,
           "gridcolor": "white",
           "linecolor": "white",
           "ticks": "",
           "title": {
            "standoff": 15
           },
           "zerolinecolor": "white",
           "zerolinewidth": 2
          }
         }
        },
        "title": {
         "text": "Vector Represention of Book Reviews"
        }
       }
      }
     },
     "metadata": {},
     "output_type": "display_data"
    }
   ],
   "source": [
    "# A scatter plot of the vectors using Poltly Express\n",
    "fig = px.scatter_3d(x=books_df[\"Vec1\"], y=books_df[\"Vec2\"], z=books_df[\"Vec3\"], color=books_df[\"Category\"], \n",
    "                    opacity=0.6, title=\"Vector Represention of Book Reviews\", hover_name=books_df[\"Title\"])\n",
    "fig.update_traces(marker=dict(size=5))\n",
    "fig.show()"
   ]
  },
  {
   "attachments": {},
   "cell_type": "markdown",
   "metadata": {},
   "source": [
    "#### **Training the model for Songs Data**"
   ]
  },
  {
   "cell_type": "code",
   "execution_count": 302,
   "metadata": {},
   "outputs": [],
   "source": [
    "# Creating tagged documents for songs\n",
    "# the lyrics are documents and song name are tags\n",
    "tagged_documents = []\n",
    "for _, row in songs_df.iterrows():\n",
    "    tag = row['track_name']\n",
    "    words = row['lyrics'].split()  # Split the description into words\n",
    "    tagged_doc = TaggedDocument(words=words, tags=[tag])\n",
    "    tagged_documents.append(tagged_doc)\n"
   ]
  },
  {
   "cell_type": "code",
   "execution_count": 303,
   "metadata": {},
   "outputs": [
    {
     "data": {
      "image/png": "[encoded data removed]",
      "text/plain": [
       "<Figure size 640x480 with 1 Axes>"
      ]
     },
     "metadata": {},
     "output_type": "display_data"
    }
   ],
   "source": [
    "# Find the optimal vector size for the doc2vec model\n",
    "# Takes a bit of time to run please grab a snacc\n",
    "vector_sizes = [50, 100, 150, 200, 250, 300, 350, 400, 450, 500]\n",
    "vector_size_scores = []\n",
    "\n",
    "for size in vector_sizes:\n",
    "    # Train a Doc2Vec model\n",
    "    model = Doc2Vec(dm=1, vector_size=size, window=5, min_count=1, epochs=10, workers=4)\n",
    "    model.build_vocab(tagged_documents)\n",
    "    model.train(tagged_documents, total_examples=model.corpus_count, epochs=model.epochs)\n",
    "    \n",
    "    # Get the document vectors\n",
    "    doc_vectors = []\n",
    "    for tag in songs_df['track_name']:\n",
    "        doc_vectors.append(model.docvecs[tag])\n",
    "    \n",
    "    # Get the accuracy of the model\n",
    "    knn = KNeighborsClassifier(n_neighbors=5, metric='cosine')\n",
    "    knn.fit(doc_vectors, songs_df['track_name'])\n",
    "    accuracy = knn.score(doc_vectors, songs_df['track_name'])\n",
    "    \n",
    "    # Append the accuracy to the list of scores\n",
    "    vector_size_scores.append(accuracy)\n",
    "\n",
    "# Plot the accuracies by vector size\n",
    "plt.plot(vector_sizes, vector_size_scores)\n",
    "plt.xlabel('Vector Size')\n",
    "plt.ylabel('Accuracy')\n",
    "plt.title('Finding Optimal Vector Size')\n",
    "plt.show()"
   ]
  },
  {
   "cell_type": "code",
   "execution_count": 304,
   "metadata": {},
   "outputs": [],
   "source": [
    "# Train a Doc2Vec model with the optimal parameters\n",
    "songs_model = Doc2Vec(tagged_documents, vector_size=250, window=5, epochs=20, dm=0, min_count=2)"
   ]
  },
  {
   "cell_type": "code",
   "execution_count": 305,
   "metadata": {},
   "outputs": [
    {
     "data": {
      "text/html": [
       "<div>\n",
       "<style scoped>\n",
       "    .dataframe tbody tr th:only-of-type {\n",
       "        vertical-align: middle;\n",
       "    }\n",
       "\n",
       "    .dataframe tbody tr th {\n",
       "        vertical-align: top;\n",
       "    }\n",
       "\n",
       "    .dataframe thead th {\n",
       "        text-align: right;\n",
       "    }\n",
       "</style>\n",
       "<table border=\"1\" class=\"dataframe\">\n",
       "  <thead>\n",
       "    <tr style=\"text-align: right;\">\n",
       "      <th></th>\n",
       "      <th>0</th>\n",
       "      <th>1</th>\n",
       "      <th>2</th>\n",
       "      <th>3</th>\n",
       "      <th>4</th>\n",
       "      <th>5</th>\n",
       "      <th>6</th>\n",
       "      <th>7</th>\n",
       "      <th>8</th>\n",
       "      <th>9</th>\n",
       "      <th>...</th>\n",
       "      <th>240</th>\n",
       "      <th>241</th>\n",
       "      <th>242</th>\n",
       "      <th>243</th>\n",
       "      <th>244</th>\n",
       "      <th>245</th>\n",
       "      <th>246</th>\n",
       "      <th>247</th>\n",
       "      <th>248</th>\n",
       "      <th>249</th>\n",
       "    </tr>\n",
       "  </thead>\n",
       "  <tbody>\n",
       "    <tr>\n",
       "      <th>0</th>\n",
       "      <td>0.079329</td>\n",
       "      <td>-0.121775</td>\n",
       "      <td>0.319921</td>\n",
       "      <td>0.510957</td>\n",
       "      <td>-0.156860</td>\n",
       "      <td>0.496622</td>\n",
       "      <td>-0.680988</td>\n",
       "      <td>0.010218</td>\n",
       "      <td>0.013013</td>\n",
       "      <td>-0.158540</td>\n",
       "      <td>...</td>\n",
       "      <td>0.193044</td>\n",
       "      <td>0.098147</td>\n",
       "      <td>0.224634</td>\n",
       "      <td>-0.450411</td>\n",
       "      <td>0.103851</td>\n",
       "      <td>0.021395</td>\n",
       "      <td>-0.129351</td>\n",
       "      <td>0.151399</td>\n",
       "      <td>-0.476161</td>\n",
       "      <td>-0.311572</td>\n",
       "    </tr>\n",
       "    <tr>\n",
       "      <th>1</th>\n",
       "      <td>-0.244631</td>\n",
       "      <td>-0.287924</td>\n",
       "      <td>-0.215484</td>\n",
       "      <td>0.130992</td>\n",
       "      <td>-0.786811</td>\n",
       "      <td>0.485428</td>\n",
       "      <td>-0.202465</td>\n",
       "      <td>0.327155</td>\n",
       "      <td>0.803550</td>\n",
       "      <td>-0.564224</td>\n",
       "      <td>...</td>\n",
       "      <td>0.453741</td>\n",
       "      <td>0.036631</td>\n",
       "      <td>0.384822</td>\n",
       "      <td>-0.651473</td>\n",
       "      <td>0.427775</td>\n",
       "      <td>0.348023</td>\n",
       "      <td>0.045341</td>\n",
       "      <td>0.619570</td>\n",
       "      <td>-0.366215</td>\n",
       "      <td>0.049088</td>\n",
       "    </tr>\n",
       "    <tr>\n",
       "      <th>2</th>\n",
       "      <td>0.459586</td>\n",
       "      <td>-0.915454</td>\n",
       "      <td>-0.157527</td>\n",
       "      <td>0.235690</td>\n",
       "      <td>-0.144305</td>\n",
       "      <td>0.162279</td>\n",
       "      <td>-1.088888</td>\n",
       "      <td>-0.536995</td>\n",
       "      <td>-0.149827</td>\n",
       "      <td>0.146872</td>\n",
       "      <td>...</td>\n",
       "      <td>0.350723</td>\n",
       "      <td>-0.038070</td>\n",
       "      <td>0.008792</td>\n",
       "      <td>-0.643660</td>\n",
       "      <td>-0.022559</td>\n",
       "      <td>-0.053491</td>\n",
       "      <td>-0.056392</td>\n",
       "      <td>-0.192774</td>\n",
       "      <td>-0.444704</td>\n",
       "      <td>-0.058033</td>\n",
       "    </tr>\n",
       "    <tr>\n",
       "      <th>3</th>\n",
       "      <td>0.245212</td>\n",
       "      <td>-0.220345</td>\n",
       "      <td>0.173390</td>\n",
       "      <td>0.185150</td>\n",
       "      <td>-0.192134</td>\n",
       "      <td>-0.019466</td>\n",
       "      <td>-0.126326</td>\n",
       "      <td>-0.043852</td>\n",
       "      <td>0.189401</td>\n",
       "      <td>0.024010</td>\n",
       "      <td>...</td>\n",
       "      <td>0.315002</td>\n",
       "      <td>-0.237030</td>\n",
       "      <td>0.093459</td>\n",
       "      <td>-0.134605</td>\n",
       "      <td>0.248575</td>\n",
       "      <td>-0.214488</td>\n",
       "      <td>-0.081471</td>\n",
       "      <td>-0.081324</td>\n",
       "      <td>0.151182</td>\n",
       "      <td>-0.279519</td>\n",
       "    </tr>\n",
       "    <tr>\n",
       "      <th>4</th>\n",
       "      <td>-0.064847</td>\n",
       "      <td>-0.116291</td>\n",
       "      <td>0.062257</td>\n",
       "      <td>0.197666</td>\n",
       "      <td>0.234357</td>\n",
       "      <td>-0.264143</td>\n",
       "      <td>-0.194937</td>\n",
       "      <td>-0.011725</td>\n",
       "      <td>-0.051729</td>\n",
       "      <td>0.134893</td>\n",
       "      <td>...</td>\n",
       "      <td>0.508582</td>\n",
       "      <td>0.106431</td>\n",
       "      <td>-0.167247</td>\n",
       "      <td>-0.628752</td>\n",
       "      <td>0.350395</td>\n",
       "      <td>0.137009</td>\n",
       "      <td>0.171413</td>\n",
       "      <td>0.291993</td>\n",
       "      <td>-0.028600</td>\n",
       "      <td>-0.483333</td>\n",
       "    </tr>\n",
       "    <tr>\n",
       "      <th>...</th>\n",
       "      <td>...</td>\n",
       "      <td>...</td>\n",
       "      <td>...</td>\n",
       "      <td>...</td>\n",
       "      <td>...</td>\n",
       "      <td>...</td>\n",
       "      <td>...</td>\n",
       "      <td>...</td>\n",
       "      <td>...</td>\n",
       "      <td>...</td>\n",
       "      <td>...</td>\n",
       "      <td>...</td>\n",
       "      <td>...</td>\n",
       "      <td>...</td>\n",
       "      <td>...</td>\n",
       "      <td>...</td>\n",
       "      <td>...</td>\n",
       "      <td>...</td>\n",
       "      <td>...</td>\n",
       "      <td>...</td>\n",
       "      <td>...</td>\n",
       "    </tr>\n",
       "    <tr>\n",
       "      <th>28367</th>\n",
       "      <td>-0.017050</td>\n",
       "      <td>-0.009198</td>\n",
       "      <td>0.529628</td>\n",
       "      <td>0.349188</td>\n",
       "      <td>-0.183875</td>\n",
       "      <td>-0.140498</td>\n",
       "      <td>0.072529</td>\n",
       "      <td>-0.025208</td>\n",
       "      <td>-0.234255</td>\n",
       "      <td>0.180366</td>\n",
       "      <td>...</td>\n",
       "      <td>0.123462</td>\n",
       "      <td>-0.362883</td>\n",
       "      <td>0.220852</td>\n",
       "      <td>0.185299</td>\n",
       "      <td>0.259072</td>\n",
       "      <td>-0.024943</td>\n",
       "      <td>0.038733</td>\n",
       "      <td>0.054038</td>\n",
       "      <td>0.107352</td>\n",
       "      <td>-0.372466</td>\n",
       "    </tr>\n",
       "    <tr>\n",
       "      <th>28368</th>\n",
       "      <td>-0.323359</td>\n",
       "      <td>-0.082779</td>\n",
       "      <td>0.003196</td>\n",
       "      <td>0.143972</td>\n",
       "      <td>-0.299255</td>\n",
       "      <td>-0.066868</td>\n",
       "      <td>-0.003620</td>\n",
       "      <td>0.166023</td>\n",
       "      <td>0.011467</td>\n",
       "      <td>-0.175934</td>\n",
       "      <td>...</td>\n",
       "      <td>0.162580</td>\n",
       "      <td>-0.105191</td>\n",
       "      <td>0.383803</td>\n",
       "      <td>-0.343654</td>\n",
       "      <td>0.219364</td>\n",
       "      <td>0.134709</td>\n",
       "      <td>0.142218</td>\n",
       "      <td>0.006665</td>\n",
       "      <td>-0.204714</td>\n",
       "      <td>-0.043925</td>\n",
       "    </tr>\n",
       "    <tr>\n",
       "      <th>28369</th>\n",
       "      <td>-0.245078</td>\n",
       "      <td>-0.051866</td>\n",
       "      <td>0.348745</td>\n",
       "      <td>-0.133305</td>\n",
       "      <td>-0.229082</td>\n",
       "      <td>0.372596</td>\n",
       "      <td>-0.029497</td>\n",
       "      <td>0.207204</td>\n",
       "      <td>0.273675</td>\n",
       "      <td>-0.140377</td>\n",
       "      <td>...</td>\n",
       "      <td>0.400499</td>\n",
       "      <td>0.008919</td>\n",
       "      <td>0.146449</td>\n",
       "      <td>0.041508</td>\n",
       "      <td>0.331747</td>\n",
       "      <td>-0.190355</td>\n",
       "      <td>-0.194434</td>\n",
       "      <td>-0.135607</td>\n",
       "      <td>-0.038811</td>\n",
       "      <td>-0.015155</td>\n",
       "    </tr>\n",
       "    <tr>\n",
       "      <th>28370</th>\n",
       "      <td>-0.020800</td>\n",
       "      <td>0.025014</td>\n",
       "      <td>0.375777</td>\n",
       "      <td>0.245718</td>\n",
       "      <td>-0.240728</td>\n",
       "      <td>0.274137</td>\n",
       "      <td>-0.383484</td>\n",
       "      <td>0.002351</td>\n",
       "      <td>-0.289886</td>\n",
       "      <td>-0.232256</td>\n",
       "      <td>...</td>\n",
       "      <td>0.600935</td>\n",
       "      <td>-0.200728</td>\n",
       "      <td>0.025012</td>\n",
       "      <td>0.270081</td>\n",
       "      <td>0.144286</td>\n",
       "      <td>-0.016467</td>\n",
       "      <td>-0.195551</td>\n",
       "      <td>-0.145270</td>\n",
       "      <td>-0.138721</td>\n",
       "      <td>-0.072248</td>\n",
       "    </tr>\n",
       "    <tr>\n",
       "      <th>28371</th>\n",
       "      <td>-0.045251</td>\n",
       "      <td>0.016173</td>\n",
       "      <td>0.002861</td>\n",
       "      <td>0.080074</td>\n",
       "      <td>-0.255251</td>\n",
       "      <td>-0.216623</td>\n",
       "      <td>-0.124101</td>\n",
       "      <td>-0.233967</td>\n",
       "      <td>-0.345333</td>\n",
       "      <td>0.157149</td>\n",
       "      <td>...</td>\n",
       "      <td>0.071114</td>\n",
       "      <td>-0.429425</td>\n",
       "      <td>0.444199</td>\n",
       "      <td>0.044992</td>\n",
       "      <td>0.062682</td>\n",
       "      <td>-0.124225</td>\n",
       "      <td>-0.062590</td>\n",
       "      <td>-0.124242</td>\n",
       "      <td>-0.063685</td>\n",
       "      <td>-0.222613</td>\n",
       "    </tr>\n",
       "  </tbody>\n",
       "</table>\n",
       "<p>28372 rows × 250 columns</p>\n",
       "</div>"
      ],
      "text/plain": [
       "            0         1         2         3         4         5         6    \\\n",
       "0      0.079329 -0.121775  0.319921  0.510957 -0.156860  0.496622 -0.680988   \n",
       "1     -0.244631 -0.287924 -0.215484  0.130992 -0.786811  0.485428 -0.202465   \n",
       "2      0.459586 -0.915454 -0.157527  0.235690 -0.144305  0.162279 -1.088888   \n",
       "3      0.245212 -0.220345  0.173390  0.185150 -0.192134 -0.019466 -0.126326   \n",
       "4     -0.064847 -0.116291  0.062257  0.197666  0.234357 -0.264143 -0.194937   \n",
       "...         ...       ...       ...       ...       ...       ...       ...   \n",
       "28367 -0.017050 -0.009198  0.529628  0.349188 -0.183875 -0.140498  0.072529   \n",
       "28368 -0.323359 -0.082779  0.003196  0.143972 -0.299255 -0.066868 -0.003620   \n",
       "28369 -0.245078 -0.051866  0.348745 -0.133305 -0.229082  0.372596 -0.029497   \n",
       "28370 -0.020800  0.025014  0.375777  0.245718 -0.240728  0.274137 -0.383484   \n",
       "28371 -0.045251  0.016173  0.002861  0.080074 -0.255251 -0.216623 -0.124101   \n",
       "\n",
       "            7         8         9    ...       240       241       242  \\\n",
       "0      0.010218  0.013013 -0.158540  ...  0.193044  0.098147  0.224634   \n",
       "1      0.327155  0.803550 -0.564224  ...  0.453741  0.036631  0.384822   \n",
       "2     -0.536995 -0.149827  0.146872  ...  0.350723 -0.038070  0.008792   \n",
       "3     -0.043852  0.189401  0.024010  ...  0.315002 -0.237030  0.093459   \n",
       "4     -0.011725 -0.051729  0.134893  ...  0.508582  0.106431 -0.167247   \n",
       "...         ...       ...       ...  ...       ...       ...       ...   \n",
       "28367 -0.025208 -0.234255  0.180366  ...  0.123462 -0.362883  0.220852   \n",
       "28368  0.166023  0.011467 -0.175934  ...  0.162580 -0.105191  0.383803   \n",
       "28369  0.207204  0.273675 -0.140377  ...  0.400499  0.008919  0.146449   \n",
       "28370  0.002351 -0.289886 -0.232256  ...  0.600935 -0.200728  0.025012   \n",
       "28371 -0.233967 -0.345333  0.157149  ...  0.071114 -0.429425  0.444199   \n",
       "\n",
       "            243       244       245       246       247       248       249  \n",
       "0     -0.450411  0.103851  0.021395 -0.129351  0.151399 -0.476161 -0.311572  \n",
       "1     -0.651473  0.427775  0.348023  0.045341  0.619570 -0.366215  0.049088  \n",
       "2     -0.643660 -0.022559 -0.053491 -0.056392 -0.192774 -0.444704 -0.058033  \n",
       "3     -0.134605  0.248575 -0.214488 -0.081471 -0.081324  0.151182 -0.279519  \n",
       "4     -0.628752  0.350395  0.137009  0.171413  0.291993 -0.028600 -0.483333  \n",
       "...         ...       ...       ...       ...       ...       ...       ...  \n",
       "28367  0.185299  0.259072 -0.024943  0.038733  0.054038  0.107352 -0.372466  \n",
       "28368 -0.343654  0.219364  0.134709  0.142218  0.006665 -0.204714 -0.043925  \n",
       "28369  0.041508  0.331747 -0.190355 -0.194434 -0.135607 -0.038811 -0.015155  \n",
       "28370  0.270081  0.144286 -0.016467 -0.195551 -0.145270 -0.138721 -0.072248  \n",
       "28371  0.044992  0.062682 -0.124225 -0.062590 -0.124242 -0.063685 -0.222613  \n",
       "\n",
       "[28372 rows x 250 columns]"
      ]
     },
     "execution_count": 305,
     "metadata": {},
     "output_type": "execute_result"
    }
   ],
   "source": [
    "# Create a dataframe of the vectors from each song\n",
    "vectors_df = pd.DataFrame()\n",
    "for _, row in songs_df.iterrows():\n",
    "    vectors_df = vectors_df.append(pd.Series(songs_model.dv[row['track_name']]), ignore_index=True)\n",
    "\n",
    "vectors_df"
   ]
  },
  {
   "attachments": {},
   "cell_type": "markdown",
   "metadata": {},
   "source": [
    "#### Using PCA to reduce the dimentions of the data"
   ]
  },
  {
   "cell_type": "code",
   "execution_count": 306,
   "metadata": {},
   "outputs": [
    {
     "data": {
      "text/html": [
       "<div>\n",
       "<style scoped>\n",
       "    .dataframe tbody tr th:only-of-type {\n",
       "        vertical-align: middle;\n",
       "    }\n",
       "\n",
       "    .dataframe tbody tr th {\n",
       "        vertical-align: top;\n",
       "    }\n",
       "\n",
       "    .dataframe thead th {\n",
       "        text-align: right;\n",
       "    }\n",
       "</style>\n",
       "<table border=\"1\" class=\"dataframe\">\n",
       "  <thead>\n",
       "    <tr style=\"text-align: right;\">\n",
       "      <th></th>\n",
       "      <th>track_name</th>\n",
       "      <th>genre</th>\n",
       "      <th>lyrics</th>\n",
       "      <th>Vec1</th>\n",
       "      <th>Vec2</th>\n",
       "      <th>Vec3</th>\n",
       "    </tr>\n",
       "  </thead>\n",
       "  <tbody>\n",
       "    <tr>\n",
       "      <th>0</th>\n",
       "      <td>mohabbat bhi jhoothi</td>\n",
       "      <td>pop</td>\n",
       "      <td>hold time feel break feel untrue convince spea...</td>\n",
       "      <td>-0.749451</td>\n",
       "      <td>-0.408240</td>\n",
       "      <td>-0.731984</td>\n",
       "    </tr>\n",
       "    <tr>\n",
       "      <th>1</th>\n",
       "      <td>i believe</td>\n",
       "      <td>pop</td>\n",
       "      <td>believe drop rain fall grow believe darkest ni...</td>\n",
       "      <td>-0.560508</td>\n",
       "      <td>0.065716</td>\n",
       "      <td>-0.419036</td>\n",
       "    </tr>\n",
       "    <tr>\n",
       "      <th>2</th>\n",
       "      <td>cry</td>\n",
       "      <td>pop</td>\n",
       "      <td>sweetheart send letter goodbye secret feel bet...</td>\n",
       "      <td>-0.848118</td>\n",
       "      <td>-0.403242</td>\n",
       "      <td>0.360070</td>\n",
       "    </tr>\n",
       "    <tr>\n",
       "      <th>3</th>\n",
       "      <td>patricia</td>\n",
       "      <td>pop</td>\n",
       "      <td>kiss lip want stroll charm mambo chacha mering...</td>\n",
       "      <td>0.405995</td>\n",
       "      <td>-0.304405</td>\n",
       "      <td>1.346172</td>\n",
       "    </tr>\n",
       "    <tr>\n",
       "      <th>4</th>\n",
       "      <td>apopse eida oneiro</td>\n",
       "      <td>pop</td>\n",
       "      <td>till darling till matter know till dream live ...</td>\n",
       "      <td>-0.995250</td>\n",
       "      <td>0.482156</td>\n",
       "      <td>0.091224</td>\n",
       "    </tr>\n",
       "    <tr>\n",
       "      <th>...</th>\n",
       "      <td>...</td>\n",
       "      <td>...</td>\n",
       "      <td>...</td>\n",
       "      <td>...</td>\n",
       "      <td>...</td>\n",
       "      <td>...</td>\n",
       "    </tr>\n",
       "    <tr>\n",
       "      <th>28367</th>\n",
       "      <td>10 million ways</td>\n",
       "      <td>hip hop</td>\n",
       "      <td>cause fuck leave scar tick tock clock come kno...</td>\n",
       "      <td>1.450801</td>\n",
       "      <td>-0.339532</td>\n",
       "      <td>0.054577</td>\n",
       "    </tr>\n",
       "    <tr>\n",
       "      <th>28368</th>\n",
       "      <td>ante up (robbin hoodz theory)</td>\n",
       "      <td>hip hop</td>\n",
       "      <td>mink thing chain ring braclets yap fame come f...</td>\n",
       "      <td>1.126433</td>\n",
       "      <td>-0.068075</td>\n",
       "      <td>0.031647</td>\n",
       "    </tr>\n",
       "    <tr>\n",
       "      <th>28369</th>\n",
       "      <td>whutcha want?</td>\n",
       "      <td>hip hop</td>\n",
       "      <td>get ban get ban stick crack relax plan attack ...</td>\n",
       "      <td>1.450763</td>\n",
       "      <td>0.087439</td>\n",
       "      <td>-0.251929</td>\n",
       "    </tr>\n",
       "    <tr>\n",
       "      <th>28370</th>\n",
       "      <td>switch</td>\n",
       "      <td>hip hop</td>\n",
       "      <td>check check yeah yeah hear thing call switch g...</td>\n",
       "      <td>1.183964</td>\n",
       "      <td>-0.930709</td>\n",
       "      <td>-0.044658</td>\n",
       "    </tr>\n",
       "    <tr>\n",
       "      <th>28371</th>\n",
       "      <td>r.i.p.</td>\n",
       "      <td>hip hop</td>\n",
       "      <td>remix killer alive remix thriller trap bitch s...</td>\n",
       "      <td>1.462096</td>\n",
       "      <td>-0.520519</td>\n",
       "      <td>-0.262241</td>\n",
       "    </tr>\n",
       "  </tbody>\n",
       "</table>\n",
       "<p>23689 rows × 6 columns</p>\n",
       "</div>"
      ],
      "text/plain": [
       "                          track_name    genre  \\\n",
       "0               mohabbat bhi jhoothi      pop   \n",
       "1                          i believe      pop   \n",
       "2                                cry      pop   \n",
       "3                           patricia      pop   \n",
       "4                 apopse eida oneiro      pop   \n",
       "...                              ...      ...   \n",
       "28367                10 million ways  hip hop   \n",
       "28368  ante up (robbin hoodz theory)  hip hop   \n",
       "28369                  whutcha want?  hip hop   \n",
       "28370                         switch  hip hop   \n",
       "28371                         r.i.p.  hip hop   \n",
       "\n",
       "                                                  lyrics      Vec1      Vec2  \\\n",
       "0      hold time feel break feel untrue convince spea... -0.749451 -0.408240   \n",
       "1      believe drop rain fall grow believe darkest ni... -0.560508  0.065716   \n",
       "2      sweetheart send letter goodbye secret feel bet... -0.848118 -0.403242   \n",
       "3      kiss lip want stroll charm mambo chacha mering...  0.405995 -0.304405   \n",
       "4      till darling till matter know till dream live ... -0.995250  0.482156   \n",
       "...                                                  ...       ...       ...   \n",
       "28367  cause fuck leave scar tick tock clock come kno...  1.450801 -0.339532   \n",
       "28368  mink thing chain ring braclets yap fame come f...  1.126433 -0.068075   \n",
       "28369  get ban get ban stick crack relax plan attack ...  1.450763  0.087439   \n",
       "28370  check check yeah yeah hear thing call switch g...  1.183964 -0.930709   \n",
       "28371  remix killer alive remix thriller trap bitch s...  1.462096 -0.520519   \n",
       "\n",
       "           Vec3  \n",
       "0     -0.731984  \n",
       "1     -0.419036  \n",
       "2      0.360070  \n",
       "3      1.346172  \n",
       "4      0.091224  \n",
       "...         ...  \n",
       "28367  0.054577  \n",
       "28368  0.031647  \n",
       "28369 -0.251929  \n",
       "28370 -0.044658  \n",
       "28371 -0.262241  \n",
       "\n",
       "[23689 rows x 6 columns]"
      ]
     },
     "execution_count": 306,
     "metadata": {},
     "output_type": "execute_result"
    }
   ],
   "source": [
    "# Create an instance PCA with 3 components\n",
    "pca = PCA(n_components=3)\n",
    "\n",
    "# Fit PCA to the vectors\n",
    "pca.fit(vectors_df)\n",
    "\n",
    "# Transform the vectors and store in a new dataframe\n",
    "pca_df = pd.DataFrame(pca.transform(vectors_df), columns=['pca_1', 'pca_2', 'pca_3'])\n",
    "\n",
    "# Add the book titles to the dataframe\n",
    "pca_df[\"track_name\"] = songs_df[\"track_name\"]\n",
    "\n",
    "# Append the vectors to the main dataframe\n",
    "songs_df[\"Vec1\"] = pca_df[\"pca_1\"]\n",
    "songs_df[\"Vec2\"] = pca_df[\"pca_2\"]\n",
    "songs_df[\"Vec3\"] = pca_df[\"pca_3\"]\n",
    "\n",
    "# Drop duplicates from the track_name column\n",
    "songs_df = songs_df.drop_duplicates(subset=['track_name'])\n",
    "\n",
    "songs_df"
   ]
  },
  {
   "attachments": {},
   "cell_type": "markdown",
   "metadata": {},
   "source": [
    "### **Finding similar songs**"
   ]
  },
  {
   "cell_type": "code",
   "execution_count": 307,
   "metadata": {},
   "outputs": [
    {
     "data": {
      "text/html": [
       "<div>\n",
       "<style scoped>\n",
       "    .dataframe tbody tr th:only-of-type {\n",
       "        vertical-align: middle;\n",
       "    }\n",
       "\n",
       "    .dataframe tbody tr th {\n",
       "        vertical-align: top;\n",
       "    }\n",
       "\n",
       "    .dataframe thead th {\n",
       "        text-align: right;\n",
       "    }\n",
       "</style>\n",
       "<table border=\"1\" class=\"dataframe\">\n",
       "  <thead>\n",
       "    <tr style=\"text-align: right;\">\n",
       "      <th></th>\n",
       "      <th>track_name</th>\n",
       "      <th>genre</th>\n",
       "      <th>lyrics</th>\n",
       "      <th>Vec1</th>\n",
       "      <th>Vec2</th>\n",
       "      <th>Vec3</th>\n",
       "    </tr>\n",
       "  </thead>\n",
       "  <tbody>\n",
       "    <tr>\n",
       "      <th>0</th>\n",
       "      <td>mohabbat bhi jhoothi</td>\n",
       "      <td>pop</td>\n",
       "      <td>hold time feel break feel untrue convince spea...</td>\n",
       "      <td>-0.749451</td>\n",
       "      <td>-0.408240</td>\n",
       "      <td>-0.731984</td>\n",
       "    </tr>\n",
       "    <tr>\n",
       "      <th>1</th>\n",
       "      <td>i believe</td>\n",
       "      <td>pop</td>\n",
       "      <td>believe drop rain fall grow believe darkest ni...</td>\n",
       "      <td>-0.560508</td>\n",
       "      <td>0.065716</td>\n",
       "      <td>-0.419036</td>\n",
       "    </tr>\n",
       "    <tr>\n",
       "      <th>2</th>\n",
       "      <td>cry</td>\n",
       "      <td>pop</td>\n",
       "      <td>sweetheart send letter goodbye secret feel bet...</td>\n",
       "      <td>-0.848118</td>\n",
       "      <td>-0.403242</td>\n",
       "      <td>0.360070</td>\n",
       "    </tr>\n",
       "    <tr>\n",
       "      <th>3</th>\n",
       "      <td>patricia</td>\n",
       "      <td>pop</td>\n",
       "      <td>kiss lip want stroll charm mambo chacha mering...</td>\n",
       "      <td>0.405995</td>\n",
       "      <td>-0.304405</td>\n",
       "      <td>1.346172</td>\n",
       "    </tr>\n",
       "    <tr>\n",
       "      <th>4</th>\n",
       "      <td>apopse eida oneiro</td>\n",
       "      <td>pop</td>\n",
       "      <td>till darling till matter know till dream live ...</td>\n",
       "      <td>-0.995250</td>\n",
       "      <td>0.482156</td>\n",
       "      <td>0.091224</td>\n",
       "    </tr>\n",
       "    <tr>\n",
       "      <th>...</th>\n",
       "      <td>...</td>\n",
       "      <td>...</td>\n",
       "      <td>...</td>\n",
       "      <td>...</td>\n",
       "      <td>...</td>\n",
       "      <td>...</td>\n",
       "    </tr>\n",
       "    <tr>\n",
       "      <th>28367</th>\n",
       "      <td>10 million ways</td>\n",
       "      <td>hip hop</td>\n",
       "      <td>cause fuck leave scar tick tock clock come kno...</td>\n",
       "      <td>1.450801</td>\n",
       "      <td>-0.339532</td>\n",
       "      <td>0.054577</td>\n",
       "    </tr>\n",
       "    <tr>\n",
       "      <th>28368</th>\n",
       "      <td>ante up (robbin hoodz theory)</td>\n",
       "      <td>hip hop</td>\n",
       "      <td>mink thing chain ring braclets yap fame come f...</td>\n",
       "      <td>1.126433</td>\n",
       "      <td>-0.068075</td>\n",
       "      <td>0.031647</td>\n",
       "    </tr>\n",
       "    <tr>\n",
       "      <th>28369</th>\n",
       "      <td>whutcha want?</td>\n",
       "      <td>hip hop</td>\n",
       "      <td>get ban get ban stick crack relax plan attack ...</td>\n",
       "      <td>1.450763</td>\n",
       "      <td>0.087439</td>\n",
       "      <td>-0.251929</td>\n",
       "    </tr>\n",
       "    <tr>\n",
       "      <th>28370</th>\n",
       "      <td>switch</td>\n",
       "      <td>hip hop</td>\n",
       "      <td>check check yeah yeah hear thing call switch g...</td>\n",
       "      <td>1.183964</td>\n",
       "      <td>-0.930709</td>\n",
       "      <td>-0.044658</td>\n",
       "    </tr>\n",
       "    <tr>\n",
       "      <th>28371</th>\n",
       "      <td>r.i.p.</td>\n",
       "      <td>hip hop</td>\n",
       "      <td>remix killer alive remix thriller trap bitch s...</td>\n",
       "      <td>1.462096</td>\n",
       "      <td>-0.520519</td>\n",
       "      <td>-0.262241</td>\n",
       "    </tr>\n",
       "  </tbody>\n",
       "</table>\n",
       "<p>23689 rows × 6 columns</p>\n",
       "</div>"
      ],
      "text/plain": [
       "                          track_name    genre  \\\n",
       "0               mohabbat bhi jhoothi      pop   \n",
       "1                          i believe      pop   \n",
       "2                                cry      pop   \n",
       "3                           patricia      pop   \n",
       "4                 apopse eida oneiro      pop   \n",
       "...                              ...      ...   \n",
       "28367                10 million ways  hip hop   \n",
       "28368  ante up (robbin hoodz theory)  hip hop   \n",
       "28369                  whutcha want?  hip hop   \n",
       "28370                         switch  hip hop   \n",
       "28371                         r.i.p.  hip hop   \n",
       "\n",
       "                                                  lyrics      Vec1      Vec2  \\\n",
       "0      hold time feel break feel untrue convince spea... -0.749451 -0.408240   \n",
       "1      believe drop rain fall grow believe darkest ni... -0.560508  0.065716   \n",
       "2      sweetheart send letter goodbye secret feel bet... -0.848118 -0.403242   \n",
       "3      kiss lip want stroll charm mambo chacha mering...  0.405995 -0.304405   \n",
       "4      till darling till matter know till dream live ... -0.995250  0.482156   \n",
       "...                                                  ...       ...       ...   \n",
       "28367  cause fuck leave scar tick tock clock come kno...  1.450801 -0.339532   \n",
       "28368  mink thing chain ring braclets yap fame come f...  1.126433 -0.068075   \n",
       "28369  get ban get ban stick crack relax plan attack ...  1.450763  0.087439   \n",
       "28370  check check yeah yeah hear thing call switch g...  1.183964 -0.930709   \n",
       "28371  remix killer alive remix thriller trap bitch s...  1.462096 -0.520519   \n",
       "\n",
       "           Vec3  \n",
       "0     -0.731984  \n",
       "1     -0.419036  \n",
       "2      0.360070  \n",
       "3      1.346172  \n",
       "4      0.091224  \n",
       "...         ...  \n",
       "28367  0.054577  \n",
       "28368  0.031647  \n",
       "28369 -0.251929  \n",
       "28370 -0.044658  \n",
       "28371 -0.262241  \n",
       "\n",
       "[23689 rows x 6 columns]"
      ]
     },
     "execution_count": 307,
     "metadata": {},
     "output_type": "execute_result"
    }
   ],
   "source": [
    "songs_df"
   ]
  },
  {
   "cell_type": "code",
   "execution_count": 308,
   "metadata": {},
   "outputs": [],
   "source": [
    "# Get mean vectors for each song\n",
    "# the key is the song name and value is the mean vector\n",
    "vecs = [songs_model.dv[i] for i in range(len(songs_model.dv))]\n",
    "tags = [songs_model.dv.index_to_key[i] for i in range(len(songs_model.dv))]\n",
    "\n",
    "vec_mean = {}\n",
    "for i in range(len(vecs)):\n",
    "    vec_mean[tags[i]] = np.mean(vecs[i])\n"
   ]
  },
  {
   "cell_type": "code",
   "execution_count": 309,
   "metadata": {},
   "outputs": [],
   "source": [
    "# Retrieve similar songs\n",
    "similar_songs = songs_model.dv.most_similar('little toy guns')\n",
    "\n",
    "# Extract the similar song tags\n",
    "similar_song_tags = [song_tag for song_tag, similarity in similar_songs]\n",
    "\n",
    "# Retrieve the 3 vectors of similar songs from songs_df\n",
    "similar_songs_df = songs_df[songs_df['track_name'].isin(similar_song_tags)]\n"
   ]
  },
  {
   "cell_type": "code",
   "execution_count": 310,
   "metadata": {},
   "outputs": [
    {
     "data": {
      "application/vnd.plotly.v1+json": {
       "config": {
        "plotlyServerURL": "https://plot.ly"
       },
       "data": [
        {
         "hovertemplate": "color=sunroof<br>x=%{x}<br>y=%{y}<br>z=%{z}<extra></extra>",
         "legendgroup": "sunroof",
         "marker": {
          "color": "#636efa",
          "opacity": 0.7,
          "symbol": "circle"
         },
         "mode": "markers",
         "name": "sunroof",
         "scene": "scene",
         "showlegend": true,
         "type": "scatter3d",
         "x": [
          -0.7292872071266174
         ],
         "y": [
          -0.8159053921699524
         ],
         "z": [
          -0.4232877194881439
         ]
        },
        {
         "hovertemplate": "color=mumblin' guitar<br>x=%{x}<br>y=%{y}<br>z=%{z}<extra></extra>",
         "legendgroup": "mumblin' guitar",
         "marker": {
          "color": "#EF553B",
          "opacity": 0.7,
          "symbol": "circle"
         },
         "mode": "markers",
         "name": "mumblin' guitar",
         "scene": "scene",
         "showlegend": true,
         "type": "scatter3d",
         "x": [
          1.056078314781189
         ],
         "y": [
          0.3969002366065979
         ],
         "z": [
          -0.7393844723701477
         ]
        },
        {
         "hovertemplate": "color=got to get up<br>x=%{x}<br>y=%{y}<br>z=%{z}<extra></extra>",
         "legendgroup": "got to get up",
         "marker": {
          "color": "#00cc96",
          "opacity": 0.7,
          "symbol": "circle"
         },
         "mode": "markers",
         "name": "got to get up",
         "scene": "scene",
         "showlegend": true,
         "type": "scatter3d",
         "x": [
          -0.6947637796401978
         ],
         "y": [
          0.11933667212724686
         ],
         "z": [
          -0.4574936330318451
         ]
        },
        {
         "hovertemplate": "color=too deep for tears<br>x=%{x}<br>y=%{y}<br>z=%{z}<extra></extra>",
         "legendgroup": "too deep for tears",
         "marker": {
          "color": "#ab63fa",
          "opacity": 0.7,
          "symbol": "circle"
         },
         "mode": "markers",
         "name": "too deep for tears",
         "scene": "scene",
         "showlegend": true,
         "type": "scatter3d",
         "x": [
          -0.39069950580596924
         ],
         "y": [
          -0.5014882683753967
         ],
         "z": [
          -0.27299103140830994
         ]
        },
        {
         "hovertemplate": "color=a girl is a gun<br>x=%{x}<br>y=%{y}<br>z=%{z}<extra></extra>",
         "legendgroup": "a girl is a gun",
         "marker": {
          "color": "#FFA15A",
          "opacity": 0.7,
          "symbol": "circle"
         },
         "mode": "markers",
         "name": "a girl is a gun",
         "scene": "scene",
         "showlegend": true,
         "type": "scatter3d",
         "x": [
          0.13961566984653473
         ],
         "y": [
          -1.069724678993225
         ],
         "z": [
          -0.7496379017829895
         ]
        },
        {
         "hovertemplate": "color=i wish i could break your heart<br>x=%{x}<br>y=%{y}<br>z=%{z}<extra></extra>",
         "legendgroup": "i wish i could break your heart",
         "marker": {
          "color": "#19d3f3",
          "opacity": 0.7,
          "symbol": "circle"
         },
         "mode": "markers",
         "name": "i wish i could break your heart",
         "scene": "scene",
         "showlegend": true,
         "type": "scatter3d",
         "x": [
          0.06173178181052208
         ],
         "y": [
          -0.25849971175193787
         ],
         "z": [
          0.42146867513656616
         ]
        },
        {
         "hovertemplate": "color=talking out of turn<br>x=%{x}<br>y=%{y}<br>z=%{z}<extra></extra>",
         "legendgroup": "talking out of turn",
         "marker": {
          "color": "#FF6692",
          "opacity": 0.7,
          "symbol": "circle"
         },
         "mode": "markers",
         "name": "talking out of turn",
         "scene": "scene",
         "showlegend": true,
         "type": "scatter3d",
         "x": [
          0.3151971399784088
         ],
         "y": [
          -0.18083177506923676
         ],
         "z": [
          0.018106359988451004
         ]
        },
        {
         "hovertemplate": "color=beautiful, dirty, rich<br>x=%{x}<br>y=%{y}<br>z=%{z}<extra></extra>",
         "legendgroup": "beautiful, dirty, rich",
         "marker": {
          "color": "#B6E880",
          "opacity": 0.7,
          "symbol": "circle"
         },
         "mode": "markers",
         "name": "beautiful, dirty, rich",
         "scene": "scene",
         "showlegend": true,
         "type": "scatter3d",
         "x": [
          0.006198741029947996
         ],
         "y": [
          -1.2585505247116089
         ],
         "z": [
          0.5316791534423828
         ]
        },
        {
         "hovertemplate": "color=two drummers disappear<br>x=%{x}<br>y=%{y}<br>z=%{z}<extra></extra>",
         "legendgroup": "two drummers disappear",
         "marker": {
          "color": "#FF97FF",
          "opacity": 0.7,
          "symbol": "circle"
         },
         "mode": "markers",
         "name": "two drummers disappear",
         "scene": "scene",
         "showlegend": true,
         "type": "scatter3d",
         "x": [
          0.619711697101593
         ],
         "y": [
          0.0431186743080616
         ],
         "z": [
          0.07168402522802353
         ]
        },
        {
         "hovertemplate": "color=adeus<br>x=%{x}<br>y=%{y}<br>z=%{z}<extra></extra>",
         "legendgroup": "adeus",
         "marker": {
          "color": "#FECB52",
          "opacity": 0.7,
          "symbol": "circle"
         },
         "mode": "markers",
         "name": "adeus",
         "scene": "scene",
         "showlegend": true,
         "type": "scatter3d",
         "x": [
          1.0080089569091797
         ],
         "y": [
          -0.34323424100875854
         ],
         "z": [
          -0.44873473048210144
         ]
        },
        {
         "hovertemplate": "color=little toy guns<br>x=%{x}<br>y=%{y}<br>z=%{z}<extra></extra>",
         "legendgroup": "little toy guns",
         "marker": {
          "color": "#636efa",
          "opacity": 0.7,
          "symbol": "circle"
         },
         "mode": "markers",
         "name": "little toy guns",
         "scene": "scene",
         "showlegend": true,
         "type": "scatter3d",
         "x": [
          0.5134058594703674
         ],
         "y": [
          -0.6162042617797852
         ],
         "z": [
          -0.5567632913589478
         ]
        }
       ],
       "layout": {
        "legend": {
         "title": {
          "text": "color"
         },
         "tracegroupgap": 0
        },
        "scene": {
         "domain": {
          "x": [
           0,
           1
          ],
          "y": [
           0,
           1
          ]
         },
         "xaxis": {
          "title": {
           "text": "x"
          }
         },
         "yaxis": {
          "title": {
           "text": "y"
          }
         },
         "zaxis": {
          "title": {
           "text": "z"
          }
         }
        },
        "template": {
         "data": {
          "bar": [
           {
            "error_x": {
             "color": "#2a3f5f"
            },
            "error_y": {
             "color": "#2a3f5f"
            },
            "marker": {
             "line": {
              "color": "#E5ECF6",
              "width": 0.5
             },
             "pattern": {
              "fillmode": "overlay",
              "size": 10,
              "solidity": 0.2
             }
            },
            "type": "bar"
           }
          ],
          "barpolar": [
           {
            "marker": {
             "line": {
              "color": "#E5ECF6",
              "width": 0.5
             },
             "pattern": {
              "fillmode": "overlay",
              "size": 10,
              "solidity": 0.2
             }
            },
            "type": "barpolar"
           }
          ],
          "carpet": [
           {
            "aaxis": {
             "endlinecolor": "#2a3f5f",
             "gridcolor": "white",
             "linecolor": "white",
             "minorgridcolor": "white",
             "startlinecolor": "#2a3f5f"
            },
            "baxis": {
             "endlinecolor": "#2a3f5f",
             "gridcolor": "white",
             "linecolor": "white",
             "minorgridcolor": "white",
             "startlinecolor": "#2a3f5f"
            },
            "type": "carpet"
           }
          ],
          "choropleth": [
           {
            "colorbar": {
             "outlinewidth": 0,
             "ticks": ""
            },
            "type": "choropleth"
           }
          ],
          "contour": [
           {
            "colorbar": {
             "outlinewidth": 0,
             "ticks": ""
            },
            "colorscale": [
             [
              0,
              "#0d0887"
             ],
             [
              0.1111111111111111,
              "#46039f"
             ],
             [
              0.2222222222222222,
              "#7201a8"
             ],
             [
              0.3333333333333333,
              "#9c179e"
             ],
             [
              0.4444444444444444,
              "#bd3786"
             ],
             [
              0.5555555555555556,
              "#d8576b"
             ],
             [
              0.6666666666666666,
              "#ed7953"
             ],
             [
              0.7777777777777778,
              "#fb9f3a"
             ],
             [
              0.8888888888888888,
              "#fdca26"
             ],
             [
              1,
              "#f0f921"
             ]
            ],
            "type": "contour"
           }
          ],
          "contourcarpet": [
           {
            "colorbar": {
             "outlinewidth": 0,
             "ticks": ""
            },
            "type": "contourcarpet"
           }
          ],
          "heatmap": [
           {
            "colorbar": {
             "outlinewidth": 0,
             "ticks": ""
            },
            "colorscale": [
             [
              0,
              "#0d0887"
             ],
             [
              0.1111111111111111,
              "#46039f"
             ],
             [
              0.2222222222222222,
              "#7201a8"
             ],
             [
              0.3333333333333333,
              "#9c179e"
             ],
             [
              0.4444444444444444,
              "#bd3786"
             ],
             [
              0.5555555555555556,
              "#d8576b"
             ],
             [
              0.6666666666666666,
              "#ed7953"
             ],
             [
              0.7777777777777778,
              "#fb9f3a"
             ],
             [
              0.8888888888888888,
              "#fdca26"
             ],
             [
              1,
              "#f0f921"
             ]
            ],
            "type": "heatmap"
           }
          ],
          "heatmapgl": [
           {
            "colorbar": {
             "outlinewidth": 0,
             "ticks": ""
            },
            "colorscale": [
             [
              0,
              "#0d0887"
             ],
             [
              0.1111111111111111,
              "#46039f"
             ],
             [
              0.2222222222222222,
              "#7201a8"
             ],
             [
              0.3333333333333333,
              "#9c179e"
             ],
             [
              0.4444444444444444,
              "#bd3786"
             ],
             [
              0.5555555555555556,
              "#d8576b"
             ],
             [
              0.6666666666666666,
              "#ed7953"
             ],
             [
              0.7777777777777778,
              "#fb9f3a"
             ],
             [
              0.8888888888888888,
              "#fdca26"
             ],
             [
              1,
              "#f0f921"
             ]
            ],
            "type": "heatmapgl"
           }
          ],
          "histogram": [
           {
            "marker": {
             "pattern": {
              "fillmode": "overlay",
              "size": 10,
              "solidity": 0.2
             }
            },
            "type": "histogram"
           }
          ],
          "histogram2d": [
           {
            "colorbar": {
             "outlinewidth": 0,
             "ticks": ""
            },
            "colorscale": [
             [
              0,
              "#0d0887"
             ],
             [
              0.1111111111111111,
              "#46039f"
             ],
             [
              0.2222222222222222,
              "#7201a8"
             ],
             [
              0.3333333333333333,
              "#9c179e"
             ],
             [
              0.4444444444444444,
              "#bd3786"
             ],
             [
              0.5555555555555556,
              "#d8576b"
             ],
             [
              0.6666666666666666,
              "#ed7953"
             ],
             [
              0.7777777777777778,
              "#fb9f3a"
             ],
             [
              0.8888888888888888,
              "#fdca26"
             ],
             [
              1,
              "#f0f921"
             ]
            ],
            "type": "histogram2d"
           }
          ],
          "histogram2dcontour": [
           {
            "colorbar": {
             "outlinewidth": 0,
             "ticks": ""
            },
            "colorscale": [
             [
              0,
              "#0d0887"
             ],
             [
              0.1111111111111111,
              "#46039f"
             ],
             [
              0.2222222222222222,
              "#7201a8"
             ],
             [
              0.3333333333333333,
              "#9c179e"
             ],
             [
              0.4444444444444444,
              "#bd3786"
             ],
             [
              0.5555555555555556,
              "#d8576b"
             ],
             [
              0.6666666666666666,
              "#ed7953"
             ],
             [
              0.7777777777777778,
              "#fb9f3a"
             ],
             [
              0.8888888888888888,
              "#fdca26"
             ],
             [
              1,
              "#f0f921"
             ]
            ],
            "type": "histogram2dcontour"
           }
          ],
          "mesh3d": [
           {
            "colorbar": {
             "outlinewidth": 0,
             "ticks": ""
            },
            "type": "mesh3d"
           }
          ],
          "parcoords": [
           {
            "line": {
             "colorbar": {
              "outlinewidth": 0,
              "ticks": ""
             }
            },
            "type": "parcoords"
           }
          ],
          "pie": [
           {
            "automargin": true,
            "type": "pie"
           }
          ],
          "scatter": [
           {
            "fillpattern": {
             "fillmode": "overlay",
             "size": 10,
             "solidity": 0.2
            },
            "type": "scatter"
           }
          ],
          "scatter3d": [
           {
            "line": {
             "colorbar": {
              "outlinewidth": 0,
              "ticks": ""
             }
            },
            "marker": {
             "colorbar": {
              "outlinewidth": 0,
              "ticks": ""
             }
            },
            "type": "scatter3d"
           }
          ],
          "scattercarpet": [
           {
            "marker": {
             "colorbar": {
              "outlinewidth": 0,
              "ticks": ""
             }
            },
            "type": "scattercarpet"
           }
          ],
          "scattergeo": [
           {
            "marker": {
             "colorbar": {
              "outlinewidth": 0,
              "ticks": ""
             }
            },
            "type": "scattergeo"
           }
          ],
          "scattergl": [
           {
            "marker": {
             "colorbar": {
              "outlinewidth": 0,
              "ticks": ""
             }
            },
            "type": "scattergl"
           }
          ],
          "scattermapbox": [
           {
            "marker": {
             "colorbar": {
              "outlinewidth": 0,
              "ticks": ""
             }
            },
            "type": "scattermapbox"
           }
          ],
          "scatterpolar": [
           {
            "marker": {
             "colorbar": {
              "outlinewidth": 0,
              "ticks": ""
             }
            },
            "type": "scatterpolar"
           }
          ],
          "scatterpolargl": [
           {
            "marker": {
             "colorbar": {
              "outlinewidth": 0,
              "ticks": ""
             }
            },
            "type": "scatterpolargl"
           }
          ],
          "scatterternary": [
           {
            "marker": {
             "colorbar": {
              "outlinewidth": 0,
              "ticks": ""
             }
            },
            "type": "scatterternary"
           }
          ],
          "surface": [
           {
            "colorbar": {
             "outlinewidth": 0,
             "ticks": ""
            },
            "colorscale": [
             [
              0,
              "#0d0887"
             ],
             [
              0.1111111111111111,
              "#46039f"
             ],
             [
              0.2222222222222222,
              "#7201a8"
             ],
             [
              0.3333333333333333,
              "#9c179e"
             ],
             [
              0.4444444444444444,
              "#bd3786"
             ],
             [
              0.5555555555555556,
              "#d8576b"
             ],
             [
              0.6666666666666666,
              "#ed7953"
             ],
             [
              0.7777777777777778,
              "#fb9f3a"
             ],
             [
              0.8888888888888888,
              "#fdca26"
             ],
             [
              1,
              "#f0f921"
             ]
            ],
            "type": "surface"
           }
          ],
          "table": [
           {
            "cells": {
             "fill": {
              "color": "#EBF0F8"
             },
             "line": {
              "color": "white"
             }
            },
            "header": {
             "fill": {
              "color": "#C8D4E3"
             },
             "line": {
              "color": "white"
             }
            },
            "type": "table"
           }
          ]
         },
         "layout": {
          "annotationdefaults": {
           "arrowcolor": "#2a3f5f",
           "arrowhead": 0,
           "arrowwidth": 1
          },
          "autotypenumbers": "strict",
          "coloraxis": {
           "colorbar": {
            "outlinewidth": 0,
            "ticks": ""
           }
          },
          "colorscale": {
           "diverging": [
            [
             0,
             "#8e0152"
            ],
            [
             0.1,
             "#c51b7d"
            ],
            [
             0.2,
             "#de77ae"
            ],
            [
             0.3,
             "#f1b6da"
            ],
            [
             0.4,
             "#fde0ef"
            ],
            [
             0.5,
             "#f7f7f7"
            ],
            [
             0.6,
             "#e6f5d0"
            ],
            [
             0.7,
             "#b8e186"
            ],
            [
             0.8,
             "#7fbc41"
            ],
            [
             0.9,
             "#4d9221"
            ],
            [
             1,
             "#276419"
            ]
           ],
           "sequential": [
            [
             0,
             "#0d0887"
            ],
            [
             0.1111111111111111,
             "#46039f"
            ],
            [
             0.2222222222222222,
             "#7201a8"
            ],
            [
             0.3333333333333333,
             "#9c179e"
            ],
            [
             0.4444444444444444,
             "#bd3786"
            ],
            [
             0.5555555555555556,
             "#d8576b"
            ],
            [
             0.6666666666666666,
             "#ed7953"
            ],
            [
             0.7777777777777778,
             "#fb9f3a"
            ],
            [
             0.8888888888888888,
             "#fdca26"
            ],
            [
             1,
             "#f0f921"
            ]
           ],
           "sequentialminus": [
            [
             0,
             "#0d0887"
            ],
            [
             0.1111111111111111,
             "#46039f"
            ],
            [
             0.2222222222222222,
             "#7201a8"
            ],
            [
             0.3333333333333333,
             "#9c179e"
            ],
            [
             0.4444444444444444,
             "#bd3786"
            ],
            [
             0.5555555555555556,
             "#d8576b"
            ],
            [
             0.6666666666666666,
             "#ed7953"
            ],
            [
             0.7777777777777778,
             "#fb9f3a"
            ],
            [
             0.8888888888888888,
             "#fdca26"
            ],
            [
             1,
             "#f0f921"
            ]
           ]
          },
          "colorway": [
           "#636efa",
           "#EF553B",
           "#00cc96",
           "#ab63fa",
           "#FFA15A",
           "#19d3f3",
           "#FF6692",
           "#B6E880",
           "#FF97FF",
           "#FECB52"
          ],
          "font": {
           "color": "#2a3f5f"
          },
          "geo": {
           "bgcolor": "white",
           "lakecolor": "white",
           "landcolor": "#E5ECF6",
           "showlakes": true,
           "showland": true,
           "subunitcolor": "white"
          },
          "hoverlabel": {
           "align": "left"
          },
          "hovermode": "closest",
          "mapbox": {
           "style": "light"
          },
          "paper_bgcolor": "white",
          "plot_bgcolor": "#E5ECF6",
          "polar": {
           "angularaxis": {
            "gridcolor": "white",
            "linecolor": "white",
            "ticks": ""
           },
           "bgcolor": "#E5ECF6",
           "radialaxis": {
            "gridcolor": "white",
            "linecolor": "white",
            "ticks": ""
           }
          },
          "scene": {
           "xaxis": {
            "backgroundcolor": "#E5ECF6",
            "gridcolor": "white",
            "gridwidth": 2,
            "linecolor": "white",
            "showbackground": true,
            "ticks": "",
            "zerolinecolor": "white"
           },
           "yaxis": {
            "backgroundcolor": "#E5ECF6",
            "gridcolor": "white",
            "gridwidth": 2,
            "linecolor": "white",
            "showbackground": true,
            "ticks": "",
            "zerolinecolor": "white"
           },
           "zaxis": {
            "backgroundcolor": "#E5ECF6",
            "gridcolor": "white",
            "gridwidth": 2,
            "linecolor": "white",
            "showbackground": true,
            "ticks": "",
            "zerolinecolor": "white"
           }
          },
          "shapedefaults": {
           "line": {
            "color": "#2a3f5f"
           }
          },
          "ternary": {
           "aaxis": {
            "gridcolor": "white",
            "linecolor": "white",
            "ticks": ""
           },
           "baxis": {
            "gridcolor": "white",
            "linecolor": "white",
            "ticks": ""
           },
           "bgcolor": "#E5ECF6",
           "caxis": {
            "gridcolor": "white",
            "linecolor": "white",
            "ticks": ""
           }
          },
          "title": {
           "x": 0.05
          },
          "xaxis": {
           "automargin": true,
           "gridcolor": "white",
           "linecolor": "white",
           "ticks": "",
           "title": {
            "standoff": 15
           },
           "zerolinecolor": "white",
           "zerolinewidth": 2
          },
          "yaxis": {
           "automargin": true,
           "gridcolor": "white",
           "linecolor": "white",
           "ticks": "",
           "title": {
            "standoff": 15
           },
           "zerolinecolor": "white",
           "zerolinewidth": 2
          }
         }
        },
        "title": {
         "text": "Vectors of songs similar to little toy guns"
        }
       }
      }
     },
     "metadata": {},
     "output_type": "display_data"
    }
   ],
   "source": [
    "# Visualizing the similar songs\n",
    "vecs_x = []\n",
    "vecs_y = []\n",
    "vecs_z = []\n",
    "for i in range(len(similar_songs_df)):\n",
    "    vecs_x.append(similar_songs_df.iloc[i]['Vec1'])\n",
    "    vecs_y.append(similar_songs_df.iloc[i]['Vec2'])\n",
    "    vecs_z.append(similar_songs_df.iloc[i]['Vec3'])\n",
    "\n",
    "song_names = similar_song_tags\n",
    "\n",
    "# add the vector of the song we are comparing to\n",
    "vecs_x.append(songs_df[songs_df['track_name'] == 'little toy guns']['Vec1'].values[0])\n",
    "vecs_y.append(songs_df[songs_df['track_name'] == 'little toy guns']['Vec2'].values[0])\n",
    "vecs_z.append(songs_df[songs_df['track_name'] == 'little toy guns']['Vec3'].values[0])\n",
    "song_names.append('little toy guns')\n",
    "\n",
    "fig = px.scatter_3d(x=vecs_x, y=vecs_z, z=vecs_y, color=song_names, opacity=0.7, title=\"Vectors of songs similar to little toy guns\")\n",
    "\n",
    "fig.show()"
   ]
  },
  {
   "attachments": {},
   "cell_type": "markdown",
   "metadata": {},
   "source": [
    "### **Finally!!: Finding Songs Similar to Book using Cosine Similarity.**\n"
   ]
  },
  {
   "attachments": {},
   "cell_type": "markdown",
   "metadata": {},
   "source": [
    "### Using a function we built ourselves to find the cosine similarity between two vectors (YAY!!)"
   ]
  },
  {
   "cell_type": "code",
   "execution_count": 311,
   "metadata": {},
   "outputs": [],
   "source": [
    "# Get the book Sharp Objects\n",
    "book = books_df[books_df['Title'] == 'Sharp Objects']\n",
    "\n",
    "# sharp objects\n",
    "# this is where it ends\n",
    "\n",
    "# Get 3 vectors for the book from the books_model\n",
    "book_vecs = []\n",
    "for i in range(3):\n",
    "    book_vecs.append(book.iloc[0]['Vec' + str(i+1)])\n",
    "\n",
    "# Get 250 vectors for the book from the books_model\n",
    "book_vecs_250 = book_model.dv['Sharp Objects']"
   ]
  },
  {
   "cell_type": "code",
   "execution_count": 312,
   "metadata": {},
   "outputs": [],
   "source": [
    "# Get the mean vector of the book vector\n",
    "book_vector_mean = np.mean(book_vecs)"
   ]
  },
  {
   "cell_type": "code",
   "execution_count": 313,
   "metadata": {},
   "outputs": [],
   "source": [
    "# Get 5 songs that are similar to the book by using cosine similarity\n",
    "def recommend_songs(book_vector_mean, vec_mean, num_songs=5):\n",
    "\n",
    "    # Reshape book_vector_mean to 2D array\n",
    "    book_vector_mean = np.reshape(book_vector_mean, (1, -1))\n",
    "\n",
    "   # Reshape song vectors in vec_mean and remove additional dimension\n",
    "    vec_mean_2d = {song: np.reshape(vec, (-1,)) for song, vec in vec_mean.items()}\n",
    "\n",
    "    # Calculate cosine similarity between book vector mean and song vectors\n",
    "    similarities = cosine_similarity(book_vector_mean, list(vec_mean_2d.values()))[0]\n",
    "\n",
    "    # Sort indices based on cosine similarity in descending order\n",
    "    sorted_indices = np.argsort(similarities)[::-1]\n",
    "\n",
    "    # Get top N song names with highest cosine similarity\n",
    "    recommended_songs = [list(vec_mean_2d.keys())[idx] for idx in sorted_indices[:num_songs]]\n",
    "\n",
    "    return recommended_songs\n",
    "\n",
    "rec_songs = recommend_songs(book_vector_mean, vec_mean, num_songs=5)\n"
   ]
  },
  {
   "cell_type": "code",
   "execution_count": 314,
   "metadata": {},
   "outputs": [
    {
     "data": {
      "text/html": [
       "<div>\n",
       "<style scoped>\n",
       "    .dataframe tbody tr th:only-of-type {\n",
       "        vertical-align: middle;\n",
       "    }\n",
       "\n",
       "    .dataframe tbody tr th {\n",
       "        vertical-align: top;\n",
       "    }\n",
       "\n",
       "    .dataframe thead th {\n",
       "        text-align: right;\n",
       "    }\n",
       "</style>\n",
       "<table border=\"1\" class=\"dataframe\">\n",
       "  <thead>\n",
       "    <tr style=\"text-align: right;\">\n",
       "      <th></th>\n",
       "      <th>track_name</th>\n",
       "      <th>genre</th>\n",
       "      <th>lyrics</th>\n",
       "      <th>Vec1</th>\n",
       "      <th>Vec2</th>\n",
       "      <th>Vec3</th>\n",
       "    </tr>\n",
       "  </thead>\n",
       "  <tbody>\n",
       "    <tr>\n",
       "      <th>5931</th>\n",
       "      <td>find your love</td>\n",
       "      <td>pop</td>\n",
       "      <td>option refuse forget take heart feel take bett...</td>\n",
       "      <td>-0.476375</td>\n",
       "      <td>-0.713122</td>\n",
       "      <td>-0.104595</td>\n",
       "    </tr>\n",
       "    <tr>\n",
       "      <th>17226</th>\n",
       "      <td>the man that got away</td>\n",
       "      <td>jazz</td>\n",
       "      <td>night bitter star lose glitter wind grow colde...</td>\n",
       "      <td>-0.517802</td>\n",
       "      <td>0.327673</td>\n",
       "      <td>0.017602</td>\n",
       "    </tr>\n",
       "    <tr>\n",
       "      <th>17227</th>\n",
       "      <td>money burns a hole in my pocket</td>\n",
       "      <td>jazz</td>\n",
       "      <td>money burn hole pocket wish million dollar pre...</td>\n",
       "      <td>0.434736</td>\n",
       "      <td>-0.305497</td>\n",
       "      <td>0.592052</td>\n",
       "    </tr>\n",
       "    <tr>\n",
       "      <th>17235</th>\n",
       "      <td>long, long ago</td>\n",
       "      <td>jazz</td>\n",
       "      <td>long long long long long long better way long ...</td>\n",
       "      <td>0.339109</td>\n",
       "      <td>0.410363</td>\n",
       "      <td>-0.020667</td>\n",
       "    </tr>\n",
       "    <tr>\n",
       "      <th>28371</th>\n",
       "      <td>r.i.p.</td>\n",
       "      <td>hip hop</td>\n",
       "      <td>remix killer alive remix thriller trap bitch s...</td>\n",
       "      <td>1.462096</td>\n",
       "      <td>-0.520519</td>\n",
       "      <td>-0.262241</td>\n",
       "    </tr>\n",
       "  </tbody>\n",
       "</table>\n",
       "</div>"
      ],
      "text/plain": [
       "                            track_name    genre  \\\n",
       "5931                    find your love      pop   \n",
       "17226            the man that got away     jazz   \n",
       "17227  money burns a hole in my pocket     jazz   \n",
       "17235                   long, long ago     jazz   \n",
       "28371                           r.i.p.  hip hop   \n",
       "\n",
       "                                                  lyrics      Vec1      Vec2  \\\n",
       "5931   option refuse forget take heart feel take bett... -0.476375 -0.713122   \n",
       "17226  night bitter star lose glitter wind grow colde... -0.517802  0.327673   \n",
       "17227  money burn hole pocket wish million dollar pre...  0.434736 -0.305497   \n",
       "17235  long long long long long long better way long ...  0.339109  0.410363   \n",
       "28371  remix killer alive remix thriller trap bitch s...  1.462096 -0.520519   \n",
       "\n",
       "           Vec3  \n",
       "5931  -0.104595  \n",
       "17226  0.017602  \n",
       "17227  0.592052  \n",
       "17235 -0.020667  \n",
       "28371 -0.262241  "
      ]
     },
     "execution_count": 314,
     "metadata": {},
     "output_type": "execute_result"
    }
   ],
   "source": [
    "# Retrive the 3D vectors of the recommended songs from songs_df\n",
    "rec_songs_df = songs_df[songs_df['track_name'].isin(rec_songs)]\n",
    "rec_songs_df"
   ]
  },
  {
   "cell_type": "code",
   "execution_count": 315,
   "metadata": {},
   "outputs": [
    {
     "data": {
      "application/vnd.plotly.v1+json": {
       "config": {
        "plotlyServerURL": "https://plot.ly"
       },
       "data": [
        {
         "hovertemplate": "color=r.i.p.<br>x=%{x}<br>y=%{y}<br>z=%{z}<extra></extra>",
         "legendgroup": "r.i.p.",
         "marker": {
          "color": "#636efa",
          "opacity": 0.7,
          "symbol": "circle"
         },
         "mode": "markers",
         "name": "r.i.p.",
         "scene": "scene",
         "showlegend": true,
         "type": "scatter3d",
         "x": [
          -0.47637540102005005
         ],
         "y": [
          -0.7131215929985046
         ],
         "z": [
          -0.10459546744823456
         ]
        },
        {
         "hovertemplate": "color=find your love<br>x=%{x}<br>y=%{y}<br>z=%{z}<extra></extra>",
         "legendgroup": "find your love",
         "marker": {
          "color": "#EF553B",
          "opacity": 0.7,
          "symbol": "circle"
         },
         "mode": "markers",
         "name": "find your love",
         "scene": "scene",
         "showlegend": true,
         "type": "scatter3d",
         "x": [
          -0.5178022980690002
         ],
         "y": [
          0.32767313718795776
         ],
         "z": [
          0.01760212518274784
         ]
        },
        {
         "hovertemplate": "color=long, long ago<br>x=%{x}<br>y=%{y}<br>z=%{z}<extra></extra>",
         "legendgroup": "long, long ago",
         "marker": {
          "color": "#00cc96",
          "opacity": 0.7,
          "symbol": "circle"
         },
         "mode": "markers",
         "name": "long, long ago",
         "scene": "scene",
         "showlegend": true,
         "type": "scatter3d",
         "x": [
          0.4347361922264099
         ],
         "y": [
          -0.3054969012737274
         ],
         "z": [
          0.5920517444610596
         ]
        },
        {
         "hovertemplate": "color=money burns a hole in my pocket<br>x=%{x}<br>y=%{y}<br>z=%{z}<extra></extra>",
         "legendgroup": "money burns a hole in my pocket",
         "marker": {
          "color": "#ab63fa",
          "opacity": 0.7,
          "symbol": "circle"
         },
         "mode": "markers",
         "name": "money burns a hole in my pocket",
         "scene": "scene",
         "showlegend": true,
         "type": "scatter3d",
         "x": [
          0.339108943939209
         ],
         "y": [
          0.4103630781173706
         ],
         "z": [
          -0.020667362958192825
         ]
        },
        {
         "hovertemplate": "color=the man that got away<br>x=%{x}<br>y=%{y}<br>z=%{z}<extra></extra>",
         "legendgroup": "the man that got away",
         "marker": {
          "color": "#FFA15A",
          "opacity": 0.7,
          "symbol": "circle"
         },
         "mode": "markers",
         "name": "the man that got away",
         "scene": "scene",
         "showlegend": true,
         "type": "scatter3d",
         "x": [
          1.4620963335037231
         ],
         "y": [
          -0.5205186605453491
         ],
         "z": [
          -0.2622411847114563
         ]
        },
        {
         "hovertemplate": "color=Sharp Objects<br>x=%{x}<br>y=%{y}<br>z=%{z}<extra></extra>",
         "legendgroup": "Sharp Objects",
         "marker": {
          "color": "#19d3f3",
          "opacity": 0.7,
          "symbol": "circle"
         },
         "mode": "markers",
         "name": "Sharp Objects",
         "scene": "scene",
         "showlegend": true,
         "type": "scatter3d",
         "x": [
          -1.047819972038269
         ],
         "y": [
          0.030745187774300575
         ],
         "z": [
          -0.09138165414333344
         ]
        }
       ],
       "layout": {
        "legend": {
         "title": {
          "text": "color"
         },
         "tracegroupgap": 0
        },
        "scene": {
         "domain": {
          "x": [
           0,
           1
          ],
          "y": [
           0,
           1
          ]
         },
         "xaxis": {
          "title": {
           "text": "x"
          }
         },
         "yaxis": {
          "title": {
           "text": "y"
          }
         },
         "zaxis": {
          "title": {
           "text": "z"
          }
         }
        },
        "template": {
         "data": {
          "bar": [
           {
            "error_x": {
             "color": "#2a3f5f"
            },
            "error_y": {
             "color": "#2a3f5f"
            },
            "marker": {
             "line": {
              "color": "#E5ECF6",
              "width": 0.5
             },
             "pattern": {
              "fillmode": "overlay",
              "size": 10,
              "solidity": 0.2
             }
            },
            "type": "bar"
           }
          ],
          "barpolar": [
           {
            "marker": {
             "line": {
              "color": "#E5ECF6",
              "width": 0.5
             },
             "pattern": {
              "fillmode": "overlay",
              "size": 10,
              "solidity": 0.2
             }
            },
            "type": "barpolar"
           }
          ],
          "carpet": [
           {
            "aaxis": {
             "endlinecolor": "#2a3f5f",
             "gridcolor": "white",
             "linecolor": "white",
             "minorgridcolor": "white",
             "startlinecolor": "#2a3f5f"
            },
            "baxis": {
             "endlinecolor": "#2a3f5f",
             "gridcolor": "white",
             "linecolor": "white",
             "minorgridcolor": "white",
             "startlinecolor": "#2a3f5f"
            },
            "type": "carpet"
           }
          ],
          "choropleth": [
           {
            "colorbar": {
             "outlinewidth": 0,
             "ticks": ""
            },
            "type": "choropleth"
           }
          ],
          "contour": [
           {
            "colorbar": {
             "outlinewidth": 0,
             "ticks": ""
            },
            "colorscale": [
             [
              0,
              "#0d0887"
             ],
             [
              0.1111111111111111,
              "#46039f"
             ],
             [
              0.2222222222222222,
              "#7201a8"
             ],
             [
              0.3333333333333333,
              "#9c179e"
             ],
             [
              0.4444444444444444,
              "#bd3786"
             ],
             [
              0.5555555555555556,
              "#d8576b"
             ],
             [
              0.6666666666666666,
              "#ed7953"
             ],
             [
              0.7777777777777778,
              "#fb9f3a"
             ],
             [
              0.8888888888888888,
              "#fdca26"
             ],
             [
              1,
              "#f0f921"
             ]
            ],
            "type": "contour"
           }
          ],
          "contourcarpet": [
           {
            "colorbar": {
             "outlinewidth": 0,
             "ticks": ""
            },
            "type": "contourcarpet"
           }
          ],
          "heatmap": [
           {
            "colorbar": {
             "outlinewidth": 0,
             "ticks": ""
            },
            "colorscale": [
             [
              0,
              "#0d0887"
             ],
             [
              0.1111111111111111,
              "#46039f"
             ],
             [
              0.2222222222222222,
              "#7201a8"
             ],
             [
              0.3333333333333333,
              "#9c179e"
             ],
             [
              0.4444444444444444,
              "#bd3786"
             ],
             [
              0.5555555555555556,
              "#d8576b"
             ],
             [
              0.6666666666666666,
              "#ed7953"
             ],
             [
              0.7777777777777778,
              "#fb9f3a"
             ],
             [
              0.8888888888888888,
              "#fdca26"
             ],
             [
              1,
              "#f0f921"
             ]
            ],
            "type": "heatmap"
           }
          ],
          "heatmapgl": [
           {
            "colorbar": {
             "outlinewidth": 0,
             "ticks": ""
            },
            "colorscale": [
             [
              0,
              "#0d0887"
             ],
             [
              0.1111111111111111,
              "#46039f"
             ],
             [
              0.2222222222222222,
              "#7201a8"
             ],
             [
              0.3333333333333333,
              "#9c179e"
             ],
             [
              0.4444444444444444,
              "#bd3786"
             ],
             [
              0.5555555555555556,
              "#d8576b"
             ],
             [
              0.6666666666666666,
              "#ed7953"
             ],
             [
              0.7777777777777778,
              "#fb9f3a"
             ],
             [
              0.8888888888888888,
              "#fdca26"
             ],
             [
              1,
              "#f0f921"
             ]
            ],
            "type": "heatmapgl"
           }
          ],
          "histogram": [
           {
            "marker": {
             "pattern": {
              "fillmode": "overlay",
              "size": 10,
              "solidity": 0.2
             }
            },
            "type": "histogram"
           }
          ],
          "histogram2d": [
           {
            "colorbar": {
             "outlinewidth": 0,
             "ticks": ""
            },
            "colorscale": [
             [
              0,
              "#0d0887"
             ],
             [
              0.1111111111111111,
              "#46039f"
             ],
             [
              0.2222222222222222,
              "#7201a8"
             ],
             [
              0.3333333333333333,
              "#9c179e"
             ],
             [
              0.4444444444444444,
              "#bd3786"
             ],
             [
              0.5555555555555556,
              "#d8576b"
             ],
             [
              0.6666666666666666,
              "#ed7953"
             ],
             [
              0.7777777777777778,
              "#fb9f3a"
             ],
             [
              0.8888888888888888,
              "#fdca26"
             ],
             [
              1,
              "#f0f921"
             ]
            ],
            "type": "histogram2d"
           }
          ],
          "histogram2dcontour": [
           {
            "colorbar": {
             "outlinewidth": 0,
             "ticks": ""
            },
            "colorscale": [
             [
              0,
              "#0d0887"
             ],
             [
              0.1111111111111111,
              "#46039f"
             ],
             [
              0.2222222222222222,
              "#7201a8"
             ],
             [
              0.3333333333333333,
              "#9c179e"
             ],
             [
              0.4444444444444444,
              "#bd3786"
             ],
             [
              0.5555555555555556,
              "#d8576b"
             ],
             [
              0.6666666666666666,
              "#ed7953"
             ],
             [
              0.7777777777777778,
              "#fb9f3a"
             ],
             [
              0.8888888888888888,
              "#fdca26"
             ],
             [
              1,
              "#f0f921"
             ]
            ],
            "type": "histogram2dcontour"
           }
          ],
          "mesh3d": [
           {
            "colorbar": {
             "outlinewidth": 0,
             "ticks": ""
            },
            "type": "mesh3d"
           }
          ],
          "parcoords": [
           {
            "line": {
             "colorbar": {
              "outlinewidth": 0,
              "ticks": ""
             }
            },
            "type": "parcoords"
           }
          ],
          "pie": [
           {
            "automargin": true,
            "type": "pie"
           }
          ],
          "scatter": [
           {
            "fillpattern": {
             "fillmode": "overlay",
             "size": 10,
             "solidity": 0.2
            },
            "type": "scatter"
           }
          ],
          "scatter3d": [
           {
            "line": {
             "colorbar": {
              "outlinewidth": 0,
              "ticks": ""
             }
            },
            "marker": {
             "colorbar": {
              "outlinewidth": 0,
              "ticks": ""
             }
            },
            "type": "scatter3d"
           }
          ],
          "scattercarpet": [
           {
            "marker": {
             "colorbar": {
              "outlinewidth": 0,
              "ticks": ""
             }
            },
            "type": "scattercarpet"
           }
          ],
          "scattergeo": [
           {
            "marker": {
             "colorbar": {
              "outlinewidth": 0,
              "ticks": ""
             }
            },
            "type": "scattergeo"
           }
          ],
          "scattergl": [
           {
            "marker": {
             "colorbar": {
              "outlinewidth": 0,
              "ticks": ""
             }
            },
            "type": "scattergl"
           }
          ],
          "scattermapbox": [
           {
            "marker": {
             "colorbar": {
              "outlinewidth": 0,
              "ticks": ""
             }
            },
            "type": "scattermapbox"
           }
          ],
          "scatterpolar": [
           {
            "marker": {
             "colorbar": {
              "outlinewidth": 0,
              "ticks": ""
             }
            },
            "type": "scatterpolar"
           }
          ],
          "scatterpolargl": [
           {
            "marker": {
             "colorbar": {
              "outlinewidth": 0,
              "ticks": ""
             }
            },
            "type": "scatterpolargl"
           }
          ],
          "scatterternary": [
           {
            "marker": {
             "colorbar": {
              "outlinewidth": 0,
              "ticks": ""
             }
            },
            "type": "scatterternary"
           }
          ],
          "surface": [
           {
            "colorbar": {
             "outlinewidth": 0,
             "ticks": ""
            },
            "colorscale": [
             [
              0,
              "#0d0887"
             ],
             [
              0.1111111111111111,
              "#46039f"
             ],
             [
              0.2222222222222222,
              "#7201a8"
             ],
             [
              0.3333333333333333,
              "#9c179e"
             ],
             [
              0.4444444444444444,
              "#bd3786"
             ],
             [
              0.5555555555555556,
              "#d8576b"
             ],
             [
              0.6666666666666666,
              "#ed7953"
             ],
             [
              0.7777777777777778,
              "#fb9f3a"
             ],
             [
              0.8888888888888888,
              "#fdca26"
             ],
             [
              1,
              "#f0f921"
             ]
            ],
            "type": "surface"
           }
          ],
          "table": [
           {
            "cells": {
             "fill": {
              "color": "#EBF0F8"
             },
             "line": {
              "color": "white"
             }
            },
            "header": {
             "fill": {
              "color": "#C8D4E3"
             },
             "line": {
              "color": "white"
             }
            },
            "type": "table"
           }
          ]
         },
         "layout": {
          "annotationdefaults": {
           "arrowcolor": "#2a3f5f",
           "arrowhead": 0,
           "arrowwidth": 1
          },
          "autotypenumbers": "strict",
          "coloraxis": {
           "colorbar": {
            "outlinewidth": 0,
            "ticks": ""
           }
          },
          "colorscale": {
           "diverging": [
            [
             0,
             "#8e0152"
            ],
            [
             0.1,
             "#c51b7d"
            ],
            [
             0.2,
             "#de77ae"
            ],
            [
             0.3,
             "#f1b6da"
            ],
            [
             0.4,
             "#fde0ef"
            ],
            [
             0.5,
             "#f7f7f7"
            ],
            [
             0.6,
             "#e6f5d0"
            ],
            [
             0.7,
             "#b8e186"
            ],
            [
             0.8,
             "#7fbc41"
            ],
            [
             0.9,
             "#4d9221"
            ],
            [
             1,
             "#276419"
            ]
           ],
           "sequential": [
            [
             0,
             "#0d0887"
            ],
            [
             0.1111111111111111,
             "#46039f"
            ],
            [
             0.2222222222222222,
             "#7201a8"
            ],
            [
             0.3333333333333333,
             "#9c179e"
            ],
            [
             0.4444444444444444,
             "#bd3786"
            ],
            [
             0.5555555555555556,
             "#d8576b"
            ],
            [
             0.6666666666666666,
             "#ed7953"
            ],
            [
             0.7777777777777778,
             "#fb9f3a"
            ],
            [
             0.8888888888888888,
             "#fdca26"
            ],
            [
             1,
             "#f0f921"
            ]
           ],
           "sequentialminus": [
            [
             0,
             "#0d0887"
            ],
            [
             0.1111111111111111,
             "#46039f"
            ],
            [
             0.2222222222222222,
             "#7201a8"
            ],
            [
             0.3333333333333333,
             "#9c179e"
            ],
            [
             0.4444444444444444,
             "#bd3786"
            ],
            [
             0.5555555555555556,
             "#d8576b"
            ],
            [
             0.6666666666666666,
             "#ed7953"
            ],
            [
             0.7777777777777778,
             "#fb9f3a"
            ],
            [
             0.8888888888888888,
             "#fdca26"
            ],
            [
             1,
             "#f0f921"
            ]
           ]
          },
          "colorway": [
           "#636efa",
           "#EF553B",
           "#00cc96",
           "#ab63fa",
           "#FFA15A",
           "#19d3f3",
           "#FF6692",
           "#B6E880",
           "#FF97FF",
           "#FECB52"
          ],
          "font": {
           "color": "#2a3f5f"
          },
          "geo": {
           "bgcolor": "white",
           "lakecolor": "white",
           "landcolor": "#E5ECF6",
           "showlakes": true,
           "showland": true,
           "subunitcolor": "white"
          },
          "hoverlabel": {
           "align": "left"
          },
          "hovermode": "closest",
          "mapbox": {
           "style": "light"
          },
          "paper_bgcolor": "white",
          "plot_bgcolor": "#E5ECF6",
          "polar": {
           "angularaxis": {
            "gridcolor": "white",
            "linecolor": "white",
            "ticks": ""
           },
           "bgcolor": "#E5ECF6",
           "radialaxis": {
            "gridcolor": "white",
            "linecolor": "white",
            "ticks": ""
           }
          },
          "scene": {
           "xaxis": {
            "backgroundcolor": "#E5ECF6",
            "gridcolor": "white",
            "gridwidth": 2,
            "linecolor": "white",
            "showbackground": true,
            "ticks": "",
            "zerolinecolor": "white"
           },
           "yaxis": {
            "backgroundcolor": "#E5ECF6",
            "gridcolor": "white",
            "gridwidth": 2,
            "linecolor": "white",
            "showbackground": true,
            "ticks": "",
            "zerolinecolor": "white"
           },
           "zaxis": {
            "backgroundcolor": "#E5ECF6",
            "gridcolor": "white",
            "gridwidth": 2,
            "linecolor": "white",
            "showbackground": true,
            "ticks": "",
            "zerolinecolor": "white"
           }
          },
          "shapedefaults": {
           "line": {
            "color": "#2a3f5f"
           }
          },
          "ternary": {
           "aaxis": {
            "gridcolor": "white",
            "linecolor": "white",
            "ticks": ""
           },
           "baxis": {
            "gridcolor": "white",
            "linecolor": "white",
            "ticks": ""
           },
           "bgcolor": "#E5ECF6",
           "caxis": {
            "gridcolor": "white",
            "linecolor": "white",
            "ticks": ""
           }
          },
          "title": {
           "x": 0.05
          },
          "xaxis": {
           "automargin": true,
           "gridcolor": "white",
           "linecolor": "white",
           "ticks": "",
           "title": {
            "standoff": 15
           },
           "zerolinecolor": "white",
           "zerolinewidth": 2
          },
          "yaxis": {
           "automargin": true,
           "gridcolor": "white",
           "linecolor": "white",
           "ticks": "",
           "title": {
            "standoff": 15
           },
           "zerolinecolor": "white",
           "zerolinewidth": 2
          }
         }
        },
        "title": {
         "text": "Vectors of the book and recommended songs in 3D space"
        }
       }
      }
     },
     "metadata": {},
     "output_type": "display_data"
    }
   ],
   "source": [
    "# Visualization Time!\n",
    "# Plot the vectors of the recommended songs and the book\n",
    "vecs_x = []\n",
    "vecs_y = []\n",
    "vecs_z = []\n",
    "for i in range(len(rec_songs_df)):\n",
    "    vecs_x.append(rec_songs_df.iloc[i]['Vec1'])\n",
    "    vecs_y.append(rec_songs_df.iloc[i]['Vec2'])\n",
    "    vecs_z.append(rec_songs_df.iloc[i]['Vec3'])\n",
    "\n",
    "# add the vector of the book\n",
    "vecs_x.append(book_vecs[0])\n",
    "vecs_y.append(book_vecs[1])\n",
    "vecs_z.append(book_vecs[2])\n",
    "\n",
    "# add the book title for the hover text purposes\n",
    "rec_songs.append('Sharp Objects')\n",
    "\n",
    "# Plot the vectors in 3D space\n",
    "fig = px.scatter_3d(x=vecs_x, y=vecs_y, z=vecs_z, color=rec_songs, opacity=0.7, title=\"Vectors of the book and recommended songs in 3D space\")\n",
    "fig.show()"
   ]
  },
  {
   "attachments": {},
   "cell_type": "markdown",
   "metadata": {},
   "source": [
    "## Finding songs similar to book using most_similar funtion"
   ]
  },
  {
   "cell_type": "code",
   "execution_count": 316,
   "metadata": {},
   "outputs": [
    {
     "data": {
      "text/html": [
       "<div>\n",
       "<style scoped>\n",
       "    .dataframe tbody tr th:only-of-type {\n",
       "        vertical-align: middle;\n",
       "    }\n",
       "\n",
       "    .dataframe tbody tr th {\n",
       "        vertical-align: top;\n",
       "    }\n",
       "\n",
       "    .dataframe thead th {\n",
       "        text-align: right;\n",
       "    }\n",
       "</style>\n",
       "<table border=\"1\" class=\"dataframe\">\n",
       "  <thead>\n",
       "    <tr style=\"text-align: right;\">\n",
       "      <th></th>\n",
       "      <th>track_name</th>\n",
       "      <th>genre</th>\n",
       "      <th>lyrics</th>\n",
       "      <th>Vec1</th>\n",
       "      <th>Vec2</th>\n",
       "      <th>Vec3</th>\n",
       "    </tr>\n",
       "  </thead>\n",
       "  <tbody>\n",
       "    <tr>\n",
       "      <th>15336</th>\n",
       "      <td>the healer</td>\n",
       "      <td>blues</td>\n",
       "      <td>lord lord blue healer world blue healer healer...</td>\n",
       "      <td>-0.896385</td>\n",
       "      <td>-0.075110</td>\n",
       "      <td>0.274519</td>\n",
       "    </tr>\n",
       "    <tr>\n",
       "      <th>15980</th>\n",
       "      <td>rich woman</td>\n",
       "      <td>blues</td>\n",
       "      <td>woman plenty money money call baby late night ...</td>\n",
       "      <td>0.278630</td>\n",
       "      <td>-1.071379</td>\n",
       "      <td>0.280530</td>\n",
       "    </tr>\n",
       "    <tr>\n",
       "      <th>19343</th>\n",
       "      <td>it's all good</td>\n",
       "      <td>jazz</td>\n",
       "      <td>good good good good good good good good good g...</td>\n",
       "      <td>0.343586</td>\n",
       "      <td>-0.098577</td>\n",
       "      <td>0.062143</td>\n",
       "    </tr>\n",
       "    <tr>\n",
       "      <th>19704</th>\n",
       "      <td>burn out</td>\n",
       "      <td>jazz</td>\n",
       "      <td>money go come money go come</td>\n",
       "      <td>0.516042</td>\n",
       "      <td>0.046990</td>\n",
       "      <td>-0.019876</td>\n",
       "    </tr>\n",
       "    <tr>\n",
       "      <th>26001</th>\n",
       "      <td>give me jesus</td>\n",
       "      <td>rock</td>\n",
       "      <td>morning rise morning rise morning rise world w...</td>\n",
       "      <td>-0.012964</td>\n",
       "      <td>0.241660</td>\n",
       "      <td>0.027168</td>\n",
       "    </tr>\n",
       "  </tbody>\n",
       "</table>\n",
       "</div>"
      ],
      "text/plain": [
       "          track_name  genre  \\\n",
       "15336     the healer  blues   \n",
       "15980     rich woman  blues   \n",
       "19343  it's all good   jazz   \n",
       "19704       burn out   jazz   \n",
       "26001  give me jesus   rock   \n",
       "\n",
       "                                                  lyrics      Vec1      Vec2  \\\n",
       "15336  lord lord blue healer world blue healer healer... -0.896385 -0.075110   \n",
       "15980  woman plenty money money call baby late night ...  0.278630 -1.071379   \n",
       "19343  good good good good good good good good good g...  0.343586 -0.098577   \n",
       "19704                        money go come money go come  0.516042  0.046990   \n",
       "26001  morning rise morning rise morning rise world w... -0.012964  0.241660   \n",
       "\n",
       "           Vec3  \n",
       "15336  0.274519  \n",
       "15980  0.280530  \n",
       "19343  0.062143  \n",
       "19704 -0.019876  \n",
       "26001  0.027168  "
      ]
     },
     "execution_count": 316,
     "metadata": {},
     "output_type": "execute_result"
    }
   ],
   "source": [
    "# book_vector is the 3D vector of the book\n",
    "similar_songs = songs_model.dv.most_similar([book_vecs_250], topn=5)\n",
    "\n",
    "# Extract the similar song tags\n",
    "similar_song_tags = [song_tag for song_tag, similarity in similar_songs]\n",
    "\n",
    "# Retrieve the 3 vectors of similar songs from songs_df\n",
    "similar_songs_df = songs_df[songs_df['track_name'].isin(similar_song_tags)]\n",
    "similar_songs_df"
   ]
  },
  {
   "cell_type": "code",
   "execution_count": 317,
   "metadata": {},
   "outputs": [
    {
     "data": {
      "application/vnd.plotly.v1+json": {
       "config": {
        "plotlyServerURL": "https://plot.ly"
       },
       "data": [
        {
         "hovertemplate": "color=give me jesus<br>x=%{x}<br>y=%{y}<br>z=%{z}<extra></extra>",
         "legendgroup": "give me jesus",
         "marker": {
          "color": "#636efa",
          "opacity": 0.7,
          "symbol": "circle"
         },
         "mode": "markers",
         "name": "give me jesus",
         "scene": "scene",
         "showlegend": true,
         "type": "scatter3d",
         "x": [
          -0.8963848948478699
         ],
         "y": [
          -0.07511001080274582
         ],
         "z": [
          0.2745187282562256
         ]
        },
        {
         "hovertemplate": "color=burn out<br>x=%{x}<br>y=%{y}<br>z=%{z}<extra></extra>",
         "legendgroup": "burn out",
         "marker": {
          "color": "#EF553B",
          "opacity": 0.7,
          "symbol": "circle"
         },
         "mode": "markers",
         "name": "burn out",
         "scene": "scene",
         "showlegend": true,
         "type": "scatter3d",
         "x": [
          0.2786300480365753
         ],
         "y": [
          -1.0713791847229004
         ],
         "z": [
          0.28052976727485657
         ]
        },
        {
         "hovertemplate": "color=it's all good<br>x=%{x}<br>y=%{y}<br>z=%{z}<extra></extra>",
         "legendgroup": "it's all good",
         "marker": {
          "color": "#00cc96",
          "opacity": 0.7,
          "symbol": "circle"
         },
         "mode": "markers",
         "name": "it's all good",
         "scene": "scene",
         "showlegend": true,
         "type": "scatter3d",
         "x": [
          0.3435857892036438
         ],
         "y": [
          -0.09857650101184845
         ],
         "z": [
          0.06214335560798645
         ]
        },
        {
         "hovertemplate": "color=rich woman<br>x=%{x}<br>y=%{y}<br>z=%{z}<extra></extra>",
         "legendgroup": "rich woman",
         "marker": {
          "color": "#ab63fa",
          "opacity": 0.7,
          "symbol": "circle"
         },
         "mode": "markers",
         "name": "rich woman",
         "scene": "scene",
         "showlegend": true,
         "type": "scatter3d",
         "x": [
          0.5160422921180725
         ],
         "y": [
          0.04698977619409561
         ],
         "z": [
          -0.01987590081989765
         ]
        },
        {
         "hovertemplate": "color=the healer<br>x=%{x}<br>y=%{y}<br>z=%{z}<extra></extra>",
         "legendgroup": "the healer",
         "marker": {
          "color": "#FFA15A",
          "opacity": 0.7,
          "symbol": "circle"
         },
         "mode": "markers",
         "name": "the healer",
         "scene": "scene",
         "showlegend": true,
         "type": "scatter3d",
         "x": [
          -0.012964049354195595
         ],
         "y": [
          0.24165992438793182
         ],
         "z": [
          0.027167994529008865
         ]
        },
        {
         "hovertemplate": "color=Sharp Objects<br>x=%{x}<br>y=%{y}<br>z=%{z}<extra></extra>",
         "legendgroup": "Sharp Objects",
         "marker": {
          "color": "#19d3f3",
          "opacity": 0.7,
          "symbol": "circle"
         },
         "mode": "markers",
         "name": "Sharp Objects",
         "scene": "scene",
         "showlegend": true,
         "type": "scatter3d",
         "x": [
          -1.047819972038269
         ],
         "y": [
          0.030745187774300575
         ],
         "z": [
          -0.09138165414333344
         ]
        }
       ],
       "layout": {
        "legend": {
         "title": {
          "text": "color"
         },
         "tracegroupgap": 0
        },
        "scene": {
         "domain": {
          "x": [
           0,
           1
          ],
          "y": [
           0,
           1
          ]
         },
         "xaxis": {
          "title": {
           "text": "x"
          }
         },
         "yaxis": {
          "title": {
           "text": "y"
          }
         },
         "zaxis": {
          "title": {
           "text": "z"
          }
         }
        },
        "template": {
         "data": {
          "bar": [
           {
            "error_x": {
             "color": "#2a3f5f"
            },
            "error_y": {
             "color": "#2a3f5f"
            },
            "marker": {
             "line": {
              "color": "#E5ECF6",
              "width": 0.5
             },
             "pattern": {
              "fillmode": "overlay",
              "size": 10,
              "solidity": 0.2
             }
            },
            "type": "bar"
           }
          ],
          "barpolar": [
           {
            "marker": {
             "line": {
              "color": "#E5ECF6",
              "width": 0.5
             },
             "pattern": {
              "fillmode": "overlay",
              "size": 10,
              "solidity": 0.2
             }
            },
            "type": "barpolar"
           }
          ],
          "carpet": [
           {
            "aaxis": {
             "endlinecolor": "#2a3f5f",
             "gridcolor": "white",
             "linecolor": "white",
             "minorgridcolor": "white",
             "startlinecolor": "#2a3f5f"
            },
            "baxis": {
             "endlinecolor": "#2a3f5f",
             "gridcolor": "white",
             "linecolor": "white",
             "minorgridcolor": "white",
             "startlinecolor": "#2a3f5f"
            },
            "type": "carpet"
           }
          ],
          "choropleth": [
           {
            "colorbar": {
             "outlinewidth": 0,
             "ticks": ""
            },
            "type": "choropleth"
           }
          ],
          "contour": [
           {
            "colorbar": {
             "outlinewidth": 0,
             "ticks": ""
            },
            "colorscale": [
             [
              0,
              "#0d0887"
             ],
             [
              0.1111111111111111,
              "#46039f"
             ],
             [
              0.2222222222222222,
              "#7201a8"
             ],
             [
              0.3333333333333333,
              "#9c179e"
             ],
             [
              0.4444444444444444,
              "#bd3786"
             ],
             [
              0.5555555555555556,
              "#d8576b"
             ],
             [
              0.6666666666666666,
              "#ed7953"
             ],
             [
              0.7777777777777778,
              "#fb9f3a"
             ],
             [
              0.8888888888888888,
              "#fdca26"
             ],
             [
              1,
              "#f0f921"
             ]
            ],
            "type": "contour"
           }
          ],
          "contourcarpet": [
           {
            "colorbar": {
             "outlinewidth": 0,
             "ticks": ""
            },
            "type": "contourcarpet"
           }
          ],
          "heatmap": [
           {
            "colorbar": {
             "outlinewidth": 0,
             "ticks": ""
            },
            "colorscale": [
             [
              0,
              "#0d0887"
             ],
             [
              0.1111111111111111,
              "#46039f"
             ],
             [
              0.2222222222222222,
              "#7201a8"
             ],
             [
              0.3333333333333333,
              "#9c179e"
             ],
             [
              0.4444444444444444,
              "#bd3786"
             ],
             [
              0.5555555555555556,
              "#d8576b"
             ],
             [
              0.6666666666666666,
              "#ed7953"
             ],
             [
              0.7777777777777778,
              "#fb9f3a"
             ],
             [
              0.8888888888888888,
              "#fdca26"
             ],
             [
              1,
              "#f0f921"
             ]
            ],
            "type": "heatmap"
           }
          ],
          "heatmapgl": [
           {
            "colorbar": {
             "outlinewidth": 0,
             "ticks": ""
            },
            "colorscale": [
             [
              0,
              "#0d0887"
             ],
             [
              0.1111111111111111,
              "#46039f"
             ],
             [
              0.2222222222222222,
              "#7201a8"
             ],
             [
              0.3333333333333333,
              "#9c179e"
             ],
             [
              0.4444444444444444,
              "#bd3786"
             ],
             [
              0.5555555555555556,
              "#d8576b"
             ],
             [
              0.6666666666666666,
              "#ed7953"
             ],
             [
              0.7777777777777778,
              "#fb9f3a"
             ],
             [
              0.8888888888888888,
              "#fdca26"
             ],
             [
              1,
              "#f0f921"
             ]
            ],
            "type": "heatmapgl"
           }
          ],
          "histogram": [
           {
            "marker": {
             "pattern": {
              "fillmode": "overlay",
              "size": 10,
              "solidity": 0.2
             }
            },
            "type": "histogram"
           }
          ],
          "histogram2d": [
           {
            "colorbar": {
             "outlinewidth": 0,
             "ticks": ""
            },
            "colorscale": [
             [
              0,
              "#0d0887"
             ],
             [
              0.1111111111111111,
              "#46039f"
             ],
             [
              0.2222222222222222,
              "#7201a8"
             ],
             [
              0.3333333333333333,
              "#9c179e"
             ],
             [
              0.4444444444444444,
              "#bd3786"
             ],
             [
              0.5555555555555556,
              "#d8576b"
             ],
             [
              0.6666666666666666,
              "#ed7953"
             ],
             [
              0.7777777777777778,
              "#fb9f3a"
             ],
             [
              0.8888888888888888,
              "#fdca26"
             ],
             [
              1,
              "#f0f921"
             ]
            ],
            "type": "histogram2d"
           }
          ],
          "histogram2dcontour": [
           {
            "colorbar": {
             "outlinewidth": 0,
             "ticks": ""
            },
            "colorscale": [
             [
              0,
              "#0d0887"
             ],
             [
              0.1111111111111111,
              "#46039f"
             ],
             [
              0.2222222222222222,
              "#7201a8"
             ],
             [
              0.3333333333333333,
              "#9c179e"
             ],
             [
              0.4444444444444444,
              "#bd3786"
             ],
             [
              0.5555555555555556,
              "#d8576b"
             ],
             [
              0.6666666666666666,
              "#ed7953"
             ],
             [
              0.7777777777777778,
              "#fb9f3a"
             ],
             [
              0.8888888888888888,
              "#fdca26"
             ],
             [
              1,
              "#f0f921"
             ]
            ],
            "type": "histogram2dcontour"
           }
          ],
          "mesh3d": [
           {
            "colorbar": {
             "outlinewidth": 0,
             "ticks": ""
            },
            "type": "mesh3d"
           }
          ],
          "parcoords": [
           {
            "line": {
             "colorbar": {
              "outlinewidth": 0,
              "ticks": ""
             }
            },
            "type": "parcoords"
           }
          ],
          "pie": [
           {
            "automargin": true,
            "type": "pie"
           }
          ],
          "scatter": [
           {
            "fillpattern": {
             "fillmode": "overlay",
             "size": 10,
             "solidity": 0.2
            },
            "type": "scatter"
           }
          ],
          "scatter3d": [
           {
            "line": {
             "colorbar": {
              "outlinewidth": 0,
              "ticks": ""
             }
            },
            "marker": {
             "colorbar": {
              "outlinewidth": 0,
              "ticks": ""
             }
            },
            "type": "scatter3d"
           }
          ],
          "scattercarpet": [
           {
            "marker": {
             "colorbar": {
              "outlinewidth": 0,
              "ticks": ""
             }
            },
            "type": "scattercarpet"
           }
          ],
          "scattergeo": [
           {
            "marker": {
             "colorbar": {
              "outlinewidth": 0,
              "ticks": ""
             }
            },
            "type": "scattergeo"
           }
          ],
          "scattergl": [
           {
            "marker": {
             "colorbar": {
              "outlinewidth": 0,
              "ticks": ""
             }
            },
            "type": "scattergl"
           }
          ],
          "scattermapbox": [
           {
            "marker": {
             "colorbar": {
              "outlinewidth": 0,
              "ticks": ""
             }
            },
            "type": "scattermapbox"
           }
          ],
          "scatterpolar": [
           {
            "marker": {
             "colorbar": {
              "outlinewidth": 0,
              "ticks": ""
             }
            },
            "type": "scatterpolar"
           }
          ],
          "scatterpolargl": [
           {
            "marker": {
             "colorbar": {
              "outlinewidth": 0,
              "ticks": ""
             }
            },
            "type": "scatterpolargl"
           }
          ],
          "scatterternary": [
           {
            "marker": {
             "colorbar": {
              "outlinewidth": 0,
              "ticks": ""
             }
            },
            "type": "scatterternary"
           }
          ],
          "surface": [
           {
            "colorbar": {
             "outlinewidth": 0,
             "ticks": ""
            },
            "colorscale": [
             [
              0,
              "#0d0887"
             ],
             [
              0.1111111111111111,
              "#46039f"
             ],
             [
              0.2222222222222222,
              "#7201a8"
             ],
             [
              0.3333333333333333,
              "#9c179e"
             ],
             [
              0.4444444444444444,
              "#bd3786"
             ],
             [
              0.5555555555555556,
              "#d8576b"
             ],
             [
              0.6666666666666666,
              "#ed7953"
             ],
             [
              0.7777777777777778,
              "#fb9f3a"
             ],
             [
              0.8888888888888888,
              "#fdca26"
             ],
             [
              1,
              "#f0f921"
             ]
            ],
            "type": "surface"
           }
          ],
          "table": [
           {
            "cells": {
             "fill": {
              "color": "#EBF0F8"
             },
             "line": {
              "color": "white"
             }
            },
            "header": {
             "fill": {
              "color": "#C8D4E3"
             },
             "line": {
              "color": "white"
             }
            },
            "type": "table"
           }
          ]
         },
         "layout": {
          "annotationdefaults": {
           "arrowcolor": "#2a3f5f",
           "arrowhead": 0,
           "arrowwidth": 1
          },
          "autotypenumbers": "strict",
          "coloraxis": {
           "colorbar": {
            "outlinewidth": 0,
            "ticks": ""
           }
          },
          "colorscale": {
           "diverging": [
            [
             0,
             "#8e0152"
            ],
            [
             0.1,
             "#c51b7d"
            ],
            [
             0.2,
             "#de77ae"
            ],
            [
             0.3,
             "#f1b6da"
            ],
            [
             0.4,
             "#fde0ef"
            ],
            [
             0.5,
             "#f7f7f7"
            ],
            [
             0.6,
             "#e6f5d0"
            ],
            [
             0.7,
             "#b8e186"
            ],
            [
             0.8,
             "#7fbc41"
            ],
            [
             0.9,
             "#4d9221"
            ],
            [
             1,
             "#276419"
            ]
           ],
           "sequential": [
            [
             0,
             "#0d0887"
            ],
            [
             0.1111111111111111,
             "#46039f"
            ],
            [
             0.2222222222222222,
             "#7201a8"
            ],
            [
             0.3333333333333333,
             "#9c179e"
            ],
            [
             0.4444444444444444,
             "#bd3786"
            ],
            [
             0.5555555555555556,
             "#d8576b"
            ],
            [
             0.6666666666666666,
             "#ed7953"
            ],
            [
             0.7777777777777778,
             "#fb9f3a"
            ],
            [
             0.8888888888888888,
             "#fdca26"
            ],
            [
             1,
             "#f0f921"
            ]
           ],
           "sequentialminus": [
            [
             0,
             "#0d0887"
            ],
            [
             0.1111111111111111,
             "#46039f"
            ],
            [
             0.2222222222222222,
             "#7201a8"
            ],
            [
             0.3333333333333333,
             "#9c179e"
            ],
            [
             0.4444444444444444,
             "#bd3786"
            ],
            [
             0.5555555555555556,
             "#d8576b"
            ],
            [
             0.6666666666666666,
             "#ed7953"
            ],
            [
             0.7777777777777778,
             "#fb9f3a"
            ],
            [
             0.8888888888888888,
             "#fdca26"
            ],
            [
             1,
             "#f0f921"
            ]
           ]
          },
          "colorway": [
           "#636efa",
           "#EF553B",
           "#00cc96",
           "#ab63fa",
           "#FFA15A",
           "#19d3f3",
           "#FF6692",
           "#B6E880",
           "#FF97FF",
           "#FECB52"
          ],
          "font": {
           "color": "#2a3f5f"
          },
          "geo": {
           "bgcolor": "white",
           "lakecolor": "white",
           "landcolor": "#E5ECF6",
           "showlakes": true,
           "showland": true,
           "subunitcolor": "white"
          },
          "hoverlabel": {
           "align": "left"
          },
          "hovermode": "closest",
          "mapbox": {
           "style": "light"
          },
          "paper_bgcolor": "white",
          "plot_bgcolor": "#E5ECF6",
          "polar": {
           "angularaxis": {
            "gridcolor": "white",
            "linecolor": "white",
            "ticks": ""
           },
           "bgcolor": "#E5ECF6",
           "radialaxis": {
            "gridcolor": "white",
            "linecolor": "white",
            "ticks": ""
           }
          },
          "scene": {
           "xaxis": {
            "backgroundcolor": "#E5ECF6",
            "gridcolor": "white",
            "gridwidth": 2,
            "linecolor": "white",
            "showbackground": true,
            "ticks": "",
            "zerolinecolor": "white"
           },
           "yaxis": {
            "backgroundcolor": "#E5ECF6",
            "gridcolor": "white",
            "gridwidth": 2,
            "linecolor": "white",
            "showbackground": true,
            "ticks": "",
            "zerolinecolor": "white"
           },
           "zaxis": {
            "backgroundcolor": "#E5ECF6",
            "gridcolor": "white",
            "gridwidth": 2,
            "linecolor": "white",
            "showbackground": true,
            "ticks": "",
            "zerolinecolor": "white"
           }
          },
          "shapedefaults": {
           "line": {
            "color": "#2a3f5f"
           }
          },
          "ternary": {
           "aaxis": {
            "gridcolor": "white",
            "linecolor": "white",
            "ticks": ""
           },
           "baxis": {
            "gridcolor": "white",
            "linecolor": "white",
            "ticks": ""
           },
           "bgcolor": "#E5ECF6",
           "caxis": {
            "gridcolor": "white",
            "linecolor": "white",
            "ticks": ""
           }
          },
          "title": {
           "x": 0.05
          },
          "xaxis": {
           "automargin": true,
           "gridcolor": "white",
           "linecolor": "white",
           "ticks": "",
           "title": {
            "standoff": 15
           },
           "zerolinecolor": "white",
           "zerolinewidth": 2
          },
          "yaxis": {
           "automargin": true,
           "gridcolor": "white",
           "linecolor": "white",
           "ticks": "",
           "title": {
            "standoff": 15
           },
           "zerolinecolor": "white",
           "zerolinewidth": 2
          }
         }
        },
        "title": {
         "text": "Vectors of the book and similar songs in 3D space"
        }
       }
      }
     },
     "metadata": {},
     "output_type": "display_data"
    }
   ],
   "source": [
    "# Plot the vectors of the similar songs and the book\n",
    "vecs_x = []\n",
    "vecs_y = []\n",
    "vecs_z = []\n",
    "for i in range(len(similar_songs_df)):\n",
    "    vecs_x.append(similar_songs_df.iloc[i]['Vec1'])\n",
    "    vecs_y.append(similar_songs_df.iloc[i]['Vec2'])\n",
    "    vecs_z.append(similar_songs_df.iloc[i]['Vec3'])\n",
    "\n",
    "# add the vector of the book\n",
    "vecs_x.append(book_vecs[0])\n",
    "vecs_y.append(book_vecs[1])\n",
    "vecs_z.append(book_vecs[2])\n",
    "\n",
    "# add the book title for the hover text purposes\n",
    "similar_song_tags.append('Sharp Objects')\n",
    "\n",
    "fig = px.scatter_3d(x=vecs_x, y=vecs_y, z=vecs_z, color=similar_song_tags, opacity=0.7, title=\"Vectors of the book and similar songs in 3D space\")\n",
    "fig.show()"
   ]
  }
 ],
 "metadata": {
  "kernelspec": {
   "display_name": "Python 3",
   "language": "python",
   "name": "python3"
  },
  "language_info": {
   "codemirror_mode": {
    "name": "ipython",
    "version": 3
   },
   "file_extension": ".py",
   "mimetype": "text/x-python",
   "name": "python",
   "nbconvert_exporter": "python",
   "pygments_lexer": "ipython3",
   "version": "3.8.9"
  },
  "orig_nbformat": 4
 },
 "nbformat": 4,
 "nbformat_minor": 2
}
